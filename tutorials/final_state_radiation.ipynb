{
 "cells": [
  {
   "cell_type": "markdown",
   "metadata": {},
   "source": [
    "# Final State Radiation"
   ]
  },
  {
   "cell_type": "markdown",
   "metadata": {},
   "source": [
    "In this notebook, we use `hazma` to compute final state radiation (FSR) for dark matter fermions $\\chi$ annihilating to electron, muons and pions. The easiest way to get to the FSR functions is to first declare the paramaters of the model, then compute a mediator object. For example:\n",
    "```\n",
    "sm_params = {\"mx\" : 250., \"ms\" : 600., \"gsxx\" :  1., \"gsff\" :  1., \"gsGG\" :  1., \"gsFF\" :  1.}\n",
    "SM = ScalarMediator(**params)\n",
    "```\n",
    "Then, we need to specify our gamma-ray energies and our center of mass energy, all in MeV:\n",
    "```\n",
    "cme = 1000.\n",
    "egams = numpy.logspace(-3., 3. , num=150)\n",
    "```\n",
    "We can then compute the spectrum values at those gamma-ray energies by calling, for example:\n",
    "```\n",
    "sm_fsr_e = dnde_xx_to_s_to_ffg(egams, cme, me, SM)\n",
    "```"
   ]
  },
  {
   "cell_type": "markdown",
   "metadata": {},
   "source": [
    "## Imports"
   ]
  },
  {
   "cell_type": "markdown",
   "metadata": {},
   "source": [
    "The mediator classes are stored in `hazma.$mediator` where `$mediator` = `scalar`, `vector`. The FSR functions are stored in `hazma.$mediator.$mediator_mediator_fsr`."
   ]
  },
  {
   "cell_type": "code",
   "execution_count": null,
   "metadata": {},
   "outputs": [],
   "source": [
    "from hazma.scalar_mediator import ScalarMediator\n",
    "from hazma.vector_mediator import VectorMediator\n",
    "\n",
    "from hazma.scalar_mediator.scalar_mediator_fsr import dnde_xx_to_s_to_ffg, dnde_xx_to_s_to_pipig\n",
    "from hazma.vector_mediator.vector_mediator_fsr import dnde_xx_to_v_to_ffg, dnde_xx_to_v_to_pipig\n",
    "\n",
    "from hazma.parameters import electron_mass as me\n",
    "from hazma.parameters import muon_mass as mmu\n",
    "from hazma.parameters import charged_pion_mass as mpi\n",
    "\n",
    "from hazma.field_theory_helper_functions.three_body_phase_space import t_lim1, t_lim2\n",
    "\n",
    "import numpy as np\n",
    "import matplotlib.pyplot as plt\n",
    "%matplotlib inline"
   ]
  },
  {
   "cell_type": "code",
   "execution_count": null,
   "metadata": {},
   "outputs": [],
   "source": [
    "def mx_to_cme(mx, v):\n",
    "    return 2. * mx * (1.0 + 0.5 * v**2 )"
   ]
  },
  {
   "cell_type": "markdown",
   "metadata": {},
   "source": [
    "## Scalar Mediator FSR"
   ]
  },
  {
   "cell_type": "markdown",
   "metadata": {},
   "source": [
    "First, we specify the scalar mediator couplings at the 1 GeV scale and make a scalar mediator object."
   ]
  },
  {
   "cell_type": "code",
   "execution_count": null,
   "metadata": {},
   "outputs": [],
   "source": [
    "sm_params = {\"mx\" : 250., \"ms\" : 1000., \"gsxx\" :  1., \"gsff\" :  1., \"gsGG\" :  1., \"gsFF\" :  1.}\n",
    "\n",
    "SM = ScalarMediator(**sm_params)"
   ]
  },
  {
   "cell_type": "markdown",
   "metadata": {},
   "source": [
    "Next, we declare the gamma ray energies and the center of mass energy and compute the FSR spectra."
   ]
  },
  {
   "cell_type": "code",
   "execution_count": null,
   "metadata": {},
   "outputs": [],
   "source": [
    "cme = mx_to_cme(sm_params[\"mx\"], 1e0)\n",
    "egams = np.logspace(-2., np.log10(cme), num=150)\n",
    "\n",
    "sm_fsr_e = dnde_xx_to_s_to_ffg(egams, cme, me, SM)\n",
    "sm_fsr_mu = dnde_xx_to_s_to_ffg(egams, cme, mmu, SM)\n",
    "sm_fsr_pi = dnde_xx_to_s_to_pipig(egams, cme, SM)"
   ]
  },
  {
   "cell_type": "markdown",
   "metadata": {},
   "source": [
    "Now we can plot!"
   ]
  },
  {
   "cell_type": "code",
   "execution_count": null,
   "metadata": {},
   "outputs": [],
   "source": [
    "plt.figure(dpi=100)\n",
    "plt.loglog(egams, sm_fsr_e, label=r\"$X = e^{+}e^{-}$\")\n",
    "plt.loglog(egams, sm_fsr_mu, label=r\"$X = \\mu^{+}\\mu^{-}$\")\n",
    "plt.loglog(egams, sm_fsr_pi, label=r\"$X = \\pi^{+}\\pi^{-}$\")\n",
    "plt.title(r\"$\\bar{\\chi}\\chi\\to S^{*}\\to X$\")\n",
    "plt.xlabel(r\"$E_{\\gamma}$ (MeV)\")\n",
    "plt.ylabel(r\"$\\frac{dN}{dE_{\\gamma}}$ (MeV$^{-1}$)\")\n",
    "plt.legend()"
   ]
  },
  {
   "cell_type": "markdown",
   "metadata": {},
   "source": [
    "## Vector Mediator FSR"
   ]
  },
  {
   "cell_type": "code",
   "execution_count": null,
   "metadata": {},
   "outputs": [],
   "source": [
    "vm_params = {\"mx\" : 250., \"mv\" : 600., \"gvxx\" : 1.,\"gvuu\" : 1., \"gvdd\" : -1., \n",
    "             \"gvss\" : 1., \"gvee\" : 1., \"gvmumu\" : 1.}\n",
    "\n",
    "VM = VectorMediator(**vm_params)"
   ]
  },
  {
   "cell_type": "code",
   "execution_count": null,
   "metadata": {},
   "outputs": [],
   "source": [
    "cme = mx_to_cme(vm_params[\"mx\"], 1e-3)\n",
    "egams = np.logspace(-2., np.log10(cme), num=150)\n",
    "\n",
    "vm_fsr_e = dnde_xx_to_v_to_ffg(egams, cme, \"e\", VM)\n",
    "vm_fsr_mu = dnde_xx_to_v_to_ffg(egams, cme, \"mu\", VM)\n",
    "vm_fsr_pi = dnde_xx_to_v_to_pipig(egams, cme, VM)"
   ]
  },
  {
   "cell_type": "code",
   "execution_count": null,
   "metadata": {},
   "outputs": [],
   "source": [
    "plt.figure(dpi=100)\n",
    "plt.loglog(egams, vm_fsr_e, label=r\"$X = e^{+}e^{-}$\")\n",
    "plt.loglog(egams, vm_fsr_mu, label=r\"$X = \\mu^{+}\\mu^{-}$\")\n",
    "plt.loglog(egams, vm_fsr_pi, label=r\"$X = \\pi^{+}\\pi^{-}$\")\n",
    "plt.title(r\"$\\bar{\\chi}\\chi\\to V^{*}\\to X$\")\n",
    "plt.xlabel(r\"$E_{\\gamma}$ (MeV)\")\n",
    "plt.ylabel(r\"$\\frac{dN}{dE_{\\gamma}}$ (MeV$^{-1}$)\")\n",
    "plt.legend()"
   ]
  },
  {
   "cell_type": "markdown",
   "metadata": {},
   "source": [
    "## Compare with Alterelli-Parisi"
   ]
  },
  {
   "cell_type": "code",
   "execution_count": null,
   "metadata": {},
   "outputs": [],
   "source": [
    "sm_params = {\"mx\" : 100., \"ms\" : 600., \"gsxx\" :  1., \"gsff\" :  1., \"gsGG\" :  1., \"gsFF\" :  1.}\n",
    "vm_params = {\"mx\" : 100., \"mv\" : 600., \"gvxx\" : 1.,\"gvuu\" : 1., \"gvdd\" : -1., \n",
    "             \"gvss\" : 1., \"gvee\" : 1., \"gvmumu\" : 1.}\n",
    "\n",
    "SM = ScalarMediator(**sm_params)\n",
    "VM = VectorMediator(**vm_params)"
   ]
  },
  {
   "cell_type": "code",
   "execution_count": null,
   "metadata": {},
   "outputs": [],
   "source": [
    "def AP(eng_gam, mass, cme):\n",
    "    x0 = 2. * eng_gam / cme\n",
    "    eps = 2 * mass / cme\n",
    "    pre_fac = 1.0 / (137.0 * np.pi) * 2. / cme\n",
    "    split_func = (1. + (1. - x0)**2) / x0\n",
    "    log_sup = (-1. + np.log(4. * (1 - x0) / eps**2))\n",
    "    return pre_fac * split_func * log_sup\n",
    "\n",
    "apvec = np.vectorize(AP)"
   ]
  },
  {
   "cell_type": "markdown",
   "metadata": {},
   "source": [
    "### Muon"
   ]
  },
  {
   "cell_type": "code",
   "execution_count": null,
   "metadata": {},
   "outputs": [],
   "source": [
    "vrel = 1.0e-3\n",
    "\n",
    "# ########################################################\n",
    "\n",
    "mx = 110.\n",
    "sm_params[\"mx\"] = mx\n",
    "vm_params[\"mx\"] = mx\n",
    "SM = ScalarMediator(**sm_params)\n",
    "VM = VectorMediator(**vm_params)\n",
    "cme = mx_to_cme(mx, vrel)\n",
    "\n",
    "egams = np.logspace(-2., np.log10(cme), num=150)\n",
    "sm_fsr_mu_215 = dnde_xx_to_s_to_ffg(egams, cme, mmu, SM)\n",
    "vm_fsr_mu_215 = dnde_xx_to_v_to_ffg(egams, cme, \"mu\", VM)\n",
    "ap_fsr_mu_215 = AP(egams, mmu, cme)\n",
    "\n",
    "# ########################################################\n",
    "\n",
    "mx = 125.\n",
    "sm_params[\"mx\"] = mx\n",
    "vm_params[\"mx\"] = mx\n",
    "SM = ScalarMediator(**sm_params)\n",
    "VM = VectorMediator(**vm_params)\n",
    "cme = mx_to_cme(mx, vrel)\n",
    "\n",
    "egams = np.logspace(-2., np.log10(cme), num=150)\n",
    "sm_fsr_mu_250 = dnde_xx_to_s_to_ffg(egams, cme, mmu, SM)\n",
    "vm_fsr_mu_250 = dnde_xx_to_v_to_ffg(egams, cme, \"mu\", VM)\n",
    "ap_fsr_mu_250 = AP(egams, mmu, cme)\n",
    "\n",
    "# ########################################################\n",
    "\n",
    "mx = 150.\n",
    "sm_params[\"mx\"] = mx\n",
    "vm_params[\"mx\"] = mx\n",
    "SM = ScalarMediator(**sm_params)\n",
    "VM = VectorMediator(**vm_params)\n",
    "cme = mx_to_cme(mx, vrel)\n",
    "\n",
    "egams = np.logspace(-2., np.log10(cme), num=150)\n",
    "sm_fsr_mu_300 = dnde_xx_to_s_to_ffg(egams, cme, mmu, SM)\n",
    "vm_fsr_mu_300 = dnde_xx_to_v_to_ffg(egams, cme, \"mu\", VM)\n",
    "ap_fsr_mu_300 = AP(egams, mmu, cme)\n",
    "\n",
    "# ########################################################\n",
    "\n",
    "mx = 250.\n",
    "sm_params[\"mx\"] = mx\n",
    "vm_params[\"mx\"] = mx\n",
    "SM = ScalarMediator(**sm_params)\n",
    "VM = VectorMediator(**vm_params)\n",
    "cme = mx_to_cme(mx, vrel)\n",
    "\n",
    "egams = np.logspace(-2., np.log10(cme), num=150)\n",
    "sm_fsr_mu_500 = dnde_xx_to_s_to_ffg(egams, cme, mmu, SM)\n",
    "vm_fsr_mu_500 = dnde_xx_to_v_to_ffg(egams, cme, \"mu\", VM)\n",
    "ap_fsr_mu_500 = AP(egams, mmu, cme)"
   ]
  },
  {
   "cell_type": "code",
   "execution_count": null,
   "metadata": {},
   "outputs": [],
   "source": [
    "f, ((ax1, ax2), (ax3, ax4)) = plt.subplots(2, 2, sharex='col', sharey='row', figsize=(7.5, 5.5), squeeze=True)\n",
    "\n",
    "f.dpi=200\n",
    "\n",
    "ax1.loglog(egams, egams * sm_fsr_mu_215, label=r\"SM\")\n",
    "ax1.loglog(egams, egams * vm_fsr_mu_215, label=r\"VM\")\n",
    "ax1.loglog(egams, egams * ap_fsr_mu_215, label=r\"AP\")\n",
    "\n",
    "ax2.loglog(egams, egams * sm_fsr_mu_250, label=r\"SM\")\n",
    "ax2.loglog(egams, egams * vm_fsr_mu_250, label=r\"VM\")\n",
    "ax2.loglog(egams, egams * ap_fsr_mu_250, label=r\"AP\")\n",
    "\n",
    "ax3.loglog(egams, egams * sm_fsr_mu_300, label=r\"SM\")\n",
    "ax3.loglog(egams, egams * vm_fsr_mu_300, label=r\"VM\")\n",
    "ax3.loglog(egams, egams * ap_fsr_mu_300, label=r\"AP\")\n",
    "\n",
    "ax4.loglog(egams, egams * sm_fsr_mu_500, label=r\"SM\")\n",
    "ax4.loglog(egams, egams * vm_fsr_mu_500, label=r\"VM\")\n",
    "ax4.loglog(egams, egams * ap_fsr_mu_500, label=r\"AP\")\n",
    "\n",
    "\n",
    "# Plot labels\n",
    "ax1.text(1.3e-2, 1.2e-4, r\"$m_{\\chi}$ = 110 MeV\", fontsize=14)\n",
    "ax2.text(1.3e-2, 1.2e-4, r\"$m_{\\chi}$ = 125 MeV\", fontsize=14)\n",
    "ax3.text(1.3e-2, 1.2e-3, r\"$m_{\\chi}$ = 150 MeV\", fontsize=14)\n",
    "ax4.text(1.3e-2, 1.2e-3, r\"$m_{\\chi}$ = 250 MeV\", fontsize=14)\n",
    "\n",
    "# Axes Labels\n",
    "ax3.set_xlabel(r\"$E_{\\gamma}$ (MeV)\", fontsize=14)\n",
    "ax4.set_xlabel(r\"$E_{\\gamma}$ (MeV)\", fontsize=14)\n",
    "\n",
    "ax1.set_ylabel(r\"$E_{\\gamma}\\frac{dN}{dE_{\\gamma}}$ \", fontsize=14)\n",
    "ax3.set_ylabel(r\"$E_{\\gamma}\\frac{dN}{dE_{\\gamma}}$ \", fontsize=14)\n",
    "\n",
    "# Axes ylim\n",
    "ax3.set_ylim([1e-3,2e-2])\n",
    "\n",
    "# Axes xlim\n",
    "ax3.set_xlim(egams[[0, -1]])\n",
    "ax4.set_xlim(egams[[0, -1]])\n",
    "\n",
    "# Remove whitespace\n",
    "plt.subplots_adjust(wspace=0.05, hspace=0.1)\n",
    "\n",
    "# Add watermark\n",
    "# plt.text(0.00001, 10000, \"Preliminary\", fontsize=80,rotation=-45, alpha=0.2, color=\"r\")\n",
    "\n",
    "ax3.legend()\n",
    "plt.suptitle(r\"$\\bar{\\chi}\\chi\\to\\mu^{+}\\mu^{-}$, $v_{\\mathrm{rel}} = 10^{-3}$\", y=0.92)\n",
    "\n",
    "plt.savefig(\"figures/muon_fsr.pdf\")"
   ]
  },
  {
   "cell_type": "markdown",
   "metadata": {},
   "source": [
    "### Charged Pion"
   ]
  },
  {
   "cell_type": "code",
   "execution_count": null,
   "metadata": {},
   "outputs": [],
   "source": [
    "vrel = 1.0e-3\n",
    "\n",
    "mx = 150.\n",
    "sm_params[\"mx\"] = mx\n",
    "vm_params[\"mx\"] = mx\n",
    "SM = ScalarMediator(**sm_params)\n",
    "VM = VectorMediator(**vm_params)\n",
    "cme = mx_to_cme(mx, vrel)\n",
    "\n",
    "egams = np.logspace(0., np.log10(cme), num=150)\n",
    "sm_fsr_pi_300 = dnde_xx_to_s_to_pipig(egams, cme, SM)\n",
    "vm_fsr_pi_300 = dnde_xx_to_v_to_pipig(egams, cme, VM)\n",
    "ap_fsr_pi_300 = AP(egams, mpi, cme)\n",
    "sm_fsr_pi_3002 = dndx_vec(egams, cme)\n",
    "\n",
    "mx = 250.\n",
    "sm_params[\"mx\"] = mx\n",
    "vm_params[\"mx\"] = mx\n",
    "SM = ScalarMediator(**sm_params)\n",
    "VM = VectorMediator(**vm_params)\n",
    "cme = mx_to_cme(mx, vrel)\n",
    "\n",
    "egams = np.logspace(0., np.log10(cme), num=150)\n",
    "sm_fsr_pi_500 = dnde_xx_to_s_to_pipig(egams, cme, SM)\n",
    "vm_fsr_pi_500 = dnde_xx_to_v_to_pipig(egams, cme, VM)\n",
    "ap_fsr_pi_500 = AP(egams, mpi, cme)\n",
    "sm_fsr_pi_5002 = dndx_vec(egams, cme)"
   ]
  },
  {
   "cell_type": "code",
   "execution_count": null,
   "metadata": {},
   "outputs": [],
   "source": [
    "f, ((ax1, ax2)) = plt.subplots(1, 2, sharex='col', sharey='row', figsize=(10,4), squeeze=True)\n",
    "\n",
    "f.dpi=200\n",
    "\n",
    "ax1.loglog(egams, egams * sm_fsr_pi_300, label=r\"SM\")\n",
    "#ax1.loglog(egams, egams * sm_fsr_pi_3002, label=r\"SM2\")\n",
    "#ax1.loglog(egams, egams * sm_fsr_pi_3003, label=r\"SM3\")\n",
    "\n",
    "ax1.loglog(egams, egams * vm_fsr_pi_300, label=r\"VM\")\n",
    "ax1.loglog(egams, egams * ap_fsr_pi_300, label=r\"AP\")\n",
    "\n",
    "ax2.loglog(egams, egams * sm_fsr_pi_500, label=r\"SM\")\n",
    "#ax2.loglog(egams, egams * sm_fsr_pi_5002, label=r\"SM2\")\n",
    "#ax2.loglog(egams, egams * sm_fsr_pi_5003, label=r\"SM3\")\n",
    "\n",
    "ax2.loglog(egams, egams * vm_fsr_pi_500, label=r\"VM\")\n",
    "ax2.loglog(egams, egams * ap_fsr_pi_500, label=r\"AP\")\n",
    "\n",
    "\n",
    "# ylims\n",
    "\n",
    "ax1.set_ylim([1e-5, 1e-2])\n",
    "ax2.set_ylim([1e-5, 1e-2])\n",
    "\n",
    "ax1.set_xlim([1e0, 3e2])\n",
    "ax2.set_xlim([1e0, 3e2])\n",
    "\n",
    "# Plot labels\n",
    "ax1.text(1.5e0, 2e-5, r\"$m_{\\chi}$ = 150 MeV\", fontsize=14)\n",
    "ax2.text(1.5e0, 2e-5, r\"$m_{\\chi}$ = 250 MeV\", fontsize=14)\n",
    "\n",
    "# Axes Labels\n",
    "ax1.set_xlabel(r\"$E_{\\gamma}$ (MeV)\", fontsize=14)\n",
    "ax2.set_xlabel(r\"$E_{\\gamma}$ (MeV)\", fontsize=14)\n",
    "\n",
    "ax1.set_ylabel(r\"$E_{\\gamma}\\frac{dN}{dE_{\\gamma}}$\", fontsize=14)\n",
    "\n",
    "# Remove whitespace\n",
    "plt.subplots_adjust(wspace=0.1, hspace=0.1)\n",
    "\n",
    "ax2.legend(loc=6)\n",
    "\n",
    "plt.savefig(\"figures/chrdpi_fsr.pdf\")"
   ]
  },
  {
   "cell_type": "code",
   "execution_count": null,
   "metadata": {},
   "outputs": [],
   "source": [
    "sm_fsr_pi_5002[0] / sm_fsr_pi_500[0]"
   ]
  },
  {
   "cell_type": "code",
   "execution_count": null,
   "metadata": {},
   "outputs": [],
   "source": [
    "sm_fsr_pi_3002[0] / sm_fsr_pi_300[0]"
   ]
  },
  {
   "cell_type": "code",
   "execution_count": null,
   "metadata": {},
   "outputs": [],
   "source": [
    "from cmath import sqrt, log, pi\n",
    "from hazma.parameters import qe, vh, b0\n",
    "\n",
    "from hazma.scalar_mediator.scalar_mediator_cross_sections import sigma_xx_to_s_to_pipi\n",
    "from hazma.scalar_mediator.scalar_mediator_widths import width_s_to_pipi\n",
    "\n",
    "from hazma.field_theory_helper_functions.three_body_phase_space import E1_to_s\n",
    "from hazma.field_theory_helper_functions.three_body_phase_space import t_integral\n",
    "from hazma.field_theory_helper_functions.common_functions import \\\n",
    "    cross_section_prefactor\n",
    "from hazma.field_theory_helper_functions.three_body_phase_space import \\\n",
    "    phase_space_prefactor, t_lim1, t_lim2"
   ]
  },
  {
   "cell_type": "code",
   "execution_count": null,
   "metadata": {},
   "outputs": [],
   "source": [
    "def dndx(egam, Q):\n",
    "    mupi = mpi / Q\n",
    "    x = 2 * egam / Q\n",
    "    \n",
    "    if x < 0. or 1. - 4. * mupi**2 < x:\n",
    "        return 0.\n",
    "    \n",
    "    dynamic = (2*sqrt(-1 + x)*sqrt(-1 + 4*mupi**2 + x) + \n",
    "               (-1 + 2*mupi**2 + x)*\n",
    "               log((1 - x + sqrt(-1 + x)*\n",
    "                    sqrt(-1 + 4*mupi**2 + x))**2/\\\n",
    "                   (-1 + x + sqrt(-1 + x)*sqrt(-1 + 4*mupi**2 + x))**2))/x\n",
    "    coeff = qe**2/(4.*sqrt(1 - 4*mupi**2)*pi**2)\n",
    "    \n",
    "    ret_val = 2. * dynamic * coeff / Q\n",
    "    \n",
    "    return ret_val.real\n",
    "\n",
    "dndx_vec = np.vectorize(dndx)"
   ]
  },
  {
   "cell_type": "code",
   "execution_count": null,
   "metadata": {},
   "outputs": [],
   "source": []
  }
 ],
 "metadata": {
  "language_info": {
   "name": "python",
   "pygments_lexer": "ipython3"
  }
 },
 "nbformat": 4,
 "nbformat_minor": 2
}
