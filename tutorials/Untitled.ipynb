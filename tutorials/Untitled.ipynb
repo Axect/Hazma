{
 "cells": [
  {
   "cell_type": "markdown",
   "metadata": {},
   "source": [
    "# Hazma Example Model"
   ]
  },
  {
   "cell_type": "markdown",
   "metadata": {},
   "source": [
    "In this notebook, we demonstrate and example theory implemented in `hazma`. The theory we will consider is one in which we have a Dirac fermion dark matter particle $\\chi$ which interacts with pions through two gauge-invariant dimension-5 operators:\n",
    "\\begin{align}\n",
    "    \\mathcal{O}_{1} &= \\frac{c_1}{\\Lambda}\\bar{\\chi}\\chi\\pi^{0}\\pi^{0}\\\\\n",
    "    \\mathcal{O}_{2} &= \\frac{c_2}{\\Lambda}\\bar{\\chi}\\chi\\pi^{+}\\pi^{-}\\\\\n",
    "\\end{align}"
   ]
  },
  {
   "cell_type": "markdown",
   "metadata": {},
   "source": [
    "## Imports"
   ]
  },
  {
   "cell_type": "code",
   "execution_count": 139,
   "metadata": {},
   "outputs": [],
   "source": [
    "import numpy as np\n",
    "import matplotlib.pyplot as plt\n",
    "\n",
    "from hazma.parameters import neutral_pion_mass as mpi0\n",
    "from hazma.parameters import charged_pion_mass as mpi\n",
    "from hazma.parameters import electron_mass as me\n",
    "from hazma.parameters import qe\n",
    "\n",
    "from hazma.positron_spectra import charged_pion as pspec_charged_pion\n",
    "from hazma.decay import neutral_pion, charged_pion\n",
    "\n",
    "from hazma.theory import Theory\n",
    "from hazma.gamma_ray_parameters import (energy_res_fermi, energy_res_e_astrogam,\n",
    "                                        A_eff_e_astrogam, A_eff_comptel,\n",
    "                                        egret_diffuse, fermi_diffuse,\n",
    "                                        comptel_diffuse, gc_target,\n",
    "                                        gc_bg_model, solid_angle)"
   ]
  },
  {
   "cell_type": "markdown",
   "metadata": {},
   "source": [
    "## Cross Sections"
   ]
  },
  {
   "cell_type": "code",
   "execution_count": 70,
   "metadata": {
    "code_folding": [
     0,
     2,
     15,
     28,
     38
    ]
   },
   "outputs": [],
   "source": [
    "class HazmaExampleCrossSection:\n",
    "    \n",
    "    def sigma_xx_to_pipi(self, Q):\n",
    "        mupi = mpi / Q\n",
    "        mux = self.mx / Q\n",
    "\n",
    "        if Q > 2 * self.mx and Q > 2 * mpi:\n",
    "            sigma = (self.c1**2 * np.sqrt(1 - 4 * mupi**2) * \n",
    "                     np.sqrt(1 - 4 * mux**2)**2 / \n",
    "                     (32.0 * self.lam**2 * np.pi))\n",
    "        else:\n",
    "            sigma = 0.0\n",
    "\n",
    "        return sigma\n",
    "\n",
    "    def sigma_xx_to_pi0pi0(self, Q):\n",
    "        mupi0 = mpi0 / Q\n",
    "        mux = self.mx / Q\n",
    "\n",
    "        if Q > 2 * self.mx and Q > 2 * mpi0:\n",
    "            sigma = (self.c2**2 * np.sqrt(1 - 4 * mux**2) *\n",
    "                     np.sqrt(1 - 4 * mupi0**2) /\n",
    "                     (8.0 * self.lam**2 * np.pi))\n",
    "        else:\n",
    "            sigma = 0.0\n",
    "\n",
    "        return sigma\n",
    "    \n",
    "    def annihilation_cross_sections(self, Q):\n",
    "        pipi = self.sigma_xx_to_pipi(Q)\n",
    "        pi0pi0 = self.sigma_xx_to_pi0pi0(Q)\n",
    "        \n",
    "        total = pipi + pi0pi0\n",
    "        \n",
    "        return {'pi0 pi0': pi0pi0,\n",
    "                'pi pi': pipi,\n",
    "                'total': total}\n",
    "        \n",
    "    def annihilation_branching_fractions(self, Q):\n",
    "        css = self.annihilation_cross_sections(Q)\n",
    "        brs = {key: 0.0 for key in css.keys()}\n",
    "        \n",
    "        if css['total'] > 0.0:\n",
    "            for key in brs.keys():\n",
    "                brs[key] = css[key] / css['total']\n",
    "        \n",
    "        del brs['total']\n",
    "\n",
    "        return brs"
   ]
  },
  {
   "cell_type": "code",
   "execution_count": 81,
   "metadata": {
    "code_folding": [
     2
    ]
   },
   "outputs": [],
   "source": [
    "class HazmaExampleFSR:\n",
    "    \n",
    "    def __dnde_xx_to_pipig(self, eng_gam, Q):\n",
    "        mupi = mpi / Q\n",
    "        mux = self.mx / Q\n",
    "        x = 2.0 * eng_gam / Q\n",
    "        if 0.0 < x and x < 1. - 4. * mupi**2:\n",
    "            dnde = ((qe**2 * (2 * np.sqrt(1 - x) * np.sqrt(1 - 4*mupi**2 - x) + \n",
    "                          (-1 + 2 * mupi**2 + x) * \n",
    "                          np.log((-1 + np.sqrt(1 - x) * np.sqrt(1 - 4*mupi**2 - x) + x)**2/\n",
    "                                 (1 + np.sqrt(1 - x)*np.sqrt(1 - 4*mupi**2 - x) - x)**2)))/\n",
    "                (Q * 2.0 * np.sqrt(1 - 4 * mupi**2) * np.pi**2 * x))\n",
    "        else:\n",
    "            dnde = 0\n",
    "        \n",
    "        return dnde\n",
    "    \n",
    "    def dnde_xx_to_pipig(self, eng_gams, Q):\n",
    "        if hasattr(eng_gams, '__len__'):\n",
    "            return np.array([self.__dnde_xx_to_pipig(eng_gam, Q)\n",
    "                             for eng_gam in eng_gams])\n",
    "        else:\n",
    "            return self.__dnde_xx_to_pipig(eng_gams, Q)     "
   ]
  },
  {
   "cell_type": "code",
   "execution_count": 82,
   "metadata": {
    "code_folding": [
     0,
     2,
     5
    ]
   },
   "outputs": [],
   "source": [
    "class HazmaExamplePositronSpectra:\n",
    "    \n",
    "    def dnde_pos_pipi(self, eng_ps, cme):\n",
    "        return pspec_charged_pion(eng_ps, cme / 2.)\n",
    "    \n",
    "    def positron_spectra(self, eng_ps, cme):\n",
    "        \n",
    "        bfs = self.annihilation_branching_fractions(cme)\n",
    "\n",
    "        # Only compute the spectrum if the channel's branching fraction is\n",
    "        # nonzero\n",
    "        def spec_helper(bf, specfn):\n",
    "            if bf != 0:\n",
    "                return bf * specfn(eng_ps, cme)\n",
    "            else:\n",
    "                return np.zeros(eng_ps.shape)\n",
    "\n",
    "        pipi_spec = spec_helper(bfs['pi pi'], self.dnde_pos_pipi)\n",
    "\n",
    "        return {\"total\": pipi_spec, \"pi pi\": pipi_spec}\n",
    "\n",
    "    def positron_lines(self, cme):\n",
    "        return {}"
   ]
  },
  {
   "cell_type": "code",
   "execution_count": 83,
   "metadata": {
    "code_folding": [
     0,
     2,
     32,
     38
    ]
   },
   "outputs": [],
   "source": [
    "class HazmaExampleSpectra:\n",
    "    \n",
    "    def dnde_pi0pi0(self, e_gams, e_cm, spectrum_type='all'):\n",
    "        return 2.0 * neutral_pion(e_gams, e_cm / 2.0)\n",
    "\n",
    "    def dnde_pipi(self, e_gams, e_cm, spectrum_type='all'):\n",
    "        return (self.dnde_xx_to_pipig(e_gams, e_cm) +\n",
    "                2. * charged_pion(e_gams, e_cm / 2.0))\n",
    "    \n",
    "    def spectra(self, e_gams, e_cm):\n",
    "        bfs = self.annihilation_branching_fractions(e_cm)\n",
    "        \n",
    "        def spec_helper(bf, specfn):\n",
    "            if bf != 0:\n",
    "                return bf * specfn(e_gams, e_cm)\n",
    "            else:\n",
    "                return np.zeros(e_gams.shape)\n",
    "\n",
    "        # Pions\n",
    "        npions = spec_helper(bfs['pi0 pi0'], self.dnde_pi0pi0)\n",
    "        cpions = spec_helper(bfs['pi pi'], self.dnde_pipi)\n",
    "\n",
    "        # Compute total spectrum\n",
    "        total = npions + cpions\n",
    "\n",
    "        # Define dictionary for spectra\n",
    "        specs = {'total': total,\n",
    "                 'pi0 pi0': npions,\n",
    "                 'pi pi': cpions}\n",
    "\n",
    "        return specs\n",
    "    \n",
    "    def spectrum_functions(self):\n",
    "        return {'pi0 pi0': lambda e_gams, e_cm:\n",
    "                    self.dnde_pi0pi0(e_gams, e_cm),\n",
    "                'pi pi': lambda e_gams, e_cm:\n",
    "                    self.dnde_pipi(e_gams, e_cm)}\n",
    "\n",
    "    def gamma_ray_lines(self, e_cm):\n",
    "        return {}"
   ]
  },
  {
   "cell_type": "code",
   "execution_count": 108,
   "metadata": {
    "code_folding": [
     5
    ]
   },
   "outputs": [],
   "source": [
    "class HazmaExample(HazmaExampleCrossSection,\n",
    "                     HazmaExampleFSR,\n",
    "                     HazmaExamplePositronSpectra,\n",
    "                     HazmaExampleSpectra,\n",
    "                     Theory):\n",
    "    def __init__(self, mx, c1, c2, lam):\n",
    "        self.mx = mx\n",
    "        self.c1 = c1\n",
    "        self.c2 = c2\n",
    "        self.lam = lam\n",
    "    \n",
    "    #@classmethod\n",
    "    #def list_annihilation_final_states(cls):\n",
    "    #    return ['pi pi', 'pi0 pi0']"
   ]
  },
  {
   "cell_type": "code",
   "execution_count": 165,
   "metadata": {},
   "outputs": [],
   "source": [
    "model = HazmaExample(mpi, 1.0, 1.0, 100e3)"
   ]
  },
  {
   "cell_type": "code",
   "execution_count": 159,
   "metadata": {},
   "outputs": [
    {
     "data": {
      "text/plain": [
       "<matplotlib.legend.Legend at 0x126e096d8>"
      ]
     },
     "execution_count": 159,
     "metadata": {},
     "output_type": "execute_result"
    },
    {
     "data": {
      "image/png": "[encoded data removed]",
      "text/plain": [
       "<Figure size 600x400 with 1 Axes>"
      ]
     },
     "metadata": {},
     "output_type": "display_data"
    }
   ],
   "source": [
    "model = HazmaExample(200.0, 1.0, 1.0, 100e3)\n",
    "egams = np.logspace(-3.0, 3.0, num=150)\n",
    "vrel = 1e-3\n",
    "Q = 2.0 * model.mx * (1 + 0.5 * vrel**2)\n",
    "spectra = model.spectra(egams, Q)\n",
    "\n",
    "plt.figure(dpi=100)\n",
    "plt.plot(egams, spectra['pi pi'], label=r'$\\pi^{+}\\pi^{-}$', lw=1)\n",
    "plt.plot(egams, spectra['pi0 pi0'], label=r'$\\pi^{0}\\pi^{0}$',lw=1)\n",
    "plt.plot(egams, spectra['total'], label='Total', c='k')\n",
    "\n",
    "plt.xlabel(r'$E_{\\gamma} (\\mathrm{MeV})$', fontsize=16)\n",
    "plt.ylabel(r'$\\frac{dN}{dE_{\\gamma}} (\\mathrm{MeV}^{-1})$', fontsize=16)\n",
    "plt.xscale('log')\n",
    "plt.yscale('log')\n",
    "plt.xlim([np.min(egams), np.max(egams)])\n",
    "plt.legend()"
   ]
  },
  {
   "cell_type": "code",
   "execution_count": null,
   "metadata": {},
   "outputs": [],
   "source": []
  },
  {
   "cell_type": "code",
   "execution_count": 170,
   "metadata": {},
   "outputs": [
    {
     "name": "stderr",
     "output_type": "stream",
     "text": [
      "/Users/loganmorrison/.pyenv/versions/3.6.2/lib/python3.6/site-packages/hazma/theory/_theory_gamma_ray_limits.py:341: RuntimeWarning: divide by zero encountered in double_scalars\n",
      "  return prefactor * n_sigma / (-limit_obj.fun)\n",
      "/Users/loganmorrison/.pyenv/versions/3.6.2/lib/python3.6/site-packages/hazma/theory/_theory_gamma_ray_limits.py:234: RuntimeWarning: invalid value encountered in sqrt\n",
      "  df_de_a = 1. / np.sqrt(I_B_val) * \\\n",
      "/Users/loganmorrison/.pyenv/versions/3.6.2/lib/python3.6/site-packages/hazma/theory/_theory_gamma_ray_limits.py:236: RuntimeWarning: invalid value encountered in sqrt\n",
      "  df_de_b = -1. / np.sqrt(I_B_val) * \\\n",
      "/Users/loganmorrison/.pyenv/versions/3.6.2/lib/python3.6/site-packages/hazma/theory/_theory_gamma_ray_limits.py:240: RuntimeWarning: invalid value encountered in sqrt\n",
      "  return -I_S_val / np.sqrt(I_B_val), jac_val\n",
      "/Users/loganmorrison/.pyenv/versions/3.6.2/lib/python3.6/site-packages/scipy/integrate/quadpack.py:385: IntegrationWarning: The occurrence of roundoff error is detected, which prevents \n",
      "  the requested tolerance from being achieved.  The error may be \n",
      "  underestimated.\n",
      "  warnings.warn(msg, IntegrationWarning)\n"
     ]
    }
   ],
   "source": [
    "mxs = np.linspace(mpi0, 250., num=100)\n",
    "lims_e_astrogam = model.unbinned_limits(mxs, target_params=gc_target, bg_model=gc_bg_model)"
   ]
  },
  {
   "cell_type": "code",
   "execution_count": 171,
   "metadata": {},
   "outputs": [
    {
     "data": {
      "text/plain": [
       "array([           inf, 1.42983520e-30, 1.48798944e-30, 1.55303243e-30,\n",
       "       1.60550778e-30, 1.65976029e-30, 1.72051412e-30, 1.78621419e-30,\n",
       "       1.86845401e-30, 1.90313207e-30, 1.98681111e-30, 2.01309408e-30,\n",
       "       2.08761304e-30, 2.11783518e-30, 2.17697562e-30, 2.24261828e-30,\n",
       "       2.30609385e-30, 2.36764711e-30, 2.42747658e-30, 2.48575309e-30,\n",
       "       2.54270206e-30, 2.59849424e-30, 2.65323468e-30, 2.70700667e-30,\n",
       "       2.75988146e-30, 2.81191573e-30, 2.86315868e-30, 2.91364668e-30,\n",
       "       2.96341158e-30, 3.01548802e-30, 3.06361437e-30, 3.16017888e-30,\n",
       "       3.20744821e-30, 3.25408154e-30, 3.30221739e-30, 3.39936100e-30,\n",
       "       3.44434723e-30, 3.48870119e-30, 3.53401712e-30, 3.63185828e-30,\n",
       "       3.67457618e-30, 3.71793979e-30, 3.81665608e-30, 3.85769154e-30,\n",
       "       3.89907428e-30, 3.99865021e-30, 4.03791341e-30, 4.07724760e-30,\n",
       "       4.17764604e-30, 4.21500702e-30, 4.25219202e-30, 4.35335697e-30,\n",
       "       4.38945637e-30, 4.49159348e-30, 4.52616140e-30, 4.62978456e-30,\n",
       "       4.66338924e-30, 4.69676172e-30, 4.80052008e-30, 4.83284656e-30,\n",
       "       4.93752178e-30, 4.96846486e-30, 5.07435549e-30, 5.10424646e-30,\n",
       "       5.21098272e-30, 5.23979058e-30, 5.34735908e-30, 5.37502530e-30,\n",
       "       5.48341082e-30, 5.50983402e-30, 5.61901879e-30, 5.64412825e-30,\n",
       "       5.75409266e-30, 5.77784293e-30, 5.88856596e-30, 5.91091284e-30,\n",
       "       6.02237375e-30, 6.04326867e-30, 6.15544560e-30, 6.17483944e-30,\n",
       "       6.28770954e-30, 6.30561935e-30, 6.41908955e-30, 6.43538342e-30,\n",
       "       6.54950752e-30, 6.66487750e-30, 6.67887353e-30, 6.79485773e-30,\n",
       "       6.80709164e-30, 6.92366240e-30, 6.93409118e-30, 7.05118122e-30,\n",
       "       7.16948729e-30, 7.17728888e-30, 7.29611848e-30, 7.30190336e-30,\n",
       "       7.42119620e-30, 7.42534879e-30, 7.54511474e-30, 7.66607132e-30])"
      ]
     },
     "execution_count": 171,
     "metadata": {},
     "output_type": "execute_result"
    }
   ],
   "source": [
    "lims_e_astrogam"
   ]
  },
  {
   "cell_type": "code",
   "execution_count": 172,
   "metadata": {},
   "outputs": [
    {
     "data": {
      "text/plain": [
       "(134.9766, 250.0)"
      ]
     },
     "execution_count": 172,
     "metadata": {},
     "output_type": "execute_result"
    },
    {
     "data": {
      "image/png": "[encoded data removed]",
      "text/plain": [
       "<Figure size 600x400 with 1 Axes>"
      ]
     },
     "metadata": {},
     "output_type": "display_data"
    }
   ],
   "source": [
    "plt.figure(dpi=100)\n",
    "plt.plot(mxs, lims_e_astrogam)\n",
    "plt.yscale('log')\n",
    "plt.ylabel(r'$\\langle\\sigma v\\rangle \\ (\\mathrm{cm}^3/\\mathrm{s})$',fontsize=16)\n",
    "plt.xlabel(r'$m_{\\chi} \\ (\\mathrm{MeV})$',fontsize=16)\n",
    "plt.xlim([np.min(mxs),np.max(mxs)])"
   ]
  },
  {
   "cell_type": "code",
   "execution_count": 142,
   "metadata": {},
   "outputs": [
    {
     "name": "stderr",
     "output_type": "stream",
     "text": [
      "/Users/loganmorrison/.pyenv/versions/3.6.2/lib/python3.6/site-packages/scipy/integrate/quadpack.py:385: IntegrationWarning: The occurrence of roundoff error is detected, which prevents \n",
      "  the requested tolerance from being achieved.  The error may be \n",
      "  underestimated.\n",
      "  warnings.warn(msg, IntegrationWarning)\n",
      "/Users/loganmorrison/.pyenv/versions/3.6.2/lib/python3.6/site-packages/scipy/integrate/quadpack.py:385: IntegrationWarning: The maximum number of subdivisions (50) has been achieved.\n",
      "  If increasing the limit yields no improvement it is advised to analyze \n",
      "  the integrand in order to determine the difficulties.  If the position of a \n",
      "  local difficulty can be determined (singularity, discontinuity) one will \n",
      "  probably gain from splitting up the interval and calling the integrator \n",
      "  on the subranges.  Perhaps a special-purpose integrator should be used.\n",
      "  warnings.warn(msg, IntegrationWarning)\n",
      "/Users/loganmorrison/.pyenv/versions/3.6.2/lib/python3.6/site-packages/hazma/theory/_theory_gamma_ray_limits.py:341: RuntimeWarning: divide by zero encountered in double_scalars\n",
      "  return prefactor * n_sigma / (-limit_obj.fun)\n",
      "/Users/loganmorrison/.pyenv/versions/3.6.2/lib/python3.6/site-packages/hazma/theory/_theory_gamma_ray_limits.py:234: RuntimeWarning: invalid value encountered in sqrt\n",
      "  df_de_a = 1. / np.sqrt(I_B_val) * \\\n",
      "/Users/loganmorrison/.pyenv/versions/3.6.2/lib/python3.6/site-packages/hazma/theory/_theory_gamma_ray_limits.py:236: RuntimeWarning: invalid value encountered in sqrt\n",
      "  df_de_b = -1. / np.sqrt(I_B_val) * \\\n",
      "/Users/loganmorrison/.pyenv/versions/3.6.2/lib/python3.6/site-packages/hazma/theory/_theory_gamma_ray_limits.py:240: RuntimeWarning: invalid value encountered in sqrt\n",
      "  return -I_S_val / np.sqrt(I_B_val), jac_val\n",
      "/Users/loganmorrison/.pyenv/versions/3.6.2/lib/python3.6/site-packages/scipy/integrate/quadpack.py:385: IntegrationWarning: The integral is probably divergent, or slowly convergent.\n",
      "  warnings.warn(msg, IntegrationWarning)\n"
     ]
    }
   ],
   "source": [
    "model = HazmaExample(200.0, 1.0, 1.0, 100e3)\n",
    "egams = np.logspace(-3.0, 3.0, num=150)\n",
    "vrel = 1e-3\n",
    "Q = 2.0 * model.mx * (1 + 0.5 * vrel**2)\n",
    "spectra = model.spectra(egams, Q)\n",
    "\n",
    "epos = np.logspace(np.log10(me), 3.0, num=150)\n",
    "pos_spectra = model.positron_spectra(epos, Q)\n",
    "\n",
    "Qs = np.logspace(np.log10(mpi/2), 250.)\n",
    "bfs = [model.annihilation_branching_fractions(Q) for Q in Qs]\n",
    "\n",
    "mxs = np.linspace(mpi/2., 250., num=100)\n",
    "lims_e_astrogam = model.unbinned_limits(mxs, target_params=gc_target, bg_model=gc_bg_model)"
   ]
  },
  {
   "cell_type": "code",
   "execution_count": null,
   "metadata": {},
   "outputs": [],
   "source": [
    "plt.figure(dpi=100)\n",
    "for key, val in spectra.items():\n",
    "    plt.plot(egams, val, label=key)\n",
    "\n",
    "plt.xlabel(r'$E_{\\gamma} (\\mathrm{MeV})$', fontsize=16)\n",
    "plt.ylabel(r'$\\frac{dN}{dE_{\\gamma}} (\\mathrm{MeV}^{-1})$', fontsize=16)\n",
    "plt.xscale('log')\n",
    "plt.yscale('log')\n",
    "plt.legend()"
   ]
  },
  {
   "cell_type": "code",
   "execution_count": 161,
   "metadata": {},
   "outputs": [
    {
     "data": {
      "text/plain": [
       "(0.510998928, 1000.0)"
      ]
     },
     "execution_count": 161,
     "metadata": {},
     "output_type": "execute_result"
    },
    {
     "data": {
      "image/png": "[encoded data removed]",
      "text/plain": [
       "<Figure size 600x400 with 1 Axes>"
      ]
     },
     "metadata": {},
     "output_type": "display_data"
    }
   ],
   "source": [
    "plt.figure(dpi=100)\n",
    "plt.plot(epos, pos_spectra['pi pi'])\n",
    "plt.xlabel(r'$E_{e} (\\mathrm{MeV})$', fontsize=16)\n",
    "plt.ylabel(r'$\\frac{dN}{dE_{e}} (\\mathrm{MeV}^{-1})$', fontsize=16)\n",
    "plt.xscale('log')\n",
    "plt.yscale('log')\n",
    "plt.xlim([np.min(epos),np.max(epos)])"
   ]
  },
  {
   "cell_type": "code",
   "execution_count": 173,
   "metadata": {},
   "outputs": [],
   "source": [
    "def f(x):\n",
    "    return x"
   ]
  },
  {
   "cell_type": "code",
   "execution_count": 174,
   "metadata": {},
   "outputs": [],
   "source": [
    "f_vec = np.vectorize(f)"
   ]
  },
  {
   "cell_type": "code",
   "execution_count": 175,
   "metadata": {},
   "outputs": [
    {
     "data": {
      "text/plain": [
       "array(1.)"
      ]
     },
     "execution_count": 175,
     "metadata": {},
     "output_type": "execute_result"
    }
   ],
   "source": [
    "f_vec(1.0)"
   ]
  },
  {
   "cell_type": "code",
   "execution_count": null,
   "metadata": {},
   "outputs": [],
   "source": []
  }
 ],
 "metadata": {
  "kernelspec": {
   "display_name": "Python 3",
   "language": "python",
   "name": "python3"
  },
  "language_info": {
   "codemirror_mode": {
    "name": "ipython",
    "version": 3
   },
   "file_extension": ".py",
   "mimetype": "text/x-python",
   "name": "python",
   "nbconvert_exporter": "python",
   "pygments_lexer": "ipython3",
   "version": "3.6.2"
  },
  "latex_envs": {
   "LaTeX_envs_menu_present": true,
   "autoclose": false,
   "autocomplete": true,
   "bibliofile": "biblio.bib",
   "cite_by": "apalike",
   "current_citInitial": 1,
   "eqLabelWithNumbers": true,
   "eqNumInitial": 1,
   "hotkeys": {
    "equation": "Ctrl-E",
    "itemize": "Ctrl-I"
   },
   "labels_anchors": false,
   "latex_user_defs": false,
   "report_style_numbering": false,
   "user_envs_cfg": false
  },
  "toc": {
   "nav_menu": {},
   "number_sections": true,
   "sideBar": true,
   "skip_h1_title": false,
   "title_cell": "Table of Contents",
   "title_sidebar": "Contents",
   "toc_cell": false,
   "toc_position": {},
   "toc_section_display": true,
   "toc_window_display": false
  }
 },
 "nbformat": 4,
 "nbformat_minor": 2
}
