{
 "cells": [
  {
   "cell_type": "code",
   "execution_count": null,
   "metadata": {},
   "outputs": [],
   "source": [
    "import matplotlib.pyplot as plt\n",
    "import numpy as np\n",
    "\n",
    "from hazma.scalar_mediator import ScalarMediator\n",
    "from hazma.vector_mediator import VectorMediator\n",
    "from hazma.parameters import neutral_pion_mass as mpi0\n",
    "from hazma.cmb import f_eff_ep, f_eff_g"
   ]
  },
  {
   "cell_type": "code",
   "execution_count": null,
   "metadata": {},
   "outputs": [],
   "source": [
    "# Masses to scan over\n",
    "mx_min, mx_max, n_mxs = mpi0/2., 250., 150\n",
    "mxs = np.linspace(mx_min, mx_max, n_mxs)"
   ]
  },
  {
   "cell_type": "markdown",
   "metadata": {},
   "source": [
    "Scalar mediator"
   ]
  },
  {
   "cell_type": "code",
   "execution_count": null,
   "metadata": {},
   "outputs": [],
   "source": [
    "s_theta = 0.5\n",
    "sm_hp = ScalarMediator(mx=1., ms=1000., gsxx=1.0, gsff=s_theta, gsGG=s_theta, gsFF=-s_theta)\n",
    "\n",
    "sm_f_effs = sm_hp.f_effs(mxs)"
   ]
  },
  {
   "cell_type": "markdown",
   "metadata": {},
   "source": [
    "Vector mediator"
   ]
  },
  {
   "cell_type": "code",
   "execution_count": null,
   "metadata": {},
   "outputs": [],
   "source": [
    "vm = VectorMediator(mx=1., mv=1000., gvxx=1., gvuu=1., gvdd=0.2, gvss=0., gvee=0., gvmumu=0.)\n",
    "\n",
    "vm_f_effs = vm.f_effs(mxs)"
   ]
  },
  {
   "cell_type": "markdown",
   "metadata": {},
   "source": [
    "Plot together"
   ]
  },
  {
   "cell_type": "code",
   "execution_count": null,
   "metadata": {},
   "outputs": [],
   "source": [
    "plt.figure(figsize=(5, 3.5))\n",
    "\n",
    "plt.plot(mxs, sm_f_effs, label=\"Scalar\")\n",
    "plt.plot(mxs, vm_f_effs, label=\"Vector\")\n",
    "\n",
    "plt.xlim(mxs[[0, -1]])\n",
    "plt.ylim(0, 1.)\n",
    "plt.xlabel(r\"$m_\\chi$ (MeV)\")\n",
    "plt.ylabel(r\"$f_{\\mathrm{eff}}^\\chi$\")\n",
    "plt.legend()\n",
    "\n",
    "plt.savefig(\"figures/f_eff_dm.pdf\")"
   ]
  },
  {
   "cell_type": "markdown",
   "metadata": {},
   "source": [
    "$f_{\\mathrm{eff}}$"
   ]
  },
  {
   "cell_type": "code",
   "execution_count": null,
   "metadata": {},
   "outputs": [],
   "source": [
    "plt.plot(f_eff_ep.x, f_eff_ep.y, label=r\"$f_{\\mathrm{eff}}^{e^+ e^-}$\")\n",
    "plt.plot(f_eff_g.x, f_eff_g.y, label=r\"$f_{\\mathrm{eff}}^\\gamma$\")\n",
    "\n",
    "plt.xlim([0.005, 250])\n",
    "plt.xscale(\"log\")\n",
    "# plt.yscale(\"log\")\n",
    "\n",
    "# plt.xlim(mpi0/2., 250)\n",
    "\n",
    "# plt.ylim(0, 2e2)\n",
    "plt.xlabel(r\"$E$ (MeV)\")\n",
    "plt.ylabel(r\"$f_{\\mathrm{eff}}$\")\n",
    "plt.legend()"
   ]
  },
  {
   "cell_type": "code",
   "execution_count": null,
   "metadata": {},
   "outputs": [],
   "source": [
    "plt.plot(f_eff_ep.x, sm_hp.positron_spectra(f_eff_ep.x))"
   ]
  }
 ],
 "metadata": {
  "language_info": {
   "name": "python",
   "pygments_lexer": "ipython3"
  }
 },
 "nbformat": 4,
 "nbformat_minor": 2
}
