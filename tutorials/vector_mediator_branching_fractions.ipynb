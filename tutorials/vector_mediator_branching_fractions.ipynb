{
 "cells": [
  {
   "cell_type": "code",
   "execution_count": 1,
   "metadata": {},
   "outputs": [],
   "source": [
    "import matplotlib.pyplot as plt\n",
    "import numpy as np\n",
    "\n",
    "from hazma.vector_mediator import VectorMediator\n",
    "from hazma.scalar_mediator import ScalarMediator"
   ]
  },
  {
   "cell_type": "markdown",
   "metadata": {},
   "source": [
    "This function makes nice $\\LaTeX$ labels for different final states"
   ]
  },
  {
   "cell_type": "code",
   "execution_count": 2,
   "metadata": {},
   "outputs": [],
   "source": [
    "def get_tex_label(fs):\n",
    "    tex_label = r\"$\"+ fs\n",
    "    tex_label = tex_label.replace(\"pi0\", \"\\pi^0\")\n",
    "    tex_label = tex_label.replace(\"pi pi\", \"\\pi^+ \\pi^-\")\n",
    "    tex_label = tex_label.replace(\"mu mu\", \"\\mu^+ \\mu^-\")\n",
    "    tex_label = tex_label.replace(\"g\", \"\\gamma\")\n",
    "    tex_label = tex_label.replace(\"e e\", \"e^+ e^-\")\n",
    "    return tex_label + r\"$\"\n",
    "\n",
    "def get_color(fs):\n",
    "    fss = sorted(list(set(ScalarMediator.list_final_states() + VectorMediator.list_final_states())))\n",
    "    return list(plt.rcParams[\"axes.prop_cycle\"])[fss.index(fs)][\"color\"]"
   ]
  },
  {
   "cell_type": "markdown",
   "metadata": {},
   "source": [
    "## Branching fractions as a function of $g_{Vuu}$ and $g_{Vdd}$"
   ]
  },
  {
   "cell_type": "markdown",
   "metadata": {},
   "source": [
    "First, create an array with 500 linearly spaces values of $g_{Vdd}/g_{Vuu}$ to scan over:"
   ]
  },
  {
   "cell_type": "code",
   "execution_count": 3,
   "metadata": {},
   "outputs": [],
   "source": [
    "ratio_min, ratio_max, n_ratios = -3, 3, 500\n",
    "ratios = np.linspace(ratio_min, ratio_max, n_ratios)"
   ]
  },
  {
   "cell_type": "markdown",
   "metadata": {},
   "source": [
    "Next, initialize the vector mediator class. We set all ancillary couplings to zero; we will soon change $g_{Vdd}$ in our scan. We take $m_\\chi = 250$ MeV, the upper limit of validity for this model. The final plot below changes little with $m_\\chi$; the primary changes are that the $\\pi^+ \\pi^- \\pi^0$ channel shuts off below $m_\\chi \\approx 210$ MeV and the narrow region around $g_{Vuu} = g_{Vdd}$ where the $\\pi^+ \\pi^-$ channel becomes inaccessible broadens slightly."
   ]
  },
  {
   "cell_type": "code",
   "execution_count": 4,
   "metadata": {},
   "outputs": [],
   "source": [
    "vm_args = {\"mx\": 250., \"mv\": 240., \"gvxx\": 1., \"gvuu\": 1., \"gvdd\": 1., \"gvss\": 0., \"gvee\": 0., \"gvmumu\": 0.}\n",
    "vm = VectorMediator(**vm_args)"
   ]
  },
  {
   "cell_type": "markdown",
   "metadata": {},
   "source": [
    "Now we compute the branching fractions for each value of $g_{Vdd} / g_{Vuu}$. To avoid dividing by zero, it's necessary to give the DM a small amount of kinetic energy by setting its velocity equal to the usual $10^{-3}c$. We store the dictionaries returned by `branching_fractions()` in the list `bfs_raw`."
   ]
  },
  {
   "cell_type": "code",
   "execution_count": 5,
   "metadata": {},
   "outputs": [],
   "source": [
    "vx_mw = 1.0e-3  # approximate DM velocity in Milky Way halo\n",
    "\n",
    "bfs_varying_gs = {}\n",
    "\n",
    "# Compute branching fractions for different couplings\n",
    "bfs_raw = []\n",
    "for ratio in ratios:\n",
    "    vm.gvdd = vm.gvuu * ratio\n",
    "    bfs_raw.append(vm.branching_fractions(2. * vm.mx * (1. + 0.5 * vx_mw)))"
   ]
  },
  {
   "cell_type": "markdown",
   "metadata": {},
   "source": [
    "This turns our list of dictionaries of branching fractions into a dictionary of lists of branching fractions:"
   ]
  },
  {
   "cell_type": "code",
   "execution_count": 6,
   "metadata": {},
   "outputs": [],
   "source": [
    "bfs = {fs: [bf[fs] for bf in bfs_raw] for fs in vm.list_final_states()}"
   ]
  },
  {
   "cell_type": "markdown",
   "metadata": {},
   "source": [
    "Finally, we iterate over the final states to which $V$ has nonzero couplings and plot their branching fractions. The branching fractions for the different final states are equal to zero for a certain ratio of the couplings:\n",
    "\n",
    "* $\\pi^+ \\pi^-$: $g_{Vuu} = g_{Vdd}$\n",
    "* $\\pi^+ \\pi^- \\pi^0$: $g_{Vuu} = -g_{Vdd}$\n",
    "* $\\pi^0 \\gamma$: $g_{Vuu} = -\\frac{1}{2}g_{Vdd}$"
   ]
  },
  {
   "cell_type": "code",
   "execution_count": 7,
   "metadata": {},
   "outputs": [
    {
     "data": {
      "text/plain": [
       "(1e-10, 2)"
      ]
     },
     "execution_count": 7,
     "metadata": {},
     "output_type": "execute_result"
    },
    {
     "data": {
      "image/png": "[encoded data removed]",
      "text/plain": [
       "<Figure size 360x288 with 1 Axes>"
      ]
     },
     "metadata": {},
     "output_type": "display_data"
    }
   ],
   "source": [
    "plt.figure(figsize=(5, 4))\n",
    "\n",
    "for fs, bf_list in bfs.iteritems():\n",
    "    if fs not in [\"e e\", \"mu mu\"]:\n",
    "        plt.plot(ratios, bf_list, color=get_color(fs), label=get_tex_label(fs))\n",
    "\n",
    "plt.yscale(\"log\")\n",
    "plt.title(\"Vector mediator, $m_\\chi = %.0f$\" % vm.mx)\n",
    "plt.xlabel(r\"$g_{Vdd} / g_{Vuu}$\")\n",
    "plt.ylabel(\"Branching fraction (\\%)\")\n",
    "plt.legend()\n",
    "plt.xlim(ratios[[0, -1]])\n",
    "plt.ylim(1e-10, 2)\n",
    "\n",
    "# plt.savefig(\"figures/vector_branching_fractions.pdf\")"
   ]
  },
  {
   "cell_type": "code",
   "execution_count": null,
   "metadata": {
    "collapsed": true
   },
   "outputs": [],
   "source": []
  }
 ],
 "metadata": {
  "kernelspec": {
   "display_name": "Python 2",
   "language": "python",
   "name": "python2"
  },
  "language_info": {
   "codemirror_mode": {
    "name": "ipython",
    "version": 2
   },
   "file_extension": ".py",
   "mimetype": "text/x-python",
   "name": "python",
   "nbconvert_exporter": "python",
   "pygments_lexer": "ipython2",
   "version": "2.7.13"
  },
  "toc": {
   "nav_menu": {},
   "number_sections": true,
   "sideBar": true,
   "skip_h1_title": false,
   "title_cell": "Table of Contents",
   "title_sidebar": "Contents",
   "toc_cell": false,
   "toc_position": {},
   "toc_section_display": "block",
   "toc_window_display": true
  }
 },
 "nbformat": 4,
 "nbformat_minor": 2
}
