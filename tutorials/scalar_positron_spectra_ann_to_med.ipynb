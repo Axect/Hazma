{
 "cells": [
  {
   "cell_type": "code",
   "execution_count": 1,
   "metadata": {},
   "outputs": [],
   "source": [
    "import matplotlib.pyplot as plt\n",
    "import numpy as np\n",
    "\n",
    "from utilities import latex_text_width_1col, colors\n",
    "from hazma.scalar_mediator import HiggsPortal, HeavyQuark"
   ]
  },
  {
   "cell_type": "markdown",
   "metadata": {},
   "source": [
    "**Plots $e^+$ spectra for annihilation into mediators in the scalar model.**\n",
    "\n",
    "To-do: this is not currently implemented!"
   ]
  },
  {
   "cell_type": "code",
   "execution_count": 4,
   "metadata": {},
   "outputs": [],
   "source": [
    "# Dark matter masses\n",
    "mxs = np.array([100., 200., 300., 400.])\n",
    "# Mediator masses\n",
    "mss = np.array([1.,  50., 100., 150., 200., 250., 300., 400.])\n",
    "# List of models. The top row of the plot will contain the Higgs portal model\n",
    "# spectra, the bottom the heavy quark model spectra.\n",
    "sms = [HiggsPortal(1., 1., gsxx=1., stheta=1e-1),\n",
    "       HeavyQuark(1., 1., gsxx=1., gsQ=1e-1, mQ=1e3, QQ=1.)]\n",
    "\n",
    "# Approximate Milky Way velocity dispersion, used to compute the DM\n",
    "# center of mass energy\n",
    "vx_mw = 1e-3\n",
    "\n",
    "# Photon energies\n",
    "e_gam_min, e_gam_max = 5., 600.\n",
    "e_gams = np.geomspace(e_gam_min, e_gam_max, 250)\n",
    "\n",
    "# Plot dimensions\n",
    "n_subplot_rows, n_subplot_cols = len(sms), len(mxs)\n",
    "\n",
    "\n",
    "# Color map for mediator masses\n",
    "def cmap(ms):\n",
    "    return colors[np.where(mss == ms)[0][0]]\n",
    "\n",
    "\n",
    "# Label positions for mediator masses\n",
    "ms_labels = np.array([\n",
    "    [{1: (1.1e2, 5e-2), 50: (1.3e1, 3e-3), 100: (6e0, 1e-2)},\n",
    "     {150: (2.5e1, 4.2e-3), 200: (1.2e1, 1.2e-4)},\n",
    "     {250: (7e0, 1.15e-4), 300: (5.5e0, 4e-2)},\n",
    "     {400: (2.5e1, 4.2e-2)}],\n",
    "    [{}, {}, {}, {}]\n",
    "])"
   ]
  },
  {
   "cell_type": "code",
   "execution_count": 5,
   "metadata": {
    "code_folding": [
     0,
     38,
     42
    ]
   },
   "outputs": [
    {
     "ename": "KeyError",
     "evalue": "'s s'",
     "output_type": "error",
     "traceback": [
      "\u001b[0;31m---------------------------------------------------------------------------\u001b[0m",
      "\u001b[0;31mKeyError\u001b[0m                                  Traceback (most recent call last)",
      "\u001b[0;32m<ipython-input-5-2359445d535b>\u001b[0m in \u001b[0;36m<module>\u001b[0;34m\u001b[0m\n\u001b[1;32m     21\u001b[0m                 \u001b[0msm\u001b[0m\u001b[0;34m.\u001b[0m\u001b[0mms\u001b[0m \u001b[0;34m=\u001b[0m \u001b[0mms\u001b[0m\u001b[0;34m\u001b[0m\u001b[0;34m\u001b[0m\u001b[0m\n\u001b[1;32m     22\u001b[0m                 \u001b[0;31m# Compute spectrum for annihilation to mediators\u001b[0m\u001b[0;34m\u001b[0m\u001b[0;34m\u001b[0m\u001b[0;34m\u001b[0m\u001b[0m\n\u001b[0;32m---> 23\u001b[0;31m                 ax.loglog(e_gams, sm.positron_spectra(e_gams, e_cm)[\"s s\"],\n\u001b[0m\u001b[1;32m     24\u001b[0m                           color=cmap(sm.ms))\n\u001b[1;32m     25\u001b[0m \u001b[0;34m\u001b[0m\u001b[0m\n",
      "\u001b[0;31mKeyError\u001b[0m: 's s'"
     ]
    },
    {
     "data": {
      "image/png": "[encoded data removed]",
      "text/plain": [
       "<Figure size 508.195x279.507 with 8 Axes>"
      ]
     },
     "metadata": {
      "image/png": {
       "height": 244,
       "width": 439
      },
      "needs_background": "light"
     },
     "output_type": "display_data"
    }
   ],
   "source": [
    "fig, axes = plt.subplots(\n",
    "    n_subplot_rows,\n",
    "    n_subplot_cols,\n",
    "    sharex=True,\n",
    "    sharey=True,\n",
    "    figsize=(latex_text_width_1col, 0.55 * latex_text_width_1col))\n",
    "\n",
    "for row in range(n_subplot_rows):  # loop over type of model\n",
    "    for col in range(n_subplot_cols):  # loop over DM masses\n",
    "        ax = axes[row, col]\n",
    "\n",
    "        # Get the model and set DM mass to column's value\n",
    "        sm = sms[row]\n",
    "        sm.mx = mxs[col]\n",
    "        # DM center of mass energy\n",
    "        e_cm = 2. * sm.mx * (1. + 0.5 * vx_mw**2)\n",
    "\n",
    "        # Loop over mediator masses\n",
    "        for ms in mss:\n",
    "            if ms <= e_cm / 2:\n",
    "                sm.ms = ms\n",
    "                # Compute spectrum for annihilation to mediators\n",
    "                ax.loglog(e_gams, sm.positron_spectra(e_gams, e_cm)[\"s s\"],\n",
    "                          color=cmap(sm.ms))\n",
    "\n",
    "        # Formatting: label final states\n",
    "        for ms, (x, y) in ms_labels[row, col].items():\n",
    "            ax.text(x, y, r\"%i MeV\" % ms, fontsize=8, color=cmap(ms))\n",
    "\n",
    "# Formatting\n",
    "for row in range(n_subplot_rows):\n",
    "    axes[row, 0].set_ylabel(r\"$\\frac{dN}{dE_\\gamma}$ (MeV$^{-1}$)\")\n",
    "    axes[row, 0].set_ylim(1e-4, 1e-1)\n",
    "\n",
    "for col in range(n_subplot_cols):\n",
    "    axes[0, col].set_title(r\"$m_\\chi = %i$ MeV\" % mxs[col], fontsize=10)\n",
    "    axes[-1, col].set_xlabel(r\"$E_\\gamma$ (MeV)\")\n",
    "    axes[-1, col].set_xlim(e_gam_min, e_gam_max)\n",
    "\n",
    "axes[0, -1].text(900, 4e-3, r\"$\\sin\\theta = 0.1$\", va=\"center\", fontsize=10)\n",
    "axes[1, -1].text(900, 4e-3, r\"$g_{S\\Psi} = 0.1$\" + \"\\n\" + r\"$Q_\\Psi = 1$\" +\n",
    "                 \"\\n\" + r\"$m_\\Psi = 1$ GeV\", va=\"center\", fontsize=10)\n",
    "\n",
    "fig.tight_layout()\n",
    "# fig.savefig(\"figures/scalar_spectra_ann_to_med.pdf\", bbox_inches=\"tight\")\n",
    "# plt.show()"
   ]
  },
  {
   "cell_type": "code",
   "execution_count": null,
   "metadata": {},
   "outputs": [],
   "source": []
  }
 ],
 "metadata": {
  "jupytext": {
   "formats": "ipynb,py:hydrogen"
  },
  "kernelspec": {
   "display_name": "Python 3",
   "language": "python",
   "name": "python3"
  },
  "language_info": {
   "codemirror_mode": {
    "name": "ipython",
    "version": 3
   },
   "file_extension": ".py",
   "mimetype": "text/x-python",
   "name": "python",
   "nbconvert_exporter": "python",
   "pygments_lexer": "ipython3",
   "version": "3.7.1"
  },
  "toc": {
   "nav_menu": {},
   "number_sections": true,
   "sideBar": true,
   "skip_h1_title": false,
   "title_cell": "Table of Contents",
   "title_sidebar": "Contents",
   "toc_cell": false,
   "toc_position": {
    "height": "922px",
    "left": "0px",
    "right": "1798px",
    "top": "95.1px",
    "width": "26px"
   },
   "toc_section_display": "block",
   "toc_window_display": true
  }
 },
 "nbformat": 4,
 "nbformat_minor": 2
}
