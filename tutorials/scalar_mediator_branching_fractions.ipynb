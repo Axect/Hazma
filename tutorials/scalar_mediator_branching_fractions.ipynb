{
 "cells": [
  {
   "cell_type": "code",
   "execution_count": null,
   "metadata": {},
   "outputs": [],
   "source": [
    "import matplotlib.pyplot as plt\n",
    "import numpy as np\n",
    "\n",
    "from hazma.scalar_mediator import ScalarMediator"
   ]
  },
  {
   "cell_type": "markdown",
   "metadata": {},
   "source": [
    "This function makes nice $\\LaTeX$ labels for different final states"
   ]
  },
  {
   "cell_type": "code",
   "execution_count": null,
   "metadata": {},
   "outputs": [],
   "source": [
    "def get_tex_label(label):\n",
    "    tex_label = r\"$\"+ label\n",
    "    tex_label = tex_label.replace(\"pi0\", \"\\pi^0\")\n",
    "    tex_label = tex_label.replace(\"pi pi\", \"\\pi^+ \\pi^-\")\n",
    "    tex_label = tex_label.replace(\"mu mu\", \"\\mu^+ \\mu^-\")\n",
    "    tex_label = tex_label.replace(\"g\", \"\\gamma\")\n",
    "    tex_label = tex_label.replace(\"e e\", \"e^+ e^-\")\n",
    "    tex_label = tex_label.replace(\"s s\", \"S S\")\n",
    "    return tex_label + r\"$\""
   ]
  },
  {
   "cell_type": "markdown",
   "metadata": {},
   "source": [
    "## Branching fractions as a function of $g_{S \\chi \\chi}$ and $g_{Sff}$"
   ]
  },
  {
   "cell_type": "markdown",
   "metadata": {},
   "source": [
    "First, create an array with 500 logarithmically spaces values of $g_{Sff}/g_{S\\chi\\chi}$ to scan over:"
   ]
  },
  {
   "cell_type": "code",
   "execution_count": null,
   "metadata": {},
   "outputs": [],
   "source": [
    "ratio_min, ratio_max, n_ratios = 1e-1, 1e10, 500\n",
    "ratios = np.logspace(np.log10(ratio_min), np.log10(ratio_max), n_ratios)"
   ]
  },
  {
   "cell_type": "code",
   "execution_count": null,
   "metadata": {},
   "outputs": [],
   "source": [
    "sm_args = {\"mx\": 250., \"ms\": 200., \"gsxx\": 1., \"gsff\": 1., \"gsGG\": 0.0000001, \"gsFF\": 0.}\n",
    "sm = ScalarMediator(**sm_args)"
   ]
  },
  {
   "cell_type": "markdown",
   "metadata": {},
   "source": [
    "Now we compute the branching fractions for each value of $g_{Sff} / g_{s\\chi\\chi}$. To avoid dividing by zero, it's necessary to give the DM a small amount of kinetic energy by setting its velocity equal to the usual $10^{-3}c$. We store the dictionaries returned by `branching_fractions()` in the list `bfs_raw`."
   ]
  },
  {
   "cell_type": "code",
   "execution_count": null,
   "metadata": {},
   "outputs": [],
   "source": [
    "vx_mw = 1.0e-3  # approximate DM velocity in Milky Way halo\n",
    "\n",
    "bfs_varying_gs = {}\n",
    "\n",
    "# Compute branching fractions, vev for different couplings\n",
    "bfs_raw = []\n",
    "vss = []\n",
    "for ratio in ratios:\n",
    "    sm.gsff = sm.gsxx * ratio\n",
    "    vss.append(sm.vs)\n",
    "    bfs_raw.append(sm.branching_fractions(2. * sm.mx * (1. + 0.5 * vx_mw)))\n",
    "    \n",
    "vss = np.array(vss)"
   ]
  },
  {
   "cell_type": "markdown",
   "metadata": {},
   "source": [
    "This turns our list of dictionaries of branching fractions into a dictionary of lists of branching fractions:"
   ]
  },
  {
   "cell_type": "code",
   "execution_count": null,
   "metadata": {},
   "outputs": [],
   "source": [
    "bfs = {fs: [bf[fs] for bf in bfs_raw] for fs in sm.list_final_states()}"
   ]
  },
  {
   "cell_type": "markdown",
   "metadata": {},
   "source": [
    "Finally, we iterate over the final states to which $S$ has nonzero couplings and plot their branching fractions."
   ]
  },
  {
   "cell_type": "code",
   "execution_count": null,
   "metadata": {},
   "outputs": [],
   "source": [
    "plt.figure(figsize=(10, 3.5))\n",
    "\n",
    "plt.subplot(1, 2, 1)\n",
    "\n",
    "for fs, bf_list in bfs.iteritems():\n",
    "    if fs != \"g g\":\n",
    "        plt.plot(ratios, bf_list, label=get_tex_label(fs), linewidth=1)\n",
    "\n",
    "plt.xscale(\"log\")\n",
    "plt.yscale(\"log\")\n",
    "plt.title(r\"$m_\\chi = %.0f$, $m_S = %.0f$\" % (sm.mx, sm.ms))\n",
    "plt.xlabel(r\"$g_{Sff} / g_{S\\chi\\chi}$\")\n",
    "plt.ylabel(\"Branching fraction (\\%)\")\n",
    "plt.legend()\n",
    "plt.xlim(ratios[[0, -1]])\n",
    "\n",
    "plt.subplot(1, 2, 2)\n",
    "\n",
    "plt.plot(ratios, vss)\n",
    "plt.xscale(\"log\")\n",
    "plt.xlabel(r\"$g_{Sff} / g_{S\\chi\\chi}$\")\n",
    "plt.ylabel(r\"$v_S$ (MeV)\")\n",
    "\n",
    "# plt.text(-2, 1e-5, \"Preliminary\", color=\"r\", alpha=0.3, fontsize=40, rotation=-10)\n",
    "\n",
    "# plt.savefig(\"figures/scalar_branching_fractions.pdf\")"
   ]
  },
  {
   "cell_type": "markdown",
   "metadata": {},
   "source": [
    "## Branching fractions as a function of $g_{SGG}/g_{Sff}$"
   ]
  },
  {
   "cell_type": "code",
   "execution_count": null,
   "metadata": {},
   "outputs": [],
   "source": [
    "ratio_min, ratio_max, n_ratios = -1, 3, 100\n",
    "ratios = np.linspace(ratio_min, ratio_max, n_ratios)\n",
    "\n",
    "sm_args = {\"mx\": 250., \"ms\": 400., \"gsxx\": 1., \"gsff\": 1., \"gsGG\": 1., \"gsFF\": 0.}\n",
    "sm = ScalarMediator(**sm_args)\n",
    "\n",
    "vx_mw = 1.0e-3  # approximate DM velocity in Milky Way halo\n",
    "\n",
    "# Compute branching fractions for different couplings\n",
    "bfs_raw = []\n",
    "for r in ratios:\n",
    "    sm.gsGG = r * sm.gsff\n",
    "    e_cm = 2. * sm.mx * (1. + 0.5 * vx_mw)\n",
    "    bfs_raw.append(sm.branching_fractions(e_cm))\n",
    "    \n",
    "bfs = {fs: [bf[fs] for bf in bfs_raw] for fs in sm.list_final_states()}\n",
    "\n",
    "### Make the plot\n",
    "plt.figure(figsize=(5, 4))\n",
    "\n",
    "for fs, bf_list in bfs.iteritems():\n",
    "    if fs != \"g g\":\n",
    "        plt.plot(ratios, bf_list, label=get_tex_label(fs))\n",
    "\n",
    "plt.title(\"$m_S = %.0f$, $g_{S\\chi\\chi} = g_{Sff} = %f$\" % (sm.ms, sm.gsff))\n",
    "plt.xlabel(r\"$g_{SGG} / g_{Sff}$\")\n",
    "plt.ylabel(\"Branching fraction (\\%)\")\n",
    "plt.legend()\n",
    "plt.xlim(ratios[[0, -1]])\n",
    "# plt.ylim(1e-1, 1.1)\n",
    "\n",
    "# plt.text(-2, 1e-5, \"Preliminary\", color=\"r\", alpha=0.3, fontsize=40, rotation=-10)\n",
    "\n",
    "# plt.savefig(\"figures/scalar_branching_fractions.pdf\")"
   ]
  },
  {
   "cell_type": "code",
   "execution_count": null,
   "metadata": {},
   "outputs": [],
   "source": [
    "(137/105.)**2"
   ]
  },
  {
   "cell_type": "code",
   "execution_count": null,
   "metadata": {},
   "outputs": [],
   "source": [
    "np.sqrt(1.0 + 4. * sm.gsGG * sm.vs / 9. / (246.*1e3))"
   ]
  },
  {
   "cell_type": "markdown",
   "metadata": {},
   "source": [
    "## Branching fractions as a function of $m_\\chi$"
   ]
  },
  {
   "cell_type": "code",
   "execution_count": null,
   "metadata": {},
   "outputs": [],
   "source": [
    "mx_min, mx_max, n_mxs = 50., 250, 500\n",
    "mxs = np.logspace(np.log10(mx_min), np.log10(mx_max), n_mxs)\n",
    "\n",
    "sm_args = {\"mx\": 250., \"ms\": 400., \"gsxx\": 1., \"gsff\": 1., \"gsGG\": 1., \"gsFF\": 0.}\n",
    "sm = ScalarMediator(**sm_args)\n",
    "\n",
    "vx_mw = 1.0e-3  # approximate DM velocity in Milky Way halo\n",
    "\n",
    "bfs_varying_gs = {}\n",
    "\n",
    "# Compute branching fractions for different couplings\n",
    "bfs_raw = []\n",
    "for mx in mxs:\n",
    "    sm.mx = mx\n",
    "    e_cm = 2. * sm.mx * (1. + 0.5 * vx_mw)\n",
    "    bfs_raw.append(sm.branching_fractions(e_cm))\n",
    "    \n",
    "bfs = {fs: [bf[fs] for bf in bfs_raw] for fs in sm.list_final_states()}\n",
    "\n",
    "### Make the plot\n",
    "plt.figure(figsize=(5, 3.5))\n",
    "\n",
    "for fs, bf_list in bfs.iteritems():\n",
    "    if fs != \"g g\" and fs != \"s s\":\n",
    "        plt.plot(mxs, bf_list, label=get_tex_label(fs))\n",
    "\n",
    "# plt.xscale(\"log\")\n",
    "# plt.yscale(\"log\")\n",
    "plt.title(\"Scalar mediator\")\n",
    "plt.xlabel(r\"$m_\\chi$ (MeV)\")\n",
    "plt.ylabel(\"Branching fraction (\\%)\")\n",
    "plt.legend()\n",
    "plt.xlim(mxs[[0, -1]])\n",
    "plt.ylim(1e-1, 1.1)\n",
    "\n",
    "plt.text(80, 0.6, \"Preliminary\", color=\"r\", alpha=0.3, fontsize=40, rotation=-10)\n",
    "\n",
    "plt.savefig(\"figures/scalar_branching_fractions.pdf\")"
   ]
  },
  {
   "cell_type": "code",
   "execution_count": null,
   "metadata": {},
   "outputs": [],
   "source": [
    "from hazma.parameters import (charged_pion_mass as mpi, vh)"
   ]
  },
  {
   "cell_type": "code",
   "execution_count": null,
   "metadata": {},
   "outputs": [],
   "source": [
    "mpi/vh"
   ]
  },
  {
   "cell_type": "code",
   "execution_count": null,
   "metadata": {},
   "outputs": [],
   "source": []
  }
 ],
 "metadata": {
  "language_info": {
   "name": "python",
   "pygments_lexer": "ipython3"
  }
 },
 "nbformat": 4,
 "nbformat_minor": 2
}
