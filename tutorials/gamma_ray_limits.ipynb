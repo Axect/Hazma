{
 "cells": [
  {
   "cell_type": "code",
   "execution_count": null,
   "metadata": {},
   "outputs": [],
   "source": [
    "import matplotlib.pyplot as plt\n",
    "import numpy as np\n",
    "\n",
    "from hazma.scalar_mediator import ScalarMediator\n",
    "from hazma.vector_mediator import VectorMediator\n",
    "from hazma.parameters import neutral_pion_mass as mpi0\n",
    "from hazma.gamma_ray_limits.gamma_ray_limit_parameters import (energy_res_fermi,\n",
    "                                                               energy_res_e_astrogam,\n",
    "                                                               A_eff_e_astrogam,\n",
    "                                                               A_eff_comptel,\n",
    "                                                               egret_diffuse,\n",
    "                                                               fermi_diffuse,\n",
    "                                                               comptel_diffuse,\n",
    "                                                               gc_target,\n",
    "                                                               gc_bg_model)\n",
    "from hazma.gamma_ray_limits.compute_limits import get_detected_spectrum\n",
    "from hazma.cmb import vx_cmb\n",
    "\n",
    "colors = 2*[c[\"color\"] for c in plt.rcParams[\"axes.prop_cycle\"]]"
   ]
  },
  {
   "cell_type": "markdown",
   "metadata": {},
   "source": [
    "## Load relic density curve"
   ]
  },
  {
   "cell_type": "code",
   "execution_count": null,
   "metadata": {},
   "outputs": [],
   "source": [
    "rd_mxs, rd_lims = np.loadtxt(\"relic_abundance.dat\", delimiter=\",\").T\n",
    "rd_mxs = 1e3*10.**rd_mxs  # convert GeV -> MeV\n",
    "rd_lims = 10.**rd_lims"
   ]
  },
  {
   "cell_type": "markdown",
   "metadata": {},
   "source": [
    "# Scalar mediator"
   ]
  },
  {
   "cell_type": "markdown",
   "metadata": {},
   "source": [
    "## Setup"
   ]
  },
  {
   "cell_type": "code",
   "execution_count": null,
   "metadata": {},
   "outputs": [],
   "source": [
    "s_theta = 0.5\n",
    "sm_hp = ScalarMediator(mx=1., ms=1000., gsxx=1.0, gsff=s_theta, gsGG=s_theta, gsFF=-s_theta)\n",
    "\n",
    "# Masses to scan over\n",
    "mx_min, mx_max, n_mxs = mpi0/2., 250., 100  # 100\n",
    "sm_mxs = np.linspace(mx_min, mx_max, n_mxs)"
   ]
  },
  {
   "cell_type": "markdown",
   "metadata": {},
   "source": [
    "## Recompute constraints"
   ]
  },
  {
   "cell_type": "code",
   "execution_count": null,
   "metadata": {},
   "outputs": [],
   "source": [
    "sm_lims_e_astrogam = sm_hp.unbinned_limits(sm_mxs, target_params=gc_target, bg_model=gc_bg_model, A_eff=A_eff_e_astrogam)"
   ]
  },
  {
   "cell_type": "code",
   "execution_count": null,
   "metadata": {},
   "outputs": [],
   "source": [
    "sm_lims_egret = sm_hp.binned_limits(sm_mxs, egret_diffuse)\n",
    "sm_lims_comptel = sm_hp.binned_limits(sm_mxs, comptel_diffuse)\n",
    "sm_lims_fermi = sm_hp.binned_limits(sm_mxs, fermi_diffuse)"
   ]
  },
  {
   "cell_type": "code",
   "execution_count": null,
   "metadata": {},
   "outputs": [],
   "source": [
    "# sm_lims_cmb = sm_hp.cmb_limits(sm_mxs)"
   ]
  },
  {
   "cell_type": "markdown",
   "metadata": {},
   "source": [
    "### Save results"
   ]
  },
  {
   "cell_type": "code",
   "execution_count": null,
   "metadata": {},
   "outputs": [],
   "source": [
    "np.savetxt(\"data/sm_lims_egret.csv\",\n",
    "           np.array([sm_mxs, sm_lims_egret]).T,\n",
    "           delimiter=\",\",\n",
    "           header=\"Columns: mx (MeV), <sigma v> limit (cm^3/s)\")\n",
    "np.savetxt(\"data/sm_lims_comptel.csv\",\n",
    "           np.array([sm_mxs, sm_lims_comptel]).T,\n",
    "           delimiter=\",\",\n",
    "           header=\"Columns: mx (MeV), <sigma v> limit (cm^3/s)\")\n",
    "np.savetxt(\"data/sm_lims_fermi.csv\",\n",
    "           np.array([sm_mxs, sm_lims_fermi]).T,\n",
    "           delimiter=\",\",\n",
    "           header=\"Columns: mx (MeV), <sigma v> limit (cm^3/s)\")\n",
    "\n",
    "np.savetxt(\"data/sm_lims_e_astrogam.csv\",\n",
    "           np.array([sm_mxs, sm_lims_e_astrogam]).T,\n",
    "           delimiter=\",\",\n",
    "           header=\"Columns: mx (MeV), <sigma v> limit (cm^3/s)\")\n",
    "\n",
    "# np.savetxt(\"data/sm_lims_cmb.csv\",\n",
    "#            np.array([sm_mxs, sm_lims_cmb]).T,\n",
    "#            delimiter=\",\",\n",
    "#            header=\"Columns: mx (MeV), <sigma v> limit (cm^3/s)\")"
   ]
  },
  {
   "cell_type": "markdown",
   "metadata": {},
   "source": [
    "## Load previously computed constraints"
   ]
  },
  {
   "cell_type": "code",
   "execution_count": null,
   "metadata": {},
   "outputs": [],
   "source": [
    "# sm_mxs, sm_lims_egret = np.loadtxt(\"data/sm_lims_egret.csv\", delimiter=\",\").T\n",
    "# sm_mxs, sm_lims_comptel = np.loadtxt(\"data/sm_lims_comptel.csv\", delimiter=\",\").T\n",
    "# sm_mxs, sm_lims_fermi = np.loadtxt(\"data/sm_lims_fermi.csv\", delimiter=\",\").T\n",
    "# sm_mxs, sm_lims_e_astrogam = np.loadtxt(\"data/sm_lims_e_astrogam.csv\", delimiter=\",\").T\n",
    "sm_mxs, sm_lims_cmb = np.loadtxt(\"data/sm_lims_cmb.csv\", delimiter=\",\").T"
   ]
  },
  {
   "cell_type": "markdown",
   "metadata": {},
   "source": [
    "## Plot results"
   ]
  },
  {
   "cell_type": "code",
   "execution_count": null,
   "metadata": {},
   "outputs": [],
   "source": [
    "plt.figure(figsize=(8, 4))\n",
    "\n",
    "plt.plot(sm_mxs, sm_lims_comptel, label=\"COMPTEL\", color=colors[0])\n",
    "plt.plot(sm_mxs, sm_lims_egret, label=\"EGRET\", color=colors[1])\n",
    "plt.plot(sm_mxs, sm_lims_fermi, label=\"Fermi\", color=colors[2])\n",
    "plt.plot(sm_mxs, sm_lims_e_astrogam, label=\"e-ASTROGAM\", color=colors[3])\n",
    "plt.plot(sm_mxs, (1.0e-3 / vx_cmb(sm_mxs, x_kd=1e-6))**2 * sm_lims_cmb, label=r\"CMB, $x_{\\mathrm{kd}} = 10^{-6}$\", color=\"black\")\n",
    "# plt.plot(sm_mxs, (1.0e-3 / vx_cmb(sm_mxs, x_kd=1e-4))**2 * sm_lims_cmb, label=r\"CMB, $x_{\\mathrm{kd}} = 10^{-4}$\", color=\"black\")\n",
    "plt.plot(rd_mxs, rd_lims, '--', label=\"Thermal relic\", color=\"black\", alpha=0.4)\n",
    "\n",
    "plt.xlim(sm_mxs[[0, -1]])\n",
    "plt.ylim([1e-30,1e-23])\n",
    "# plt.xscale(\"log\")\n",
    "plt.yscale(\"log\")\n",
    "plt.grid()\n",
    "plt.xlabel(r\"$m_\\chi$ (MeV)\")\n",
    "plt.ylabel(r\"$\\langle \\sigma v \\rangle_0$ (cm$^3$/s)\")  #  * (v_\\chi / v_0)^2\n",
    "plt.title(\"Scalar mediator\")\n",
    "\n",
    "# Shrink current axis by 20%\n",
    "box = plt.gca().get_position()\n",
    "plt.gca().set_position([box.x0, box.y0, box.width * 0.8, box.height])\n",
    "# Put a legend to the right of the current axis\n",
    "plt.gca().legend(loc='center left', bbox_to_anchor=(1, 0.5))\n",
    "\n",
    "plt.savefig(\"figures/sm_sigmav_limits.pdf\")"
   ]
  },
  {
   "cell_type": "code",
   "execution_count": null,
   "metadata": {},
   "outputs": [],
   "source": [
    "import os\n",
    "os.system('say \"Done computing limits\"')"
   ]
  },
  {
   "cell_type": "markdown",
   "metadata": {},
   "source": [
    "# Vector mediator"
   ]
  },
  {
   "cell_type": "markdown",
   "metadata": {},
   "source": [
    "## Setup"
   ]
  },
  {
   "cell_type": "code",
   "execution_count": null,
   "metadata": {},
   "outputs": [],
   "source": [
    "vm = VectorMediator(mx=1., mv=1000., gvxx=1., gvuu=1., gvdd=0.2, gvss=0., gvee=0., gvmumu=0.)\n",
    "\n",
    "# Masses to scan over\n",
    "mx_min, mx_max, n_mxs = mpi0/2., 250., 100\n",
    "vm_mxs = np.linspace(mx_min, mx_max, n_mxs)"
   ]
  },
  {
   "cell_type": "markdown",
   "metadata": {},
   "source": [
    "## Recompute constraints"
   ]
  },
  {
   "cell_type": "code",
   "execution_count": null,
   "metadata": {},
   "outputs": [],
   "source": [
    "vm_lims_comptel = vm.binned_limits(vm_mxs, comptel_diffuse)\n",
    "vm_lims_egret = vm.binned_limits(vm_mxs, egret_diffuse)\n",
    "vm_lims_fermi = vm.binned_limits(vm_mxs, fermi_diffuse)"
   ]
  },
  {
   "cell_type": "code",
   "execution_count": null,
   "metadata": {},
   "outputs": [],
   "source": [
    "vm_lims_e_astrogam = vm.unbinned_limits(vm_mxs, target_params=gc_target, bg_model=gc_bg_model)"
   ]
  },
  {
   "cell_type": "code",
   "execution_count": null,
   "metadata": {},
   "outputs": [],
   "source": [
    "# vm_lims_cmb = vm.cmb_limits(vm_mxs)"
   ]
  },
  {
   "cell_type": "code",
   "execution_count": null,
   "metadata": {},
   "outputs": [],
   "source": [
    "# np.savetxt(\"data/vm_lims_comptel.csv\",\n",
    "#            np.array([vm_mxs, vm_lims_comptel]).T,\n",
    "#            delimiter=\",\",\n",
    "#            header=\"Columns: mx (MeV), <sigma v> limit (cm^3/s)\")\n",
    "# np.savetxt(\"data/vm_lims_egret.csv\",\n",
    "#            np.array([vm_mxs, vm_lims_egret]).T,\n",
    "#            delimiter=\",\",\n",
    "#            header=\"Columns: mx (MeV), <sigma v> limit (cm^3/s)\")\n",
    "# np.savetxt(\"data/vm_lims_fermi.csv\",\n",
    "#            np.array([vm_mxs, vm_lims_fermi]).T,\n",
    "#            delimiter=\",\",\n",
    "#            header=\"Columns: mx (MeV), <sigma v> limit (cm^3/s)\")\n",
    "# np.savetxt(\"data/vm_lims_e_astrogam.csv\",\n",
    "#            np.array([vm_mxs, vm_lims_e_astrogam]).T,\n",
    "#            delimiter=\",\",\n",
    "#            header=\"Columns: mx (MeV), <sigma v> limit (cm^3/s)\")\n",
    "\n",
    "# np.savetxt(\"data/vm_lims_cmb.csv\",\n",
    "#            np.array([vm_mxs, vm_lims_cmb]).T,\n",
    "#            delimiter=\",\",\n",
    "#            header=\"Columns: mx (MeV), <sigma v> limit (cm^3/s)\")"
   ]
  },
  {
   "cell_type": "markdown",
   "metadata": {},
   "source": [
    "## Load previously computed constraints"
   ]
  },
  {
   "cell_type": "code",
   "execution_count": null,
   "metadata": {},
   "outputs": [],
   "source": [
    "vm_mxs, vm_lims_egret = np.loadtxt(\"data/vm_lims_egret.csv\", delimiter=\",\").T\n",
    "vm_mxs, vm_lims_comptel = np.loadtxt(\"data/vm_lims_comptel.csv\", delimiter=\",\").T\n",
    "vm_mxs, vm_lims_fermi = np.loadtxt(\"data/vm_lims_fermi.csv\", delimiter=\",\").T\n",
    "vm_mxs, vm_lims_e_astrogam = np.loadtxt(\"data/vm_lims_e_astrogam.csv\", delimiter=\",\").T\n",
    "vm_mxs, vm_lims_cmb = np.loadtxt(\"data/vm_lims_cmb.csv\", delimiter=\",\").T"
   ]
  },
  {
   "cell_type": "markdown",
   "metadata": {},
   "source": [
    "## Plot results"
   ]
  },
  {
   "cell_type": "code",
   "execution_count": null,
   "metadata": {},
   "outputs": [],
   "source": [
    "plt.figure(figsize=(8, 4))\n",
    "\n",
    "plt.plot(vm_mxs, vm_lims_comptel, label=\"COMPTEL\", color=colors[0])\n",
    "plt.plot(vm_mxs, vm_lims_egret, label=\"EGRET\", color=colors[1])\n",
    "plt.plot(vm_mxs, vm_lims_fermi, label=\"Fermi\", color=colors[2])\n",
    "plt.plot(vm_mxs, vm_lims_e_astrogam, label=\"e-ASTROGAM\", color=colors[3])\n",
    "plt.plot(vm_mxs, vm_lims_cmb, label=\"CMB\", color=\"black\")\n",
    "plt.plot(rd_mxs, rd_lims, '--', label=\"Thermal relic\", color=\"black\", alpha=0.4)\n",
    "\n",
    "plt.xlim(vm_mxs[[1, -1]])\n",
    "plt.ylim([1e-31,1e-23])\n",
    "plt.xscale(\"linear\")\n",
    "plt.yscale(\"log\")\n",
    "plt.grid()\n",
    "plt.xlabel(r\"$m_\\chi$ (MeV)\")\n",
    "plt.ylabel(r\"$\\langle \\sigma v \\rangle_0$ (cm$^3$/s)\")\n",
    "plt.title(r\"Vector mediator, $g_{Vuu} = %i g_{Vdd}$\" % (vm.gvuu/vm.gvdd))\n",
    "\n",
    "# Shrink current axis by 20%\n",
    "box = plt.gca().get_position()\n",
    "plt.gca().set_position([box.x0, box.y0, box.width * 0.8, box.height])\n",
    "# Put a legend to the right of the current axis\n",
    "plt.gca().legend(loc='center left', bbox_to_anchor=(1, 0.5))\n",
    "\n",
    "# plt.savefig(\"figures/vm_sigmav_limits.pdf\")"
   ]
  },
  {
   "cell_type": "code",
   "execution_count": null,
   "metadata": {},
   "outputs": [],
   "source": [
    "import os\n",
    "os.system('say \"Done computing limits\"')"
   ]
  },
  {
   "cell_type": "markdown",
   "metadata": {},
   "source": [
    "## Scratch: checking detected spectrum"
   ]
  },
  {
   "cell_type": "code",
   "execution_count": null,
   "metadata": {},
   "outputs": [],
   "source": [
    "e_gam_min, e_gam_max, n_e_gams = 10, 1000., 200\n",
    "e_gams = np.logspace(np.log10(e_gam_min), np.log10(e_gam_max), n_e_gams)\n",
    "\n",
    "vm = VectorMediator(mx=100., mv=1000., gvxx=1., gvuu=1., gvdd=0.2, gvss=0., gvee=0., gvmumu=0.)\n",
    "e_cm = 2.*vm.mx*(1+0.5*1e-6)\n",
    "\n",
    "dndes_det_fermi = get_detected_spectrum(lambda es, e_cm: vm.spectra(es, e_cm)[\"total\"],\n",
    "                                        vm.gamma_ray_lines,\n",
    "                                        10, 1000, e_cm, energy_res_fermi)\n",
    "\n",
    "dndes_det_e_a = get_detected_spectrum(lambda es, e_cm: vm.spectra(es, e_cm)[\"total\"],\n",
    "                                      vm.gamma_ray_lines,\n",
    "                                      10, 1000, e_cm, energy_res_e_astrogam)\n",
    "\n",
    "plt.plot(e_gams, vm.spectra(e_gams, e_cm)[\"total\"])\n",
    "plt.plot(e_gams, dndes_det_fermi(e_gams), '--', label=\"Fermi\")\n",
    "plt.plot(e_gams, dndes_det_e_a(e_gams), '--', label=\"e-ASTROGAM\")\n",
    "plt.axvline(vm.gamma_ray_lines(e_cm)[\"pi0 g\"][\"energy\"], color='k')\n",
    "\n",
    "plt.xlim(10, 200)\n",
    "plt.ylim(1e-4, 3e-1)\n",
    "plt.legend()\n",
    "plt.yscale(\"log\")"
   ]
  },
  {
   "cell_type": "markdown",
   "metadata": {},
   "source": [
    "## Look out how constraints vary with couplings"
   ]
  },
  {
   "cell_type": "code",
   "execution_count": null,
   "metadata": {},
   "outputs": [],
   "source": [
    "vm = VectorMediator(mx=1., mv=1000., gvxx=1., gvuu=1., gvdd=0.2, gvss=0., gvee=0., gvmumu=0.)\n",
    "\n",
    "# Masses to scan over\n",
    "mx_min, mx_max, n_mxs = mpi0/2., 250., 30\n",
    "vm_mxs = np.linspace(mx_min, mx_max, n_mxs)\n",
    "\n",
    "# Couplings to scan over\n",
    "# gvdds = np.linspace(-0.5, 1.5, 5)\n",
    "gvdds = np.array([-0.5, 0.9, 1., 2.])"
   ]
  },
  {
   "cell_type": "code",
   "execution_count": null,
   "metadata": {},
   "outputs": [],
   "source": [
    "# Compute EGRET limits for the different couplings\n",
    "# vm_lims_egret_gvdd = []\n",
    "\n",
    "for gvdd in gvdds[2:]:\n",
    "    print \"gvdd = %f\" % gvdd\n",
    "    vm.gvdd = gvdd\n",
    "    vm_lims_egret_gvdd.append(vm.binned_limits(mxs, egret_diffuse))"
   ]
  },
  {
   "cell_type": "code",
   "execution_count": null,
   "metadata": {},
   "outputs": [],
   "source": [
    "# Set up the colormap\n",
    "import matplotlib.cm as cm\n",
    "from matplotlib.colors import Normalize\n",
    "\n",
    "cmap = cm.viridis\n",
    "norm = Normalize(vmin=gvdds[0], vmax=gvdds[-1])\n",
    "m = cm.ScalarMappable(norm=norm, cmap=cmap)"
   ]
  },
  {
   "cell_type": "code",
   "execution_count": null,
   "metadata": {},
   "outputs": [],
   "source": [
    "plt.figure(figsize=(8, 4))\n",
    "\n",
    "for gvdd, lims in zip(gvdds, vm_lims_egret_gvdd):\n",
    "    plt.plot(mxs, lims, label=r\"$g_{Vdd}=%.1f$\" % gvdd,\n",
    "             color=m.to_rgba(gvdd))\n",
    "\n",
    "# Formatting\n",
    "plt.xlim(mxs[[0, -1]])\n",
    "plt.ylim([1e-31,1e-23])\n",
    "plt.xscale(\"linear\")\n",
    "plt.yscale(\"log\")\n",
    "plt.grid()\n",
    "plt.xlabel(r\"$m_\\chi$ (MeV)\")\n",
    "plt.ylabel(r\"$\\langle \\sigma v \\rangle$ (cm$^3$/s)\")\n",
    "plt.title(\"Vector mediator\")\n",
    "\n",
    "# Shrink current axis by 20%\n",
    "box = plt.gca().get_position()\n",
    "plt.gca().set_position([box.x0, box.y0, box.width * 0.8, box.height])\n",
    "# Put a legend to the right of the current axis\n",
    "plt.gca().legend(loc='center left', bbox_to_anchor=(1, 0.5))"
   ]
  },
  {
   "cell_type": "markdown",
   "metadata": {},
   "source": [
    "# Scratch/testing"
   ]
  },
  {
   "cell_type": "code",
   "execution_count": null,
   "metadata": {},
   "outputs": [],
   "source": [
    "from hazma.gamma_ray_limits.compute_limits import get_detected_spectrum\n",
    "from hazma.gamma_ray_limits.gamma_ray_limit_parameters import energy_res_comptel\n",
    "import matplotlib.cm as cm\n",
    "from matplotlib.colors import Normalize\n",
    "\n",
    "vm = VectorMediator(mx=1., mv=201., gvxx=1., gvuu=1., gvdd=0.2, gvss=0., gvee=0., gvmumu=0.)\n",
    "\n",
    "# mx_min, mx_max, n_mxs = 70, 200., 4\n",
    "# mxs = np.logspace(np.log10(mx_min), np.log10(mx_max), n_mxs)\n",
    "mxs = np.array([100.])\n",
    "\n",
    "cmap = cm.viridis\n",
    "norm = Normalize(vmin=np.log10(mxs[0]), vmax=np.log10(mxs[-1]))\n",
    "\n",
    "e_gams = np.logspace(0, np.log10(300), 300)\n",
    "\n",
    "for mx in mxs:\n",
    "    vm.mx = mx\n",
    "    e_cm = 2.*vm.mx*(1.+0.5*1e-6)\n",
    "\n",
    "    dnde_det = get_detected_spectrum(e_gams, vm.spectra(e_gams, e_cm)[\"total\"], *vm.gamma_ray_lines(e_cm), energy_res=energy_res_comptel)\n",
    "    \n",
    "    plt.loglog(e_gams, dnde_det(e_gams), color=cmap(norm(np.log10(mx))), label=\"%.1f\" % mx)\n",
    "    \n",
    "plt.legend()\n",
    "plt.ylim(1e-10, 1e0)"
   ]
  },
  {
   "cell_type": "code",
   "execution_count": null,
   "metadata": {},
   "outputs": [],
   "source": [
    "for fm in [comptel_diffuse, egret_diffuse, fermi_diffuse]:\n",
    "    print fm.bins[0][0], fm.bins[-1][-1]"
   ]
  },
  {
   "cell_type": "code",
   "execution_count": null,
   "metadata": {},
   "outputs": [],
   "source": [
    "from hazma.gamma_ray_limits.compute_limits import get_detected_spectrum\n",
    "\n",
    "mx = 200.\n",
    "vm.mx = mx\n",
    "e_cm = 2.*vm.mx * (1. + 0.5*1e-6)\n",
    "\n",
    "e_gams = np.logspace(np.log10(A_eff_e_astrogam.x[0])-1,\n",
    "                     np.log10(A_eff_e_astrogam.x[-1])+1, 75)\n",
    "dndes = vm.spectra(e_gams, e_cm)[\"total\"]\n",
    "\n",
    "dnde_det = get_detected_spectrum(e_gams, dndes, *vm.gamma_ray_lines(e_cm), energy_res=energy_res_e_astrogam)"
   ]
  },
  {
   "cell_type": "code",
   "execution_count": null,
   "metadata": {},
   "outputs": [],
   "source": [
    "e_min = max(A_eff_e_astrogam.x[0],\n",
    "            dnde_det.x[np.where(dnde_det.y)[0][0]])\n",
    "e_max = min(A_eff_e_astrogam.x[-1],\n",
    "            dnde_det.x[np.where(dnde_det.y)[0][-1]])\n",
    "e_dnde_max = dnde_det.x[np.argmax(dnde_det.y)]\n",
    "print(e_min, e_max, e_dnde_max)\n",
    "\n",
    "e_a_0 = 10.**(0.5 * (np.log10(e_dnde_max) + np.log10(e_min)))\n",
    "e_b_0 = 10.**(0.5 * (np.log10(e_max) + np.log10(e_dnde_max)))"
   ]
  },
  {
   "cell_type": "code",
   "execution_count": null,
   "metadata": {},
   "outputs": [],
   "source": [
    "plt.loglog(e_gams, dnde_det(e_gams))\n",
    "plt.loglog(2*[e_a_0], [1e-100, 1e0])\n",
    "plt.loglog(2*[e_b_0], [1e-100, 1e0])"
   ]
  },
  {
   "cell_type": "code",
   "execution_count": null,
   "metadata": {},
   "outputs": [],
   "source": []
  }
 ],
 "metadata": {
  "language_info": {
   "name": "python",
   "pygments_lexer": "ipython3"
  }
 },
 "nbformat": 4,
 "nbformat_minor": 2
}
