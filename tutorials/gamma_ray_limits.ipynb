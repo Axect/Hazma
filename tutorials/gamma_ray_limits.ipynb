{
 "cells": [
  {
   "cell_type": "code",
   "execution_count": 1,
   "metadata": {
    "scrolled": true
   },
   "outputs": [],
   "source": [
    "import matplotlib.pyplot as plt\n",
    "import numpy as np\n",
    "\n",
    "from hazma.scalar_mediator import ScalarMediator\n",
    "from hazma.vector_mediator import VectorMediator\n",
    "from hazma.parameters import neutral_pion_mass as mpi0\n",
    "from hazma.gamma_ray_limits.gamma_ray_limit_parameters import (energy_res_e_astrogam,\n",
    "                                                               A_eff_e_astrogam,\n",
    "                                                               A_eff_comptel,\n",
    "                                                               egret_diffuse,\n",
    "                                                               fermi_diffuse,\n",
    "                                                               comptel_diffuse,\n",
    "                                                               gc_bg_model_target,\n",
    "                                                               gc_bg_model)\n",
    "from hazma.gamma_ray_limits.compute_limits import get_detected_spectrum\n",
    "\n",
    "colors = 2*[c[\"color\"] for c in plt.rcParams[\"axes.prop_cycle\"]]"
   ]
  },
  {
   "cell_type": "markdown",
   "metadata": {},
   "source": [
    "## Load relic density curve"
   ]
  },
  {
   "cell_type": "code",
   "execution_count": 2,
   "metadata": {
    "collapsed": true
   },
   "outputs": [],
   "source": [
    "rd_mxs, rd_lims = np.loadtxt(\"relic_abundance.dat\", delimiter=\",\").T\n",
    "rd_mxs = 1e3*10.**rd_mxs  # convert GeV -> MeV\n",
    "rd_lims = 10.**rd_lims"
   ]
  },
  {
   "cell_type": "markdown",
   "metadata": {},
   "source": [
    "# Scalar mediator"
   ]
  },
  {
   "cell_type": "markdown",
   "metadata": {},
   "source": [
    "## Setup"
   ]
  },
  {
   "cell_type": "code",
   "execution_count": 3,
   "metadata": {
    "collapsed": true
   },
   "outputs": [],
   "source": [
    "s_theta = 0.5\n",
    "sm_hp = ScalarMediator(mx=1., ms=1000., gsxx=1.0, gsff=s_theta, gsGG=s_theta, gsFF=-s_theta)\n",
    "\n",
    "# Masses to scan over\n",
    "mx_min, mx_max, n_mxs = mpi0/2., 250., 3  # 100\n",
    "sm_mxs = np.linspace(mx_min, mx_max, n_mxs)"
   ]
  },
  {
   "cell_type": "markdown",
   "metadata": {},
   "source": [
    "## Recompute constraints"
   ]
  },
  {
   "cell_type": "code",
   "execution_count": 4,
   "metadata": {
    "scrolled": true
   },
   "outputs": [
    {
     "name": "stdout",
     "output_type": "stream",
     "text": [
      "('I_S error:', 3.1317860888837024e-06)\n",
      "('I_B error:', 0.00010155012645667548)\n",
      "('I_S error:', 1.5174194686846479e-05)\n",
      "('I_B error:', 0.0001480804643673645)\n",
      "('I_S error:', 1.637840060090125e-05)\n",
      "('I_B error:', 0.001042143350489294)\n",
      "('I_S error:', 0.00023649184897570248)\n",
      "('I_B error:', 0.0008326257937138686)\n",
      "('I_S error:', 0.000722229391547487)\n",
      "('I_B error:', 0.004401077320632413)\n",
      "('I_S error:', 0.0005333429705789206)\n",
      "('I_B error:', 0.009107418415804888)\n",
      "('I_S error:', 6.670726428561758e-05)\n",
      "('I_B error:', 0.004242594532432006)\n",
      "('I_S error:', 1.5627791018043148e-11)\n",
      "('I_B error:', 5.32363227646462e-11)\n",
      "('I_S error:', 1.0711351217084571e-05)\n",
      "('I_B error:', 0.006732703988844525)\n",
      "('I_S error:', 2.2948291354333418e-11)\n",
      "('I_B error:', 7.688050294266371e-11)\n",
      "('I_S error:', 7.085654320407462e-05)\n",
      "('I_B error:', 0.003015907336473218)\n",
      "('I_S error:', 1.8590683706758858e-11)\n",
      "('I_B error:', 6.203118309731464e-11)\n",
      "('I_S error:', 6.468500225112945e-05)\n",
      "('I_B error:', 0.0036763602158519583)\n",
      "('I_S error:', 1.5065439748962966e-11)\n",
      "('I_B error:', 5.02288270001688e-11)\n",
      "('I_S error:', 3.422442319690388e-05)\n",
      "('I_B error:', 0.0013035193896036128)\n",
      "('I_S error:', 8.351099061328783e-12)\n",
      "('I_B error:', 2.783194734932719e-11)\n",
      "('I_S error:', 1.0267404682429389e-06)\n",
      "('I_B error:', 0.001455772845773793)\n",
      "('I_S error:', 9.257149038989897e-09)\n",
      "('I_B error:', 3.105828269043909e-08)\n",
      "('I_S error:', 1.0625535680768518e-06)\n",
      "('I_B error:', 0.0015448520781584805)\n",
      "('I_S error:', 1.2998423132462126e-05)\n",
      "('I_B error:', 0.0016442217828417003)\n",
      "('I_S error:', 3.072257237007296e-07)\n",
      "('I_B error:', 0.0005768351179281261)\n",
      "('I_S error:', 6.167732971535738e-05)\n",
      "('I_B error:', 0.0004193407204295656)\n",
      "('I_S error:', 4.912654633784645e-05)\n",
      "('I_B error:', 9.429812735352397e-06)\n",
      "('I_S error:', 0.00016076416544940717)\n",
      "('I_B error:', 8.122797670266653e-05)\n",
      "('I_S error:', 2.546737376347749e-06)\n",
      "('I_B error:', 5.5036921771314564e-08)\n",
      "('I_S error:', 0.00023151045830008206)\n",
      "('I_B error:', 9.807406589503447e-05)\n",
      "('I_S error:', 0.00021805529750246414)\n",
      "('I_B error:', 6.908366899127742e-05)\n",
      "('I_S error:', 0.0002663086096481388)\n",
      "('I_B error:', 4.58139608148945e-06)\n",
      "('I_S error:', 0.0002849812463909178)\n",
      "('I_B error:', 2.7672418959460803e-06)\n",
      "('I_S error:', 0.00029023118239971546)\n",
      "('I_B error:', 6.465306372190189e-06)\n",
      "('I_S error:', 0.00022755329905279196)\n",
      "('I_B error:', 5.995520927571857e-05)\n",
      "('I_S error:', 0.0002596788608180214)\n",
      "('I_B error:', 5.900376064431929e-05)\n",
      "('I_S error:', 0.0002613795394869379)\n",
      "('I_B error:', 5.927275055335909e-05)\n",
      "('I_S error:', 3.1317860888837024e-06)\n",
      "('I_B error:', 0.00010155012645667548)\n",
      "('I_S error:', 1.5174194686846479e-05)\n",
      "('I_B error:', 0.0001480804643673645)\n",
      "('I_S error:', 1.637840060090125e-05)\n",
      "('I_B error:', 0.001042143350489294)\n",
      "('I_S error:', 0.00023649184897570248)\n",
      "('I_B error:', 0.0008326257937138686)\n",
      "('I_S error:', 0.000722229391547487)\n",
      "('I_B error:', 0.004401077320632413)\n",
      "('I_S error:', 0.0005333429705789206)\n",
      "('I_B error:', 0.009107418415804888)\n",
      "('I_S error:', 6.670726428561758e-05)\n",
      "('I_B error:', 0.004242594532432006)\n",
      "('I_S error:', 1.5627791018043148e-11)\n",
      "('I_B error:', 5.32363227646462e-11)\n",
      "('I_S error:', 1.0711351217084571e-05)\n",
      "('I_B error:', 0.006732703988844525)\n",
      "('I_S error:', 2.2948291354333418e-11)\n",
      "('I_B error:', 7.688050294266371e-11)\n",
      "('I_S error:', 7.085654320407462e-05)\n",
      "('I_B error:', 0.003015907336473218)\n",
      "('I_S error:', 1.8590683706758858e-11)\n",
      "('I_B error:', 6.203118309731464e-11)\n",
      "('I_S error:', 6.468500225112945e-05)\n",
      "('I_B error:', 0.0036763602158519583)\n",
      "('I_S error:', 1.5065439748962966e-11)\n",
      "('I_B error:', 5.02288270001688e-11)\n",
      "('I_S error:', 3.422442319690388e-05)\n",
      "('I_B error:', 0.0013035193896036128)\n",
      "('I_S error:', 8.351099061328783e-12)\n",
      "('I_B error:', 2.783194734932719e-11)\n",
      "('I_S error:', 1.0267404682429389e-06)\n",
      "('I_B error:', 0.001455772845773793)\n",
      "('I_S error:', 9.257149038989897e-09)\n",
      "('I_B error:', 3.105828269043909e-08)\n",
      "('I_S error:', 1.0625535680768518e-06)\n",
      "('I_B error:', 0.0015448520781584805)\n",
      "('I_S error:', 1.2998423132462126e-05)\n",
      "('I_B error:', 0.0016442217828417003)\n",
      "('I_S error:', 3.072257237007296e-07)\n",
      "('I_B error:', 0.0005768351179281261)\n",
      "('I_S error:', 6.167732971535738e-05)\n",
      "('I_B error:', 0.0004193407204295656)\n",
      "('I_S error:', 4.912654633784645e-05)\n",
      "('I_B error:', 9.429812735352397e-06)\n",
      "('I_S error:', 0.00016076416544940717)\n",
      "('I_B error:', 8.122797670266653e-05)\n",
      "('I_S error:', 2.546737376347749e-06)\n",
      "('I_B error:', 5.5036921771314564e-08)\n",
      "('I_S error:', 0.00023151045830008206)\n",
      "('I_B error:', 9.807406589503447e-05)\n",
      "('I_S error:', 0.00021805529750246414)\n",
      "('I_B error:', 6.908366899127742e-05)\n",
      "('I_S error:', 0.0002663086096481388)\n",
      "('I_B error:', 4.58139608148945e-06)\n",
      "('I_S error:', 0.0002849812463909178)\n",
      "('I_B error:', 2.7672418959460803e-06)\n",
      "('I_S error:', 0.00029023118239971546)\n",
      "('I_B error:', 6.465306372190189e-06)\n",
      "('I_S error:', 0.00022755329905279196)\n",
      "('I_B error:', 5.995520927571857e-05)\n",
      "('I_S error:', 0.0002596788608180214)\n",
      "('I_B error:', 5.900376064431929e-05)\n",
      "('I_S error:', 0.0002613795394869379)\n",
      "('I_B error:', 5.927275055335909e-05)\n"
     ]
    },
    {
     "name": "stderr",
     "output_type": "stream",
     "text": [
      "/Users/acoogan/Dropbox/Physics/Sub-GeV_DM/Hazma/hazma/gamma_ray_limits/compute_limits.py:102: RuntimeWarning: invalid value encountered in sqrt\n",
      "  df_de_a = A_eff(e_a)/np.sqrt(I_B_val) * (dnde(e_a) -\n",
      "/Users/acoogan/Dropbox/Physics/Sub-GeV_DM/Hazma/hazma/gamma_ray_limits/compute_limits.py:105: RuntimeWarning: invalid value encountered in sqrt\n",
      "  df_de_b = -A_eff(e_b)/np.sqrt(I_B_val) * (dnde(e_b) -\n",
      "/Users/acoogan/Dropbox/Physics/Sub-GeV_DM/Hazma/hazma/gamma_ray_limits/compute_limits.py:110: RuntimeWarning: invalid value encountered in sqrt\n",
      "  return -I_S_val/np.sqrt(I_B_val), jac_val\n",
      "/Users/acoogan/Dropbox/Physics/Sub-GeV_DM/Hazma/hazma/scalar_mediator/scalar_mediator_spectra.py:80: RuntimeWarning: invalid value encountered in sqrt\n",
      "  return 2. * dnde_decay_s(egams, eng_s, ms, pw_array, mode)\n"
     ]
    },
    {
     "name": "stdout",
     "output_type": "stream",
     "text": [
      "('I_S error:', 8.827561945465914e-06)\n",
      "('I_B error:', 0.00010155012645667548)\n",
      "('I_S error:', 2.6735364672430024e-05)\n",
      "('I_B error:', 8.632301311514128e-05)\n",
      "('I_S error:', 9.423782781019299e-05)\n",
      "('I_B error:', 0.0006321156171642822)\n",
      "('I_S error:', 0.0032107090708476645)\n",
      "('I_B error:', 0.004884966147853988)\n",
      "('I_S error:', 6.251750021595007)\n",
      "('I_B error:', 46.076189188089494)\n",
      "('I_S error:', 0.003230277427446457)\n",
      "('I_B error:', 0.761869034991153)\n",
      "('I_S error:', 0.0004624340859051056)\n",
      "('I_B error:', 0.813941072371658)\n",
      "('I_S error:', 4.4707075099906265e-06)\n",
      "('I_B error:', 0.9708187441433364)\n",
      "('I_S error:', 0.00046532563826746166)\n",
      "('I_B error:', 0.6361954656015572)\n",
      "('I_S error:', 0.001798022174021932)\n",
      "('I_B error:', 1.2010663222294822)\n",
      "('I_S error:', 0.0010801781475239258)\n",
      "('I_B error:', 0.5085751098174415)\n",
      "('I_S error:', 0.0014191927323040038)\n",
      "('I_B error:', 0.5529308394442929)\n",
      "('I_S error:', 0.02367501408443117)\n",
      "('I_B error:', 0.7785018608322295)\n",
      "('I_S error:', 0.4078403411068193)\n",
      "('I_B error:', 0.2413088125095241)\n",
      "('I_S error:', 0.4092121276148808)\n",
      "('I_B error:', 0.27386524634217285)\n",
      "('I_S error:', 0.4185752933836067)\n",
      "('I_B error:', 0.26357451194371695)\n",
      "('I_S error:', 0.4128689702483738)\n",
      "('I_B error:', 0.2598541595808547)\n",
      "('I_S error:', 0.38015513133756723)\n",
      "('I_B error:', 0.239253314010036)\n",
      "('I_S error:', 0.14406376115512162)\n",
      "('I_B error:', 0.09149373888990019)\n",
      "('I_S error:', 1.9250030003206452e-07)\n",
      "('I_B error:', 1.1736478643484625e-07)\n",
      "('I_S error:', 0.11670536186339651)\n",
      "('I_B error:', 0.07451485037019497)\n",
      "('I_S error:', 1.9211783103935593e-07)\n",
      "('I_B error:', 9.507770337850462e-08)\n",
      "('I_S error:', 0.09455671414705259)\n",
      "('I_B error:', 0.060762739688147174)\n",
      "('I_S error:', 1.884260373457599e-07)\n",
      "('I_B error:', 7.692669261556407e-08)\n",
      "('I_S error:', 0.07661435100249409)\n",
      "('I_B error:', 0.04958119641859768)\n",
      "('I_S error:', 1.0203149207210189e-07)\n",
      "('I_B error:', 3.147687244741659e-07)\n",
      "('I_S error:', 0.06208355010967663)\n",
      "('I_B error:', 0.04049040665162772)\n",
      "('I_S error:', 0.017375146109599362)\n",
      "('I_B error:', 0.012267173620207955)\n",
      "('I_S error:', 213.8230422282023)\n",
      "('I_B error:', 1661.6107309589074)\n",
      "('I_S error:', 0.019167292427931838)\n",
      "('I_B error:', 0.0008852847208518722)\n",
      "('I_S error:', 0.012148126450767767)\n",
      "('I_B error:', 0.004428397452414801)\n",
      "('I_S error:', 0.01722678649810281)\n",
      "('I_B error:', 0.013217984846977218)\n",
      "('I_S error:', 0.01694297878398009)\n",
      "('I_B error:', 0.012841718441739567)\n",
      "('I_S error:', 0.016953338310246736)\n",
      "('I_B error:', 0.012869126433541487)\n",
      "('I_S error:', 0.016856951797168587)\n",
      "('I_B error:', 0.01281937934367088)\n",
      "('I_S error:', 0.016263854472478453)\n",
      "('I_B error:', 0.012424356023580009)\n",
      "('I_S error:', 0.013306189007945005)\n",
      "('I_B error:', 0.01035740679906178)\n",
      "('I_S error:', 0.0014890425493198974)\n",
      "('I_B error:', 0.0017237586273262414)\n",
      "('I_S error:', 1.2006311573950318e-10)\n",
      "('I_B error:', 4.2553259370932206e-11)\n",
      "('I_S error:', 0.0012299465469350756)\n",
      "('I_B error:', 0.0014487017600485156)\n",
      "('I_S error:', 9.399574362984828e-11)\n",
      "('I_B error:', 3.430356130913554e-11)\n",
      "('I_S error:', 0.0010224900587762946)\n",
      "('I_B error:', 0.0012452943095900256)\n",
      "('I_S error:', 6.6878275803953e-11)\n",
      "('I_B error:', 2.4769675633915816e-11)\n",
      "('I_S error:', 0.0008614680487375302)\n",
      "('I_B error:', 0.0010743698109549125)\n",
      "('I_S error:', 3.517908105024766e-13)\n",
      "('I_B error:', 1.0018554313193173e-12)\n",
      "('I_S error:', 0.0007067318182605022)\n",
      "('I_B error:', 0.00017616552906131518)\n",
      "('I_S error:', 0.0003646414920493787)\n",
      "('I_B error:', 0.00013613796091872332)\n",
      "('I_S error:', 0.0005708460207227559)\n",
      "('I_B error:', 0.0001756588924291015)\n",
      "('I_S error:', 0.0004653193839935822)\n",
      "('I_B error:', 0.00023142800326044966)\n",
      "('I_S error:', 0.0005257221563415252)\n",
      "('I_B error:', 0.00020762118206180369)\n",
      "('I_S error:', 0.0005029445572155657)\n",
      "('I_B error:', 0.0001976486055369437)\n",
      "('I_S error:', 0.0005148492272413742)\n",
      "('I_B error:', 0.00020287053522041534)\n",
      "('I_S error:', 0.0005148926998653801)\n",
      "('I_B error:', 0.00020250622661377763)\n",
      "('I_S error:', 0.0004029719585438313)\n",
      "('I_B error:', 0.00010155012645667548)\n",
      "('I_S error:', 0.00017771863867217696)\n",
      "('I_B error:', 0.00042001005770066674)\n",
      "('I_S error:', 0.0002760349842086175)\n",
      "('I_B error:', 0.0005448080654898327)\n",
      "('I_S error:', 0.00010052075836705647)\n",
      "('I_B error:', 0.0002126242052429853)\n",
      "('I_S error:', 4.8090184745671054e-05)\n",
      "('I_B error:', 0.0002371670038746576)\n",
      "('I_S error:', 0.00013294877399635263)\n",
      "('I_B error:', 0.000438555810017412)\n",
      "('I_S error:', 0.00011583423036587788)\n",
      "('I_B error:', 0.00021595215761754602)\n",
      "('I_S error:', 0.00014076598593111637)\n",
      "('I_B error:', 0.0001669961283959703)\n",
      "('I_S error:', 0.00013609417073865394)\n",
      "('I_B error:', 0.00017731231730501698)\n",
      "('I_S error:', 9.6327239105982e-05)\n",
      "('I_B error:', 0.0004904957441531154)\n",
      "('I_S error:', 8.237996450603269e-05)\n",
      "('I_B error:', 0.0011154092262183565)\n",
      "('I_S error:', 8.554594998795089e-05)\n",
      "('I_B error:', 0.001150781176288153)\n",
      "('I_S error:', 7.064988950749658e-05)\n",
      "('I_B error:', 0.0011835886502197736)\n",
      "('I_S error:', 7.084185665185044e-05)\n",
      "('I_B error:', 0.001186017409019561)\n",
      "('I_S error:', 7.088252880346234e-05)\n",
      "('I_B error:', 0.0011865612719957634)\n",
      "('I_S error:', 7.085292904682293e-05)\n",
      "('I_B error:', 0.0011861653889239244)\n",
      "1.109322 seconds\n"
     ]
    }
   ],
   "source": [
    "import time\n",
    "\n",
    "t_i = time.time()\n",
    "\n",
    "sm_lims_e_astrogam = sm_hp.unbinned_limits(sm_mxs, target_params=gc_bg_model_target, bg_model=gc_bg_model, A_eff=A_eff_e_astrogam)\n",
    "\n",
    "t_f = time.time()\n",
    "print(\"%f seconds\" % (t_f - t_i))"
   ]
  },
  {
   "cell_type": "code",
   "execution_count": 5,
   "metadata": {},
   "outputs": [
    {
     "data": {
      "text/plain": [
       "array([2.42996394e-29, 7.10807527e-30, 2.07499860e-29])"
      ]
     },
     "execution_count": 5,
     "metadata": {},
     "output_type": "execute_result"
    }
   ],
   "source": [
    "sm_lims_e_astrogam"
   ]
  },
  {
   "cell_type": "code",
   "execution_count": 10,
   "metadata": {},
   "outputs": [
    {
     "name": "stdout",
     "output_type": "stream",
     "text": [
      "98.944903 seconds\n"
     ]
    }
   ],
   "source": [
    "import time\n",
    "\n",
    "t_i = time.time()\n",
    "\n",
    "sm_lims_egret = sm_hp.binned_limits(sm_mxs, egret_diffuse)\n",
    "sm_lims_comptel = sm_hp.binned_limits(sm_mxs, comptel_diffuse)\n",
    "sm_lims_fermi = sm_hp.binned_limits(sm_mxs, fermi_diffuse)\n",
    "\n",
    "t_f = time.time()\n",
    "print(\"%f seconds\" % (t_f - t_i))"
   ]
  },
  {
   "cell_type": "code",
   "execution_count": 18,
   "metadata": {},
   "outputs": [],
   "source": [
    "sm_lims_cmb = sm_hp.cmb_limits(sm_mxs)"
   ]
  },
  {
   "cell_type": "code",
   "execution_count": 27,
   "metadata": {
    "collapsed": true
   },
   "outputs": [],
   "source": [
    "sm_lims_cmb_alternate = sm_hp.cmb_limits(sm_mxs, x_kd=1.0e-6)"
   ]
  },
  {
   "cell_type": "markdown",
   "metadata": {
    "heading_collapsed": true
   },
   "source": [
    "### Save results"
   ]
  },
  {
   "cell_type": "code",
   "execution_count": 20,
   "metadata": {
    "hidden": true
   },
   "outputs": [],
   "source": [
    "# np.savetxt(\"data/sm_lims_egret.csv\",\n",
    "#            np.array([sm_mxs, sm_lims_egret]).T,\n",
    "#            delimiter=\",\",\n",
    "#            header=\"Columns: mx (MeV), <sigma v> limit (cm^3/s)\")\n",
    "# np.savetxt(\"data/sm_lims_comptel.csv\",\n",
    "#            np.array([sm_mxs, sm_lims_comptel]).T,\n",
    "#            delimiter=\",\",\n",
    "#            header=\"Columns: mx (MeV), <sigma v> limit (cm^3/s)\")\n",
    "# np.savetxt(\"data/sm_lims_fermi.csv\",\n",
    "#            np.array([sm_mxs, sm_lims_fermi]).T,\n",
    "#            delimiter=\",\",\n",
    "#            header=\"Columns: mx (MeV), <sigma v> limit (cm^3/s)\")\n",
    "\n",
    "# np.savetxt(\"data/sm_lims_e_astrogam.csv\",\n",
    "#            np.array([sm_mxs, sm_lims_e_astrogam]).T,\n",
    "#            delimiter=\",\",\n",
    "#            header=\"Columns: mx (MeV), <sigma v> limit (cm^3/s)\")\n",
    "\n",
    "# np.savetxt(\"data/sm_lims_cmb.csv\",\n",
    "#            np.array([sm_mxs, sm_lims_cmb]).T,\n",
    "#            delimiter=\",\",\n",
    "#            header=\"Columns: mx (MeV), <sigma v> limit (cm^3/s)\")\n",
    "# np.savetxt(\"data/sm_lims_cmb_alternate.csv\",\n",
    "#            np.array([sm_mxs, sm_lims_cmb_alternate]).T,\n",
    "#            delimiter=\",\",\n",
    "#            header=\"Columns: mx (MeV), <sigma v> limit (cm^3/s)\")"
   ]
  },
  {
   "cell_type": "markdown",
   "metadata": {},
   "source": [
    "## Load previously computed constraints"
   ]
  },
  {
   "cell_type": "code",
   "execution_count": 6,
   "metadata": {
    "collapsed": true
   },
   "outputs": [],
   "source": [
    "# sm_mxs, sm_lims_egret = np.loadtxt(\"data/sm_lims_egret.csv\", delimiter=\",\").T\n",
    "# sm_mxs, sm_lims_comptel = np.loadtxt(\"data/sm_lims_comptel.csv\", delimiter=\",\").T\n",
    "# sm_mxs, sm_lims_fermi = np.loadtxt(\"data/sm_lims_fermi.csv\", delimiter=\",\").T\n",
    "# sm_mxs, sm_lims_e_astrogam = np.loadtxt(\"data/sm_lims_e_astrogam.csv\", delimiter=\",\").T\n",
    "sm_mxs, sm_lims_cmb = np.loadtxt(\"data/sm_lims_cmb.csv\", delimiter=\",\").T\n",
    "sm_mxs, sm_lims_cmb_alternate = np.loadtxt(\"data/sm_lims_cmb_alternate.csv\", delimiter=\",\").T"
   ]
  },
  {
   "cell_type": "markdown",
   "metadata": {},
   "source": [
    "## Plot results"
   ]
  },
  {
   "cell_type": "code",
   "execution_count": 11,
   "metadata": {
    "scrolled": false
   },
   "outputs": [
    {
     "data": {
      "text/plain": [
       "<matplotlib.legend.Legend at 0x10e01a750>"
      ]
     },
     "execution_count": 11,
     "metadata": {},
     "output_type": "execute_result"
    },
    {
     "data": {
      "image/png": "[encoded data removed]",
      "text/plain": [
       "<matplotlib.figure.Figure at 0x10fea11d0>"
      ]
     },
     "metadata": {},
     "output_type": "display_data"
    }
   ],
   "source": [
    "plt.figure(figsize=(8, 4))\n",
    "\n",
    "plt.plot(sm_mxs, sm_lims_comptel, label=\"COMPTEL\", color=colors[0])\n",
    "plt.plot(sm_mxs, sm_lims_egret, label=\"EGRET\", color=colors[1])\n",
    "plt.plot(sm_mxs, sm_lims_fermi, label=\"Fermi\", color=colors[2])\n",
    "plt.plot(sm_mxs, sm_lims_e_astrogam, label=\"e-ASTROGAM\", color=colors[3])\n",
    "# plt.plot(sm_mxs, sm_lims_cmb, label=\"CMB\", color=\"black\")\n",
    "# plt.plot(sm_mxs, sm_lims_cmb_alternate, color=\"black\")\n",
    "plt.plot(rd_mxs, rd_lims, '--', label=\"Thermal relic\", color=\"black\", alpha=0.4)\n",
    "\n",
    "plt.xlim(sm_mxs[[0, -1]])\n",
    "plt.ylim([1e-30,1e-23])\n",
    "# plt.xscale(\"log\")\n",
    "plt.yscale(\"log\")\n",
    "plt.grid()\n",
    "plt.xlabel(r\"$m_\\chi$ (MeV)\")\n",
    "plt.ylabel(r\"$\\langle \\sigma v \\rangle$ (cm$^3$/s)\")\n",
    "plt.title(\"Scalar mediator\")\n",
    "\n",
    "# Shrink current axis by 20%\n",
    "box = plt.gca().get_position()\n",
    "plt.gca().set_position([box.x0, box.y0, box.width * 0.8, box.height])\n",
    "# Put a legend to the right of the current axis\n",
    "plt.gca().legend(loc='center left', bbox_to_anchor=(1, 0.5))\n",
    "\n",
    "# plt.savefig(\"figures/sm_sigmav_limits.pdf\")"
   ]
  },
  {
   "cell_type": "code",
   "execution_count": null,
   "metadata": {
    "collapsed": true
   },
   "outputs": [],
   "source": [
    "import os\n",
    "os.system('say \"Done computing limits\"')"
   ]
  },
  {
   "cell_type": "markdown",
   "metadata": {
    "heading_collapsed": true
   },
   "source": [
    "# Vector mediator"
   ]
  },
  {
   "cell_type": "markdown",
   "metadata": {
    "heading_collapsed": true,
    "hidden": true
   },
   "source": [
    "## Setup"
   ]
  },
  {
   "cell_type": "code",
   "execution_count": 11,
   "metadata": {
    "collapsed": true,
    "hidden": true
   },
   "outputs": [],
   "source": [
    "vm = VectorMediator(mx=1., mv=1000., gvxx=1., gvuu=1., gvdd=0.2, gvss=0., gvee=0., gvmumu=0.)\n",
    "\n",
    "# Masses to scan over\n",
    "mx_min, mx_max, n_mxs = mpi0/2., 250., 50\n",
    "vm_mxs = np.linspace(mx_min, mx_max, n_mxs)"
   ]
  },
  {
   "cell_type": "markdown",
   "metadata": {
    "heading_collapsed": true,
    "hidden": true
   },
   "source": [
    "## Recompute constraints"
   ]
  },
  {
   "cell_type": "code",
   "execution_count": 3,
   "metadata": {
    "collapsed": true,
    "hidden": true
   },
   "outputs": [
    {
     "name": "stderr",
     "output_type": "stream",
     "text": [
      "/Users/acoogan/.pyenv/versions/2.7.13/Python.framework/Versions/2.7/lib/python2.7/site-packages/scipy/integrate/quadpack.py:364: IntegrationWarning: The maximum number of subdivisions (50) has been achieved.\n",
      "  If increasing the limit yields no improvement it is advised to analyze \n",
      "  the integrand in order to determine the difficulties.  If the position of a \n",
      "  local difficulty can be determined (singularity, discontinuity) one will \n",
      "  probably gain from splitting up the interval and calling the integrator \n",
      "  on the subranges.  Perhaps a special-purpose integrator should be used.\n",
      "  warnings.warn(msg, IntegrationWarning)\n",
      "/Users/acoogan/.pyenv/versions/2.7.13/Python.framework/Versions/2.7/lib/python2.7/site-packages/scipy/integrate/quadpack.py:364: IntegrationWarning: The occurrence of roundoff error is detected, which prevents \n",
      "  the requested tolerance from being achieved.  The error may be \n",
      "  underestimated.\n",
      "  warnings.warn(msg, IntegrationWarning)\n"
     ]
    }
   ],
   "source": [
    "vm_lims_comptel = vm.binned_limits(vm_mxs, comptel_diffuse)\n",
    "vm_lims_egret = vm.binned_limits(vm_mxs, egret_diffuse)\n",
    "vm_lims_fermi = vm.binned_limits(vm_mxs, fermi_diffuse)"
   ]
  },
  {
   "cell_type": "code",
   "execution_count": 4,
   "metadata": {
    "hidden": true
   },
   "outputs": [
    {
     "name": "stderr",
     "output_type": "stream",
     "text": [
      "/Users/acoogan/Dropbox/Physics/Sub-GeV_DM/Hazma/hazma/gamma_ray_limits/compute_limits.py:150: RuntimeWarning: divide by zero encountered in double_scalars\n",
      "  return prefactor * n_sigma / (-limit_obj.fun)\n"
     ]
    }
   ],
   "source": [
    "vm_lims_e_astrogam = vm.unbinned_limits(vm_mxs, target_params=gc_bg_model_target, bg_model=gc_bg_model)"
   ]
  },
  {
   "cell_type": "code",
   "execution_count": null,
   "metadata": {
    "collapsed": true,
    "hidden": true
   },
   "outputs": [],
   "source": [
    "vm_lims_cmb = vm.cmb_limits(vm_mxs)"
   ]
  },
  {
   "cell_type": "code",
   "execution_count": 7,
   "metadata": {
    "collapsed": true,
    "hidden": true
   },
   "outputs": [],
   "source": [
    "# np.savetxt(\"data/vm_lims_comptel.csv\",\n",
    "#            np.array([vm_mxs, vm_lims_comptel]).T,\n",
    "#            delimiter=\",\",\n",
    "#            header=\"Columns: mx (MeV), <sigma v> limit (cm^3/s)\")\n",
    "# np.savetxt(\"data/vm_lims_egret.csv\",\n",
    "#            np.array([vm_mxs, vm_lims_egret]).T,\n",
    "#            delimiter=\",\",\n",
    "#            header=\"Columns: mx (MeV), <sigma v> limit (cm^3/s)\")\n",
    "# np.savetxt(\"data/vm_lims_fermi.csv\",\n",
    "#            np.array([vm_mxs, vm_lims_fermi]).T,\n",
    "#            delimiter=\",\",\n",
    "#            header=\"Columns: mx (MeV), <sigma v> limit (cm^3/s)\")"
   ]
  },
  {
   "cell_type": "code",
   "execution_count": 8,
   "metadata": {
    "collapsed": true,
    "hidden": true
   },
   "outputs": [],
   "source": [
    "# np.savetxt(\"data/vm_lims_e_astrogam.csv\",\n",
    "#            np.array([vm_mxs, vm_lims_e_astrogam]).T,\n",
    "#            delimiter=\",\",\n",
    "#            header=\"Columns: mx (MeV), <sigma v> limit (cm^3/s)\")"
   ]
  },
  {
   "cell_type": "code",
   "execution_count": null,
   "metadata": {
    "collapsed": true,
    "hidden": true
   },
   "outputs": [],
   "source": [
    "# np.savetxt(\"data/vm_lims_cmb.csv\",\n",
    "#            np.array([vm_mxs, vm_lims_cmb]).T,\n",
    "#            delimiter=\",\",\n",
    "#            header=\"Columns: mx (MeV), <sigma v> limit (cm^3/s)\")"
   ]
  },
  {
   "cell_type": "markdown",
   "metadata": {
    "heading_collapsed": true,
    "hidden": true
   },
   "source": [
    "## Load previously computed constraints"
   ]
  },
  {
   "cell_type": "code",
   "execution_count": 7,
   "metadata": {
    "collapsed": true,
    "hidden": true
   },
   "outputs": [],
   "source": [
    "vm_mxs, vm_lims_egret = np.loadtxt(\"data/vm_lims_egret.csv\", delimiter=\",\").T\n",
    "vm_mxs, vm_lims_comptel = np.loadtxt(\"data/vm_lims_comptel.csv\", delimiter=\",\").T\n",
    "vm_mxs, vm_lims_fermi = np.loadtxt(\"data/vm_lims_fermi.csv\", delimiter=\",\").T\n",
    "vm_mxs, vm_lims_e_astrogam = np.loadtxt(\"data/vm_lims_e_astrogam.csv\", delimiter=\",\").T\n",
    "vm_mxs, vm_lims_cmb = np.loadtxt(\"data/vm_lims_cmb.csv\", delimiter=\",\").T"
   ]
  },
  {
   "cell_type": "markdown",
   "metadata": {
    "hidden": true
   },
   "source": [
    "## Plot results"
   ]
  },
  {
   "cell_type": "code",
   "execution_count": 14,
   "metadata": {
    "hidden": true
   },
   "outputs": [
    {
     "data": {
      "image/png": "[encoded data removed]",
      "text/plain": [
       "<matplotlib.figure.Figure at 0x10b709910>"
      ]
     },
     "metadata": {},
     "output_type": "display_data"
    }
   ],
   "source": [
    "plt.figure(figsize=(8, 4))\n",
    "\n",
    "plt.plot(vm_mxs, vm_lims_comptel, label=\"COMPTEL\", color=colors[0])\n",
    "plt.plot(vm_mxs, vm_lims_egret, label=\"EGRET\", color=colors[1])\n",
    "plt.plot(vm_mxs, vm_lims_fermi, label=\"Fermi\", color=colors[2])\n",
    "plt.plot(vm_mxs, vm_lims_e_astrogam, label=\"e-ASTROGAM\", color=colors[3])\n",
    "plt.plot(vm_mxs, vm_lims_cmb, label=\"CMB\", color=\"black\")\n",
    "plt.plot(rd_mxs, rd_lims, '--', label=\"Thermal relic\", color=\"black\", alpha=0.4)\n",
    "\n",
    "plt.xlim(vm_mxs[[1, -1]])\n",
    "plt.ylim([1e-31,1e-23])\n",
    "plt.xscale(\"linear\")\n",
    "plt.yscale(\"log\")\n",
    "plt.grid()\n",
    "plt.xlabel(r\"$m_\\chi$ (MeV)\")\n",
    "plt.ylabel(r\"$\\langle \\sigma v \\rangle$ (cm$^3$/s)\")\n",
    "plt.title(r\"Vector mediator, $g_{Vuu} = %i g_{Vdd}$\" % (vm.gvuu/vm.gvdd))\n",
    "\n",
    "# Shrink current axis by 20%\n",
    "box = plt.gca().get_position()\n",
    "plt.gca().set_position([box.x0, box.y0, box.width * 0.8, box.height])\n",
    "# Put a legend to the right of the current axis\n",
    "plt.gca().legend(loc='center left', bbox_to_anchor=(1, 0.5))\n",
    "\n",
    "plt.savefig(\"figures/vm_sigmav_limits.pdf\")"
   ]
  },
  {
   "cell_type": "code",
   "execution_count": 6,
   "metadata": {
    "hidden": true
   },
   "outputs": [
    {
     "data": {
      "text/plain": [
       "0"
      ]
     },
     "execution_count": 6,
     "metadata": {},
     "output_type": "execute_result"
    }
   ],
   "source": [
    "import os\n",
    "os.system('say \"Done computing limits\"')"
   ]
  },
  {
   "cell_type": "markdown",
   "metadata": {
    "heading_collapsed": true,
    "hidden": true
   },
   "source": [
    "## Look out how constraints vary with couplings"
   ]
  },
  {
   "cell_type": "code",
   "execution_count": 39,
   "metadata": {
    "collapsed": true,
    "hidden": true
   },
   "outputs": [],
   "source": [
    "vm = VectorMediator(mx=1., mv=1000., gvxx=1., gvuu=1., gvdd=0.2, gvss=0., gvee=0., gvmumu=0.)\n",
    "\n",
    "# Masses to scan over\n",
    "mx_min, mx_max, n_mxs = 140., 180., 30\n",
    "mxs = np.linspace(mx_min, mx_max, n_mxs)\n",
    "\n",
    "# Couplings to scan over\n",
    "# gvdds = np.linspace(-0.5, 1.5, 5)\n",
    "gvdds = np.array([-0.5, 0.9, 1., 2.])"
   ]
  },
  {
   "cell_type": "code",
   "execution_count": 44,
   "metadata": {
    "hidden": true
   },
   "outputs": [
    {
     "name": "stdout",
     "output_type": "stream",
     "text": [
      "gvdd = 1.000000\n",
      "gvdd = 2.000000\n"
     ]
    }
   ],
   "source": [
    "# Compute EGRET limits for the different couplings\n",
    "# vm_lims_egret_gvdd = []\n",
    "\n",
    "for gvdd in gvdds[2:]:\n",
    "    print \"gvdd = %f\" % gvdd\n",
    "    vm.gvdd = gvdd\n",
    "    vm_lims_egret_gvdd.append(vm.binned_limits(mxs, egret_diffuse))"
   ]
  },
  {
   "cell_type": "code",
   "execution_count": 45,
   "metadata": {
    "collapsed": true,
    "hidden": true
   },
   "outputs": [],
   "source": [
    "# Set up the colormap\n",
    "import matplotlib.cm as cm\n",
    "from matplotlib.colors import Normalize\n",
    "\n",
    "cmap = cm.viridis\n",
    "norm = Normalize(vmin=gvdds[0], vmax=gvdds[-1])\n",
    "m = cm.ScalarMappable(norm=norm, cmap=cmap)"
   ]
  },
  {
   "cell_type": "code",
   "execution_count": 48,
   "metadata": {
    "hidden": true
   },
   "outputs": [
    {
     "data": {
      "text/plain": [
       "<matplotlib.legend.Legend at 0x110203050>"
      ]
     },
     "execution_count": 48,
     "metadata": {},
     "output_type": "execute_result"
    },
    {
     "data": {
      "image/png": "[encoded data removed]",
      "text/plain": [
       "<matplotlib.figure.Figure at 0x110a3ffd0>"
      ]
     },
     "metadata": {},
     "output_type": "display_data"
    }
   ],
   "source": [
    "plt.figure(figsize=(8, 4))\n",
    "\n",
    "for gvdd, lims in zip(gvdds, vm_lims_egret_gvdd):\n",
    "    plt.plot(mxs, lims, label=r\"$g_{Vdd}=%.1f$\" % gvdd,\n",
    "             color=m.to_rgba(gvdd))\n",
    "\n",
    "# Formatting\n",
    "plt.xlim(mxs[[0, -1]])\n",
    "plt.ylim([1e-31,1e-23])\n",
    "plt.xscale(\"linear\")\n",
    "plt.yscale(\"log\")\n",
    "plt.grid()\n",
    "plt.xlabel(r\"$m_\\chi$ (MeV)\")\n",
    "plt.ylabel(r\"$\\langle \\sigma v \\rangle$ (cm$^3$/s)\")\n",
    "plt.title(\"Vector mediator\")\n",
    "\n",
    "# Shrink current axis by 20%\n",
    "box = plt.gca().get_position()\n",
    "plt.gca().set_position([box.x0, box.y0, box.width * 0.8, box.height])\n",
    "# Put a legend to the right of the current axis\n",
    "plt.gca().legend(loc='center left', bbox_to_anchor=(1, 0.5))"
   ]
  },
  {
   "cell_type": "markdown",
   "metadata": {
    "heading_collapsed": true
   },
   "source": [
    "# Scratch/testing"
   ]
  },
  {
   "cell_type": "code",
   "execution_count": 23,
   "metadata": {
    "hidden": true
   },
   "outputs": [
    {
     "data": {
      "text/plain": [
       "(1e-10, 1.0)"
      ]
     },
     "execution_count": 23,
     "metadata": {},
     "output_type": "execute_result"
    },
    {
     "data": {
      "image/png": "[encoded data removed]",
      "text/plain": [
       "<matplotlib.figure.Figure at 0x109f381d0>"
      ]
     },
     "metadata": {},
     "output_type": "display_data"
    }
   ],
   "source": [
    "from hazma.gamma_ray_limits.compute_limits import get_detected_spectrum\n",
    "from hazma.gamma_ray_limits.gamma_ray_limit_parameters import energy_res_comptel\n",
    "import matplotlib.cm as cm\n",
    "from matplotlib.colors import Normalize\n",
    "\n",
    "vm = VectorMediator(mx=1., mv=201., gvxx=1., gvuu=1., gvdd=0.2, gvss=0., gvee=0., gvmumu=0.)\n",
    "\n",
    "# mx_min, mx_max, n_mxs = 70, 200., 4\n",
    "# mxs = np.logspace(np.log10(mx_min), np.log10(mx_max), n_mxs)\n",
    "mxs = np.array([100.])\n",
    "\n",
    "cmap = cm.viridis\n",
    "norm = Normalize(vmin=np.log10(mxs[0]), vmax=np.log10(mxs[-1]))\n",
    "\n",
    "e_gams = np.logspace(0, np.log10(300), 300)\n",
    "\n",
    "for mx in mxs:\n",
    "    vm.mx = mx\n",
    "    e_cm = 2.*vm.mx*(1.+0.5*1e-6)\n",
    "\n",
    "    dnde_det = get_detected_spectrum(e_gams, vm.spectra(e_gams, e_cm)[\"total\"], *vm.gamma_ray_lines(e_cm), energy_res=energy_res_comptel)\n",
    "    \n",
    "    plt.loglog(e_gams, dnde_det(e_gams), color=cmap(norm(np.log10(mx))), label=\"%.1f\" % mx)\n",
    "    \n",
    "plt.legend()\n",
    "plt.ylim(1e-10, 1e0)"
   ]
  },
  {
   "cell_type": "code",
   "execution_count": 30,
   "metadata": {
    "hidden": true
   },
   "outputs": [
    {
     "name": "stdout",
     "output_type": "stream",
     "text": [
      "0.7703084693028202 27.618455799248043\n",
      "27.618455799248043 8626.25729321894\n",
      "153.2191922762135 94968.96255955588\n"
     ]
    }
   ],
   "source": [
    "for fm in [comptel_diffuse, egret_diffuse, fermi_diffuse]:\n",
    "    print fm.bins[0][0], fm.bins[-1][-1]"
   ]
  },
  {
   "cell_type": "code",
   "execution_count": 17,
   "metadata": {
    "collapsed": true,
    "hidden": true
   },
   "outputs": [],
   "source": [
    "from hazma.gamma_ray_limits.compute_limits import get_detected_spectrum\n",
    "\n",
    "mx = 200.\n",
    "vm.mx = mx\n",
    "e_cm = 2.*vm.mx * (1. + 0.5*1e-6)\n",
    "\n",
    "e_gams = np.logspace(np.log10(A_eff_e_astrogam.x[0])-1,\n",
    "                     np.log10(A_eff_e_astrogam.x[-1])+1, 75)\n",
    "dndes = vm.spectra(e_gams, e_cm)[\"total\"]\n",
    "\n",
    "dnde_det = get_detected_spectrum(e_gams, dndes, *vm.gamma_ray_lines(e_cm), energy_res=energy_res_e_astrogam)"
   ]
  },
  {
   "cell_type": "code",
   "execution_count": 18,
   "metadata": {
    "hidden": true
   },
   "outputs": [
    {
     "name": "stdout",
     "output_type": "stream",
     "text": [
      "(0.3, 3000.0, 0.03615782810612527)\n"
     ]
    }
   ],
   "source": [
    "e_min = max(A_eff_e_astrogam.x[0],\n",
    "            dnde_det.x[np.where(dnde_det.y)[0][0]])\n",
    "e_max = min(A_eff_e_astrogam.x[-1],\n",
    "            dnde_det.x[np.where(dnde_det.y)[0][-1]])\n",
    "e_dnde_max = dnde_det.x[np.argmax(dnde_det.y)]\n",
    "print(e_min, e_max, e_dnde_max)\n",
    "\n",
    "e_a_0 = 10.**(0.5 * (np.log10(e_dnde_max) + np.log10(e_min)))\n",
    "e_b_0 = 10.**(0.5 * (np.log10(e_max) + np.log10(e_dnde_max)))"
   ]
  },
  {
   "cell_type": "code",
   "execution_count": 19,
   "metadata": {
    "hidden": true
   },
   "outputs": [
    {
     "data": {
      "text/plain": [
       "[<matplotlib.lines.Line2D at 0x10d47bb90>]"
      ]
     },
     "execution_count": 19,
     "metadata": {},
     "output_type": "execute_result"
    },
    {
     "data": {
      "image/png": "[encoded data removed]",
      "text/plain": [
       "<matplotlib.figure.Figure at 0x10d53b250>"
      ]
     },
     "metadata": {},
     "output_type": "display_data"
    }
   ],
   "source": [
    "plt.loglog(e_gams, dnde_det(e_gams))\n",
    "plt.loglog(2*[e_a_0], [1e-100, 1e0])\n",
    "plt.loglog(2*[e_b_0], [1e-100, 1e0])"
   ]
  },
  {
   "cell_type": "code",
   "execution_count": null,
   "metadata": {
    "collapsed": true,
    "hidden": true
   },
   "outputs": [],
   "source": []
  }
 ],
 "metadata": {
  "kernelspec": {
   "display_name": "Python 2",
   "language": "python",
   "name": "python2"
  },
  "language_info": {
   "codemirror_mode": {
    "name": "ipython",
    "version": 2
   },
   "file_extension": ".py",
   "mimetype": "text/x-python",
   "name": "python",
   "nbconvert_exporter": "python",
   "pygments_lexer": "ipython2",
   "version": "2.7.13"
  },
  "toc": {
   "nav_menu": {},
   "number_sections": true,
   "sideBar": true,
   "skip_h1_title": false,
   "toc_cell": false,
   "toc_position": {
    "height": "922px",
    "left": "0px",
    "right": "1798px",
    "top": "95.1px",
    "width": "26px"
   },
   "toc_section_display": "block",
   "toc_window_display": true
  }
 },
 "nbformat": 4,
 "nbformat_minor": 2
}
