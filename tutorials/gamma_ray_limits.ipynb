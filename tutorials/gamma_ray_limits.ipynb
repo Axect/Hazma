{
 "cells": [
  {
   "cell_type": "code",
   "execution_count": 2,
   "metadata": {
    "collapsed": true
   },
   "outputs": [],
   "source": [
    "import matplotlib.pyplot as plt\n",
    "import numpy as np\n",
    "import matplotlib.cm as cm\n",
    "from matplotlib.colors import Normalize, LogNorm\n",
    "import os\n",
    "\n",
    "from hazma.scalar_mediator import ScalarMediator\n",
    "from hazma.pseudo_scalar_mediator import PseudoScalarMFV\n",
    "from hazma.vector_mediator import VectorMediator\n",
    "\n",
    "from hazma.parameters import neutral_pion_mass as mpi0\n",
    "from hazma.gamma_ray_limits.gamma_ray_limit_parameters import (energy_res_fermi,\n",
    "                                                               energy_res_e_astrogam,\n",
    "                                                               A_eff_e_astrogam,\n",
    "                                                               A_eff_comptel,\n",
    "                                                               egret_diffuse,\n",
    "                                                               fermi_diffuse,\n",
    "                                                               comptel_diffuse,\n",
    "                                                               gc_target,\n",
    "                                                               gc_bg_model,\n",
    "                                                               solid_angle)\n",
    "from hazma.gamma_ray_limits.compute_limits import get_detected_spectrum\n",
    "from hazma.cmb import vx_cmb\n",
    "\n",
    "colors = 2*[c[\"color\"] for c in plt.rcParams[\"axes.prop_cycle\"]]"
   ]
  },
  {
   "cell_type": "markdown",
   "metadata": {
    "heading_collapsed": true
   },
   "source": [
    "## Profiling"
   ]
  },
  {
   "cell_type": "code",
   "execution_count": 2,
   "metadata": {
    "collapsed": true,
    "hidden": true
   },
   "outputs": [],
   "source": [
    "import cProfile\n",
    "\n",
    "s_theta = 0.5\n",
    "sm_hp = ScalarMediator(mx=1., ms=1000., gsxx=1.0, gsff=s_theta, gsGG=s_theta, gsFF=-s_theta)\n",
    "\n",
    "# Masses to scan over\n",
    "mx_min, mx_max, n_mxs = mpi0/2., 250., 100  # 100\n",
    "sm_mxs = np.linspace(mx_min, mx_max, n_mxs)"
   ]
  },
  {
   "cell_type": "code",
   "execution_count": 5,
   "metadata": {
    "hidden": true,
    "scrolled": false
   },
   "outputs": [
    {
     "name": "stdout",
     "output_type": "stream",
     "text": [
      "         33947044 function calls (33946235 primitive calls) in 34.259 seconds\n",
      "\n",
      "   Ordered by: standard name\n",
      "\n",
      "   ncalls  tottime  percall  cumtime  percall filename:lineno(function)\n",
      "        1    0.000    0.000   34.259   34.259 <string>:1(<module>)\n",
      "      101    0.000    0.000    0.008    0.000 __init__.py:184(gamma_ray_lines)\n",
      "      101    0.000    0.000   23.187    0.230 __init__.py:187(spectra)\n",
      "      101    0.000    0.000    0.001    0.000 _methods.py:28(_amin)\n",
      "   202303    0.089    0.000    0.722    0.000 _methods.py:31(_sum)\n",
      "      202    0.000    0.000    0.002    0.000 _methods.py:40(_all)\n",
      "   101202    0.488    0.000    1.341    0.000 _util.py:192(_asarray_validated)\n",
      "    90475    0.111    0.000    1.122    0.000 arraysetops.py:113(unique)\n",
      "    90475    0.486    0.000    0.807    0.000 arraysetops.py:256(_unique1d)\n",
      "   101202    0.050    0.000    0.099    0.000 base.py:1187(isspmatrix)\n",
      "      101    0.002    0.000   34.252    0.339 compute_limits.py:151(binned_limit)\n",
      "     1010    0.005    0.000    0.009    0.000 compute_limits.py:202(bin_lim)\n",
      "   101202    2.126    0.000    5.400    0.000 compute_limits.py:229(spec_res_fn)\n",
      "      101    0.008    0.000   34.238    0.339 compute_limits.py:242(get_detected_spectrum)\n",
      "   101101    0.819    0.000   10.916    0.000 compute_limits.py:282(integral)\n",
      "   101202    0.041    0.000    0.061    0.000 core.py:6198(isMaskedArray)\n",
      "       60    0.000    0.000   19.452    0.324 decay.py:102(charged_pion)\n",
      "       79    0.000    0.000    2.205    0.028 decay.py:17(muon)\n",
      "       63    0.000    0.000    0.005    0.000 decay.py:60(neutral_pion)\n",
      "      101    0.000    0.000    0.001    0.000 fitpack2.py:204(_reset_class)\n",
      "      101    0.000    0.000    0.000    0.000 fitpack2.py:228(_set_class)\n",
      "     1010    0.004    0.000    0.004    0.000 fitpack2.py:337(integral)\n",
      "      101    0.007    0.000    0.010    0.000 fitpack2.py:590(__init__)\n",
      "      202    0.001    0.000    0.003    0.000 fromnumeric.py:2021(all)\n",
      "      101    0.001    0.000    0.002    0.000 fromnumeric.py:2323(amin)\n",
      "      202    0.000    0.000    0.000    0.000 function_base.py:13(_index_deprecate)\n",
      "      202    0.006    0.000    0.013    0.000 function_base.py:153(logspace)\n",
      "   202303    1.260    0.000    1.435    0.000 function_base.py:1851(diff)\n",
      "  3305933    6.569    0.000   14.837    0.000 function_base.py:1951(interp)\n",
      "      102    0.001    0.000    0.001    0.000 function_base.py:213(iterable)\n",
      "      202    0.005    0.000    0.008    0.000 function_base.py:25(linspace)\n",
      "      102    0.001    0.000    0.002    0.000 function_base.py:2695(__init__)\n",
      "    102/1    0.002    0.000   34.259   34.259 function_base.py:2727(__call__)\n",
      "  102/101    0.002    0.000    0.138    0.001 function_base.py:2757(_get_ufunc_and_otypes)\n",
      "      204    0.000    0.000    0.000    0.000 function_base.py:2780(<genexpr>)\n",
      "    102/1    0.076    0.001   34.259   34.259 function_base.py:2818(_vectorize_call)\n",
      "   202202    2.073    0.000    4.703    0.000 function_base.py:4442(trapz)\n",
      "   101202    0.078    0.000    0.631    0.000 interpolate.py:584(_call_linear_np)\n",
      "   101202    0.273    0.000    1.438    0.000 interpolate.py:657(_evaluate)\n",
      "   101202    0.457    0.000    0.457    0.000 interpolate.py:672(_check_bounds)\n",
      "      202    0.000    0.000    0.000    0.000 numeric.py:1917(isscalar)\n",
      "  3508541    1.693    0.000    2.083    0.000 numeric.py:424(asarray)\n",
      "   788263    0.455    0.000    0.663    0.000 numeric.py:495(asanyarray)\n",
      "   202404    0.191    0.000    0.327    0.000 numerictypes.py:631(issubclass_)\n",
      "   101202    0.193    0.000    0.536    0.000 numerictypes.py:699(issubdtype)\n",
      "   101202    0.173    0.000    3.274    0.000 polyint.py:62(__call__)\n",
      "   101202    0.131    0.000    1.510    0.000 polyint.py:88(_prepare_x)\n",
      "   101202    0.101    0.000    0.153    0.000 polyint.py:94(_finish_y)\n",
      "    90475    0.509    0.000   21.207    0.000 quadpack.py:430(_quad)\n",
      "    90475    0.228    0.000   21.491    0.000 quadpack.py:44(quad)\n",
      "      404    0.003    0.000    0.004    0.000 scalar_mediator_cross_sections.py:12(sigma_xx_to_s_to_ff)\n",
      "      202    0.001    0.000    0.002    0.000 scalar_mediator_cross_sections.py:127(sigma_xx_to_s_to_pipi)\n",
      "      202    0.000    0.000    0.000    0.000 scalar_mediator_cross_sections.py:172(sigma_xx_to_ss)\n",
      "      202    0.001    0.000    0.011    0.000 scalar_mediator_cross_sections.py:209(cross_sections)\n",
      "      202    0.001    0.000    0.012    0.000 scalar_mediator_cross_sections.py:245(branching_fractions)\n",
      "      202    0.001    0.000    0.002    0.000 scalar_mediator_cross_sections.py:48(sigma_xx_to_s_to_gg)\n",
      "      202    0.002    0.000    0.002    0.000 scalar_mediator_cross_sections.py:84(sigma_xx_to_s_to_pi0pi0)\n",
      "      180    0.077    0.000    1.062    0.006 scalar_mediator_fsr.py:31(dnde_xx_to_s_to_ffg)\n",
      "    60000    0.362    0.000    0.401    0.000 scalar_mediator_fsr.py:68(__dnde_xx_to_s_to_pipig)\n",
      "   180000    0.899    0.000    0.975    0.000 scalar_mediator_fsr.py:7(__dnde_xx_to_s_to_ffg)\n",
      "       60    0.023    0.000    0.427    0.007 scalar_mediator_fsr.py:94(dnde_xx_to_s_to_pipig)\n",
      "   181414    0.026    0.000    0.026    0.000 scalar_mediator_parameters.py:21(mx)\n",
      "      101    0.000    0.000    0.006    0.000 scalar_mediator_parameters.py:25(mx)\n",
      "     1717    0.000    0.000    0.000    0.000 scalar_mediator_parameters.py:31(ms)\n",
      "      909    0.000    0.000    0.000    0.000 scalar_mediator_parameters.py:41(gsxx)\n",
      "     1212    0.000    0.000    0.000    0.000 scalar_mediator_parameters.py:51(gsff)\n",
      "      650    0.000    0.000    0.000    0.000 scalar_mediator_parameters.py:61(gsGG)\n",
      "      303    0.000    0.000    0.000    0.000 scalar_mediator_parameters.py:71(gsFF)\n",
      "      101    0.001    0.000    0.001    0.000 scalar_mediator_parameters.py:81(compute_vs)\n",
      "      101    0.000    0.000    0.005    0.000 scalar_mediator_parameters.py:99(compute_width_s)\n",
      "      505    0.001    0.000   23.180    0.046 scalar_mediator_spectra.py:107(spec_helper)\n",
      "      101    0.000    0.000    0.007    0.000 scalar_mediator_spectra.py:138(gamma_ray_lines)\n",
      "  303/101    0.012    0.000    0.640    0.006 scalar_mediator_spectra.py:16(dnde_ee)\n",
      "   237/79    0.001    0.000    2.644    0.033 scalar_mediator_spectra.py:29(dnde_mumu)\n",
      "   189/63    0.007    0.000    0.015    0.000 scalar_mediator_spectra.py:42(dnde_neutral_pion)\n",
      "   180/60    0.001    0.000   19.880    0.331 scalar_mediator_spectra.py:55(dnde_charged_pion)\n",
      "      101    0.002    0.000   23.187    0.230 scalar_mediator_spectra.py:84(spectra)\n",
      "      202    0.001    0.000    0.001    0.000 scalar_mediator_widths.py:100(width_s_to_ff)\n",
      "      101    0.000    0.000    0.000    0.000 scalar_mediator_widths.py:12(width_s_to_gg)\n",
      "      101    0.001    0.000    0.005    0.000 scalar_mediator_widths.py:126(partial_widths)\n",
      "      101    0.001    0.000    0.001    0.000 scalar_mediator_widths.py:19(width_s_to_pi0pi0)\n",
      "      101    0.001    0.000    0.001    0.000 scalar_mediator_widths.py:48(width_s_to_pipi)\n",
      "      101    0.000    0.000    0.001    0.000 scalar_mediator_widths.py:77(width_s_to_xx)\n",
      "      101    0.001    0.000   34.252    0.339 theory.py:58(binned_limit)\n",
      "      101    0.000    0.000   23.188    0.230 theory.py:59(spec_fn)\n",
      "        1    0.000    0.000   34.259   34.259 theory.py:68(binned_limits)\n",
      "      101    0.000    0.000   34.259    0.339 theory.py:69(binned_limit_change_mass)\n",
      "  3305933    2.082    0.000    2.686    0.000 type_check.py:250(iscomplexobj)\n",
      "        4    0.000    0.000    0.000    0.000 {_warnings.warn}\n",
      "      102    0.000    0.000    0.000    0.000 {any}\n",
      "    65185    0.012    0.000    0.012    0.000 {cmath.atanh}\n",
      "    19024    0.005    0.000    0.005    0.000 {cmath.log}\n",
      "   265097    0.073    0.000    0.073    0.000 {cmath.sqrt}\n",
      "      543    0.000    0.000    0.000    0.000 {hasattr}\n",
      "       60    0.111    0.002   19.452    0.324 {hazma.decay_helper_functions.decay_charged_pion.Spectrum}\n",
      "       79    0.055    0.001    2.205    0.028 {hazma.decay_helper_functions.decay_muon.Spectrum}\n",
      "       63    0.005    0.000    0.005    0.000 {hazma.decay_helper_functions.decay_neutral_pion.Spectrum}\n",
      "  3700420    0.472    0.000    0.472    0.000 {isinstance}\n",
      "  3609539    0.757    0.000    0.757    0.000 {issubclass}\n",
      "      102    0.000    0.000    0.000    0.000 {iter}\n",
      "   101468    0.015    0.000    0.015    0.000 {len}\n",
      "    90475    0.016    0.000    0.016    0.000 {max}\n",
      "      202    0.000    0.000    0.002    0.000 {method 'all' of 'numpy.ndarray' objects}\n",
      "      202    0.000    0.000    0.000    0.000 {method 'astype' of 'numpy.ndarray' objects}\n",
      "        1    0.000    0.000    0.000    0.000 {method 'disable' of '_lsprof.Profiler' objects}\n",
      "    90475    0.057    0.000    0.057    0.000 {method 'flatten' of 'numpy.ndarray' objects}\n",
      "  3204731    0.335    0.000    0.335    0.000 {method 'item' of 'numpy.ndarray' objects}\n",
      "      101    0.000    0.000    0.000    0.000 {method 'iteritems' of 'dict' objects}\n",
      "      102    0.000    0.000    0.000    0.000 {method 'join' of 'str' objects}\n",
      "   101202    0.039    0.000    0.039    0.000 {method 'ravel' of 'numpy.ndarray' objects}\n",
      "   202606    0.636    0.000    0.636    0.000 {method 'reduce' of 'numpy.ufunc' objects}\n",
      "   303404    0.151    0.000    0.151    0.000 {method 'reshape' of 'numpy.ndarray' objects}\n",
      "    90475    0.061    0.000    0.061    0.000 {method 'sort' of 'numpy.ndarray' objects}\n",
      "   202303    0.089    0.000    0.812    0.000 {method 'sum' of 'numpy.ndarray' objects}\n",
      "    90475    0.026    0.000    0.026    0.000 {min}\n",
      "      202    0.001    0.000    0.001    0.000 {numpy.core.multiarray.arange}\n",
      "  4297513    0.619    0.000    0.619    0.000 {numpy.core.multiarray.array}\n",
      "   180950    0.275    0.000    0.275    0.000 {numpy.core.multiarray.concatenate}\n",
      "  3305933    2.992    0.000    2.992    0.000 {numpy.core.multiarray.interp}\n",
      "   202303    0.059    0.000    0.059    0.000 {numpy.core.multiarray.normalize_axis_index}\n",
      "      202    0.000    0.000    0.000    0.000 {numpy.core.multiarray.result_type}\n",
      "      303    0.000    0.000    0.000    0.000 {numpy.core.multiarray.zeros}\n",
      "      102    0.000    0.000    0.000    0.000 {numpy.core.umath.frompyfunc}\n",
      "      202    0.000    0.000    0.000    0.000 {operator.index}\n",
      "      164    0.002    0.000    0.002    0.000 {range}\n",
      "    90475    5.163    0.000   19.446    0.000 {scipy.integrate._quadpack._qagpe}\n",
      "      101    0.001    0.000    0.001    0.000 {zip}\n",
      "\n",
      "\n"
     ]
    }
   ],
   "source": [
    "cProfile.run('sm_lims_egret = sm_hp.binned_limits(sm_mxs, egret_diffuse)')"
   ]
  },
  {
   "cell_type": "markdown",
   "metadata": {
    "heading_collapsed": true
   },
   "source": [
    "## Load relic density curve"
   ]
  },
  {
   "cell_type": "code",
   "execution_count": 3,
   "metadata": {
    "collapsed": true,
    "hidden": true
   },
   "outputs": [],
   "source": [
    "rd_mxs, rd_lims = np.loadtxt(\"relic_abundance.dat\", delimiter=\",\").T\n",
    "rd_mxs = 1e3*10.**rd_mxs  # convert GeV -> MeV\n",
    "rd_lims = 10.**rd_lims"
   ]
  },
  {
   "cell_type": "markdown",
   "metadata": {
    "heading_collapsed": true
   },
   "source": [
    "# Scalar mediator"
   ]
  },
  {
   "cell_type": "markdown",
   "metadata": {
    "heading_collapsed": true,
    "hidden": true
   },
   "source": [
    "## Setup"
   ]
  },
  {
   "cell_type": "code",
   "execution_count": 2,
   "metadata": {
    "collapsed": true,
    "hidden": true
   },
   "outputs": [],
   "source": [
    "s_theta = 0.5\n",
    "sm_hp = ScalarMediator(mx=1., ms=1000., gsxx=1.0, gsff=s_theta, gsGG=s_theta, gsFF=-s_theta)\n",
    "\n",
    "# Masses to scan over\n",
    "mx_min, mx_max, n_mxs = mpi0/2., 250., 100  # 100\n",
    "sm_mxs = np.linspace(mx_min, mx_max, n_mxs)"
   ]
  },
  {
   "cell_type": "markdown",
   "metadata": {
    "heading_collapsed": true,
    "hidden": true
   },
   "source": [
    "## Recompute constraints"
   ]
  },
  {
   "cell_type": "code",
   "execution_count": 3,
   "metadata": {
    "collapsed": true,
    "hidden": true
   },
   "outputs": [
    {
     "name": "stdout",
     "output_type": "stream",
     "text": [
      "6\n",
      "6\n",
      "7\n",
      "6\n"
     ]
    },
    {
     "name": "stderr",
     "output_type": "stream",
     "text": [
      "/Users/acoogan/Dropbox/Physics/Sub-GeV_DM/Hazma/hazma/gamma_ray_limits/compute_limits.py:44: RuntimeWarning: invalid value encountered in sqrt\n",
      "  df_de_a = 1./np.sqrt(I_B_val) * \\\n",
      "/Users/acoogan/Dropbox/Physics/Sub-GeV_DM/Hazma/hazma/gamma_ray_limits/compute_limits.py:46: RuntimeWarning: invalid value encountered in sqrt\n",
      "  df_de_b = -1./np.sqrt(I_B_val) * \\\n",
      "/Users/acoogan/Dropbox/Physics/Sub-GeV_DM/Hazma/hazma/gamma_ray_limits/compute_limits.py:50: RuntimeWarning: invalid value encountered in sqrt\n",
      "  return -I_S_val/np.sqrt(I_B_val), jac_val\n"
     ]
    },
    {
     "name": "stdout",
     "output_type": "stream",
     "text": [
      "89\n",
      "78\n",
      "80\n",
      "91\n",
      "48\n",
      "75\n",
      "103\n",
      "88\n",
      "68\n",
      "100\n",
      "92\n",
      "58\n",
      "97\n",
      "78\n",
      "84\n",
      "94\n",
      "66\n",
      "66\n",
      "14\n",
      "15\n",
      "18\n",
      "17\n"
     ]
    },
    {
     "name": "stderr",
     "output_type": "stream",
     "text": [
      "/Users/acoogan/.pyenv/versions/2.7.13/Python.framework/Versions/2.7/lib/python2.7/site-packages/scipy/integrate/quadpack.py:385: IntegrationWarning: The integral is probably divergent, or slowly convergent.\n",
      "  warnings.warn(msg, IntegrationWarning)\n"
     ]
    },
    {
     "name": "stdout",
     "output_type": "stream",
     "text": [
      "15\n",
      "13\n",
      "14\n",
      "14\n",
      "11\n",
      "13\n",
      "12\n",
      "12\n",
      "11\n",
      "11\n",
      "11\n",
      "11\n",
      "33\n",
      "53\n",
      "71\n",
      "54\n",
      "66\n",
      "39\n",
      "62\n",
      "29\n",
      "58\n",
      "59\n",
      "55\n",
      "32\n",
      "46\n",
      "67\n",
      "76\n",
      "69\n",
      "58\n",
      "67\n",
      "55\n",
      "66\n",
      "69\n",
      "67\n",
      "40\n",
      "39\n",
      "35\n",
      "30\n",
      "23\n",
      "22\n",
      "22\n",
      "28\n",
      "37\n",
      "41\n",
      "36\n",
      "35\n",
      "28\n",
      "23\n",
      "59\n",
      "49\n",
      "24\n",
      "24\n",
      "22\n",
      "51\n",
      "24\n",
      "36\n",
      "34\n",
      "35\n",
      "69\n",
      "28\n",
      "71\n",
      "65\n",
      "26\n",
      "32\n",
      "29\n",
      "48\n",
      "66\n",
      "36\n",
      "44\n",
      "45\n",
      "43\n",
      "55\n",
      "55\n",
      "53\n",
      "60\n"
     ]
    }
   ],
   "source": [
    "sm_lims_e_astrogam = sm_hp.unbinned_limits(sm_mxs, target_params=gc_target, bg_model=gc_bg_model)"
   ]
  },
  {
   "cell_type": "code",
   "execution_count": null,
   "metadata": {
    "collapsed": true,
    "hidden": true,
    "scrolled": false
   },
   "outputs": [],
   "source": [
    "sm_lims_egret = sm_hp.binned_limits(sm_mxs, egret_diffuse)"
   ]
  },
  {
   "cell_type": "code",
   "execution_count": null,
   "metadata": {
    "collapsed": true,
    "hidden": true
   },
   "outputs": [],
   "source": [
    "sm_lims_egret = sm_hp.binned_limits(sm_mxs, egret_diffuse)\n",
    "sm_lims_comptel = sm_hp.binned_limits(sm_mxs, comptel_diffuse)\n",
    "sm_lims_fermi = sm_hp.binned_limits(sm_mxs, fermi_diffuse)"
   ]
  },
  {
   "cell_type": "code",
   "execution_count": null,
   "metadata": {
    "collapsed": true,
    "hidden": true
   },
   "outputs": [],
   "source": [
    "# sm_lims_cmb = sm_hp.cmb_limits(sm_mxs)"
   ]
  },
  {
   "cell_type": "markdown",
   "metadata": {
    "heading_collapsed": true,
    "hidden": true
   },
   "source": [
    "### Save results"
   ]
  },
  {
   "cell_type": "code",
   "execution_count": null,
   "metadata": {
    "collapsed": true,
    "hidden": true
   },
   "outputs": [],
   "source": [
    "np.savetxt(\"data/sm_lims_egret.csv\",\n",
    "           np.array([sm_mxs, sm_lims_egret]).T,\n",
    "           delimiter=\",\",\n",
    "           header=\"Columns: mx (MeV), <sigma v> limit (cm^3/s)\")\n",
    "np.savetxt(\"data/sm_lims_comptel.csv\",\n",
    "           np.array([sm_mxs, sm_lims_comptel]).T,\n",
    "           delimiter=\",\",\n",
    "           header=\"Columns: mx (MeV), <sigma v> limit (cm^3/s)\")\n",
    "np.savetxt(\"data/sm_lims_fermi.csv\",\n",
    "           np.array([sm_mxs, sm_lims_fermi]).T,\n",
    "           delimiter=\",\",\n",
    "           header=\"Columns: mx (MeV), <sigma v> limit (cm^3/s)\")\n",
    "\n",
    "np.savetxt(\"data/sm_lims_e_astrogam.csv\",\n",
    "           np.array([sm_mxs, sm_lims_e_astrogam]).T,\n",
    "           delimiter=\",\",\n",
    "           header=\"Columns: mx (MeV), <sigma v> limit (cm^3/s)\")\n",
    "\n",
    "# np.savetxt(\"data/sm_lims_cmb.csv\",\n",
    "#            np.array([sm_mxs, sm_lims_cmb]).T,\n",
    "#            delimiter=\",\",\n",
    "#            header=\"Columns: mx (MeV), <sigma v> limit (cm^3/s)\")"
   ]
  },
  {
   "cell_type": "markdown",
   "metadata": {
    "heading_collapsed": true,
    "hidden": true
   },
   "source": [
    "## Load previously computed constraints"
   ]
  },
  {
   "cell_type": "code",
   "execution_count": null,
   "metadata": {
    "collapsed": true,
    "hidden": true
   },
   "outputs": [],
   "source": [
    "# sm_mxs, sm_lims_egret = np.loadtxt(\"data/sm_lims_egret.csv\", delimiter=\",\").T\n",
    "# sm_mxs, sm_lims_comptel = np.loadtxt(\"data/sm_lims_comptel.csv\", delimiter=\",\").T\n",
    "# sm_mxs, sm_lims_fermi = np.loadtxt(\"data/sm_lims_fermi.csv\", delimiter=\",\").T\n",
    "# sm_mxs, sm_lims_e_astrogam = np.loadtxt(\"data/sm_lims_e_astrogam.csv\", delimiter=\",\").T\n",
    "sm_mxs, sm_lims_cmb = np.loadtxt(\"data/sm_lims_cmb.csv\", delimiter=\",\").T"
   ]
  },
  {
   "cell_type": "markdown",
   "metadata": {
    "heading_collapsed": true,
    "hidden": true
   },
   "source": [
    "## Plot results"
   ]
  },
  {
   "cell_type": "code",
   "execution_count": null,
   "metadata": {
    "collapsed": true,
    "hidden": true
   },
   "outputs": [],
   "source": [
    "plt.figure(figsize=(8, 4))\n",
    "\n",
    "plt.plot(sm_mxs, sm_lims_comptel, label=\"COMPTEL\", color=colors[0])\n",
    "plt.plot(sm_mxs, sm_lims_egret, label=\"EGRET\", color=colors[1])\n",
    "plt.plot(sm_mxs, sm_lims_fermi, label=\"Fermi\", color=colors[2])\n",
    "plt.plot(sm_mxs, sm_lims_e_astrogam, label=\"e-ASTROGAM\", color=colors[3])\n",
    "plt.plot(sm_mxs, (1.0e-3 / vx_cmb(sm_mxs, x_kd=1e-6))**2 * sm_lims_cmb, label=r\"CMB, $x_{\\mathrm{kd}} = 10^{-6}$\", color=\"black\")\n",
    "# plt.plot(sm_mxs, (1.0e-3 / vx_cmb(sm_mxs, x_kd=1e-4))**2 * sm_lims_cmb, label=r\"CMB, $x_{\\mathrm{kd}} = 10^{-4}$\", color=\"black\")\n",
    "plt.plot(rd_mxs, rd_lims, '--', label=\"Thermal relic\", color=\"black\", alpha=0.4)\n",
    "\n",
    "plt.xlim(sm_mxs[[0, -1]])\n",
    "plt.ylim([1e-30,1e-23])\n",
    "# plt.xscale(\"log\")\n",
    "plt.yscale(\"log\")\n",
    "plt.grid()\n",
    "plt.xlabel(r\"$m_\\chi$ (MeV)\")\n",
    "plt.ylabel(r\"$\\langle \\sigma v \\rangle_0$ (cm$^3$/s)\")  #  * (v_\\chi / v_0)^2\n",
    "plt.title(\"Scalar mediator\")\n",
    "\n",
    "# Shrink current axis by 20%\n",
    "box = plt.gca().get_position()\n",
    "plt.gca().set_position([box.x0, box.y0, box.width * 0.8, box.height])\n",
    "# Put a legend to the right of the current axis\n",
    "plt.gca().legend(loc='center left', bbox_to_anchor=(1, 0.5))\n",
    "\n",
    "plt.savefig(\"figures/sm_sigmav_limits.pdf\")"
   ]
  },
  {
   "cell_type": "code",
   "execution_count": null,
   "metadata": {
    "collapsed": true,
    "hidden": true
   },
   "outputs": [],
   "source": [
    "import os\n",
    "os.system('say \"Done computing limits\"')"
   ]
  },
  {
   "cell_type": "markdown",
   "metadata": {
    "heading_collapsed": true
   },
   "source": [
    "# Pseudoscalar mediator"
   ]
  },
  {
   "cell_type": "markdown",
   "metadata": {
    "heading_collapsed": true,
    "hidden": true
   },
   "source": [
    "## Setup"
   ]
  },
  {
   "cell_type": "markdown",
   "metadata": {
    "hidden": true
   },
   "source": [
    "Use the benchmark parameters from the 2HDM + pseudoscalar singlet UV completion"
   ]
  },
  {
   "cell_type": "code",
   "execution_count": 4,
   "metadata": {
    "hidden": true
   },
   "outputs": [],
   "source": [
    "s_theta = 0.5\n",
    "psm = PseudoScalarMFV(mx=200., mp=1e3, gpxx=1., gpuu=1., gpdd=-1., gpll=0., gpGG=1., gpFF=7./9.)\n",
    "\n",
    "# Masses to scan over\n",
    "mx_min, mx_max, n_mxs = 200., 250., 100  # 100\n",
    "psm_mxs = np.linspace(mx_min, mx_max, n_mxs)"
   ]
  },
  {
   "cell_type": "markdown",
   "metadata": {
    "heading_collapsed": true,
    "hidden": true
   },
   "source": [
    "## Recompute constraints"
   ]
  },
  {
   "cell_type": "code",
   "execution_count": null,
   "metadata": {
    "hidden": true
   },
   "outputs": [],
   "source": [
    "psm_lims_e_astrogam = psm.unbinned_limits(psm_mxs, target_params=gc_target, bg_model=gc_bg_model)"
   ]
  },
  {
   "cell_type": "code",
   "execution_count": null,
   "metadata": {
    "hidden": true
   },
   "outputs": [],
   "source": [
    "psm_lims_egret = psm.binned_limits(psm_mxs, egret_diffuse)"
   ]
  },
  {
   "cell_type": "code",
   "execution_count": null,
   "metadata": {
    "hidden": true,
    "scrolled": true
   },
   "outputs": [],
   "source": [
    "psm_lims_comptel = psm.binned_limits(psm_mxs, comptel_diffuse)"
   ]
  },
  {
   "cell_type": "code",
   "execution_count": null,
   "metadata": {
    "hidden": true,
    "scrolled": true
   },
   "outputs": [],
   "source": [
    "psm_lims_fermi = psm.binned_limits(psm_mxs, fermi_diffuse)"
   ]
  },
  {
   "cell_type": "code",
   "execution_count": null,
   "metadata": {
    "hidden": true
   },
   "outputs": [],
   "source": [
    "psm_lims_cmb = psm.cmb_limits(psm_mxs)"
   ]
  },
  {
   "cell_type": "markdown",
   "metadata": {
    "hidden": true
   },
   "source": [
    "Start time: 4:35pm\n",
    "\n",
    "End time: 5:15pm"
   ]
  },
  {
   "cell_type": "markdown",
   "metadata": {
    "hidden": true
   },
   "source": [
    "### Save results"
   ]
  },
  {
   "cell_type": "code",
   "execution_count": null,
   "metadata": {
    "collapsed": true,
    "hidden": true
   },
   "outputs": [],
   "source": [
    "# np.savetxt(\"data/psm_lims_e_astrogam.csv\",\n",
    "#            np.array([psm_mxs, psm_lims_e_astrogam]).T,\n",
    "#            delimiter=\",\",\n",
    "#            header=\"Columns: mx (MeV), <sigma v> limit (cm^3/s)\")"
   ]
  },
  {
   "cell_type": "code",
   "execution_count": null,
   "metadata": {
    "collapsed": true,
    "hidden": true
   },
   "outputs": [],
   "source": [
    "# np.savetxt(\"data/psm_lims_egret.csv\",\n",
    "#            np.array([psm_mxs, psm_lims_egret]).T,\n",
    "#            delimiter=\",\",\n",
    "#            header=\"Columns: mx (MeV), <sigma v> limit (cm^3/s)\")"
   ]
  },
  {
   "cell_type": "code",
   "execution_count": null,
   "metadata": {
    "collapsed": true,
    "hidden": true
   },
   "outputs": [],
   "source": [
    "# np.savetxt(\"data/psm_lims_comptel.csv\",\n",
    "#            np.array([psm_mxs, psm_lims_comptel]).T,\n",
    "#            delimiter=\",\",\n",
    "#            header=\"Columns: mx (MeV), <sigma v> limit (cm^3/s)\")"
   ]
  },
  {
   "cell_type": "code",
   "execution_count": null,
   "metadata": {
    "collapsed": true,
    "hidden": true
   },
   "outputs": [],
   "source": [
    "# np.savetxt(\"data/psm_lims_fermi.csv\",\n",
    "#            np.array([psm_mxs, psm_lims_fermi]).T,\n",
    "#            delimiter=\",\",\n",
    "#            header=\"Columns: mx (MeV), <sigma v> limit (cm^3/s)\")"
   ]
  },
  {
   "cell_type": "code",
   "execution_count": null,
   "metadata": {
    "collapsed": true,
    "hidden": true
   },
   "outputs": [],
   "source": [
    "# np.savetxt(\"data/psm_lims_cmb.csv\",\n",
    "#            np.array([psm_mxs, psm_lims_cmb]).T,\n",
    "#            delimiter=\",\",\n",
    "#            header=\"Columns: mx (MeV), <sigma v> limit (cm^3/s)\")"
   ]
  },
  {
   "cell_type": "code",
   "execution_count": 10,
   "metadata": {
    "hidden": true
   },
   "outputs": [
    {
     "data": {
      "text/plain": [
       "0"
      ]
     },
     "execution_count": 10,
     "metadata": {},
     "output_type": "execute_result"
    }
   ],
   "source": [
    "os.system(\"say 'Done'\")"
   ]
  },
  {
   "cell_type": "markdown",
   "metadata": {
    "heading_collapsed": true,
    "hidden": true
   },
   "source": [
    "## Load previously computed constraints"
   ]
  },
  {
   "cell_type": "code",
   "execution_count": 4,
   "metadata": {
    "collapsed": true,
    "hidden": true
   },
   "outputs": [],
   "source": [
    "# psm_mxs, psm_lims_egret = np.loadtxt(\"data/psm_lims_egret.csv\", delimiter=\",\").T\n",
    "# psm_mxs, psm_lims_comptel = np.loadtxt(\"data/psm_lims_comptel.csv\", delimiter=\",\").T\n",
    "# psm_mxs, psm_lims_fermi = np.loadtxt(\"data/psm_lims_fermi.csv\", delimiter=\",\").T\n",
    "# psm_mxs, psm_lims_e_astrogam = np.loadtxt(\"data/psm_lims_e_astrogam.csv\", delimiter=\",\").T\n",
    "# psm_mxs, psm_lims_cmb = np.loadtxt(\"data/psm_lims_cmb.csv\", delimiter=\",\").T"
   ]
  },
  {
   "cell_type": "markdown",
   "metadata": {
    "heading_collapsed": true,
    "hidden": true
   },
   "source": [
    "## Plot results"
   ]
  },
  {
   "cell_type": "markdown",
   "metadata": {
    "hidden": true
   },
   "source": [
    "* Fermi limits are weaker since the gamma ray line is the only spectral feature in its lowest-energy bin ($[153, 276]$ MeV), and Br$(\\bar{\\chi}\\chi \\to \\gamma\\gamma)$ decreases as $m_\\chi$ increases.\n",
    "* Feature at 205 MeV comes from the window switching from including the $3\\pi$ and $\\gamma\\gamma$ peaks to just including the $3\\pi$ peak. Could certainly get a better limit by using two energy windows: our analysis is conservative/simplistic!"
   ]
  },
  {
   "cell_type": "code",
   "execution_count": 22,
   "metadata": {
    "hidden": true
   },
   "outputs": [
    {
     "data": {
      "image/png": "[encoded data removed]",
      "text/plain": [
       "<Figure size 1000x500 with 1 Axes>"
      ]
     },
     "metadata": {},
     "output_type": "display_data"
    }
   ],
   "source": [
    "plt.figure(figsize=(8, 4))\n",
    "\n",
    "plt.plot(psm_mxs, psm_lims_comptel, label=\"COMPTEL\", color=colors[0])\n",
    "plt.plot(psm_mxs, psm_lims_egret, label=\"EGRET\", color=colors[1])\n",
    "plt.plot(psm_mxs, psm_lims_fermi, label=\"Fermi\", color=colors[2])\n",
    "plt.plot(psm_mxs, psm_lims_e_astrogam, label=\"e-ASTROGAM\", color=colors[3])\n",
    "plt.plot(psm_mxs, psm_lims_cmb, label=r\"CMB, $x_{\\mathrm{kd}} = 10^{-6}$\", color=\"black\")\n",
    "plt.plot(rd_mxs, rd_lims, '--', label=\"Thermal relic\", color=\"black\", alpha=0.4)\n",
    "\n",
    "plt.xlim(psm_mxs[[0, -1]])\n",
    "plt.ylim([1e-30, 1e-22])\n",
    "# plt.xscale(\"log\")\n",
    "plt.yscale(\"log\")\n",
    "plt.grid()\n",
    "plt.xlabel(r\"$m_\\chi$ (MeV)\")\n",
    "plt.ylabel(r\"$\\langle \\sigma v \\rangle_0$ (cm$^3$/s)\")  #  * (v_\\chi / v_0)^2\n",
    "plt.title(\"Pseudoscalar mediator\")\n",
    "\n",
    "# Shrink current axis by 20%\n",
    "box = plt.gca().get_position()\n",
    "plt.gca().set_position([box.x0, box.y0, box.width * 0.8, box.height])\n",
    "# Put a legend to the right of the current axis\n",
    "plt.gca().legend(loc='center left', bbox_to_anchor=(1, 0.5))\n",
    "\n",
    "plt.savefig(\"figures/psm_mfv_sigmav_limits.pdf\")"
   ]
  },
  {
   "cell_type": "code",
   "execution_count": null,
   "metadata": {
    "collapsed": true,
    "hidden": true
   },
   "outputs": [],
   "source": [
    "import os\n",
    "os.system('say \"Done computing limits\"')"
   ]
  },
  {
   "cell_type": "markdown",
   "metadata": {
    "heading_collapsed": true
   },
   "source": [
    "# Vector mediator"
   ]
  },
  {
   "cell_type": "markdown",
   "metadata": {
    "heading_collapsed": true,
    "hidden": true
   },
   "source": [
    "## Setup"
   ]
  },
  {
   "cell_type": "code",
   "execution_count": 8,
   "metadata": {
    "collapsed": true,
    "hidden": true
   },
   "outputs": [],
   "source": [
    "vm = VectorMediator(mx=1., mv=1000., gvxx=1., gvuu=1., gvdd=0.2, gvss=0., gvee=0., gvmumu=0.)\n",
    "\n",
    "# Masses to scan over\n",
    "mx_min, mx_max, n_mxs = mpi0/2., 250., 100\n",
    "vm_mxs = np.linspace(mx_min, mx_max, n_mxs)"
   ]
  },
  {
   "cell_type": "markdown",
   "metadata": {
    "heading_collapsed": true,
    "hidden": true
   },
   "source": [
    "## Recompute constraints"
   ]
  },
  {
   "cell_type": "code",
   "execution_count": 9,
   "metadata": {
    "hidden": true
   },
   "outputs": [
    {
     "name": "stderr",
     "output_type": "stream",
     "text": [
      "/Users/acoogan/.pyenv/versions/2.7.13/Python.framework/Versions/2.7/lib/python2.7/site-packages/scipy/integrate/quadpack.py:385: IntegrationWarning: The integral is probably divergent, or slowly convergent.\n",
      "  warnings.warn(msg, IntegrationWarning)\n"
     ]
    }
   ],
   "source": [
    "vm_lims_comptel = vm.binned_limits(vm_mxs, comptel_diffuse)\n",
    "vm_lims_egret = vm.binned_limits(vm_mxs, egret_diffuse)\n",
    "vm_lims_fermi = vm.binned_limits(vm_mxs, fermi_diffuse)"
   ]
  },
  {
   "cell_type": "code",
   "execution_count": 10,
   "metadata": {
    "hidden": true
   },
   "outputs": [
    {
     "name": "stderr",
     "output_type": "stream",
     "text": [
      "/Users/acoogan/Dropbox/Physics/Sub-GeV_DM/Hazma/hazma/gamma_ray_limits/compute_limits.py:146: RuntimeWarning: divide by zero encountered in double_scalars\n",
      "  lim = prefactor * n_sigma / (-limit_obj.fun)\n"
     ]
    }
   ],
   "source": [
    "vm_lims_e_astrogam = vm.unbinned_limits(vm_mxs, target_params=gc_target, bg_model=gc_bg_model)"
   ]
  },
  {
   "cell_type": "code",
   "execution_count": null,
   "metadata": {
    "collapsed": true,
    "hidden": true
   },
   "outputs": [],
   "source": [
    "# vm_lims_cmb = vm.cmb_limits(vm_mxs)"
   ]
  },
  {
   "cell_type": "code",
   "execution_count": null,
   "metadata": {
    "collapsed": true,
    "hidden": true
   },
   "outputs": [],
   "source": [
    "# np.savetxt(\"data/vm_lims_comptel.csv\",\n",
    "#            np.array([vm_mxs, vm_lims_comptel]).T,\n",
    "#            delimiter=\",\",\n",
    "#            header=\"Columns: mx (MeV), <sigma v> limit (cm^3/s)\")\n",
    "# np.savetxt(\"data/vm_lims_egret.csv\",\n",
    "#            np.array([vm_mxs, vm_lims_egret]).T,\n",
    "#            delimiter=\",\",\n",
    "#            header=\"Columns: mx (MeV), <sigma v> limit (cm^3/s)\")\n",
    "# np.savetxt(\"data/vm_lims_fermi.csv\",\n",
    "#            np.array([vm_mxs, vm_lims_fermi]).T,\n",
    "#            delimiter=\",\",\n",
    "#            header=\"Columns: mx (MeV), <sigma v> limit (cm^3/s)\")\n",
    "# np.savetxt(\"data/vm_lims_e_astrogam.csv\",\n",
    "#            np.array([vm_mxs, vm_lims_e_astrogam]).T,\n",
    "#            delimiter=\",\",\n",
    "#            header=\"Columns: mx (MeV), <sigma v> limit (cm^3/s)\")\n",
    "\n",
    "# np.savetxt(\"data/vm_lims_cmb.csv\",\n",
    "#            np.array([vm_mxs, vm_lims_cmb]).T,\n",
    "#            delimiter=\",\",\n",
    "#            header=\"Columns: mx (MeV), <sigma v> limit (cm^3/s)\")"
   ]
  },
  {
   "cell_type": "markdown",
   "metadata": {
    "heading_collapsed": true,
    "hidden": true
   },
   "source": [
    "## Load previously computed constraints"
   ]
  },
  {
   "cell_type": "code",
   "execution_count": null,
   "metadata": {
    "collapsed": true,
    "hidden": true
   },
   "outputs": [],
   "source": [
    "vm_mxs, vm_lims_egret = np.loadtxt(\"data/vm_lims_egret.csv\", delimiter=\",\").T\n",
    "vm_mxs, vm_lims_comptel = np.loadtxt(\"data/vm_lims_comptel.csv\", delimiter=\",\").T\n",
    "vm_mxs, vm_lims_fermi = np.loadtxt(\"data/vm_lims_fermi.csv\", delimiter=\",\").T\n",
    "vm_mxs, vm_lims_e_astrogam = np.loadtxt(\"data/vm_lims_e_astrogam.csv\", delimiter=\",\").T\n",
    "vm_mxs, vm_lims_cmb = np.loadtxt(\"data/vm_lims_cmb.csv\", delimiter=\",\").T"
   ]
  },
  {
   "cell_type": "markdown",
   "metadata": {
    "heading_collapsed": true,
    "hidden": true
   },
   "source": [
    "## Plot results"
   ]
  },
  {
   "cell_type": "code",
   "execution_count": 12,
   "metadata": {
    "hidden": true
   },
   "outputs": [
    {
     "data": {
      "text/plain": [
       "<matplotlib.legend.Legend at 0x109f9e490>"
      ]
     },
     "execution_count": 12,
     "metadata": {},
     "output_type": "execute_result"
    },
    {
     "data": {
      "image/png": "[encoded data removed]",
      "text/plain": [
       "<Figure size 1000x500 with 1 Axes>"
      ]
     },
     "metadata": {},
     "output_type": "display_data"
    }
   ],
   "source": [
    "plt.figure(figsize=(8, 4))\n",
    "\n",
    "plt.plot(vm_mxs, vm_lims_comptel, label=\"COMPTEL\", color=colors[0])\n",
    "plt.plot(vm_mxs, vm_lims_egret, label=\"EGRET\", color=colors[1])\n",
    "plt.plot(vm_mxs, vm_lims_fermi, label=\"Fermi\", color=colors[2])\n",
    "plt.plot(vm_mxs, vm_lims_e_astrogam, label=\"e-ASTROGAM\", color=colors[3])\n",
    "# plt.plot(vm_mxs, vm_lims_cmb, label=\"CMB\", color=\"black\")\n",
    "# plt.plot(rd_mxs, rd_lims, '--', label=\"Thermal relic\", color=\"black\", alpha=0.4)\n",
    "\n",
    "plt.xlim(vm_mxs[[1, -1]])\n",
    "plt.ylim([1e-31,1e-23])\n",
    "plt.xscale(\"linear\")\n",
    "plt.yscale(\"log\")\n",
    "plt.grid()\n",
    "plt.xlabel(r\"$m_\\chi$ (MeV)\")\n",
    "plt.ylabel(r\"$\\langle \\sigma v \\rangle_0$ (cm$^3$/s)\")\n",
    "plt.title(r\"Vector mediator, $g_{Vuu} = %i g_{Vdd}$\" % (vm.gvuu/vm.gvdd))\n",
    "\n",
    "# Shrink current axis by 20%\n",
    "box = plt.gca().get_position()\n",
    "plt.gca().set_position([box.x0, box.y0, box.width * 0.8, box.height])\n",
    "# Put a legend to the right of the current axis\n",
    "plt.gca().legend(loc='center left', bbox_to_anchor=(1, 0.5))\n",
    "\n",
    "# plt.savefig(\"figures/vm_sigmav_limits.pdf\")"
   ]
  },
  {
   "cell_type": "code",
   "execution_count": null,
   "metadata": {
    "collapsed": true,
    "hidden": true
   },
   "outputs": [],
   "source": [
    "import os\n",
    "os.system('say \"Done computing limits\"')"
   ]
  },
  {
   "cell_type": "markdown",
   "metadata": {
    "heading_collapsed": true,
    "hidden": true
   },
   "source": [
    "## Scratch: checking detected spectrum"
   ]
  },
  {
   "cell_type": "code",
   "execution_count": 2,
   "metadata": {
    "hidden": true
   },
   "outputs": [
    {
     "name": "stderr",
     "output_type": "stream",
     "text": [
      "/Users/acoogan/.pyenv/versions/2.7.13/Python.framework/Versions/2.7/lib/python2.7/site-packages/matplotlib/font_manager.py:1328: UserWarning: findfont: Font family [u'serif'] not found. Falling back to DejaVu Sans\n",
      "  (prop.get_family(), self.defaultFamily[fontext]))\n"
     ]
    },
    {
     "data": {
      "image/png": "[encoded data removed]",
      "text/plain": [
       "<Figure size 625x437.5 with 1 Axes>"
      ]
     },
     "metadata": {},
     "output_type": "display_data"
    }
   ],
   "source": [
    "e_gam_min, e_gam_max, n_e_gams = 10, 1000., 200\n",
    "e_gams = np.logspace(np.log10(e_gam_min), np.log10(e_gam_max), n_e_gams)\n",
    "\n",
    "vm = VectorMediator(mx=100., mv=1000., gvxx=1., gvuu=1., gvdd=0.2, gvss=0., gvee=0., gvmumu=0.)\n",
    "e_cm = 2.*vm.mx*(1+0.5*1e-6)\n",
    "\n",
    "dndes_det_fermi = get_detected_spectrum(lambda es, e_cm: vm.spectra(es, e_cm)[\"total\"],\n",
    "                                        vm.gamma_ray_lines,\n",
    "                                        10, 1000, e_cm, energy_res_fermi)\n",
    "\n",
    "dndes_det_e_a = get_detected_spectrum(lambda es, e_cm: vm.spectra(es, e_cm)[\"total\"],\n",
    "                                      vm.gamma_ray_lines,\n",
    "                                      10, 1000, e_cm, energy_res_e_astrogam)\n",
    "\n",
    "plt.plot(e_gams, vm.spectra(e_gams, e_cm)[\"total\"])\n",
    "plt.plot(e_gams, dndes_det_fermi(e_gams), '--', label=\"Fermi\")\n",
    "plt.plot(e_gams, dndes_det_e_a(e_gams), '--', label=\"e-ASTROGAM\")\n",
    "plt.axvline(vm.gamma_ray_lines(e_cm)[\"pi0 g\"][\"energy\"], color='k')\n",
    "\n",
    "plt.xlim(10, 200)\n",
    "plt.ylim(1e-4, 3e-1)\n",
    "plt.legend()\n",
    "plt.yscale(\"log\")"
   ]
  },
  {
   "cell_type": "markdown",
   "metadata": {
    "heading_collapsed": true,
    "hidden": true
   },
   "source": [
    "## Look out how e-ASTROGAM and CMB constraints vary with couplings"
   ]
  },
  {
   "cell_type": "code",
   "execution_count": 52,
   "metadata": {
    "collapsed": true,
    "hidden": true
   },
   "outputs": [],
   "source": [
    "vm = VectorMediator(mx=1., mv=1000., gvxx=1., gvuu=1., gvdd=1., gvss=0., gvee=0., gvmumu=0.)\n",
    "\n",
    "# Masses to scan over\n",
    "mx_min, mx_max, n_mxs = 280, 300, 50\n",
    "vm_mxs_no_med_ann = np.linspace(mx_min, mx_max, n_mxs)\n",
    "\n",
    "# Coupling ratios\n",
    "ratios = np.array([-2, -1., 0., 0.25, 0.5, 0.75, 1.])\n",
    "\n",
    "# Set up the colormap\n",
    "cmap = cm.viridis_r\n",
    "norm = Normalize(vmin=ratios[0], vmax=ratios[-1])\n",
    "m = cm.ScalarMappable(norm=norm, cmap=cmap)\n",
    "m.set_array(ratios)"
   ]
  },
  {
   "cell_type": "code",
   "execution_count": 39,
   "metadata": {
    "collapsed": true,
    "hidden": true
   },
   "outputs": [],
   "source": [
    "# Compute ASTROGAM limits for the different couplings\n",
    "vm_lims_e_astrogam_gvdd = []\n",
    "\n",
    "for ratio in ratios:\n",
    "    vm.gvdd = ratio * vm.gvuu\n",
    "    vm_lims_e_astrogam_gvdd.append(vm.unbinned_limits(vm_mxs, target_params=gc_target, bg_model=gc_bg_model))"
   ]
  },
  {
   "cell_type": "code",
   "execution_count": 141,
   "metadata": {
    "collapsed": true,
    "hidden": true
   },
   "outputs": [],
   "source": [
    "# Compute CMB limits for the different couplings\n",
    "vm_lims_cmb_gvdd = []\n",
    "\n",
    "for ratio in ratios:\n",
    "    vm.gvdd = ratio * vm.gvuu\n",
    "    vm_lims_cmb_gvdd.append(vm.cmb_limits(vm_mxs))"
   ]
  },
  {
   "cell_type": "code",
   "execution_count": null,
   "metadata": {
    "collapsed": true,
    "hidden": true
   },
   "outputs": [],
   "source": [
    "plt.figure(figsize=(8, 4))\n",
    "\n",
    "for i, (ratio, lims, cmb) in enumerate(zip(ratios, vm_lims_e_astrogam_gvdd, vm_lims_cmb_gvdd)):\n",
    "    plt.plot(vm_mxs, lims, color=m.to_rgba(ratio))\n",
    "    plt.plot(vm_mxs, cmb, '--', color=m.to_rgba(ratio), alpha=0.7)\n",
    "\n",
    "plt.text(131, 5.5e-29, \"CMB\", fontdict={\"fontsize\": 9})\n",
    "plt.text(130.5, 3.5e-30, \"e-ASTROGAM\", fontdict={\"fontsize\": 9})\n",
    "\n",
    "# Formatting\n",
    "plt.xlim(130, 180)\n",
    "plt.ylim(2e-30, 1e-27)\n",
    "plt.xscale(\"linear\")\n",
    "plt.yscale(\"log\")\n",
    "plt.grid()\n",
    "plt.xlabel(r\"$m_\\chi$ (MeV)\")\n",
    "plt.ylabel(r\"$\\langle \\sigma v \\rangle_0$ (cm$^3$/s)\")\n",
    "plt.title(r\"Vector mediator\")\n",
    "# plt.legend()\n",
    "\n",
    "plt.gcf().colorbar(m, ax=plt.gca()).set_label(r\"$g_{Vdd} / g_{Vuu}$\")\n",
    "\n",
    "# plt.savefig(\"figures/vm_sigmav_limits_coupling_dependence.pdf\")"
   ]
  },
  {
   "cell_type": "markdown",
   "metadata": {
    "heading_collapsed": true,
    "hidden": true
   },
   "source": [
    "## Limits when annihilating into $V V$"
   ]
  },
  {
   "cell_type": "markdown",
   "metadata": {
    "hidden": true
   },
   "source": [
    "The result is not so interesting: the limit is the same as for $g_{Vuu} = g_{Vdd}$, but a factor of $\\sim 1.5 - 2$ weaker since there are more photons but they have lower energy."
   ]
  },
  {
   "cell_type": "code",
   "execution_count": 76,
   "metadata": {
    "collapsed": true,
    "hidden": true
   },
   "outputs": [],
   "source": [
    "vm = VectorMediator(mx=1., mv=1000., gvxx=1., gvuu=1., gvdd=1., gvss=0., gvee=0., gvmumu=0.)\n",
    "\n",
    "# Masses to scan over\n",
    "mx_min, mx_max, n_mxs = 140, 280, 50\n",
    "vm_mxs_no_med_ann = np.linspace(mx_min, mx_max, n_mxs)\n",
    "\n",
    "vm.gvdd = vm.gvuu\n",
    "vms_no_med_ann = vm.unbinned_limits(vm_mxs_no_med_ann, target_params=gc_target, bg_model=gc_bg_model, energy_res=lambda e: 0.01)"
   ]
  },
  {
   "cell_type": "code",
   "execution_count": 77,
   "metadata": {
    "collapsed": true,
    "hidden": true
   },
   "outputs": [],
   "source": [
    "vm = VectorMediator(mx=1., mv=140., gvxx=1., gvuu=1., gvdd=0.1, gvss=0., gvee=0., gvmumu=0.)\n",
    "\n",
    "# Masses to scan over\n",
    "mx_min, mx_max, n_mxs = 140, 280, 50\n",
    "vm_mxs_med_ann = np.linspace(mx_min, mx_max, n_mxs)\n",
    "\n",
    "vm.gvdd = 0.75 * vm.gvuu\n",
    "vms_med_ann = vm.unbinned_limits(vm_mxs_med_ann, target_params=gc_target, bg_model=gc_bg_model, energy_res=lambda e: 0.01)"
   ]
  },
  {
   "cell_type": "code",
   "execution_count": 80,
   "metadata": {
    "hidden": true
   },
   "outputs": [
    {
     "data": {
      "text/plain": [
       "<matplotlib.legend.Legend at 0x10afadd90>"
      ]
     },
     "execution_count": 80,
     "metadata": {},
     "output_type": "execute_result"
    },
    {
     "data": {
      "image/png": "[encoded data removed]",
      "text/plain": [
       "<Figure size 625x437.5 with 1 Axes>"
      ]
     },
     "metadata": {},
     "output_type": "display_data"
    }
   ],
   "source": [
    "plt.plot(vm_mxs_no_med_ann, vms_med_ann / vms_no_med_ann, label=\"V V / pi0 g\")\n",
    "\n",
    "plt.legend()"
   ]
  },
  {
   "cell_type": "code",
   "execution_count": 68,
   "metadata": {
    "hidden": true
   },
   "outputs": [
    {
     "data": {
      "image/png": "[encoded data removed]",
      "text/plain": [
       "<Figure size 625x437.5 with 1 Axes>"
      ]
     },
     "metadata": {},
     "output_type": "display_data"
    }
   ],
   "source": [
    "plt.plot(vm_mxs_no_med_ann, vms_no_med_ann, label=\"pi0 g\")\n",
    "plt.plot(vm_mxs_med_ann, vms_med_ann, label=\"V V\")\n",
    "\n",
    "plt.legend()\n",
    "plt.yscale(\"log\")"
   ]
  },
  {
   "cell_type": "code",
   "execution_count": 79,
   "metadata": {
    "hidden": true
   },
   "outputs": [
    {
     "data": {
      "text/plain": [
       "0"
      ]
     },
     "execution_count": 79,
     "metadata": {},
     "output_type": "execute_result"
    }
   ],
   "source": [
    "import os\n",
    "os.system('say \"Done computing limits\"')"
   ]
  },
  {
   "cell_type": "markdown",
   "metadata": {
    "heading_collapsed": true
   },
   "source": [
    "# Scratch/testing"
   ]
  },
  {
   "cell_type": "code",
   "execution_count": null,
   "metadata": {
    "collapsed": true,
    "hidden": true
   },
   "outputs": [],
   "source": [
    "from hazma.gamma_ray_limits.compute_limits import get_detected_spectrum\n",
    "from hazma.gamma_ray_limits.gamma_ray_limit_parameters import energy_res_comptel\n",
    "import matplotlib.cm as cm\n",
    "from matplotlib.colors import Normalize\n",
    "\n",
    "vm = VectorMediator(mx=1., mv=201., gvxx=1., gvuu=1., gvdd=0.2, gvss=0., gvee=0., gvmumu=0.)\n",
    "\n",
    "# mx_min, mx_max, n_mxs = 70, 200., 4\n",
    "# mxs = np.logspace(np.log10(mx_min), np.log10(mx_max), n_mxs)\n",
    "mxs = np.array([100.])\n",
    "\n",
    "cmap = cm.viridis\n",
    "norm = Normalize(vmin=np.log10(mxs[0]), vmax=np.log10(mxs[-1]))\n",
    "\n",
    "e_gams = np.logspace(0, np.log10(300), 300)\n",
    "\n",
    "for mx in mxs:\n",
    "    vm.mx = mx\n",
    "    e_cm = 2.*vm.mx*(1.+0.5*1e-6)\n",
    "\n",
    "    dnde_det = get_detected_spectrum(e_gams, vm.spectra(e_gams, e_cm)[\"total\"], *vm.gamma_ray_lines(e_cm), energy_res=energy_res_comptel)\n",
    "    \n",
    "    plt.loglog(e_gams, dnde_det(e_gams), color=cmap(norm(np.log10(mx))), label=\"%.1f\" % mx)\n",
    "    \n",
    "plt.legend()\n",
    "plt.ylim(1e-10, 1e0)"
   ]
  },
  {
   "cell_type": "code",
   "execution_count": null,
   "metadata": {
    "collapsed": true,
    "hidden": true
   },
   "outputs": [],
   "source": [
    "for fm in [comptel_diffuse, egret_diffuse, fermi_diffuse]:\n",
    "    print fm.bins[0][0], fm.bins[-1][-1]"
   ]
  },
  {
   "cell_type": "code",
   "execution_count": null,
   "metadata": {
    "collapsed": true,
    "hidden": true
   },
   "outputs": [],
   "source": [
    "from hazma.gamma_ray_limits.compute_limits import get_detected_spectrum\n",
    "\n",
    "mx = 200.\n",
    "vm.mx = mx\n",
    "e_cm = 2.*vm.mx * (1. + 0.5*1e-6)\n",
    "\n",
    "e_gams = np.logspace(np.log10(A_eff_e_astrogam.x[0])-1,\n",
    "                     np.log10(A_eff_e_astrogam.x[-1])+1, 75)\n",
    "dndes = vm.spectra(e_gams, e_cm)[\"total\"]\n",
    "\n",
    "dnde_det = get_detected_spectrum(e_gams, dndes, *vm.gamma_ray_lines(e_cm), energy_res=energy_res_e_astrogam)"
   ]
  },
  {
   "cell_type": "code",
   "execution_count": null,
   "metadata": {
    "collapsed": true,
    "hidden": true
   },
   "outputs": [],
   "source": [
    "e_min = max(A_eff_e_astrogam.x[0],\n",
    "            dnde_det.x[np.where(dnde_det.y)[0][0]])\n",
    "e_max = min(A_eff_e_astrogam.x[-1],\n",
    "            dnde_det.x[np.where(dnde_det.y)[0][-1]])\n",
    "e_dnde_max = dnde_det.x[np.argmax(dnde_det.y)]\n",
    "print(e_min, e_max, e_dnde_max)\n",
    "\n",
    "e_a_0 = 10.**(0.5 * (np.log10(e_dnde_max) + np.log10(e_min)))\n",
    "e_b_0 = 10.**(0.5 * (np.log10(e_max) + np.log10(e_dnde_max)))"
   ]
  },
  {
   "cell_type": "code",
   "execution_count": null,
   "metadata": {
    "collapsed": true,
    "hidden": true
   },
   "outputs": [],
   "source": [
    "plt.loglog(e_gams, dnde_det(e_gams))\n",
    "plt.loglog(2*[e_a_0], [1e-100, 1e0])\n",
    "plt.loglog(2*[e_b_0], [1e-100, 1e0])"
   ]
  },
  {
   "cell_type": "markdown",
   "metadata": {},
   "source": [
    "# Minimal examples of how to set limits\n",
    "Any of the three blocks below can be run without needing to set anything else up."
   ]
  },
  {
   "cell_type": "markdown",
   "metadata": {},
   "source": [
    "Unbinned (ie, projected) limits:"
   ]
  },
  {
   "cell_type": "code",
   "execution_count": 3,
   "metadata": {
    "collapsed": true
   },
   "outputs": [
    {
     "name": "stderr",
     "output_type": "stream",
     "text": [
      "/Users/acoogan/Dropbox/Physics/Sub-GeV_DM/Hazma/hazma/gamma_ray_limits/compute_limits.py:44: RuntimeWarning: invalid value encountered in sqrt\n",
      "  df_de_a = 1./np.sqrt(I_B_val) * \\\n",
      "/Users/acoogan/Dropbox/Physics/Sub-GeV_DM/Hazma/hazma/gamma_ray_limits/compute_limits.py:46: RuntimeWarning: invalid value encountered in sqrt\n",
      "  df_de_b = -1./np.sqrt(I_B_val) * \\\n",
      "/Users/acoogan/Dropbox/Physics/Sub-GeV_DM/Hazma/hazma/gamma_ray_limits/compute_limits.py:50: RuntimeWarning: invalid value encountered in sqrt\n",
      "  return -I_S_val/np.sqrt(I_B_val), jac_val\n"
     ]
    }
   ],
   "source": [
    "import numpy as np\n",
    "from hazma.scalar_mediator import ScalarMediator\n",
    "from hazma.gamma_ray_limits.gamma_ray_limit_parameters import gc_target, gc_bg_model, A_eff_e_astrogam, energy_res_e_astrogam, T_obs_e_astrogam\n",
    "\n",
    "sm = ScalarMediator(mx=1., ms=1000., gsxx=1., gsff=1., gsGG=1., gsFF=1.)\n",
    "mxs = np.linspace(70., 250., 3)\n",
    "\n",
    "sm_lims_e_astrogam = sm.unbinned_limits(mxs, target_params=gc_target, bg_model=gc_bg_model,\n",
    "                                        A_eff=A_eff_e_astrogam, energy_res=energy_res_e_astrogam, T_obs=T_obs_e_astrogam)"
   ]
  },
  {
   "cell_type": "markdown",
   "metadata": {},
   "source": [
    "Binned limits (ie, using current data from Fermi, COMPTEL or EGRET):"
   ]
  },
  {
   "cell_type": "code",
   "execution_count": 3,
   "metadata": {
    "collapsed": true
   },
   "outputs": [],
   "source": [
    "import numpy as np\n",
    "from hazma.scalar_mediator import ScalarMediator\n",
    "from hazma.gamma_ray_limits.gamma_ray_limit_parameters import egret_diffuse\n",
    "\n",
    "sm = ScalarMediator(mx=1., ms=1000., gsxx=1., gsff=1., gsGG=1., gsFF=1.)\n",
    "mxs = np.linspace(70., 250., 3)\n",
    "\n",
    "sm_lims_egret = sm.binned_limits(mxs, egret_diffuse)"
   ]
  },
  {
   "cell_type": "markdown",
   "metadata": {},
   "source": [
    "Effective areas"
   ]
  },
  {
   "cell_type": "code",
   "execution_count": 6,
   "metadata": {},
   "outputs": [
    {
     "data": {
      "text/plain": [
       "<matplotlib.text.Text at 0x111a96b50>"
      ]
     },
     "execution_count": 6,
     "metadata": {},
     "output_type": "execute_result"
    },
    {
     "data": {
      "image/png": "[encoded data removed]",
      "text/plain": [
       "<matplotlib.figure.Figure at 0x111586f50>"
      ]
     },
     "metadata": {},
     "output_type": "display_data"
    }
   ],
   "source": [
    "import numpy as np\n",
    "from hazma.gamma_ray_limits.gamma_ray_limit_parameters import A_eff_comptel, A_eff_egret, A_eff_fermi, A_eff_e_astrogam\n",
    "\n",
    "e_gam_min, e_gam_max, n_e_gams = 5., 300., 250\n",
    "e_gams = np.logspace(np.log10(e_gam_min), np.log10(e_gam_max), n_e_gams)\n",
    "\n",
    "plt.plot(e_gams, A_eff_comptel(e_gams), label=\"COMPTEL\")\n",
    "plt.plot(e_gams, A_eff_egret(e_gams), label=\"EGRET\")\n",
    "plt.plot(e_gams, A_eff_fermi(e_gams), label=\"Fermi-LAT\")\n",
    "plt.plot(e_gams, A_eff_e_astrogam(e_gams), label=\"e-ASTROGAM\")\n",
    "\n",
    "plt.legend()\n",
    "plt.xscale(\"log\")\n",
    "plt.yscale(\"log\")\n",
    "plt.xlabel(r\"$E_\\gamma$ (MeV)\")\n",
    "plt.ylabel(r\"$A_{\\mathrm{eff}}$ (cm$^2$)\")"
   ]
  },
  {
   "cell_type": "code",
   "execution_count": null,
   "metadata": {
    "collapsed": true
   },
   "outputs": [],
   "source": []
  }
 ],
 "metadata": {
  "kernelspec": {
   "display_name": "Python 2",
   "language": "python",
   "name": "python2"
  },
  "language_info": {
   "codemirror_mode": {
    "name": "ipython",
    "version": 2
   },
   "file_extension": ".py",
   "mimetype": "text/x-python",
   "name": "python",
   "nbconvert_exporter": "python",
   "pygments_lexer": "ipython2",
   "version": "2.7.13"
  },
  "toc": {
   "nav_menu": {},
   "number_sections": true,
   "sideBar": true,
   "skip_h1_title": false,
   "toc_cell": false,
   "toc_position": {
    "height": "922px",
    "left": "0px",
    "right": "886px",
    "top": "95.1px",
    "width": "26px"
   },
   "toc_section_display": "block",
   "toc_window_display": true
  }
 },
 "nbformat": 4,
 "nbformat_minor": 2
}
