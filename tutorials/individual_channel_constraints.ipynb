{
 "cells": [
  {
   "cell_type": "code",
   "execution_count": null,
   "metadata": {
    "collapsed": true
   },
   "outputs": [],
   "source": [
    "import matplotlib.pyplot as plt\n",
    "import numpy as np\n",
    "\n",
    "from hazma.scalar_mediator import ScalarMediator\n",
    "from hazma.vector_mediator import VectorMediator\n",
    "from hazma.parameters import neutral_pion_mass as mpi0\n",
    "from hazma.gamma_ray_limits.gamma_ray_limit_parameters import (energy_res_e_astrogam,\n",
    "                                                               A_eff_e_astrogam,\n",
    "                                                               T_obs_e_astrogam,\n",
    "                                                               gc_target,\n",
    "                                                               gc_bg_model)\n",
    "from hazma.gamma_ray_limits.compute_limits import unbinned_limit"
   ]
  },
  {
   "cell_type": "code",
   "execution_count": null,
   "metadata": {
    "collapsed": true
   },
   "outputs": [],
   "source": [
    "def get_tex_label(fs):\n",
    "    tex_label = r\"$\"+ fs\n",
    "    tex_label = tex_label.replace(\"pi0\", \"\\pi^0\")\n",
    "    tex_label = tex_label.replace(\"pi pi\", \"\\pi^+ \\pi^-\")\n",
    "    tex_label = tex_label.replace(\"mu mu\", \"\\mu^+ \\mu^-\")\n",
    "    tex_label = tex_label.replace(\"g\", \"\\gamma\")\n",
    "    tex_label = tex_label.replace(\"e e\", \"e^+ e^-\")\n",
    "    return tex_label + r\"$\"\n",
    "\n",
    "def get_color(fs):\n",
    "    fss = [\"pi0 pi0\", \"pi pi\", \"mu mu\", \"e e\", \"pi0 g\", \"g g\", \"pi0 pi pi\", \"s s\", \"v v\"]\n",
    "    return list(plt.rcParams[\"axes.prop_cycle\"])[fss.index(fs)][\"color\"]"
   ]
  },
  {
   "cell_type": "markdown",
   "metadata": {},
   "source": [
    "Constraint plots are usually computed assuming 100% branching fraction into a single final state. In this notebook, we do this for the scalar and vector simplified models using e-ASTROGAM as our experiment of choice."
   ]
  },
  {
   "cell_type": "markdown",
   "metadata": {
    "heading_collapsed": true
   },
   "source": [
    "## Recompute limits"
   ]
  },
  {
   "cell_type": "code",
   "execution_count": null,
   "metadata": {
    "collapsed": true,
    "hidden": true
   },
   "outputs": [],
   "source": [
    "# Masses to scan over\n",
    "mx_min, mx_max, n_mxs = mpi0/2., 250., 100\n",
    "mxs = np.linspace(mx_min, mx_max, n_mxs)"
   ]
  },
  {
   "cell_type": "markdown",
   "metadata": {
    "hidden": true
   },
   "source": [
    "### Scalar final states"
   ]
  },
  {
   "cell_type": "code",
   "execution_count": null,
   "metadata": {
    "collapsed": true,
    "hidden": true
   },
   "outputs": [],
   "source": [
    "def _constrain_channel_s(mx, fs):\n",
    "    sm = ScalarMediator(mx, ms=1000., gsxx=1., gsff=1., gsGG=1., gsFF=1.)\n",
    "    \n",
    "    if fs not in [\"g g\", \"s s\"]:\n",
    "        return unbinned_limit(sm.spectrum_functions()[fs], lambda e_cm: {},\n",
    "                              sm.mx, False,\n",
    "                              A_eff_e_astrogam, energy_res_e_astrogam,\n",
    "                              T_obs_e_astrogam, gc_target, gc_bg_model)\n",
    "    elif fs == \"g g\":\n",
    "        return unbinned_limit(lambda es, e_cm: 0.0,\n",
    "                              lambda e_cm: {\"g g\": {\"bf\": 1.0, \"energy\": e_cm / 2.0}},\n",
    "                              sm.mx, False,\n",
    "                              A_eff_e_astrogam, energy_res_e_astrogam,\n",
    "                              T_obs_e_astrogam, gc_target, gc_bg_model)\n",
    "    \n",
    "def constrain_channel_s(mxs, fs):\n",
    "    return np.vectorize(lambda mx: _constrain_channel_s(mx, fs))(mxs)"
   ]
  },
  {
   "cell_type": "code",
   "execution_count": null,
   "metadata": {
    "hidden": true
   },
   "outputs": [],
   "source": [
    "sm_ch_limits = {}\n",
    "\n",
    "for fs in ScalarMediator.list_final_states():\n",
    "    if fs not in [\"s s\"]:\n",
    "        sm_ch_limits[fs] = constrain_channel_s(mxs, fs)"
   ]
  },
  {
   "cell_type": "code",
   "execution_count": null,
   "metadata": {
    "collapsed": true,
    "hidden": true
   },
   "outputs": [],
   "source": [
    "np.save(\"data/sm_individual_channel_limits.npy\", [mxs, sm_ch_limits])"
   ]
  },
  {
   "cell_type": "markdown",
   "metadata": {
    "heading_collapsed": true,
    "hidden": true
   },
   "source": [
    "### Vector final states"
   ]
  },
  {
   "cell_type": "code",
   "execution_count": null,
   "metadata": {
    "collapsed": true,
    "hidden": true
   },
   "outputs": [],
   "source": [
    "def _constrain_channel_v(mx, fs):\n",
    "    vm = VectorMediator(mx, mv=1000., gvxx=1., gvuu=1., gvdd=1., gvss=1., gvee=1., gvmumu=1.)\n",
    "    \n",
    "    if fs not in [\"pi0 g\", \"v v\", \"pi0 pi pi\"]:\n",
    "        return unbinned_limit(vm.spectrum_functions()[fs], lambda e_cm: {},\n",
    "                              vm.mx, False,\n",
    "                              A_eff_e_astrogam, energy_res_e_astrogam,\n",
    "                              T_obs_e_astrogam, gc_target, gc_bg_model)\n",
    "    elif fs == \"pi0 g\":\n",
    "        return unbinned_limit(vm.spectrum_functions()[fs],\n",
    "                              lambda e_cm: {\"pi0 g\": {\"bf\": 1.0, \"energy\": (e_cm**2 - mpi0**2) / (2.*e_cm)}},\n",
    "                              vm.mx, False,\n",
    "                              A_eff_e_astrogam, energy_res_e_astrogam,\n",
    "                              T_obs_e_astrogam, gc_target, gc_bg_model)\n",
    "    \n",
    "def constrain_channel_v(mxs, fs):\n",
    "    return np.vectorize(lambda mx: _constrain_channel_v(mx, fs))(mxs)"
   ]
  },
  {
   "cell_type": "code",
   "execution_count": null,
   "metadata": {
    "collapsed": true,
    "hidden": true
   },
   "outputs": [],
   "source": [
    "vm_ch_limits = {}\n",
    "\n",
    "for fs in VectorMediator.list_final_states():\n",
    "    if fs not in [\"v v\", \"pi0 pi pi\"]:\n",
    "        vm_ch_limits[fs] = constrain_channel_v(mxs, fs)"
   ]
  },
  {
   "cell_type": "code",
   "execution_count": null,
   "metadata": {
    "collapsed": true,
    "hidden": true
   },
   "outputs": [],
   "source": [
    "np.save(\"data/vm_individual_channel_limits.npy\", [mxs, vm_ch_limits])"
   ]
  },
  {
   "cell_type": "markdown",
   "metadata": {
    "heading_collapsed": true
   },
   "source": [
    "## Load and plot precomputed results"
   ]
  },
  {
   "cell_type": "code",
   "execution_count": 12,
   "metadata": {
    "collapsed": true,
    "hidden": true
   },
   "outputs": [],
   "source": [
    "mxs, sm_ch_limits = np.load(\"data/sm_individual_channel_limits.npy\")\n",
    "mxs, vm_ch_limits = np.load(\"data/vm_individual_channel_limits.npy\")\n",
    "\n",
    "sm_mxs, sm_limits = np.loadtxt(\"data/sm_lims_e_astrogam.csv\", delimiter=\",\").T\n",
    "vm_mxs, vm_limits = np.loadtxt(\"data/vm_lims_e_astrogam.csv\", delimiter=\",\").T"
   ]
  },
  {
   "cell_type": "code",
   "execution_count": 13,
   "metadata": {
    "hidden": true
   },
   "outputs": [
    {
     "data": {
      "image/png": "[encoded data removed]",
      "text/plain": [
       "<matplotlib.figure.Figure at 0x113c9b8d0>"
      ]
     },
     "metadata": {},
     "output_type": "display_data"
    }
   ],
   "source": [
    "plt.figure(figsize=(8, 4))\n",
    "\n",
    "fs_list = [fs for fs in list(set(ScalarMediator.list_final_states() + VectorMediator.list_final_states())) if fs not in [\"s s\", \"v v\", \"pi0 pi pi\"]]\n",
    "\n",
    "# Individual channel limits\n",
    "for fs in fs_list:\n",
    "    if fs in ScalarMediator.list_final_states() and fs in VectorMediator.list_final_states():\n",
    "        plt.plot(mxs, sm_ch_limits[fs], color=get_color(fs), label=get_tex_label(fs), linewidth=1.5)\n",
    "    elif fs in ScalarMediator.list_final_states():\n",
    "        plt.plot(mxs, sm_ch_limits[fs], color=get_color(fs), label=get_tex_label(fs), linewidth=1.5)\n",
    "    elif fs in VectorMediator.list_final_states():\n",
    "        plt.plot(mxs, vm_ch_limits[fs], color=get_color(fs), label=get_tex_label(fs), linewidth=1.5)\n",
    "        \n",
    "# Simplified model limits\n",
    "plt.plot(sm_mxs, sm_limits, ':k', linewidth=1.5, label=r\"$S$\")\n",
    "plt.plot(vm_mxs, vm_limits, '--k', linewidth=1.5, label=r\"$V$\")\n",
    "\n",
    "plt.yscale(\"log\")\n",
    "plt.xlim(mxs[[0, -1]])\n",
    "plt.ylim(5e-31, 2e-27)\n",
    "plt.xlabel(r\"$m_\\chi$ (MeV)\")\n",
    "plt.ylabel(r\"$\\langle \\sigma v \\rangle_0$ (cm$^3$/s)\")\n",
    "# plt.title(\"e-ASTROGAM limits on individual channels\")\n",
    "\n",
    "# Shrink current axis by 20%\n",
    "box = plt.gca().get_position()\n",
    "plt.gca().set_position([box.x0, box.y0, box.width * 0.8, box.height])\n",
    "# Put a legend to the right of the current axis\n",
    "plt.gca().legend(loc='center left', bbox_to_anchor=(1, 0.5))\n",
    "\n",
    "plt.savefig(\"figures/individual_channel_constraints.pdf\")"
   ]
  },
  {
   "cell_type": "code",
   "execution_count": 14,
   "metadata": {
    "hidden": true
   },
   "outputs": [
    {
     "data": {
      "text/plain": [
       "0"
      ]
     },
     "execution_count": 14,
     "metadata": {},
     "output_type": "execute_result"
    }
   ],
   "source": [
    "import os\n",
    "os.system('say \"Done computing limits\"')"
   ]
  },
  {
   "cell_type": "markdown",
   "metadata": {
    "heading_collapsed": true
   },
   "source": [
    "## Debugging"
   ]
  },
  {
   "cell_type": "code",
   "execution_count": null,
   "metadata": {
    "collapsed": true,
    "hidden": true
   },
   "outputs": [],
   "source": [
    "from hazma.scalar_mediator.scalar_mediator_fsr import dnde_xx_to_s_to_pipig\n",
    "from hazma.vector_mediator.vector_mediator_fsr import dnde_xx_to_v_to_pipig\n",
    "\n",
    "from hazma.scalar_mediator import ScalarMediator\n",
    "from hazma.vector_mediator import VectorMediator\n",
    "\n",
    "import numpy as np"
   ]
  },
  {
   "cell_type": "code",
   "execution_count": null,
   "metadata": {
    "collapsed": true,
    "hidden": true
   },
   "outputs": [],
   "source": [
    "mx = 150.\n",
    "sm = ScalarMediator(mx, ms=1000., gsxx=1., gsff=1., gsGG=1., gsFF=1.)\n",
    "\n",
    "for v in [1e-3, 1e-2, 1e-1]:\n",
    "    e_cm = 2.*mx*(1+0.5*v**2)\n",
    "    print(\"dN/dE = %e\" % dnde_xx_to_s_to_pipig(1e-1, e_cm, sm))\n",
    "    print(\"sigma = %e\" % sm.cross_sections(e_cm)[\"pi pi\"])\n",
    "    print(\"\")"
   ]
  },
  {
   "cell_type": "code",
   "execution_count": null,
   "metadata": {
    "collapsed": true,
    "hidden": true
   },
   "outputs": [],
   "source": [
    "mx = 150.\n",
    "e_cm = 2.*mx*(1+0.5*1e-6)\n",
    "\n",
    "sm = ScalarMediator(mx, ms=1000., gsxx=1., gsff=1., gsGG=1., gsFF=1.)\n",
    "vm = VectorMediator(mx, mv=1000., gvxx=1., gvuu=1., gvdd=1., gvss=1., gvee=1., gvmumu=1.)\n",
    "\n",
    "e_gams = np.logspace(0, np.log10(200), 250)\n",
    "\n",
    "plt.loglog(e_gams, e_gams * dnde_xx_to_s_to_pipig(e_gams, e_cm, sm), '--', label=\"Scalar (FSR)\")\n",
    "plt.loglog(e_gams, e_gams * dnde_xx_to_v_to_pipig(e_gams, e_cm, sm), '--', label=\"Vector (FSR)\")\n",
    "\n",
    "plt.title(r\"$m_\\chi=%f$, $E_{\\mathrm{CM}} = %f$\" % (mx, e_cm))\n",
    "plt.xlabel(r\"$E_\\gamma$\")\n",
    "plt.ylabel(r\"$dN/dE_\\gamma$ (MeV$^{-1}$)\")\n",
    "plt.legend()"
   ]
  },
  {
   "cell_type": "code",
   "execution_count": null,
   "metadata": {
    "collapsed": true,
    "hidden": true
   },
   "outputs": [],
   "source": [
    "import os\n",
    "os.system('say \"Done computing limits\"')"
   ]
  },
  {
   "cell_type": "code",
   "execution_count": null,
   "metadata": {
    "collapsed": true,
    "hidden": true
   },
   "outputs": [],
   "source": []
  }
 ],
 "metadata": {
  "kernelspec": {
   "display_name": "Python 2",
   "language": "python",
   "name": "python2"
  },
  "language_info": {
   "codemirror_mode": {
    "name": "ipython",
    "version": 2
   },
   "file_extension": ".py",
   "mimetype": "text/x-python",
   "name": "python",
   "nbconvert_exporter": "python",
   "pygments_lexer": "ipython2",
   "version": "2.7.13"
  },
  "toc": {
   "nav_menu": {},
   "number_sections": true,
   "sideBar": true,
   "skip_h1_title": false,
   "toc_cell": false,
   "toc_position": {
    "height": "880px",
    "left": "0px",
    "right": "886px",
    "top": "95.1px",
    "width": "26px"
   },
   "toc_section_display": "block",
   "toc_window_display": true
  }
 },
 "nbformat": 4,
 "nbformat_minor": 2
}
