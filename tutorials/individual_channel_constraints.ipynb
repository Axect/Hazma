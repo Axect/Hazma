{
 "cells": [
  {
   "cell_type": "code",
<<<<<<< HEAD
   "execution_count": 1,
=======
   "execution_count": null,
>>>>>>> 70432ae840d421487ac93fead9a10a29ad0606b6
   "metadata": {},
   "outputs": [],
   "source": [
    "import matplotlib.pyplot as plt\n",
    "import numpy as np\n",
    "\n",
    "from hazma.scalar_mediator import ScalarMediator\n",
    "from hazma.vector_mediator import VectorMediator\n",
    "from hazma.parameters import neutral_pion_mass as mpi0\n",
    "from hazma.gamma_ray_limits.gamma_ray_limit_parameters import (energy_res_e_astrogam,\n",
    "                                                               A_eff_e_astrogam,\n",
    "                                                               T_obs_e_astrogam,\n",
    "                                                               gc_target,\n",
    "                                                               gc_bg_model)\n",
    "from hazma.gamma_ray_limits.compute_limits import unbinned_limit"
   ]
  },
  {
   "cell_type": "code",
<<<<<<< HEAD
   "execution_count": 2,
   "metadata": {
    "code_folding": [
     0,
     9
    ]
   },
=======
   "execution_count": null,
   "metadata": {},
>>>>>>> 70432ae840d421487ac93fead9a10a29ad0606b6
   "outputs": [],
   "source": [
    "def get_tex_label(fs):\n",
    "    tex_label = r\"$\"+ fs\n",
    "    tex_label = tex_label.replace(\"pi0\", \"\\pi^0\")\n",
    "    tex_label = tex_label.replace(\"pi pi\", \"\\pi^+ \\pi^-\")\n",
    "    tex_label = tex_label.replace(\"mu mu\", \"\\mu^+ \\mu^-\")\n",
    "    tex_label = tex_label.replace(\"g\", \"\\gamma\")\n",
    "    tex_label = tex_label.replace(\"e e\", \"e^+ e^-\")\n",
    "    return tex_label + r\"$\"\n",
    "\n",
    "def get_color(fs):\n",
    "    fss = [\"pi0 pi0\", \"pi pi\", \"mu mu\", \"e e\", \"pi0 g\", \"g g\", \"pi0 pi pi\", \"s s\", \"v v\"]\n",
    "    return list(plt.rcParams[\"axes.prop_cycle\"])[fss.index(fs)][\"color\"]"
   ]
  },
  {
   "cell_type": "markdown",
   "metadata": {},
   "source": [
    "Constraint plots are usually computed assuming 100% branching fraction into a single final state. In this notebook, we do this for the scalar and vector simplified models using e-ASTROGAM as our experiment of choice."
   ]
  },
  {
   "cell_type": "code",
<<<<<<< HEAD
   "execution_count": 3,
=======
   "execution_count": null,
>>>>>>> 70432ae840d421487ac93fead9a10a29ad0606b6
   "metadata": {},
   "outputs": [],
   "source": [
    "# Masses to scan over\n",
    "mx_min, mx_max, n_mxs = mpi0/2., 250., 100\n",
    "mxs = np.linspace(mx_min, mx_max, n_mxs)"
   ]
  },
  {
   "cell_type": "markdown",
   "metadata": {},
   "source": [
    "## Scalar final states"
   ]
  },
  {
   "cell_type": "code",
<<<<<<< HEAD
   "execution_count": 4,
=======
   "execution_count": null,
>>>>>>> 70432ae840d421487ac93fead9a10a29ad0606b6
   "metadata": {},
   "outputs": [],
   "source": [
    "def _constrain_channel_s(mx, fs):\n",
    "    sm = ScalarMediator(mx, ms=1000., gsxx=1., gsff=1., gsGG=1., gsFF=1.)\n",
    "    \n",
    "    if fs not in [\"g g\", \"s s\"]:\n",
    "        return unbinned_limit(sm.spectrum_functions()[fs], lambda e_cm: {},\n",
    "                              sm.mx, False,\n",
    "                              A_eff_e_astrogam, energy_res_e_astrogam,\n",
    "                              T_obs_e_astrogam, gc_target, gc_bg_model)\n",
    "    elif fs == \"g g\":\n",
    "        return unbinned_limit(lambda es, e_cm: 0.0,\n",
    "                              lambda e_cm: {\"g g\": {\"bf\": 1.0, \"energy\": e_cm / 2.0}},\n",
    "                              sm.mx, False,\n",
    "                              A_eff_e_astrogam, energy_res_e_astrogam,\n",
    "                              T_obs_e_astrogam, gc_target, gc_bg_model)\n",
    "    \n",
    "def constrain_channel_s(mxs, fs):\n",
    "    return np.vectorize(lambda mx: _constrain_channel_s(mx, fs))(mxs)"
   ]
  },
  {
   "cell_type": "code",
<<<<<<< HEAD
   "execution_count": 5,
   "metadata": {},
   "outputs": [
    {
     "name": "stderr",
     "output_type": "stream",
     "text": [
      "/Users/loganmorrison/.pyenv/versions/2.7.13/Python.framework/Versions/2.7/lib/python2.7/site-packages/hazma/gamma_ray_limits/compute_limits.py:198: RuntimeWarning: divide by zero encountered in double_scalars\n",
      "  lim = prefactor * n_sigma / (-limit_obj.fun)\n",
      "/Users/loganmorrison/.pyenv/versions/2.7.13/Python.framework/Versions/2.7/lib/python2.7/site-packages/scipy/integrate/quadpack.py:364: IntegrationWarning: The integral is probably divergent, or slowly convergent.\n",
      "  warnings.warn(msg, IntegrationWarning)\n",
      "/Users/loganmorrison/.pyenv/versions/2.7.13/Python.framework/Versions/2.7/lib/python2.7/site-packages/hazma/gamma_ray_limits/compute_limits.py:65: RuntimeWarning: invalid value encountered in sqrt\n",
      "  np.sqrt(__I_B(e_a, e_b, dnde, A_eff, bg_model, method))\n"
     ]
    }
   ],
=======
   "execution_count": null,
   "metadata": {},
   "outputs": [],
>>>>>>> 70432ae840d421487ac93fead9a10a29ad0606b6
   "source": [
    "sm_ch_limits = {}\n",
    "\n",
    "for fs in ScalarMediator.list_final_states():\n",
    "    if fs not in [\"s s\"]:\n",
    "        sm_ch_limits[fs] = constrain_channel_s(mxs, fs)"
   ]
  },
  {
   "cell_type": "code",
<<<<<<< HEAD
   "execution_count": 10,
=======
   "execution_count": null,
>>>>>>> 70432ae840d421487ac93fead9a10a29ad0606b6
   "metadata": {},
   "outputs": [],
   "source": [
    "np.save(\"data/sm_individual_channel_limits.npy\", [mxs, sm_ch_limits])"
   ]
  },
  {
   "cell_type": "markdown",
   "metadata": {},
   "source": [
    "## Vector final states"
   ]
  },
  {
   "cell_type": "code",
<<<<<<< HEAD
   "execution_count": 6,
=======
   "execution_count": null,
>>>>>>> 70432ae840d421487ac93fead9a10a29ad0606b6
   "metadata": {},
   "outputs": [],
   "source": [
    "def _constrain_channel_v(mx, fs):\n",
    "    vm = VectorMediator(mx, mv=1000., gvxx=1., gvuu=1., gvdd=1., gvss=1., gvee=1., gvmumu=1.)\n",
    "    \n",
    "    if fs not in [\"pi0 g\", \"v v\", \"pi0 pi pi\"]:\n",
    "        return unbinned_limit(vm.spectrum_functions()[fs], lambda e_cm: {},\n",
    "                              vm.mx, False,\n",
    "                              A_eff_e_astrogam, energy_res_e_astrogam,\n",
    "                              T_obs_e_astrogam, gc_target, gc_bg_model)\n",
    "    elif fs == \"pi0 g\":\n",
    "        return unbinned_limit(vm.spectrum_functions()[fs],\n",
    "                              lambda e_cm: {\"pi0 g\": {\"bf\": 1.0, \"energy\": (e_cm**2 - mpi0**2) / (2.*e_cm)}},\n",
    "                              vm.mx, False,\n",
    "                              A_eff_e_astrogam, energy_res_e_astrogam,\n",
    "                              T_obs_e_astrogam, gc_target, gc_bg_model)\n",
    "    \n",
    "def constrain_channel_v(mxs, fs):\n",
    "    return np.vectorize(lambda mx: _constrain_channel_v(mx, fs))(mxs)"
   ]
  },
  {
   "cell_type": "code",
<<<<<<< HEAD
   "execution_count": 7,
=======
   "execution_count": null,
>>>>>>> 70432ae840d421487ac93fead9a10a29ad0606b6
   "metadata": {},
   "outputs": [],
   "source": [
    "vm_ch_limits = {}\n",
    "\n",
    "for fs in VectorMediator.list_final_states():\n",
    "    if fs not in [\"v v\", \"pi0 pi pi\"]:\n",
    "        vm_ch_limits[fs] = constrain_channel_v(mxs, fs)"
   ]
  },
  {
   "cell_type": "code",
<<<<<<< HEAD
   "execution_count": 9,
=======
   "execution_count": null,
>>>>>>> 70432ae840d421487ac93fead9a10a29ad0606b6
   "metadata": {},
   "outputs": [],
   "source": [
    "np.save(\"data/vm_individual_channel_limits.npy\", [mxs, vm_ch_limits])"
   ]
  },
  {
   "cell_type": "markdown",
   "metadata": {},
   "source": [
    "## Plot everything"
   ]
  },
  {
   "cell_type": "code",
<<<<<<< HEAD
   "execution_count": 11,
=======
   "execution_count": null,
>>>>>>> 70432ae840d421487ac93fead9a10a29ad0606b6
   "metadata": {},
   "outputs": [],
   "source": [
    "mxs, sm_ch_limits = np.load(\"data/sm_individual_channel_limits.npy\")\n",
    "mxs, vm_ch_limits = np.load(\"data/vm_individual_channel_limits.npy\")\n",
    "\n",
    "sm_mxs, sm_limits = np.loadtxt(\"data/sm_lims_e_astrogam.csv\", delimiter=\",\").T\n",
    "vm_mxs, vm_limits = np.loadtxt(\"data/vm_lims_e_astrogam.csv\", delimiter=\",\").T"
   ]
  },
  {
   "cell_type": "code",
<<<<<<< HEAD
   "execution_count": 12,
   "metadata": {},
   "outputs": [
    {
     "data": {
      "image/png": "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\n",
      "text/plain": [
       "<Figure size 576x288 with 1 Axes>"
      ]
     },
     "metadata": {},
     "output_type": "display_data"
    }
   ],
=======
   "execution_count": null,
   "metadata": {},
   "outputs": [],
>>>>>>> 70432ae840d421487ac93fead9a10a29ad0606b6
   "source": [
    "plt.figure(figsize=(8, 4))\n",
    "\n",
    "fs_list = [fs for fs in list(set(ScalarMediator.list_final_states() + VectorMediator.list_final_states())) if fs not in [\"s s\", \"v v\", \"pi0 pi pi\"]]\n",
    "\n",
    "# Individual channel limits\n",
    "for fs in fs_list:\n",
    "    if fs in ScalarMediator.list_final_states() and fs in VectorMediator.list_final_states():\n",
    "        plt.plot(mxs, sm_ch_limits[fs], color=get_color(fs), label=get_tex_label(fs), linewidth=1.5)\n",
    "    elif fs in ScalarMediator.list_final_states():\n",
    "        plt.plot(mxs, sm_ch_limits[fs], color=get_color(fs), label=get_tex_label(fs), linewidth=1.5)\n",
    "    elif fs in VectorMediator.list_final_states():\n",
    "        plt.plot(mxs, vm_ch_limits[fs], color=get_color(fs), label=get_tex_label(fs), linewidth=1.5)\n",
    "        \n",
    "# Simplified model limits\n",
    "plt.plot(sm_mxs, sm_limits, ':k', linewidth=1.5, label=r\"$S$\")\n",
    "plt.plot(vm_mxs, vm_limits, '--k', linewidth=1.5, label=r\"$V$\")\n",
    "\n",
    "plt.yscale(\"log\")\n",
    "plt.xlim(mxs[[0, -1]])\n",
    "plt.ylim(5e-31, 2e-27)\n",
    "plt.xlabel(r\"$m_\\chi$ (MeV)\")\n",
    "plt.ylabel(r\"$\\langle \\sigma v \\rangle_0$ (cm$^3$/s)\")\n",
    "# plt.title(\"e-ASTROGAM limits on individual channels\")\n",
    "\n",
    "# Shrink current axis by 20%\n",
    "box = plt.gca().get_position()\n",
    "plt.gca().set_position([box.x0, box.y0, box.width * 0.8, box.height])\n",
    "# Put a legend to the right of the current axis\n",
    "plt.gca().legend(loc='center left', bbox_to_anchor=(1, 0.5))\n",
    "\n",
    "plt.savefig(\"figures/individual_channel_constraints.pdf\")"
   ]
  },
  {
   "cell_type": "code",
<<<<<<< HEAD
   "execution_count": 9,
   "metadata": {},
   "outputs": [
    {
     "data": {
      "text/plain": [
       "0"
      ]
     },
     "execution_count": 9,
     "metadata": {},
     "output_type": "execute_result"
    }
   ],
=======
   "execution_count": null,
   "metadata": {},
   "outputs": [],
>>>>>>> 70432ae840d421487ac93fead9a10a29ad0606b6
   "source": [
    "import os\n",
    "os.system('say \"Done computing limits\"')"
   ]
  },
  {
   "cell_type": "markdown",
   "metadata": {},
   "source": [
    "## Debugging"
   ]
  },
  {
   "cell_type": "code",
   "execution_count": null,
   "metadata": {},
   "outputs": [],
   "source": [
    "from hazma.scalar_mediator.scalar_mediator_fsr import dnde_xx_to_s_to_pipig\n",
    "from hazma.vector_mediator.vector_mediator_fsr import dnde_xx_to_v_to_pipig\n",
    "\n",
    "from hazma.scalar_mediator import ScalarMediator\n",
    "from hazma.vector_mediator import VectorMediator\n",
    "\n",
    "import numpy as np"
   ]
  },
  {
   "cell_type": "code",
   "execution_count": null,
   "metadata": {},
   "outputs": [],
   "source": [
    "mx = 150.\n",
    "sm = ScalarMediator(mx, ms=1000., gsxx=1., gsff=1., gsGG=1., gsFF=1.)\n",
    "\n",
    "for v in [1e-3, 1e-2, 1e-1]:\n",
    "    e_cm = 2.*mx*(1+0.5*v**2)\n",
    "    print(\"dN/dE = %e\" % dnde_xx_to_s_to_pipig(1e-1, e_cm, sm))\n",
    "    print(\"sigma = %e\" % sm.cross_sections(e_cm)[\"pi pi\"])\n",
    "    print(\"\")"
   ]
  },
  {
   "cell_type": "code",
   "execution_count": null,
   "metadata": {},
   "outputs": [],
   "source": [
    "mx = 150.\n",
    "e_cm = 2.*mx*(1+0.5*1e-6)\n",
    "\n",
    "sm = ScalarMediator(mx, ms=1000., gsxx=1., gsff=1., gsGG=1., gsFF=1.)\n",
    "vm = VectorMediator(mx, mv=1000., gvxx=1., gvuu=1., gvdd=1., gvss=1., gvee=1., gvmumu=1.)\n",
    "\n",
    "e_gams = np.logspace(0, np.log10(200), 250)\n",
    "\n",
    "plt.loglog(e_gams, e_gams * dnde_xx_to_s_to_pipig(e_gams, e_cm, sm), '--', label=\"Scalar (FSR)\")\n",
    "plt.loglog(e_gams, e_gams * dnde_xx_to_v_to_pipig(e_gams, e_cm, sm), '--', label=\"Vector (FSR)\")\n",
    "\n",
    "plt.title(r\"$m_\\chi=%f$, $E_{\\mathrm{CM}} = %f$\" % (mx, e_cm))\n",
    "plt.xlabel(r\"$E_\\gamma$\")\n",
    "plt.ylabel(r\"$dN/dE_\\gamma$ (MeV$^{-1}$)\")\n",
    "plt.legend()"
   ]
  },
  {
   "cell_type": "code",
   "execution_count": null,
   "metadata": {},
   "outputs": [],
   "source": [
    "import os\n",
    "os.system('say \"Done computing limits\"')"
   ]
  },
  {
   "cell_type": "code",
   "execution_count": null,
   "metadata": {},
   "outputs": [],
   "source": []
  }
 ],
 "metadata": {
  "language_info": {
   "name": "python",
<<<<<<< HEAD
   "nbconvert_exporter": "python",
   "pygments_lexer": "ipython2",
   "version": "2.7.13"
  },
  "toc": {
   "nav_menu": {},
   "number_sections": true,
   "sideBar": true,
   "skip_h1_title": false,
   "title_cell": "Table of Contents",
   "title_sidebar": "Contents",
   "toc_cell": false,
   "toc_position": {
    "height": "922px",
    "left": "0px",
    "right": "762px",
    "top": "95.1px",
    "width": "150px"
   },
   "toc_section_display": "block",
   "toc_window_display": true
=======
   "pygments_lexer": "ipython3"
>>>>>>> 70432ae840d421487ac93fead9a10a29ad0606b6
  }
 },
 "nbformat": 4,
 "nbformat_minor": 2
}
