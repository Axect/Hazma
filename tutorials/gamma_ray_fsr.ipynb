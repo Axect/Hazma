{
 "cells": [
  {
   "cell_type": "code",
   "execution_count": 27,
   "metadata": {},
   "outputs": [],
   "source": [
    "from hazma.field_theory_helper_functions.common_functions import \\\n",
    "    minkowski_dot as MDot\n",
    "\n",
    "from hazma.parameters import qe\n",
    "from hazma.parameters import charged_pion_mass as mpi\n",
    "from hazma.gamma_ray import gamma_ray_fsr\n",
    "\n",
    "import numpy as np\n",
    "import matplotlib.pyplot as plt"
   ]
  },
  {
   "cell_type": "code",
   "execution_count": 37,
   "metadata": {},
   "outputs": [],
   "source": [
    "class Msqrd(object):\n",
    "    def __init__(self, mx, c1, c2, lam):\n",
    "        self.mx = mx\n",
    "        self.c1 = c1\n",
    "        self.c2 = c2\n",
    "        self.lam = lam\n",
    "\n",
    "    def tree(self, momenta):\n",
    "        p3 = momenta[0]\n",
    "        p4 = momenta[1]\n",
    "        Q = p3[0] + p4[0]\n",
    "\n",
    "        return -((self.c1**2 * (4 * self.mx**2-Q**2)) / (2 * self.lam**2))\n",
    "\n",
    "    def radiative(self, momenta):\n",
    "        ppi1 = momenta[0]\n",
    "        ppi2 = momenta[1]\n",
    "        k = momenta[2]\n",
    "        Q = ppi1[0] + ppi2[0] + k[0]\n",
    "\n",
    "        mux = self.mx / Q\n",
    "        mupi = mpi / Q\n",
    "\n",
    "        s = MDot(ppi1 + ppi2, ppi1 + ppi2)\n",
    "        t = MDot(ppi1 + k, ppi1 + k)\n",
    "        u = MDot(ppi2 + k, ppi2 + k)\n",
    "\n",
    "        return ((2*self.c1**2*(-1 + 4*mux**2)*Q**2*qe**2 *\n",
    "                 (s*(-(mupi**2*Q**2) + t)*(mupi**2*Q**2 - u) +\n",
    "                  (-2*mupi**3*Q**3 + mupi*Q*(t + u))**2)) /\n",
    "                (self.lam**2*(-(mupi**2*Q**2) + t)**2*(-(mupi**2*Q**2) + u)**2))"
   ]
  },
  {
   "cell_type": "code",
   "execution_count": 38,
   "metadata": {},
   "outputs": [],
   "source": [
    "params = {'mx': 200.0, 'c1':1.0, 'c2':1.0, 'lam':1e4}\n",
    "msqrds = Msqrd(**params)\n",
    "\n",
    "isp_masses = np.array([msqrds.mx, msqrds.mx])\n",
    "fsp_masses = np.array([mpi, mpi, 0.0])\n",
    "cme = 4.0 * msqrds.mx\n",
    "spec = gamma_ray_fsr(isp_masses, fsp_masses, cme, msqrds.tree, msqrds.radiative, num_ps_pts=500000, num_bins=50)"
   ]
  },
  {
   "cell_type": "code",
   "execution_count": 39,
   "metadata": {},
   "outputs": [
    {
     "name": "stderr",
     "output_type": "stream",
     "text": [
      "/Users/loganmorrison/.pyenv/versions/3.6.2/lib/python3.6/site-packages/hazma/rambo.py:219: RuntimeWarning: invalid value encountered in sqrt\n",
      "  density=density)\n"
     ]
    }
   ],
   "source": [
    "spec = gamma_ray_fsr(isp_masses, fsp_masses, cme, msqrds.tree, msqrds.radiative, num_ps_pts=500000, num_bins=50)"
   ]
  },
  {
   "cell_type": "code",
   "execution_count": 44,
   "metadata": {},
   "outputs": [
    {
     "data": {
      "text/plain": [
       "Text(0.5, 0, '$E_{\\\\gamma} \\\\ (\\\\mathrm{MeV})$')"
      ]
     },
     "execution_count": 44,
     "metadata": {},
     "output_type": "execute_result"
    },
    {
     "data": {
      "image/png": "[encoded data removed]",
      "text/plain": [
       "<Figure size 600x400 with 1 Axes>"
      ]
     },
     "metadata": {},
     "output_type": "display_data"
    }
   ],
   "source": [
    "plt.figure(dpi=100)\n",
    "plt.plot(spec[0], spec[1])\n",
    "plt.yscale('log')\n",
    "plt.xscale('log')\n",
    "plt.ylabel(r'$dN/dE_{\\gamma} \\ (\\mathrm{MeV}^{-1})$', fontsize=16)\n",
    "plt.xlabel(r'$E_{\\gamma} \\ (\\mathrm{MeV})$', fontsize=16)"
   ]
  },
  {
   "cell_type": "code",
   "execution_count": null,
   "metadata": {},
   "outputs": [],
   "source": []
  }
 ],
 "metadata": {
  "@webio": {
   "lastCommId": null,
   "lastKernelId": null
  },
  "kernelspec": {
   "display_name": "Python 3",
   "language": "python",
   "name": "python3"
  },
  "language_info": {
   "codemirror_mode": {
    "name": "ipython",
    "version": 3
   },
   "file_extension": ".py",
   "mimetype": "text/x-python",
   "name": "python",
   "nbconvert_exporter": "python",
   "pygments_lexer": "ipython3",
   "version": "3.6.2"
  },
  "latex_envs": {
   "LaTeX_envs_menu_present": true,
   "autoclose": false,
   "autocomplete": true,
   "bibliofile": "biblio.bib",
   "cite_by": "apalike",
   "current_citInitial": 1,
   "eqLabelWithNumbers": true,
   "eqNumInitial": 1,
   "hotkeys": {
    "equation": "Ctrl-E",
    "itemize": "Ctrl-I"
   },
   "labels_anchors": false,
   "latex_user_defs": false,
   "report_style_numbering": false,
   "user_envs_cfg": false
  },
  "toc": {
   "nav_menu": {},
   "number_sections": true,
   "sideBar": true,
   "skip_h1_title": false,
   "title_cell": "Table of Contents",
   "title_sidebar": "Contents",
   "toc_cell": false,
   "toc_position": {},
   "toc_section_display": true,
   "toc_window_display": false
  }
 },
 "nbformat": 4,
 "nbformat_minor": 2
}
