{
 "cells": [
  {
   "cell_type": "code",
   "execution_count": 14,
   "metadata": {
    "collapsed": true
   },
   "outputs": [],
   "source": [
    "import numpy as np\n",
    "\n",
    "from hazma.scalar_mediator import ScalarMediator\n",
    "from hazma.pseudo_scalar_mediator import PseudoScalarMFV\n",
    "from hazma.vector_mediator import VectorMediator\n",
    "\n",
    "from hazma.constraint_parameters import sv_inv_MeV_to_cm3_per_s"
   ]
  },
  {
   "cell_type": "code",
   "execution_count": 6,
   "metadata": {},
   "outputs": [],
   "source": [
    "mx = 250.\n",
    "mM = 750.\n",
    "\n",
    "vx = 1.0e-3\n",
    "e_cm = 2.*mx*(1.+0.5*vx**2)"
   ]
  },
  {
   "cell_type": "markdown",
   "metadata": {},
   "source": [
    "## Scalar\n",
    "The cross section is super tiny for the scalar theory. This is because the cross section is $p$-wave suppressed."
   ]
  },
  {
   "cell_type": "code",
   "execution_count": 9,
   "metadata": {},
   "outputs": [
    {
     "name": "stdout",
     "output_type": "stream",
     "text": [
      "2.82746867925e-31 cm^3 / s\n"
     ]
    }
   ],
   "source": [
    "sm = ScalarMediator(mx=mx, ms=mM, gsxx=1., gsff=1., gsGG=1., gsFF=1.)\n",
    "\n",
    "print sm.cross_sections(e_cm)[\"total\"] * vx * sv_inv_MeV_to_cm3_per_s, \"cm^3 / s\""
   ]
  },
  {
   "cell_type": "markdown",
   "metadata": {},
   "source": [
    "## Pseudoscalar\n",
    "The cross section is very small for the pseudoscalar as well, but the couplings don't have to violate perturbative unitarity to produce a detectable signal. This is because annihilation is $s$-wave, but all the cross sections into hadrons are suppressed since they occur via the anomaly."
   ]
  },
  {
   "cell_type": "code",
   "execution_count": 7,
   "metadata": {},
   "outputs": [
    {
     "name": "stdout",
     "output_type": "stream",
     "text": [
      "2.7807976950858845e-29 cm^3 / s\n"
     ]
    }
   ],
   "source": [
    "# Lepton-specific/type III 2HDM couplings\n",
    "gpuu = 1.\n",
    "gpdd = -1.\n",
    "gpll = 0.\n",
    "\n",
    "# General relations for MFV couplings\n",
    "gpGG = 2*gpuu + gpdd\n",
    "gpFF = gpll + (8.*gpuu + gpdd) / 9.\n",
    "\n",
    "psm = PseudoScalarMFV(mx=mx, mp=mM, gpxx=1., gpuu=gpuu, gpdd=gpdd,\n",
    "                      gpll=gpll, gpGG=gpGG, gpFF=gpFF)\n",
    "\n",
    "print psm.cross_sections(e_cm)[\"total\"] * vx * sv_inv_MeV_to_cm3_per_s, \"cm^3 / s\""
   ]
  },
  {
   "cell_type": "markdown",
   "metadata": {},
   "source": [
    "## Vector\n",
    "The cross section is quite large in the vector theory! It's $s$-wave and annihilation into $\\pi^+\\pi^-$ in not suppressed by the anomaly."
   ]
  },
  {
   "cell_type": "code",
   "execution_count": 15,
   "metadata": {},
   "outputs": [
    {
     "name": "stdout",
     "output_type": "stream",
     "text": [
      "1.524259619808406e-20 cm^3 / s\n"
     ]
    }
   ],
   "source": [
    "vm = VectorMediator(mx=mx, mv=mM, gvxx=1.,\n",
    "                    gvuu=2./3.*np.sqrt(4*np.pi/137.),\n",
    "                    gvdd=-1./3.*np.sqrt(4*np.pi/137.),\n",
    "                    gvss=0., gvee=0., gvmumu=0.)\n",
    "\n",
    "print vm.cross_sections(e_cm)[\"total\"] * vx * sv_inv_MeV_to_cm3_per_s, \"cm^3 / s\""
   ]
  },
  {
   "cell_type": "code",
   "execution_count": null,
   "metadata": {
    "collapsed": true
   },
   "outputs": [],
   "source": []
  }
 ],
 "metadata": {
  "kernelspec": {
   "display_name": "Python 2",
   "language": "python",
   "name": "python2"
  },
  "language_info": {
   "codemirror_mode": {
    "name": "ipython",
    "version": 2
   },
   "file_extension": ".py",
   "mimetype": "text/x-python",
   "name": "python",
   "nbconvert_exporter": "python",
   "pygments_lexer": "ipython2",
   "version": "2.7.13"
  }
 },
 "nbformat": 4,
 "nbformat_minor": 2
}
