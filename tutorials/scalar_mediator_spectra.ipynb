{
 "cells": [
  {
   "cell_type": "code",
   "execution_count": null,
   "metadata": {},
   "outputs": [],
   "source": [
    "import matplotlib.pyplot as plt\n",
    "import numpy as np"
   ]
  },
  {
   "cell_type": "markdown",
   "metadata": {},
   "source": [
    "This function makes nice $\\LaTeX$ labels for different final states"
   ]
  },
  {
   "cell_type": "code",
   "execution_count": null,
   "metadata": {},
   "outputs": [],
   "source": [
    "def get_tex_label(fs):\n",
    "    tex_label = r\"$\"+ fs\n",
    "    tex_label = tex_label.replace(\"pi0\", \"\\pi^0\")\n",
    "    tex_label = tex_label.replace(\"pi pi\", \"\\pi^+ \\pi^-\")\n",
    "    tex_label = tex_label.replace(\"mu mu\", \"\\mu^+ \\mu^-\")\n",
    "    tex_label = tex_label.replace(\"g\", \"\\gamma\")\n",
    "    tex_label = tex_label.replace(\"e e\", \"e^+ e^-\")\n",
    "    return tex_label + r\"$\"\n",
    "\n",
    "def get_color(fs):\n",
    "#     fss = sorted(list(set(ScalarMediator.list_final_states() + VectorMediator.list_final_states())))\n",
    "    fss = [\"pi0 pi0\", \"pi pi\", \"mu mu\", \"e e\", \"pi0 g\", \"g g\", \"pi0 pi pi\", \"s s\", \"v v\"]\n",
    "    return list(plt.rcParams[\"axes.prop_cycle\"])[fss.index(fs)][\"color\"]"
   ]
  },
  {
   "cell_type": "markdown",
   "metadata": {},
   "source": [
    "These imports give access to COMPTEL's energy resolution and a function to convolve a spectrum with a detector's smearing function. We will use these to understand how lines contribute to the spectrum for this model."
   ]
  },
  {
   "cell_type": "code",
   "execution_count": null,
   "metadata": {},
   "outputs": [],
   "source": [
    "from hazma.gamma_ray_limits.gamma_ray_limit_parameters import energy_res_comptel\n",
    "from hazma.gamma_ray_limits.compute_limits import get_detected_spectrum"
   ]
  },
  {
   "cell_type": "markdown",
   "metadata": {},
   "source": [
    "# Scalar mediator"
   ]
  },
  {
   "cell_type": "markdown",
   "metadata": {},
   "source": [
    "This import loads the scalar mediator class from hazma."
   ]
  },
  {
   "cell_type": "code",
   "execution_count": null,
   "metadata": {},
   "outputs": [],
   "source": [
    "from hazma.scalar_mediator import ScalarMediator\n",
    "from hazma.vector_mediator import VectorMediator"
   ]
  },
  {
   "cell_type": "markdown",
   "metadata": {},
   "source": [
    "## Spectra's dependence on $m_\\chi$\n",
    "This section examines the dependence of the vector theory's spectra on the dark matter mass since changing the couplings is less interesting."
   ]
  },
  {
   "cell_type": "markdown",
   "metadata": {},
   "source": [
    "Create a `ScalarMediator` object. The values of couplings to leptons and the strange quark and well as $m_S$ are irrelevant to our focus. The initial value of $m_\\chi$ does not matter since it will shortly be changed. The velocity dispersion in the Milky Way $v_\\chi \\sim 10^{-3}$ is defined here and will be used to set the DM center of mass energy."
   ]
  },
  {
   "cell_type": "code",
   "execution_count": null,
   "metadata": {},
   "outputs": [],
   "source": [
    "sm_args = {\"mx\": 250., \"ms\": 1000., \"gsxx\": 1., \"gsff\": 1., \"gsGG\": 1., \"gsFF\": 1.}\n",
    "sm = ScalarMediator(**sm_args)\n",
    "\n",
    "vx_mw = 1.0e-3  # approximate Milky Way velocity dispersion"
   ]
  },
  {
   "cell_type": "markdown",
   "metadata": {},
   "source": [
    "Choose arrays of photon energies and DM masses. The DM mass array has the same shape as the array of subplots we want to generate."
   ]
  },
  {
   "cell_type": "code",
   "execution_count": null,
   "metadata": {},
   "outputs": [],
   "source": [
    "e_gam_min, e_gam_max, n_e_gams = 5., 300., 250\n",
    "e_gams = np.logspace(np.log10(e_gam_min), np.log10(e_gam_max), n_e_gams)\n",
    "\n",
    "n_subplot_rows, n_subplot_cols = 2, 2\n",
    "mxs = np.array([100., 110., 140., 250.]).reshape((n_subplot_rows, n_subplot_cols))"
   ]
  },
  {
   "cell_type": "markdown",
   "metadata": {},
   "source": [
    "Iterate over the array of dark matter masses, computing the spectrum at each $E_\\gamma \\in$ `e_gams`. Most of the code below formats the plot nicely; the `spectra()` function is called in line 12."
   ]
  },
  {
   "cell_type": "code",
   "execution_count": null,
   "metadata": {},
   "outputs": [],
   "source": [
    "plt.figure(figsize=(7.5, 5))\n",
    "\n",
    "# Iterate over the values, row and column indices of mxs\n",
    "it = np.nditer(mxs, flags=['multi_index'])\n",
    "\n",
    "while not it.finished:\n",
    "    sm.mx = it[0]  # current value of mx\n",
    "    idx = it.iterindex  # current index in mxs\n",
    "    row_idx, col_idx = it.multi_index  # current row and column indices\n",
    "    plt.subplot(n_subplot_rows, n_subplot_cols, idx + 1)\n",
    "    \n",
    "    # Center of mass energy, set to slightly above threshold\n",
    "    e_cm = 2.*sm.mx * (1. + 0.5 * vx_mw)\n",
    "\n",
    "    # Plot total convolved spectrum\n",
    "    dnde_det = get_detected_spectrum(lambda es, e_cm: sm.spectra(es, e_cm)[\"total\"],\n",
    "                                     sm.gamma_ray_lines,\n",
    "                                     e_gam_min, e_gam_max,\n",
    "                                     e_cm,\n",
    "                                     energy_res=energy_res_comptel)\n",
    "    plt.loglog(e_gams, dnde_det(e_gams), \"black\", label=\"Total\")\n",
    "    \n",
    "    # Plot individual channels' spectra\n",
    "    for fs, spec in reversed(sorted(sm.spectra(e_gams, e_cm).iteritems())):\n",
    "        if fs not in [\"total\", \"s s\", \"g g\"]:\n",
    "            plt.loglog(e_gams, spec, label=get_tex_label(fs),\n",
    "                       color=get_color(fs),\n",
    "                       linewidth=1.5)\n",
    "\n",
    "    # Mark the lines' energies\n",
    "    for ch, line in sm.gamma_ray_lines(e_cm).iteritems():\n",
    "        plt.axvline(line[\"energy\"], linestyle='--', color=\"k\", alpha=0.5, linewidth=1.5)\n",
    "\n",
    "    ### Formatting\n",
    "    # Set axis limits\n",
    "    plt.xlim(10, 300)\n",
    "    plt.ylim(1e-5, 1e-1)\n",
    "        \n",
    "    # Only draw the legend for the first subplot\n",
    "    if idx == 1:\n",
    "        plt.legend()\n",
    "        \n",
    "    # Only show ticks and axis labels for subplots on the left and bottom\n",
    "    if row_idx != n_subplot_rows - 1:\n",
    "        plt.tick_params(labelbottom=\"off\")\n",
    "    else:\n",
    "        plt.xlabel(r\"$E_\\gamma$ (MeV)\")\n",
    "    if col_idx % n_subplot_cols != 0:\n",
    "        plt.tick_params(labelleft=\"off\")\n",
    "    else:\n",
    "        plt.ylabel(r\"$\\frac{dN}{dE_\\gamma}$ (MeV$^{-1}$)\")\n",
    "        \n",
    "    # Label subplot with dark matter mass\n",
    "    plt.text(1.1e1, 3.3e-2, r\"$m_\\chi = %0.f$ MeV\" % sm.mx)\n",
    "    \n",
    "    it.iternext()\n",
    "\n",
    "plt.tight_layout(rect=[0, 0.03, 1, 0.95])  # remove some of the space between plots\n",
    "plt.suptitle(r\"Scalar mediator, $g_{Sff} = g_{SGG} = g_{SFF}$\")\n",
    "\n",
    "plt.savefig(\"figures/scalar_spectra_higgs_portal.pdf\")"
   ]
  },
  {
   "cell_type": "markdown",
   "metadata": {},
   "source": [
    "## Dependence on couplings"
   ]
  },
  {
   "cell_type": "code",
   "execution_count": null,
   "metadata": {},
   "outputs": [],
   "source": [
    "import matplotlib.cm as cm\n",
    "from matplotlib.colors import Normalize"
   ]
  },
  {
   "cell_type": "code",
   "execution_count": null,
   "metadata": {},
   "outputs": [],
   "source": [
    "sm_args = {\"mx\": 250., \"ms\": 1000., \"gsxx\": 1., \"gsff\": 1., \"gsGG\": 1., \"gsFF\": 1.}\n",
    "sm = ScalarMediator(**sm_args)\n",
    "\n",
    "vx_mw = 1.0e-3  # approximate Milky Way velocity dispersion"
   ]
  },
  {
   "cell_type": "code",
   "execution_count": null,
   "metadata": {},
   "outputs": [],
   "source": [
    "e_gam_min, e_gam_max, n_e_gams = 5., 300., 250\n",
    "e_gams = np.logspace(np.log10(e_gam_min), np.log10(e_gam_max), n_e_gams)"
   ]
  },
  {
   "cell_type": "code",
   "execution_count": null,
   "metadata": {},
   "outputs": [],
   "source": [
    "n_subplot_rows, n_subplot_cols = 2, 2\n",
    "mxs = np.array([100., 110., 140., 250.]).reshape((n_subplot_rows, n_subplot_cols))\n",
    "\n",
    "ratios = np.array([-1.5, 1000.])"
   ]
  },
  {
   "cell_type": "code",
   "execution_count": null,
   "metadata": {},
   "outputs": [],
   "source": [
    "# Set up the colormap\n",
    "cmap = cm.viridis_r\n",
    "norm = Normalize(vmin=ratios[0], vmax=ratios[-1])\n",
    "m = cm.ScalarMappable(norm=norm, cmap=cmap)\n",
    "m.set_array(ratios)"
   ]
  },
  {
   "cell_type": "code",
   "execution_count": null,
   "metadata": {},
   "outputs": [],
   "source": [
    "# Compute the spectra!\n",
    "spectra_det_sm = {}\n",
    "\n",
    "for mx in mxs.flatten():\n",
    "    sm.mx = mx  # current value of mx\n",
    "    # Center of mass energy, set to slightly above threshold\n",
    "    e_cm = 2.*sm.mx * (1. + 0.5 * vx_mw)\n",
    "    \n",
    "    for ratio in ratios:\n",
    "        sm.gsGG = ratio * sm.gsff\n",
    "        spec = sm.spectra(e_gams, e_cm)[\"total\"]\n",
    "        spectra_det_sm[(mx, ratio)] = spec\n",
    "#         dnde_det = get_detected_spectrum(e_gams, spec,\n",
    "#                                          *sm.gamma_ray_lines(e_cm),\n",
    "#                                          energy_res=energy_res_comptel)\n",
    "\n",
    "#         spectra_det[(mx, ratio)] = dnde_det(e_gams)"
   ]
  },
  {
   "cell_type": "code",
   "execution_count": null,
   "metadata": {},
   "outputs": [],
   "source": [
    "fig, axes = plt.subplots(nrows=n_subplot_rows, ncols=n_subplot_cols, figsize=(7.5, 5), sharex=True, sharey=True)\n",
    "\n",
    "# Iterate over the values, row and column indices of mxs\n",
    "it = np.nditer(mxs, flags=['multi_index'])\n",
    "\n",
    "while not it.finished:\n",
    "    idx = it.iterindex  # current index in mxs\n",
    "    row_idx, col_idx = it.multi_index  # current row and column indices\n",
    "    ax = axes[row_idx, col_idx]\n",
    "    \n",
    "    for ratio in ratios:\n",
    "        ax.loglog(e_gams, spectra_det_sm[(float(it[0]), ratio)], color=m.to_rgba(ratio), linewidth=1)\n",
    "    \n",
    "    ### Formatting\n",
    "    # Set axis limits\n",
    "    plt.xlim(10, 250)\n",
    "    plt.ylim(6e-7, 1e0)\n",
    "\n",
    "    # Only show ticks and axis labels for subplots on the left and bottom\n",
    "    if row_idx != n_subplot_rows - 1:\n",
    "        ax.tick_params(labelbottom=\"off\")\n",
    "    else:\n",
    "        ax.set_xlabel(r\"$E_\\gamma$ (MeV)\")\n",
    "    if col_idx % n_subplot_cols != 0:\n",
    "        ax.tick_params(labelleft=\"off\")\n",
    "    else:\n",
    "        ax.set_ylabel(r\"$\\frac{dN}{dE_\\gamma}$ (MeV$^{-1}$)\")\n",
    "        \n",
    "    # Label subplot with dark matter mass\n",
    "    if (row_idx, col_idx) == (0, 0):\n",
    "        ax.text(6.5e1, 2e-1, r\"$m_\\chi = %0.f$ MeV\" % it[0])\n",
    "    else:\n",
    "        ax.text(1.1e1, 2e-1, r\"$m_\\chi = %0.f$ MeV\" % it[0])\n",
    "    \n",
    "    it.iternext()\n",
    "\n",
    "plt.tight_layout(rect=[0, 0.03, 1, 0.95])  # remove some of the space between plots\n",
    "# plt.suptitle(r\"Vector mediator\")\n",
    "\n",
    "fig.colorbar(m, ax=axes.ravel().tolist()).set_label(r\"$g_{SGG} / g_{Sff}$\")\n",
    "\n",
    "# plt.savefig(\"figures/scalar_spectra_coupling_dependence.pdf\")"
   ]
  },
  {
   "cell_type": "code",
   "execution_count": null,
   "metadata": {},
   "outputs": [],
   "source": []
  }
 ],
 "metadata": {
  "language_info": {
   "name": "python",
   "pygments_lexer": "ipython3"
  }
 },
 "nbformat": 4,
 "nbformat_minor": 2
}
