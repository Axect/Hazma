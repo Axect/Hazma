{
 "cells": [
  {
   "cell_type": "code",
   "execution_count": 1,
   "metadata": {},
   "outputs": [],
   "source": [
    "import matplotlib.pyplot as plt\n",
    "import numpy as np\n",
    "\n",
    "from hazma.pseudo_scalar_mediator import PseudoScalarMediator\n",
    "from hazma.parameters import neutral_pion_mass as mpi0\n",
    "from hazma.parameters import up_quark_mass as muq\n",
    "from hazma.parameters import down_quark_mass as mdq\n",
    "from hazma.parameters import electron_mass as me\n",
    "from hazma.parameters import muon_mass as mmu\n",
    "from hazma.parameters import b0, fpi, vh"
   ]
  },
  {
   "cell_type": "markdown",
   "metadata": {},
   "source": [
    "This function makes nice $\\LaTeX$ labels for different final states"
   ]
  },
  {
   "cell_type": "code",
   "execution_count": 2,
   "metadata": {
    "code_folding": [
     0,
     9
    ],
    "collapsed": true
   },
   "outputs": [],
   "source": [
    "def get_tex_label(fs):\n",
    "    tex_label = r\"$\"+ fs\n",
    "    tex_label = tex_label.replace(\"pi0\", \"\\pi^0\")\n",
    "    tex_label = tex_label.replace(\"pi pi\", \"\\pi^+ \\pi^-\")\n",
    "    tex_label = tex_label.replace(\"mu mu\", \"\\mu^+ \\mu^-\")\n",
    "    tex_label = tex_label.replace(\"g\", \"\\gamma\")\n",
    "    tex_label = tex_label.replace(\"e e\", \"e^+ e^-\")\n",
    "    return tex_label + r\"$\"\n",
    "\n",
    "def get_color(fs):\n",
    "    fss = sorted(list(set(PseudoScalarMediator.list_final_states())))\n",
    "    return list(plt.rcParams[\"axes.prop_cycle\"])[fss.index(fs)][\"color\"]"
   ]
  },
  {
   "cell_type": "code",
   "execution_count": 3,
   "metadata": {
    "scrolled": true
   },
   "outputs": [
    {
     "name": "stdout",
     "output_type": "stream",
     "text": [
      "beta =  -2.5310351923e-06\n",
      "mpi0, mpi0 (shifted) =  134.9766 134.97659997670178\n"
     ]
    }
   ],
   "source": [
    "psm = PseudoScalarMediator(mx=200., mp=1e3, gpxx=1., gpuu=muq/vh, gpdd=mdq/vh, gpss=0., gpee=0., gpmumu=0., gpGG=0., gpFF=0.)\n",
    "\n",
    "print \"beta = \", psm.beta\n",
    "print \"mpi0, mpi0 (shifted) = \", mpi0, psm.mpi0"
   ]
  },
  {
   "cell_type": "markdown",
   "metadata": {},
   "source": [
    "## Branching fractions as a function of $m_\\chi$"
   ]
  },
  {
   "cell_type": "code",
   "execution_count": 4,
   "metadata": {},
   "outputs": [
    {
     "name": "stderr",
     "output_type": "stream",
     "text": [
      "/Users/acoogan/Dropbox/Physics/Sub-GeV_DM/Hazma/hazma/pseudo_scalar_mediator/pseudo_scalar_mediator_cross_sections.py:290: RuntimeWarning: invalid value encountered in double_scalars\n",
      "  bfs = {'e e': CSs['e e'] / CSs['total'],\n",
      "/Users/acoogan/Dropbox/Physics/Sub-GeV_DM/Hazma/hazma/pseudo_scalar_mediator/pseudo_scalar_mediator_cross_sections.py:291: RuntimeWarning: invalid value encountered in double_scalars\n",
      "  'mu mu': CSs['mu mu'] / CSs['total'],\n",
      "/Users/acoogan/Dropbox/Physics/Sub-GeV_DM/Hazma/hazma/pseudo_scalar_mediator/pseudo_scalar_mediator_cross_sections.py:292: RuntimeWarning: invalid value encountered in double_scalars\n",
      "  'g g': CSs['g g'] / CSs['total'],\n",
      "/Users/acoogan/Dropbox/Physics/Sub-GeV_DM/Hazma/hazma/pseudo_scalar_mediator/pseudo_scalar_mediator_cross_sections.py:293: RuntimeWarning: invalid value encountered in double_scalars\n",
      "  'p p': CSs['p p'] / CSs['total'],\n",
      "/Users/acoogan/Dropbox/Physics/Sub-GeV_DM/Hazma/hazma/pseudo_scalar_mediator/pseudo_scalar_mediator_cross_sections.py:294: RuntimeWarning: invalid value encountered in double_scalars\n",
      "  'pi0 pi pi': CSs['pi0 pi pi'] / CSs['total'],\n",
      "/Users/acoogan/Dropbox/Physics/Sub-GeV_DM/Hazma/hazma/pseudo_scalar_mediator/pseudo_scalar_mediator_cross_sections.py:295: RuntimeWarning: invalid value encountered in double_scalars\n",
      "  'pi0 pi0 pi0': CSs['pi0 pi0 pi0'] / CSs['total']}\n"
     ]
    },
    {
     "data": {
      "text/plain": [
       "(0, 1.1)"
      ]
     },
     "execution_count": 4,
     "metadata": {},
     "output_type": "execute_result"
    },
    {
     "name": "stderr",
     "output_type": "stream",
     "text": [
      "/Users/acoogan/.pyenv/versions/2.7.13/Python.framework/Versions/2.7/lib/python2.7/site-packages/matplotlib/font_manager.py:1328: UserWarning: findfont: Font family [u'serif'] not found. Falling back to DejaVu Sans\n",
      "  (prop.get_family(), self.defaultFamily[fontext]))\n"
     ]
    },
    {
     "data": {
      "image/png": "[encoded data removed]",
      "text/plain": [
       "<Figure size 625x437.5 with 1 Axes>"
      ]
     },
     "metadata": {},
     "output_type": "display_data"
    }
   ],
   "source": [
    "mx_min, mx_max, n_mxs = 200., 250, 500\n",
    "mxs = np.logspace(np.log10(mx_min), np.log10(mx_max), n_mxs)\n",
    "\n",
    "# psm = PseudoScalarMediator(mx=200., mp=1e3, gpxx=1., gpuu=muq/vh, gpdd=muq/vh, gpss=0., gpee=0., gpmumu=0., gpGG=0., gpFF=0.)\n",
    "psm = PseudoScalarMediator(mx=200., mp=1e3, gpxx=1., gpuu=-muq/vh, gpdd=-mdq/vh, gpss=0., gpee=0., gpmumu=0., gpGG=1., gpFF=0.)\n",
    "\n",
    "vx_mw = 1.0e-3  # approximate DM velocity in Milky Way halo\n",
    "\n",
    "bfs_varying_gs = {}\n",
    "\n",
    "# Compute branching fractions for different couplings\n",
    "bfs_raw = []\n",
    "for mx in mxs:\n",
    "    psm.mx = mx\n",
    "    e_cm = 2. * psm.mx * (1. + 0.5 * vx_mw)\n",
    "    bfs_raw.append(psm.branching_fractions(e_cm))\n",
    "    \n",
    "bfs = {fs: [bf[fs] for bf in bfs_raw] for fs in psm.list_final_states()}\n",
    "\n",
    "### Make the plot\n",
    "plt.figure(figsize=(5, 3.5))\n",
    "\n",
    "for fs, bf_list in bfs.iteritems():\n",
    "    if fs in [\"g g\", \"pi0 pi0 pi0\", \"pi0 pi pi\"]:\n",
    "        plt.plot(mxs, bf_list, label=get_tex_label(fs))\n",
    "\n",
    "# plt.xscale(\"log\")\n",
    "# plt.yscale(\"log\")\n",
    "plt.title(\"DM annihilation, pseudoscalar mediator\")\n",
    "plt.xlabel(r\"$m_\\chi$ (MeV)\")\n",
    "plt.ylabel(\"Branching fraction (\\%)\")\n",
    "plt.legend()\n",
    "plt.xlim(mxs[[0, -1]])\n",
    "plt.ylim(0, 1.1)\n",
    "\n",
    "# plt.savefig(\"figures/pseudoscalar_branching_fractions.pdf\")"
   ]
  },
  {
   "cell_type": "code",
   "execution_count": 35,
   "metadata": {},
   "outputs": [
    {
     "data": {
      "text/plain": [
       "-3.8988262705350875e-05"
      ]
     },
     "execution_count": 35,
     "metadata": {},
     "output_type": "execute_result"
    }
   ],
   "source": [
    "(psm.gpuu - psm.gpdd + (muq - mdq) / vh * psm.gpGG)"
   ]
  },
  {
   "cell_type": "code",
   "execution_count": 34,
   "metadata": {},
   "outputs": [
    {
     "data": {
      "text/plain": [
       "-9.396663158403785e-06"
      ]
     },
     "execution_count": 34,
     "metadata": {},
     "output_type": "execute_result"
    }
   ],
   "source": [
    "psm.beta"
   ]
  },
  {
   "cell_type": "code",
   "execution_count": null,
   "metadata": {
    "collapsed": true
   },
   "outputs": [],
   "source": []
  }
 ],
 "metadata": {
  "kernelspec": {
   "display_name": "Python 2",
   "language": "python",
   "name": "python2"
  },
  "language_info": {
   "codemirror_mode": {
    "name": "ipython",
    "version": 2
   },
   "file_extension": ".py",
   "mimetype": "text/x-python",
   "name": "python",
   "nbconvert_exporter": "python",
   "pygments_lexer": "ipython2",
   "version": "2.7.13"
  },
  "toc": {
   "nav_menu": {},
   "number_sections": true,
   "sideBar": true,
   "skip_h1_title": false,
   "toc_cell": false,
   "toc_position": {
    "height": "922px",
    "left": "0px",
    "right": "1798px",
    "top": "95.1px",
    "width": "26px"
   },
   "toc_section_display": "block",
   "toc_window_display": true
  }
 },
 "nbformat": 4,
 "nbformat_minor": 2
}
