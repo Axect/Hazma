{
 "cells": [
  {
   "cell_type": "code",
   "execution_count": null,
   "metadata": {},
   "outputs": [],
   "source": [
    "import numpy as np\n",
    "from scipy.interpolate import UnivariateSpline\n",
    "from scipy.integrate import quad\n",
    "\n",
    "from hazma.vector_mediator import VectorMediator\n",
    "from hazma.parameters import neutral_pion_mass as mpi0"
   ]
  },
  {
   "cell_type": "markdown",
   "metadata": {},
   "source": [
    "## Vector mediator"
   ]
  },
  {
   "cell_type": "code",
   "execution_count": null,
   "metadata": {},
   "outputs": [],
   "source": [
    "vm = VectorMediator(mx=1., mv=1000., gvxx=1., gvuu=1., gvdd=0.2, gvss=0., gvee=0., gvmumu=0.)\n",
    "\n",
    "# Masses to scan over\n",
    "mx_min, mx_max, n_mxs = mpi0/2., 250., 50\n",
    "vm_mxs = np.linspace(mx_min, mx_max, n_mxs)"
   ]
  },
  {
   "cell_type": "code",
   "execution_count": null,
   "metadata": {},
   "outputs": [],
   "source": [
    "vm_lims_cmb = vm.cmb_limits(vm_mxs)"
   ]
  },
  {
   "cell_type": "code",
   "execution_count": null,
   "metadata": {},
   "outputs": [],
   "source": [
    "np.savetxt(\"data/vm_lims_cmb.csv\",\n",
    "           np.array([vm_mxs, vm_lims_cmb]).T,\n",
    "           delimiter=\",\",\n",
    "           header=\"Columns: mx (MeV), <sigma v> limit (cm^3/s)\")"
   ]
  },
  {
   "cell_type": "code",
   "execution_count": null,
   "metadata": {},
   "outputs": [],
   "source": [
    "plt.plot(vm_mxs, cmb_limits)\n",
    "plt.yscale(\"log\")"
   ]
  },
  {
   "cell_type": "markdown",
   "metadata": {},
   "source": [
    "## Scratch"
   ]
  },
  {
   "cell_type": "code",
   "execution_count": null,
   "metadata": {},
   "outputs": [],
   "source": [
    "(feff_ep_data[0] / 1e6)[0]"
   ]
  },
  {
   "cell_type": "code",
   "execution_count": null,
   "metadata": {},
   "outputs": [],
   "source": [
    "feff_ep_data = np.loadtxt(\"cmb_data/f_eff_e+e-.csv\", delimiter=\",\").T\n",
    "feff_ep = UnivariateSpline(feff_ep_data[0] / 1e6, feff_ep_data[1])\n",
    "\n",
    "feff_g_data = np.loadtxt(\"cmb_data/feff_photons.csv\", delimiter=\",\").T\n",
    "feff_g = UnivariateSpline(feff_g_data[0] / 1e6, feff_g_data[1])"
   ]
  },
  {
   "cell_type": "code",
   "execution_count": null,
   "metadata": {},
   "outputs": [],
   "source": [
    "plt.plot(feff_ep_data[0] / 1e6, feff_ep_data[1])\n",
    "plt.plot(feff_g_data[0] / 1e6, feff_g_data[1])\n",
    "plt.xscale(\"log\")\n",
    "plt.xlabel(r\"$E$ (MeV)\")\n",
    "plt.ylabel(r\"$f_{\\mathrm{eff}}$\")\n",
    "plt.xlim([0.1, 1e7])"
   ]
  },
  {
   "cell_type": "code",
   "execution_count": null,
   "metadata": {},
   "outputs": [],
   "source": [
    "def feff_vm(mx, mv=1000., gvxx=1., gvuu=1., gvdd=0.2, gvss=0., gvee=0., gvmumu=0., xkd=1.0e-4):\n",
    "    vm = VectorMediator(mx, mv, gvxx, gvuu, gvdd, gvss, gvee, gvmumu)\n",
    "\n",
    "    T_CMB = 0.235 # eV\n",
    "    vx_cmb = 2.0e-4 * T_CMB/vm.mx * np.sqrt(1.0e-4 / xkd)  # see arXiv:1309.4091 eq. 28\n",
    "    e_cm = 2.*vm.mx * (1. + 0.5 * vx_cmb**2)\n",
    "\n",
    "    # Continuum spectrum functions. Note the factor of 2.\n",
    "    dnde_ep = lambda e_ep: 2.*vm.positron_spectra(np.array([e_ep]), e_cm)[\"total\"]\n",
    "    dnde_g = lambda e_g: vm.spectra(np.array([e_g]), e_cm)[\"total\"]\n",
    "    # Line energies and branching fractions\n",
    "    g_line_energy, g_line_bf = vm.gamma_ray_lines(e_cm)\n",
    "    ep_line_energy, ep_line_bf = vm.positron_lines(e_cm)[\"e e\"]\n",
    "    \n",
    "    # Continuum contribution to f_eff\n",
    "    g_integrand = lambda e_g: e_g * dnde_g(e_g) * feff_g(e_g)\n",
    "    ep_integrand = lambda e_ep: e_ep * dnde_ep(e_ep) * feff_ep(e_ep)\n",
    "    \n",
    "    # Debugging\n",
    "#     e_s = np.logspace(-1, np.log10(mx), 100)\n",
    "#     plt.plot(e_s, [g_integrand(e_g) for e_g in e_s])\n",
    "#     plt.plot(e_s, [ep_integrand(e_ep) for e_ep in e_s])\n",
    "#     plt.xscale(\"log\")\n",
    "#     plt.yscale(\"log\")\n",
    "    \n",
    "    feff_g_dm = quad(g_integrand, 0, mx, epsabs=0, epsrel=1e-3)[0] / (2. * mx)\n",
    "    feff_ep_dm = quad(ep_integrand, 0, mx, epsabs=0, epsrel=1e-3)[0] / (2. * mx)\n",
    "    # Line contribution to f_eff\n",
    "    feff_g_line_dm = g_line_bf * feff_g(g_line_energy) / (2. * mx)\n",
    "    feff_ep_line_dm = 2. * ep_line_bf * feff_g(ep_line_energy) / (2. * mx)\n",
    "    \n",
    "    return feff_g_dm + feff_ep_dm + feff_g_line_dm"
   ]
  },
  {
   "cell_type": "code",
   "execution_count": null,
   "metadata": {},
   "outputs": [],
   "source": [
    "# Masses to scan over\n",
    "mx_min, mx_max, n_mxs = 140., 250., 50\n",
    "vm_mxs = np.linspace(mx_min, mx_max, n_mxs)\n",
    "\n",
    "# Compute feff as a function of mass\n",
    "feff_vms = np.array([feff_vm(mx) for mx in vm_mxs])"
   ]
  },
  {
   "cell_type": "code",
   "execution_count": null,
   "metadata": {},
   "outputs": [],
   "source": [
    "np.savetxt(\"data/f_eff_vm.csv\", [vm_mxs, feff_vms.flatten()], delimiter=\",\", header=\"f_eff(m_x) for the vector simplified model.\\nColumns are: mx (MeV), f_eff\")"
   ]
  },
  {
   "cell_type": "code",
   "execution_count": null,
   "metadata": {},
   "outputs": [],
   "source": [
    "plt.plot(vm_mxs, feff_vms)\n",
    "\n",
    "plt.xlim(vm_mxs[[0, -1]])\n",
    "plt.ylim(0, 0.8)\n",
    "plt.xlabel(r\"$m_\\chi$ (MeV)\")\n",
    "plt.ylabel(r\"$f_{\\mathrm{eff}}$\")\n",
    "plt.title(r\"Vector mediator, $g_{Vuu} = %i g_{Vdd}$\" % 5)"
   ]
  },
  {
   "cell_type": "code",
   "execution_count": null,
   "metadata": {},
   "outputs": [],
   "source": [
    "import os\n",
    "os.system('say \"Done computing f effective\"')"
   ]
  },
  {
   "cell_type": "code",
   "execution_count": null,
   "metadata": {},
   "outputs": [],
   "source": []
  }
 ],
 "metadata": {
  "language_info": {
   "name": "python",
   "pygments_lexer": "ipython3"
  }
 },
 "nbformat": 4,
 "nbformat_minor": 2
}
