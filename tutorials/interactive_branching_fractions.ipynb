{
 "cells": [
  {
   "cell_type": "code",
   "execution_count": 1,
   "metadata": {
    "collapsed": true
   },
   "outputs": [],
   "source": [
    "from ipywidgets import *\n",
    "import numpy as np\n",
    "import matplotlib.pyplot as plt\n",
    "\n",
    "from hazma.scalar_mediator import ScalarMediator\n",
    "from hazma.vector_mediator import VectorMediator\n",
    "from utilities import get_color, get_tex_label, latex_text_width_1col\n",
    "\n",
    "base_fig_dim = 7.07"
   ]
  },
  {
   "cell_type": "code",
   "execution_count": 7,
   "metadata": {},
   "outputs": [
    {
     "data": {
      "application/vnd.jupyter.widget-view+json": {
       "model_id": "8bf0e85a0e5c47239221435f4a0094f7"
      }
     },
     "metadata": {},
     "output_type": "display_data"
    }
   ],
   "source": [
    "widgets.IntSlider(\n",
    "    value=7,\n",
    "    min=0,\n",
    "    max=10,\n",
    "    step=1,\n",
    "    description='Test:',\n",
    "    disabled=False,\n",
    "    continuous_update=False,\n",
    "    orientation='horizontal',\n",
    "    readout=True,\n",
    "    readout_format='d'\n",
    ")\n"
   ]
  },
  {
   "cell_type": "markdown",
   "metadata": {},
   "source": [
    "## Setup"
   ]
  },
  {
   "cell_type": "code",
   "execution_count": 2,
   "metadata": {
    "code_folding": [
     3
    ],
    "collapsed": true
   },
   "outputs": [],
   "source": [
    "mxs = np.logspace(np.log10(50), np.log10(250), 500)\n",
    "vx = 1e-3\n",
    "\n",
    "def get_bfs(th):\n",
    "    \"\"\"Computes bfs for a model.\n",
    "    \n",
    "    Parameters\n",
    "    ----------\n",
    "    th : Theory\n",
    "        Theory object for which to compute the branching fractions.\n",
    "    \n",
    "    Returns\n",
    "    -------\n",
    "    bfs : dict\n",
    "        Dictionary containing final states and branching fractions for each mx in mxs.\n",
    "    \"\"\"\n",
    "    # Computes BRs for each DM mass\n",
    "    bfs_raw = []\n",
    "    for mx in mxs:\n",
    "        th.mx = mx\n",
    "        e_cm = 2. * mx * (1 + 0.5 * vx**2)\n",
    "\n",
    "        bfs_raw.append(th.annihilation_branching_fractions(e_cm))\n",
    "\n",
    "    # Convert the list of dicts into a dict of lists\n",
    "    return {fs: np.array([bf[fs] for bf in bfs_raw])\n",
    "            for fs in th.list_annihilation_final_states()}\n",
    "\n",
    "def plot_bfs(ax, bfs):\n",
    "    \"\"\"Plots bfs for a model.\n",
    "    \n",
    "    Parameters\n",
    "    ----------\n",
    "    ax : axes\n",
    "    bfs : dict\n",
    "    \n",
    "    Returns\n",
    "    -------\n",
    "    curves : dict\n",
    "        Dictionary containing final states and corresponding Line2D objects.\n",
    "    \"\"\"\n",
    "    return {fs: ax.plot(mxs, bfs[fs],\n",
    "                        label=get_tex_label(fs),\n",
    "                        color=get_color(fs))[0] for fs in bfs.keys()}"
   ]
  },
  {
   "cell_type": "markdown",
   "metadata": {},
   "source": [
    "## Scalar"
   ]
  },
  {
   "cell_type": "code",
   "execution_count": 3,
   "metadata": {
    "code_folding": [],
    "collapsed": true
   },
   "outputs": [],
   "source": [
    "sm = ScalarMediator(1e2, 1e3, 1., 1., 1., 1., 246e3)\n",
    "\n",
    "def update_scalar(ms, gsxx, gsff, gsGG, gsFF, lam, th, curves, fig):\n",
    "    # Update parameters\n",
    "    th.ms = ms\n",
    "    th.gsxx = gsxx\n",
    "    th.gsff = gsff\n",
    "    th.gsGG = gsGG\n",
    "    th.gsFF = gsFF\n",
    "    th.lam = lam\n",
    "    \n",
    "    # Get new branching fractions\n",
    "    bfs = get_bfs(th)\n",
    "    \n",
    "    # Plot them\n",
    "    for fs in th.list_annihilation_final_states():\n",
    "        curves[fs].set_ydata(bfs[fs])\n",
    "\n",
    "    fig.canvas.draw()"
   ]
  },
  {
   "cell_type": "code",
   "execution_count": 4,
   "metadata": {},
   "outputs": [
    {
     "data": {
      "application/vnd.jupyter.widget-view+json": {
       "model_id": "f285f277a5b843c6ac944490b1e5641f"
      }
     },
     "metadata": {},
     "output_type": "display_data"
    },
    {
     "data": {
      "text/plain": [
       "<function __main__.<lambda>>"
      ]
     },
     "execution_count": 4,
     "metadata": {},
     "output_type": "execute_result"
    },
    {
     "data": {
      "image/png": "[encoded data removed]",
      "text/plain": [
       "<Figure size 883.75x530.25 with 1 Axes>"
      ]
     },
     "metadata": {},
     "output_type": "display_data"
    }
   ],
   "source": [
    "fig = plt.figure(figsize=(base_fig_dim, 0.6 * base_fig_dim))\n",
    "ax_sm = fig.add_subplot(1, 1, 1)\n",
    "\n",
    "# Initialize\n",
    "bfs_init = get_bfs(sm)\n",
    "sm_curves = plot_bfs(ax_sm, bfs_init)\n",
    "\n",
    "# Format\n",
    "ax_sm.set_xlim(mxs[[0, -1]])\n",
    "ax_sm.set_yscale(\"log\")\n",
    "ax_sm.set_xlabel(r\"$m_\\chi$ (MeV)\")\n",
    "ax_sm.set_ylabel(\"Ann. BR\")\n",
    "plt.title(\"Scalar mediator\")\n",
    "# Put a legend to the right of the current axis\n",
    "box = ax_sm.get_position()\n",
    "ax_sm.set_position([box.x0, box.y0, box.width * 0.8, box.height])\n",
    "lgd = plt.legend(loc='center left', bbox_to_anchor=(1, 0.5))\n",
    "\n",
    "# Set up sliders\n",
    "interact(lambda ms, gsxx, gsff, gsGG, gsFF, lam: update_scalar(ms, gsxx, gsff,\n",
    "                                                               gsGG, gsFF, lam,\n",
    "                                                               sm, sm_curves,\n",
    "                                                               fig),\n",
    "         ms=widgets.FloatSlider(min=0, max_sm=250, step=1, value=200.),\n",
    "         gsxx=widgets.FloatSlider(min=-1, max_sm=1, step=0.01, value=1.),\n",
    "         gsff=widgets.FloatSlider(min=-1, max_sm=1, step=0.01, value=1.),\n",
    "         gsGG=widgets.FloatSlider(min=-1, max_sm=1, step=0.01, value=1.),\n",
    "         gsFF=widgets.FloatSlider(min=-1, max_sm=1, step=0.01, value=1.),\n",
    "         lam=widgets.FloatSlider(min=0, max_sm=246e3, step=1, value=400.))"
   ]
  },
  {
   "cell_type": "markdown",
   "metadata": {},
   "source": [
    "## Vector"
   ]
  },
  {
   "cell_type": "code",
   "execution_count": 5,
   "metadata": {
    "collapsed": true
   },
   "outputs": [],
   "source": [
    "vm = VectorMediator(1e2, 1e3, 1., 1., 1., 1., 1., 1.)\n",
    "\n",
    "def update_vector(mv, gvxx, gvuu, gvdd, gvee, gvmumu, th, curves, fig):\n",
    "    # Update parameters\n",
    "    th.mv = mv\n",
    "    th.gvxx = gvxx\n",
    "    th.gvuu = gvuu\n",
    "    th.gvdd = gvdd\n",
    "    th.gvee = gvee\n",
    "    th.gvmumu = gvmumu\n",
    "    \n",
    "    # Get new branching fractions\n",
    "    bfs = get_bfs(th)\n",
    "    \n",
    "    # Plot them\n",
    "    for fs in th.list_annihilation_final_states():\n",
    "        curves[fs].set_ydata(bfs[fs])\n",
    "\n",
    "    fig.canvas.draw()"
   ]
  },
  {
   "cell_type": "code",
   "execution_count": 6,
   "metadata": {},
   "outputs": [
    {
     "data": {
      "application/vnd.jupyter.widget-view+json": {
       "model_id": "151c91e6d9fd4f089b297ccd2061fd86"
      }
     },
     "metadata": {},
     "output_type": "display_data"
    },
    {
     "data": {
      "text/plain": [
       "<function __main__.<lambda>>"
      ]
     },
     "execution_count": 6,
     "metadata": {},
     "output_type": "execute_result"
    },
    {
     "data": {
      "image/png": "[encoded data removed]",
      "text/plain": [
       "<Figure size 883.75x530.25 with 1 Axes>"
      ]
     },
     "metadata": {},
     "output_type": "display_data"
    }
   ],
   "source": [
    "fig = plt.figure(figsize=(base_fig_dim, 0.6 * base_fig_dim))\n",
    "ax_vm = fig.add_subplot(1, 1, 1)\n",
    "\n",
    "# Initialize\n",
    "bfs_init = get_bfs(vm)\n",
    "vm_curves = plot_bfs(ax_vm, bfs_init)\n",
    "\n",
    "# Format\n",
    "ax_vm.set_xlim(mxs[[0, -1]])\n",
    "ax_vm.set_yscale(\"log\")\n",
    "ax_vm.set_xlabel(r\"$m_\\chi$ (MeV)\")\n",
    "ax_vm.set_ylabel(\"Ann. BR\")\n",
    "ax_vm.set_title(\"Vector mediator\")\n",
    "# Put a legend to the right of the current axis\n",
    "box = ax_vm.get_position()\n",
    "ax_vm.set_position([box.x0, box.y0, box.width * 0.8, box.height])\n",
    "lgd = plt.legend(loc='center left', bbox_to_anchor=(1, 0.5))\n",
    "\n",
    "# Set up sliders\n",
    "interact(lambda mv, gvxx, gvuu, gvdd, gvee, gvmumu: update_vector(mv, gvxx, gvuu,\n",
    "                                                                  gvdd, gvee,\n",
    "                                                                  gvmumu, vm,\n",
    "                                                                  vm_curves, fig),\n",
    "         mv=widgets.FloatSlider(min=0, max=250, step=1, value=200.),\n",
    "         gvxx=widgets.FloatSlider(min=-1, max=1, step=0.01, value=1.),\n",
    "         gvuu=widgets.FloatSlider(min=-1, max=1, step=0.01, value=1.),\n",
    "         gvdd=widgets.FloatSlider(min=-1, max=1, step=0.01, value=1.),\n",
    "         gvee=widgets.FloatSlider(min=-1, max=1, step=0.01, value=1.),\n",
    "         gvmumu=widgets.FloatSlider(min=-1, max=1, step=0.01, value=1.))"
   ]
  },
  {
   "cell_type": "code",
   "execution_count": null,
   "metadata": {
    "collapsed": true
   },
   "outputs": [],
   "source": []
  }
 ],
 "metadata": {
  "kernelspec": {
   "display_name": "Python 2",
   "language": "python",
   "name": "python2"
  },
  "language_info": {
   "codemirror_mode": {
    "name": "ipython",
    "version": 2
   },
   "file_extension": ".py",
   "mimetype": "text/x-python",
   "name": "python",
   "nbconvert_exporter": "python",
   "pygments_lexer": "ipython2",
   "version": "2.7.13"
  },
  "widgets": {
   "application/vnd.jupyter.widget-state+json": {
    "state": {
     "0bdbb9d5a9754c51a836a0afbceaeb96": {
      "model_module": "jupyter-js-widgets",
      "model_module_version": "~2.1.4",
      "model_name": "FloatSliderModel",
      "state": {
       "_model_module_version": "~2.1.4",
       "_view_module_version": "~2.1.4",
       "description": "gsGG",
       "layout": "IPY_MODEL_757082ab386149c1a063b281690dd51c",
       "min": -1,
       "step": 0.01,
       "value": 1
      }
     },
     "0c1313ab724743eb913fc20f5d057b02": {
      "model_module": "jupyter-js-widgets",
      "model_module_version": "~2.1.4",
      "model_name": "FloatSliderModel",
      "state": {
       "_model_module_version": "~2.1.4",
       "_view_module_version": "~2.1.4",
       "description": "mv",
       "layout": "IPY_MODEL_72880c95e2b3493e8e239a4ff09788ec",
       "max": 250,
       "value": 200
      }
     },
     "0d678f90f79645bb8372bdbb8bfd1489": {
      "model_module": "jupyter-js-widgets",
      "model_module_version": "~2.1.4",
      "model_name": "FloatSliderModel",
      "state": {
       "_model_module_version": "~2.1.4",
       "_view_module_version": "~2.1.4",
       "description": "ms",
       "layout": "IPY_MODEL_746411d088cf41c987bfd57e6dd55f20",
       "value": 100
      }
     },
     "0d737e12f30e4bec8b913ac0ab100e6d": {
      "model_module": "jupyter-js-widgets",
      "model_module_version": "~2.1.4",
      "model_name": "FloatSliderModel",
      "state": {
       "_model_module_version": "~2.1.4",
       "_view_module_version": "~2.1.4",
       "description": "gsxx",
       "layout": "IPY_MODEL_87dd76c9a64e4dd58ad181fafd6c5ec0",
       "min": -1,
       "step": 0.01,
       "value": 1
      }
     },
     "151c91e6d9fd4f089b297ccd2061fd86": {
      "model_module": "jupyter-js-widgets",
      "model_module_version": "~2.1.4",
      "model_name": "VBoxModel",
      "state": {
       "_dom_classes": [
        "widget-interact"
       ],
       "_model_module_version": "~2.1.4",
       "_view_module_version": "~2.1.4",
       "children": [
        "IPY_MODEL_0c1313ab724743eb913fc20f5d057b02",
        "IPY_MODEL_1ea73f83580b4f16868928f9df0bc66c",
        "IPY_MODEL_c9764d2c745d40bc90798587628792a6",
        "IPY_MODEL_7d769d98515c4da2a5fe79c0323c5861",
        "IPY_MODEL_9bfabdb72918466384b8badb54a364fa",
        "IPY_MODEL_d30f99cba8974e6eab1f1944683dfc96",
        "IPY_MODEL_7c005628ed3a4b64a033bd86d8ef2070"
       ],
       "layout": "IPY_MODEL_9b702e230f9e4afab79b3c3f2c80d51a"
      }
     },
     "169c5b8dd5614d82ba0d0ad7ffaa415b": {
      "model_module": "jupyter-js-widgets",
      "model_module_version": "~2.1.4",
      "model_name": "SliderStyleModel",
      "state": {
       "_model_module_version": "~2.1.4",
       "_view_module_version": "~2.1.4"
      }
     },
     "18e47c878b0045bda1ea6b7fba7cf92c": {
      "model_module": "jupyter-js-widgets",
      "model_module_version": "~2.1.4",
      "model_name": "LayoutModel",
      "state": {
       "_model_module_version": "~2.1.4",
       "_view_module_version": "~2.1.4"
      }
     },
     "1d4f5213a1234c939fb364e67b7dbfdb": {
      "model_module": "jupyter-js-widgets",
      "model_module_version": "~2.1.4",
      "model_name": "LayoutModel",
      "state": {
       "_model_module_version": "~2.1.4",
       "_view_module_version": "~2.1.4"
      }
     },
     "1ea73f83580b4f16868928f9df0bc66c": {
      "model_module": "jupyter-js-widgets",
      "model_module_version": "~2.1.4",
      "model_name": "FloatSliderModel",
      "state": {
       "_model_module_version": "~2.1.4",
       "_view_module_version": "~2.1.4",
       "description": "gvxx",
       "layout": "IPY_MODEL_18e47c878b0045bda1ea6b7fba7cf92c",
       "max": 1,
       "min": -1,
       "step": 0.01,
       "value": 1
      }
     },
     "29b0bfae97b94aa180d21814b0b9c260": {
      "model_module": "jupyter-js-widgets",
      "model_module_version": "~2.1.4",
      "model_name": "LayoutModel",
      "state": {
       "_model_module_version": "~2.1.4",
       "_view_module_version": "~2.1.4"
      }
     },
     "383172da3ccf46c5b07e6a6733fed907": {
      "model_module": "jupyter-js-widgets",
      "model_module_version": "~2.1.4",
      "model_name": "FloatSliderModel",
      "state": {
       "_model_module_version": "~2.1.4",
       "_view_module_version": "~2.1.4",
       "description": "gsFF",
       "layout": "IPY_MODEL_f6df5602a5484c18beb52dac97ce019b",
       "min": -1,
       "step": 0.01,
       "value": 1
      }
     },
     "3c7d11fea9314f719418e6db76369c6d": {
      "model_module": "jupyter-js-widgets",
      "model_module_version": "~2.1.4",
      "model_name": "LayoutModel",
      "state": {
       "_model_module_version": "~2.1.4",
       "_view_module_version": "~2.1.4"
      }
     },
     "3e88ff553d464a1ca313ee4eca3c00d1": {
      "model_module": "jupyter-js-widgets",
      "model_module_version": "~2.1.4",
      "model_name": "LayoutModel",
      "state": {
       "_model_module_version": "~2.1.4",
       "_view_module_version": "~2.1.4"
      }
     },
     "45405a6e4ba54822b6f2c8ce4966cbee": {
      "model_module": "jupyter-js-widgets",
      "model_module_version": "~2.1.4",
      "model_name": "FloatSliderModel",
      "state": {
       "_model_module_version": "~2.1.4",
       "_view_module_version": "~2.1.4",
       "description": "lam",
       "layout": "IPY_MODEL_c660f99a623a419bb93592cad5f574ee",
       "value": 100
      }
     },
     "5a025e67b23747a3a98d054dbaa11689": {
      "model_module": "jupyter-js-widgets",
      "model_module_version": "~2.1.4",
      "model_name": "OutputModel",
      "state": {
       "_dom_classes": [],
       "_model_module": "jupyter-js-widgets",
       "_model_module_version": "~2.1.4",
       "_view_module": "jupyter-js-widgets",
       "_view_module_version": "~2.1.4",
       "layout": "IPY_MODEL_c24e84e3821b4ab493930eb687dda29f",
       "msg_throttle": 1
      }
     },
     "655227c5abdb40f0b3dd78a287eaf97a": {
      "model_module": "jupyter-js-widgets",
      "model_module_version": "~2.1.4",
      "model_name": "LayoutModel",
      "state": {
       "_model_module_version": "~2.1.4",
       "_view_module_version": "~2.1.4"
      }
     },
     "65b7af9b41e7437c87ed9c27217e3ebb": {
      "model_module": "jupyter-js-widgets",
      "model_module_version": "~2.1.4",
      "model_name": "LayoutModel",
      "state": {
       "_model_module_version": "~2.1.4",
       "_view_module_version": "~2.1.4"
      }
     },
     "72880c95e2b3493e8e239a4ff09788ec": {
      "model_module": "jupyter-js-widgets",
      "model_module_version": "~2.1.4",
      "model_name": "LayoutModel",
      "state": {
       "_model_module_version": "~2.1.4",
       "_view_module_version": "~2.1.4"
      }
     },
     "746411d088cf41c987bfd57e6dd55f20": {
      "model_module": "jupyter-js-widgets",
      "model_module_version": "~2.1.4",
      "model_name": "LayoutModel",
      "state": {
       "_model_module_version": "~2.1.4",
       "_view_module_version": "~2.1.4"
      }
     },
     "757082ab386149c1a063b281690dd51c": {
      "model_module": "jupyter-js-widgets",
      "model_module_version": "~2.1.4",
      "model_name": "LayoutModel",
      "state": {
       "_model_module_version": "~2.1.4",
       "_view_module_version": "~2.1.4"
      }
     },
     "786e51f30f8440caa8e49cf8eb100bae": {
      "model_module": "jupyter-js-widgets",
      "model_module_version": "~2.1.4",
      "model_name": "LayoutModel",
      "state": {
       "_model_module_version": "~2.1.4",
       "_view_module_version": "~2.1.4"
      }
     },
     "7c005628ed3a4b64a033bd86d8ef2070": {
      "model_module": "jupyter-js-widgets",
      "model_module_version": "~2.1.4",
      "model_name": "OutputModel",
      "state": {
       "_dom_classes": [],
       "_model_module": "jupyter-js-widgets",
       "_model_module_version": "~2.1.4",
       "_view_module": "jupyter-js-widgets",
       "_view_module_version": "~2.1.4",
       "layout": "IPY_MODEL_1d4f5213a1234c939fb364e67b7dbfdb",
       "msg_throttle": 1
      }
     },
     "7d769d98515c4da2a5fe79c0323c5861": {
      "model_module": "jupyter-js-widgets",
      "model_module_version": "~2.1.4",
      "model_name": "FloatSliderModel",
      "state": {
       "_model_module_version": "~2.1.4",
       "_view_module_version": "~2.1.4",
       "description": "gvdd",
       "layout": "IPY_MODEL_65b7af9b41e7437c87ed9c27217e3ebb",
       "max": 1,
       "min": -1,
       "step": 0.01,
       "value": 1
      }
     },
     "87dd76c9a64e4dd58ad181fafd6c5ec0": {
      "model_module": "jupyter-js-widgets",
      "model_module_version": "~2.1.4",
      "model_name": "LayoutModel",
      "state": {
       "_model_module_version": "~2.1.4",
       "_view_module_version": "~2.1.4"
      }
     },
     "8bf0e85a0e5c47239221435f4a0094f7": {
      "model_module": "jupyter-js-widgets",
      "model_module_version": "~2.1.4",
      "model_name": "IntSliderModel",
      "state": {
       "_model_module_version": "~2.1.4",
       "_view_module_version": "~2.1.4",
       "continuous_update": false,
       "description": "Test:",
       "layout": "IPY_MODEL_29b0bfae97b94aa180d21814b0b9c260",
       "max": 10,
       "style": "IPY_MODEL_169c5b8dd5614d82ba0d0ad7ffaa415b",
       "value": 4
      }
     },
     "9b702e230f9e4afab79b3c3f2c80d51a": {
      "model_module": "jupyter-js-widgets",
      "model_module_version": "~2.1.4",
      "model_name": "LayoutModel",
      "state": {
       "_model_module_version": "~2.1.4",
       "_view_module_version": "~2.1.4"
      }
     },
     "9bfabdb72918466384b8badb54a364fa": {
      "model_module": "jupyter-js-widgets",
      "model_module_version": "~2.1.4",
      "model_name": "FloatSliderModel",
      "state": {
       "_model_module_version": "~2.1.4",
       "_view_module_version": "~2.1.4",
       "description": "gvee",
       "layout": "IPY_MODEL_3c7d11fea9314f719418e6db76369c6d",
       "max": 1,
       "min": -1,
       "step": 0.01,
       "value": 1
      }
     },
     "a0975e0e65d54f1a876078db6c3277d5": {
      "model_module": "jupyter-js-widgets",
      "model_module_version": "~2.1.4",
      "model_name": "FloatSliderModel",
      "state": {
       "_model_module_version": "~2.1.4",
       "_view_module_version": "~2.1.4",
       "description": "gsff",
       "layout": "IPY_MODEL_3e88ff553d464a1ca313ee4eca3c00d1",
       "min": -1,
       "step": 0.01,
       "value": 1
      }
     },
     "c24e84e3821b4ab493930eb687dda29f": {
      "model_module": "jupyter-js-widgets",
      "model_module_version": "~2.1.4",
      "model_name": "LayoutModel",
      "state": {
       "_model_module_version": "~2.1.4",
       "_view_module_version": "~2.1.4"
      }
     },
     "c660f99a623a419bb93592cad5f574ee": {
      "model_module": "jupyter-js-widgets",
      "model_module_version": "~2.1.4",
      "model_name": "LayoutModel",
      "state": {
       "_model_module_version": "~2.1.4",
       "_view_module_version": "~2.1.4"
      }
     },
     "c9764d2c745d40bc90798587628792a6": {
      "model_module": "jupyter-js-widgets",
      "model_module_version": "~2.1.4",
      "model_name": "FloatSliderModel",
      "state": {
       "_model_module_version": "~2.1.4",
       "_view_module_version": "~2.1.4",
       "description": "gvuu",
       "layout": "IPY_MODEL_786e51f30f8440caa8e49cf8eb100bae",
       "max": 1,
       "min": -1,
       "step": 0.01,
       "value": 1
      }
     },
     "d30f99cba8974e6eab1f1944683dfc96": {
      "model_module": "jupyter-js-widgets",
      "model_module_version": "~2.1.4",
      "model_name": "FloatSliderModel",
      "state": {
       "_model_module_version": "~2.1.4",
       "_view_module_version": "~2.1.4",
       "description": "gvmumu",
       "layout": "IPY_MODEL_655227c5abdb40f0b3dd78a287eaf97a",
       "max": 1,
       "min": -1,
       "step": 0.01,
       "value": 1
      }
     },
     "d32293f1aa934632a014d79a777ce074": {
      "model_module": "jupyter-js-widgets",
      "model_module_version": "~2.1.4",
      "model_name": "LayoutModel",
      "state": {
       "_model_module_version": "~2.1.4",
       "_view_module_version": "~2.1.4"
      }
     },
     "f285f277a5b843c6ac944490b1e5641f": {
      "model_module": "jupyter-js-widgets",
      "model_module_version": "~2.1.4",
      "model_name": "VBoxModel",
      "state": {
       "_dom_classes": [
        "widget-interact"
       ],
       "_model_module_version": "~2.1.4",
       "_view_module_version": "~2.1.4",
       "children": [
        "IPY_MODEL_0d678f90f79645bb8372bdbb8bfd1489",
        "IPY_MODEL_0d737e12f30e4bec8b913ac0ab100e6d",
        "IPY_MODEL_a0975e0e65d54f1a876078db6c3277d5",
        "IPY_MODEL_0bdbb9d5a9754c51a836a0afbceaeb96",
        "IPY_MODEL_383172da3ccf46c5b07e6a6733fed907",
        "IPY_MODEL_45405a6e4ba54822b6f2c8ce4966cbee",
        "IPY_MODEL_5a025e67b23747a3a98d054dbaa11689"
       ],
       "layout": "IPY_MODEL_d32293f1aa934632a014d79a777ce074"
      }
     },
     "f6df5602a5484c18beb52dac97ce019b": {
      "model_module": "jupyter-js-widgets",
      "model_module_version": "~2.1.4",
      "model_name": "LayoutModel",
      "state": {
       "_model_module_version": "~2.1.4",
       "_view_module_version": "~2.1.4"
      }
     }
    },
    "version_major": 1,
    "version_minor": 0
   }
  }
 },
 "nbformat": 4,
 "nbformat_minor": 2
}
