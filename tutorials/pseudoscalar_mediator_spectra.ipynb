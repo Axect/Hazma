{
 "cells": [
  {
   "cell_type": "code",
   "execution_count": 1,
   "metadata": {
    "collapsed": true
   },
   "outputs": [],
   "source": [
    "import matplotlib.pyplot as plt\n",
    "import numpy as np"
   ]
  },
  {
   "cell_type": "markdown",
   "metadata": {},
   "source": [
    "This function makes nice $\\LaTeX$ labels for different final states"
   ]
  },
  {
   "cell_type": "code",
   "execution_count": 2,
   "metadata": {
    "code_folding": [
     0,
     9
    ],
    "collapsed": true
   },
   "outputs": [],
   "source": [
    "def get_tex_label(fs):\n",
    "    tex_label = r\"$\"+ fs\n",
    "    tex_label = tex_label.replace(\"pi0\", \"\\pi^0\")\n",
    "    tex_label = tex_label.replace(\"pi pi\", \"\\pi^+ \\pi^-\")\n",
    "    tex_label = tex_label.replace(\"mu mu\", \"\\mu^+ \\mu^-\")\n",
    "    tex_label = tex_label.replace(\"g\", \"\\gamma\")\n",
    "    tex_label = tex_label.replace(\"e e\", \"e^+ e^-\")\n",
    "    return tex_label + r\"$\"\n",
    "\n",
    "def get_color(fs):\n",
    "    fss = [\"pi0 pi pi\", \"pi0 pi0 pi0\", \"mu mu\", \"e e\", \"g g\", \"p p\"]\n",
    "    return list(plt.rcParams[\"axes.prop_cycle\"])[fss.index(fs)][\"color\"]"
   ]
  },
  {
   "cell_type": "code",
   "execution_count": 3,
   "metadata": {
    "collapsed": true
   },
   "outputs": [],
   "source": [
    "from hazma.gamma_ray_limits.gamma_ray_limit_parameters import energy_res_comptel, energy_res_fermi\n",
    "from hazma.gamma_ray_limits.compute_limits import get_detected_spectrum"
   ]
  },
  {
   "cell_type": "code",
   "execution_count": 4,
   "metadata": {
    "collapsed": true
   },
   "outputs": [],
   "source": [
    "from hazma.pseudo_scalar_mediator import PseudoScalarMFV"
   ]
  },
  {
   "cell_type": "code",
   "execution_count": 8,
   "metadata": {
    "collapsed": true
   },
   "outputs": [],
   "source": [
    "psm = PseudoScalarMFV(mx=200., mp=1e3, gpxx=1., gpqq=1., gpll=0., gpGG=3., gpFF=2./3.)\n",
    "\n",
    "vx_mw = 1.0e-3  # approximate Milky Way velocity dispersion"
   ]
  },
  {
   "cell_type": "markdown",
   "metadata": {},
   "source": [
    "Choose arrays of photon energies and DM masses. The DM mass array has the same shape as the array of subplots we want to generate."
   ]
  },
  {
   "cell_type": "code",
   "execution_count": 9,
   "metadata": {
    "collapsed": true
   },
   "outputs": [],
   "source": [
    "e_gam_min, e_gam_max, n_e_gams = 5., 300., 250\n",
    "e_gams = np.logspace(np.log10(e_gam_min), np.log10(e_gam_max), n_e_gams)\n",
    "\n",
    "n_subplot_rows, n_subplot_cols = 1, 1\n",
    "mxs = np.array([220.]).reshape((n_subplot_rows, n_subplot_cols))"
   ]
  },
  {
   "cell_type": "markdown",
   "metadata": {},
   "source": [
    "Iterate over the array of dark matter masses, computing the spectrum at each $E_\\gamma \\in$ `e_gams`. Most of the code below formats the plot nicely; the `spectra()` function is called in line 12."
   ]
  },
  {
   "cell_type": "code",
   "execution_count": 10,
   "metadata": {
    "code_folding": [
     5
    ],
    "scrolled": false
   },
   "outputs": [
    {
     "name": "stderr",
     "output_type": "stream",
     "text": [
      "/Users/acoogan/.pyenv/versions/2.7.13/Python.framework/Versions/2.7/lib/python2.7/site-packages/scipy/integrate/quadpack.py:385: IntegrationWarning: The occurrence of roundoff error is detected, which prevents \n",
      "  the requested tolerance from being achieved.  The error may be \n",
      "  underestimated.\n",
      "  warnings.warn(msg, IntegrationWarning)\n",
      "/Users/acoogan/.pyenv/versions/2.7.13/Python.framework/Versions/2.7/lib/python2.7/site-packages/scipy/integrate/quadpack.py:385: IntegrationWarning: The occurrence of roundoff error is detected, which prevents \n",
      "  the requested tolerance from being achieved.  The error may be \n",
      "  underestimated.\n",
      "  warnings.warn(msg, IntegrationWarning)\n",
      "/Users/acoogan/.pyenv/versions/2.7.13/Python.framework/Versions/2.7/lib/python2.7/site-packages/scipy/integrate/quadpack.py:385: IntegrationWarning: The occurrence of roundoff error is detected, which prevents \n",
      "  the requested tolerance from being achieved.  The error may be \n",
      "  underestimated.\n",
      "  warnings.warn(msg, IntegrationWarning)\n",
      "/Users/acoogan/.pyenv/versions/2.7.13/Python.framework/Versions/2.7/lib/python2.7/site-packages/scipy/integrate/quadpack.py:385: IntegrationWarning: The occurrence of roundoff error is detected, which prevents \n",
      "  the requested tolerance from being achieved.  The error may be \n",
      "  underestimated.\n",
      "  warnings.warn(msg, IntegrationWarning)\n",
      "/Users/acoogan/.pyenv/versions/2.7.13/Python.framework/Versions/2.7/lib/python2.7/site-packages/scipy/integrate/quadpack.py:385: IntegrationWarning: The occurrence of roundoff error is detected, which prevents \n",
      "  the requested tolerance from being achieved.  The error may be \n",
      "  underestimated.\n",
      "  warnings.warn(msg, IntegrationWarning)\n",
      "/Users/acoogan/.pyenv/versions/2.7.13/Python.framework/Versions/2.7/lib/python2.7/site-packages/scipy/integrate/quadpack.py:385: IntegrationWarning: The occurrence of roundoff error is detected, which prevents \n",
      "  the requested tolerance from being achieved.  The error may be \n",
      "  underestimated.\n",
      "  warnings.warn(msg, IntegrationWarning)\n",
      "/Users/acoogan/.pyenv/versions/2.7.13/Python.framework/Versions/2.7/lib/python2.7/site-packages/scipy/integrate/quadpack.py:385: IntegrationWarning: The occurrence of roundoff error is detected, which prevents \n",
      "  the requested tolerance from being achieved.  The error may be \n",
      "  underestimated.\n",
      "  warnings.warn(msg, IntegrationWarning)\n",
      "/Users/acoogan/.pyenv/versions/2.7.13/Python.framework/Versions/2.7/lib/python2.7/site-packages/scipy/integrate/quadpack.py:385: IntegrationWarning: The occurrence of roundoff error is detected, which prevents \n",
      "  the requested tolerance from being achieved.  The error may be \n",
      "  underestimated.\n",
      "  warnings.warn(msg, IntegrationWarning)\n",
      "/Users/acoogan/.pyenv/versions/2.7.13/Python.framework/Versions/2.7/lib/python2.7/site-packages/scipy/integrate/quadpack.py:385: IntegrationWarning: The occurrence of roundoff error is detected, which prevents \n",
      "  the requested tolerance from being achieved.  The error may be \n",
      "  underestimated.\n",
      "  warnings.warn(msg, IntegrationWarning)\n",
      "/Users/acoogan/.pyenv/versions/2.7.13/Python.framework/Versions/2.7/lib/python2.7/site-packages/scipy/integrate/quadpack.py:385: IntegrationWarning: The occurrence of roundoff error is detected, which prevents \n",
      "  the requested tolerance from being achieved.  The error may be \n",
      "  underestimated.\n",
      "  warnings.warn(msg, IntegrationWarning)\n"
     ]
    },
    {
     "data": {
      "text/plain": [
       "Text(0.5,0.98,'Pseudocalar mediator')"
      ]
     },
     "execution_count": 10,
     "metadata": {},
     "output_type": "execute_result"
    },
    {
     "data": {
      "image/png": "[encoded data removed]",
      "text/plain": [
       "<Figure size 593.75x437.5 with 1 Axes>"
      ]
     },
     "metadata": {},
     "output_type": "display_data"
    }
   ],
   "source": [
    "plt.figure(figsize=(4.75, 3.5))\n",
    "\n",
    "# Iterate over the values, row and column indices of mxs\n",
    "it = np.nditer(mxs, flags=['multi_index'])\n",
    "\n",
    "while not it.finished:\n",
    "    psm.mx = it[0]  # current value of mx\n",
    "    idx = it.iterindex  # current index in mxs\n",
    "    row_idx, col_idx = it.multi_index  # current row and column indices\n",
    "    plt.subplot(n_subplot_rows, n_subplot_cols, idx + 1)\n",
    "    \n",
    "    # Center of mass energy, set to slightly above threshold\n",
    "    e_cm = 2.*psm.mx * (1. + 0.5 * vx_mw**2)\n",
    "\n",
    "    # Plot total convolved spectrum\n",
    "    dnde_det = get_detected_spectrum(lambda es, e_cm: psm.spectra(es, e_cm)[\"total\"],\n",
    "                                     psm.gamma_ray_lines,\n",
    "                                     e_gam_min, e_gam_max,\n",
    "                                     e_cm,\n",
    "                                     energy_res=energy_res_comptel)\n",
    "    plt.loglog(e_gams, dnde_det(e_gams), \"black\", label=\"Total\")\n",
    "    \n",
    "    # Plot individual channels' spectra\n",
    "    for fs, spec in reversed(sorted(psm.spectra(e_gams, e_cm).iteritems())):\n",
    "        if fs not in [\"total\", \"p p\", \"e e\", \"mu mu\", \"g g\"]:\n",
    "            plt.loglog(e_gams, spec, label=get_tex_label(fs),\n",
    "                       color=get_color(fs),\n",
    "                       linewidth=1.5)\n",
    "\n",
    "    # Mark the lines' energies\n",
    "    for ch, line in psm.gamma_ray_lines(e_cm).iteritems():\n",
    "        plt.axvline(line[\"energy\"], linestyle='--', color=\"k\", alpha=0.5, linewidth=1.5, label=r\"$E_{\\gamma\\gamma}$\")\n",
    "\n",
    "    ### Formatting\n",
    "    # Set axis limits\n",
    "    plt.xlim(10, 300)\n",
    "    plt.ylim(1e-5, 2e-1)\n",
    "        \n",
    "    # Only draw the legend for the first subplot\n",
    "    if idx == 0:\n",
    "        plt.legend(loc=\"center left\")\n",
    "        \n",
    "    # Only show ticks and axis labels for subplots on the left and bottom\n",
    "    if row_idx != n_subplot_rows - 1:\n",
    "        plt.tick_params(labelbottom=\"off\")\n",
    "    else:\n",
    "        plt.xlabel(r\"$E_\\gamma$ (MeV)\")\n",
    "    if col_idx % n_subplot_cols != 0:\n",
    "        plt.tick_params(labelleft=\"off\")\n",
    "    else:\n",
    "        plt.ylabel(r\"$\\frac{dN}{dE_\\gamma}$ (MeV$^{-1}$)\")\n",
    "        \n",
    "    # Label subplot with dark matter mass\n",
    "    plt.text(1.1e1, 8e-2, r\"$m_\\chi = %0.f$ MeV\" % psm.mx)\n",
    "    \n",
    "    it.iternext()\n",
    "\n",
    "plt.tight_layout(rect=[0, 0.03, 1, 0.95])  # remove some of the space between plots\n",
    "plt.suptitle(r\"Pseudocalar mediator\")\n",
    "\n",
    "# plt.savefig(\"figures/pseudoscalar_spectra_mfv.pdf\")"
   ]
  },
  {
   "cell_type": "code",
   "execution_count": null,
   "metadata": {
    "collapsed": true
   },
   "outputs": [],
   "source": []
  }
 ],
 "metadata": {
  "kernelspec": {
   "display_name": "Python 2",
   "language": "python",
   "name": "python2"
  },
  "language_info": {
   "codemirror_mode": {
    "name": "ipython",
    "version": 2
   },
   "file_extension": ".py",
   "mimetype": "text/x-python",
   "name": "python",
   "nbconvert_exporter": "python",
   "pygments_lexer": "ipython2",
   "version": "2.7.13"
  },
  "toc": {
   "nav_menu": {},
   "number_sections": true,
   "sideBar": true,
   "skip_h1_title": false,
   "toc_cell": false,
   "toc_position": {
    "height": "922px",
    "left": "0px",
    "right": "1798px",
    "top": "95.1px",
    "width": "26px"
   },
   "toc_section_display": "block",
   "toc_window_display": true
  }
 },
 "nbformat": 4,
 "nbformat_minor": 2
}
