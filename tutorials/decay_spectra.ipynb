{
 "cells": [
  {
   "cell_type": "markdown",
   "metadata": {},
   "source": [
    "# Decay Spectra"
   ]
  },
  {
   "cell_type": "markdown",
   "metadata": {},
   "source": [
    "## Imports"
   ]
  },
  {
   "cell_type": "code",
   "execution_count": null,
   "metadata": {
    "collapsed": true
   },
   "outputs": [],
   "source": [
    "from hazma.decay import muon as decay_muon\n",
    "from hazma.decay import neutral_pion as decay_neutral_pion\n",
    "from hazma.decay import charged_pion as decay_charged_pion\n",
    "from hazma.decay import charged_kaon as decay_charged_kaon\n",
    "from hazma.decay import long_kaon as decay_long_kaon\n",
    "from hazma.decay import short_kaon as decay_short_kaon\n",
    "\n",
    "from hazma.parameters import electron_mass as me\n",
    "from hazma.parameters import muon_mass as mmu\n",
    "from hazma.parameters import neutral_pion_mass as mpi0\n",
    "from hazma.parameters import charged_pion_mass as mpi\n",
    "from hazma.parameters import charged_kaon_mass as mk\n",
    "from hazma.parameters import neutral_kaon_mass as mk0\n",
    "\n",
    "import numpy as np\n",
    "\n",
    "import matplotlib.pyplot as plt\n",
    "%matplotlib inline"
   ]
  },
  {
   "cell_type": "markdown",
   "metadata": {},
   "source": [
    "## Muon"
   ]
  },
  {
   "cell_type": "code",
   "execution_count": null,
   "metadata": {
    "collapsed": true
   },
   "outputs": [],
   "source": [
    "nengs = 1000\n",
    "mu_engs = np.array([mmu, 500, 1000])\n",
    "egams = np.logspace(0., 3, num=nengs)\n",
    "\n",
    "mu_specs = np.array([decay_muon(egams, emu) for emu in mu_engs])"
   ]
  },
  {
   "cell_type": "code",
   "execution_count": null,
   "metadata": {
    "collapsed": true
   },
   "outputs": [],
   "source": [
    "plt.figure(dpi=100)\n",
    "\n",
    "for i in range(len(mu_engs)):\n",
    "    plt.loglog(egams, mu_specs[i], label=r\"$E_{\\mu} = $\" + \"{:0.0f}\".format(mu_engs[i] / mmu) + r\"$\\cdot m_{\\mu}$\")\n",
    "    \n",
    "\n",
    "plt.ylim([10**-6, 10**-1])\n",
    "plt.ylabel(r\"$\\frac{dN}{dE_{\\gamma}}$ (MeV$^{-1}$)\", fontsize=14)\n",
    "plt.xlabel(r\"$E_{\\gamma}$ (MeV)\", fontsize=14)\n",
    "plt.legend(fontsize=12)\n",
    "plt.xlim(egams[[0, -1]])"
   ]
  },
  {
   "cell_type": "markdown",
   "metadata": {},
   "source": [
    "## Neutral Pion"
   ]
  },
  {
   "cell_type": "code",
   "execution_count": null,
   "metadata": {
    "collapsed": true
   },
   "outputs": [],
   "source": [
    "nengs = 150\n",
    "pi0_engs = np.array([1.01 * mpi0, 2 * mpi0, 3. * mpi0])\n",
    "egams = np.logspace(0., np.log10(1000.), num=nengs)\n",
    "\n",
    "pi0_specs = np.array([decay_neutral_pion(egams, epi) for epi in pi0_engs])"
   ]
  },
  {
   "cell_type": "code",
   "execution_count": null,
   "metadata": {
    "collapsed": true
   },
   "outputs": [],
   "source": [
    "plt.figure(dpi=100)\n",
    "\n",
    "for i in range(len(pi0_engs)):\n",
    "    plt.loglog(egams, pi0_specs[i], label=r\"$E_{\\mu} = $\" + \"{:0.2f}\".format(pi0_engs[i] / mpi0) + r\"$\\cdot m_{\\pi}$\")\n",
    "    \n",
    "\n",
    "#plt.ylim([10**-6, 10**-1])\n",
    "plt.ylabel(r\"$\\frac{dN}{dE_{\\gamma}}$ (MeV$^{-1}$)\", fontsize=14)\n",
    "plt.xlabel(r\"$E_{\\gamma}$ (MeV)\", fontsize=14)\n",
    "plt.legend(fontsize=12)"
   ]
  },
  {
   "cell_type": "markdown",
   "metadata": {},
   "source": [
    "## Charged Pion"
   ]
  },
  {
   "cell_type": "markdown",
   "metadata": {},
   "source": [
    "### Different channels"
   ]
  },
  {
   "cell_type": "code",
   "execution_count": null,
   "metadata": {
    "collapsed": true
   },
   "outputs": [],
   "source": [
    "nengs = 150\n",
    "egams = np.logspace(0., np.log10(1500.), num=nengs)\n",
    "\n",
    "e_pi = 1.0001*mpi\n",
    "\n",
    "cp_specs_total = decay_charged_pion(egams, e_pi, mode=\"total\")\n",
    "cp_specs_munu = decay_charged_pion(egams, e_pi, mode=\"munu\")\n",
    "cp_specs_munug = decay_charged_pion(egams, e_pi, mode=\"munug\")\n",
    "cp_specs_enug = decay_charged_pion(egams, e_pi, mode=\"enug\")\n",
    "\n",
    "\n",
    "cp_specs = {\"total\" : cp_specs_total,\n",
    "            \"munu\" : cp_specs_munu,\n",
    "            \"munug\" : cp_specs_munug, \n",
    "            \"enug\" : cp_specs_enug}"
   ]
  },
  {
   "cell_type": "code",
   "execution_count": null,
   "metadata": {
    "collapsed": true
   },
   "outputs": [],
   "source": [
    "def cp_key_to_label(key):\n",
    "    if key ==\"total\":\n",
    "        return \"Total\"\n",
    "    if key ==\"munu\":\n",
    "        return r\"$\\mu^{+}\\nu$\"\n",
    "    if key ==\"munug\": \n",
    "        return r\"$\\mu^{+}\\nu\\gamma$\"\n",
    "    if key ==\"enug\":\n",
    "        return r\"$e^{+}\\nu\\gamma$\""
   ]
  },
  {
   "cell_type": "code",
   "execution_count": null,
   "metadata": {
    "collapsed": true
   },
   "outputs": [],
   "source": [
    "plt.figure(dpi=200)\n",
    "\n",
    "ax = plt.subplot(111)\n",
    "\n",
    "for key in reversed(sorted(cp_specs.keys())):\n",
    "    plt.loglog(egams, egams*cp_specs[key], label=cp_key_to_label(key), lw=2 if key==\"total\" else 1)\n",
    "\n",
    "\n",
    "plt.xlim([10**0,10**2])\n",
    "plt.ylim([1e-4, 3e-2])\n",
    "plt.ylabel(r\"$E_\\gamma \\frac{dN}{dE_\\gamma}$\")\n",
    "plt.xlabel(r\"$E_{\\gamma}$ (MeV)\")\n",
    "plt.title(r\"$\\pi^{+}$ decay spectrum\")\n",
    "\n",
    "# Shrink current axis by 20%\n",
    "# box = ax.get_position()\n",
    "# ax.set_position([box.x0, box.y0, box.width * 0.8, box.height])\n",
    "\n",
    "# Put a legend to the right of the current axis\n",
    "ax.legend()  # loc=\"center left\")\n",
    "\n",
    "plt.savefig(\"figures/charged_pion_decay_spectrum.pdf\")"
   ]
  },
  {
   "cell_type": "markdown",
   "metadata": {},
   "source": [
    "### Difference pion energies"
   ]
  },
  {
   "cell_type": "code",
   "execution_count": null,
   "metadata": {
    "collapsed": true
   },
   "outputs": [],
   "source": [
    "nengs = 150\n",
    "pi_engs = np.array([mpi, 2 * mpi, 3. * mpi])\n",
    "egams = np.logspace(0., np.log10(1000.), num=nengs)\n",
    "\n",
    "pi_specs = np.array([decay_charged_pion(egams, epi) for epi in pi_engs])"
   ]
  },
  {
   "cell_type": "code",
   "execution_count": null,
   "metadata": {
    "collapsed": true
   },
   "outputs": [],
   "source": [
    "plt.figure(dpi=100)\n",
    "\n",
    "for i in range(len(pi0_engs)):\n",
    "    plt.loglog(egams, pi_specs[i], label=r\"$E_{\\mu} = $\" + \"{:0.0f}\".format(pi_engs[i] / mpi) + r\"$\\cdot m_{\\pi}$\")\n",
    "    \n",
    "\n",
    "plt.ylim([10**-7, 10**-1])\n",
    "plt.ylabel(r\"$\\frac{dN}{dE_{\\gamma}}$ (MeV$^{-1}$)\", fontsize=14)\n",
    "plt.xlabel(r\"$E_{\\gamma}$ (MeV)\", fontsize=14)\n",
    "plt.legend(fontsize=12)"
   ]
  },
  {
   "cell_type": "markdown",
   "metadata": {},
   "source": [
    "## Charged Kaon"
   ]
  },
  {
   "cell_type": "code",
   "execution_count": null,
   "metadata": {
    "collapsed": true
   },
   "outputs": [],
   "source": [
    "nengs = 150\n",
    "egams = np.logspace(0., np.log10(1500.), num=nengs)\n",
    "\n",
    "ck_specs_total = decay_charged_kaon(egams, mk, mode=\"total\")\n",
    "ck_specs_0enu = decay_charged_kaon(egams, mk, mode=\"0enu\")\n",
    "ck_specs_0munu = decay_charged_kaon(egams, mk, mode=\"0munu\")\n",
    "ck_specs_00p = decay_charged_kaon(egams, mk, mode=\"00p\")\n",
    "ck_specs_mmug = decay_charged_kaon(egams, mk, mode=\"mmug\")\n",
    "ck_specs_munu = decay_charged_kaon(egams, mk, mode=\"munu\")\n",
    "ck_specs_p0 = decay_charged_kaon(egams, mk, mode=\"p0\")\n",
    "ck_specs_p0g = decay_charged_kaon(egams, mk, mode=\"p0g\")\n",
    "ck_specs_ppm = decay_charged_kaon(egams, mk, mode=\"ppm\")\n",
    "\n",
    "ck_specs = {\"total\" : ck_specs_total,\n",
    "            \"0enu\" : ck_specs_0enu,\n",
    "            \"0munu\" : ck_specs_0munu, \n",
    "            \"00p\" : ck_specs_00p, \n",
    "            \"mmug\" : ck_specs_mmug, \n",
    "            \"munu\" : ck_specs_munu, \n",
    "            \"p0\" : ck_specs_p0, \n",
    "            \"p0g\" : ck_specs_p0g,\n",
    "            \"ppm\" : ck_specs_ppm}"
   ]
  },
  {
   "cell_type": "code",
   "execution_count": null,
   "metadata": {
    "collapsed": true
   },
   "outputs": [],
   "source": [
    "def ck_key_to_label(key):\n",
    "    if key ==\"total\":\n",
    "        return \"Total\"\n",
    "    if key ==\"0enu\":\n",
    "        return r\"$\\pi^{0}e^{+}\\nu$\"\n",
    "    if key ==\"0munu\": \n",
    "        return r\"$\\pi^{0}\\mu^{+}\\nu$\"\n",
    "    if key ==\"00p\":\n",
    "        return r\"$\\pi^{0}\\pi^{0}\\pi^{+}$\"\n",
    "    if key ==\"mmug\":\n",
    "        return r\"$\\mu^{+}\\nu\\gamma$\"\n",
    "    if key ==\"munu\":\n",
    "        return r\"$\\mu^{+}\\nu$\"\n",
    "    if key ==\"p0\":\n",
    "        return r\"$\\pi^{+}\\pi^{0}$\"\n",
    "    if key ==\"p0g\":\n",
    "        return r\"$\\pi^{+}\\pi^{0}\\gamma$\"\n",
    "    if key ==\"ppm\":\n",
    "        return r\"$\\pi^{+}\\pi^{+}\\pi^{-}$\""
   ]
  },
  {
   "cell_type": "code",
   "execution_count": null,
   "metadata": {
    "collapsed": true
   },
   "outputs": [],
   "source": [
    "plt.figure(dpi=200)\n",
    "\n",
    "ax = plt.subplot(111)\n",
    "\n",
    "for key in reversed(sorted(ck_specs.keys())):\n",
    "    plt.loglog(egams, ck_specs[key], label=ck_key_to_label(key), lw=2 if key==\"total\" else 1)\n",
    "\n",
    "\n",
    "plt.xlim([10**0,3*10**2])\n",
    "plt.ylim([1e-7, 3e-2])\n",
    "plt.ylabel(r\"$\\frac{dN}{dE}$ (MeV$^{-1}$)\")\n",
    "plt.xlabel(r\"$E_{\\gamma}$ (MeV)\")\n",
    "plt.title(r\"$K^{+}$ decay spectrum\")\n",
    "\n",
    "# Shrink current axis by 20%\n",
    "box = ax.get_position()\n",
    "ax.set_position([box.x0, box.y0, box.width * 0.8, box.height])\n",
    "\n",
    "# Put a legend to the right of the current axis\n",
    "ax.legend(loc='center left', bbox_to_anchor=(1, 0.5))\n",
    "\n",
    "plt.savefig(\"figures/ckaon_decay_spectrum.pdf\")"
   ]
  },
  {
   "cell_type": "markdown",
   "metadata": {},
   "source": [
    "## Short Kaon"
   ]
  },
  {
   "cell_type": "code",
   "execution_count": null,
   "metadata": {
    "collapsed": true
   },
   "outputs": [],
   "source": [
    "nengs = 150\n",
    "egams = np.logspace(0., np.log10(1500.), num=nengs)\n",
    "\n",
    "sk_specs_total = decay_short_kaon(egams, mk0, mode=\"total\")\n",
    "sk_specs_00 = decay_short_kaon(egams, mk0, mode=\"00\")\n",
    "sk_specs_pm = decay_short_kaon(egams, mk0, mode=\"pm\")\n",
    "sk_specs_pmg = decay_short_kaon(egams, mk0, mode=\"pmg\")\n",
    "\n",
    "sk_specs = {\"total\" : sk_specs_total,\n",
    "            \"00\" : sk_specs_00,\n",
    "            \"pm\" : sk_specs_pm, \n",
    "            \"pmg\" : sk_specs_pmg}"
   ]
  },
  {
   "cell_type": "code",
   "execution_count": null,
   "metadata": {
    "collapsed": true
   },
   "outputs": [],
   "source": [
    "def sk_key_to_label(key):\n",
    "    if key ==\"total\":\n",
    "        return \"Total\"\n",
    "    if key ==\"00\":\n",
    "        return r\"$\\pi^{0}\\pi^{0}$\"\n",
    "    if key ==\"pm\": \n",
    "        return r\"$\\pi^{+}\\pi^{-}$\"\n",
    "    if key ==\"pmg\":\n",
    "        return r\"$\\pi^{+}\\pi^{-}\\gamma$\""
   ]
  },
  {
   "cell_type": "code",
   "execution_count": null,
   "metadata": {
    "collapsed": true
   },
   "outputs": [],
   "source": [
    "plt.figure(dpi=200)\n",
    "\n",
    "ax = plt.subplot(111)\n",
    "\n",
    "for key in reversed(sorted(sk_specs.keys())):\n",
    "    plt.loglog(egams, sk_specs[key], label=sk_key_to_label(key), lw=2 if key==\"total\" else 1)\n",
    "\n",
    "\n",
    "plt.xlim([4e0,3e2])\n",
    "plt.ylim([1e-5, 3e-2])\n",
    "plt.ylabel(r\"$\\frac{dN}{dE}$ (MeV$^{-1}$)\")\n",
    "plt.xlabel(r\"$E_{\\gamma}$ (MeV)\")\n",
    "plt.title(r\"$K_{S}$ decay spectrum\")\n",
    "\n",
    "# Shrink current axis by 20%\n",
    "box = ax.get_position()\n",
    "ax.set_position([box.x0, box.y0, box.width * 0.8, box.height])\n",
    "\n",
    "# Put a legend to the right of the current axis\n",
    "ax.legend(loc='center left', bbox_to_anchor=(1, 0.5))\n",
    "\n",
    "plt.savefig(\"figures/skaon_decay_spectrum.pdf\")"
   ]
  },
  {
   "cell_type": "markdown",
   "metadata": {},
   "source": [
    "## Long Kaon"
   ]
  },
  {
   "cell_type": "code",
   "execution_count": null,
   "metadata": {
    "collapsed": true
   },
   "outputs": [],
   "source": [
    "nengs = 150\n",
    "egams = np.logspace(0., np.log10(1500.), num=nengs)\n",
    "\n",
    "lk_specs_total = decay_long_kaon(egams, mk0, mode=\"total\")\n",
    "lk_specs_000 = decay_long_kaon(egams, mk0, mode=\"000\")\n",
    "lk_specs_penu = decay_long_kaon(egams, mk0, mode=\"penu\")\n",
    "lk_specs_penug = decay_long_kaon(egams, mk0, mode=\"penug\")\n",
    "lk_specs_pm0 = decay_long_kaon(egams, mk0, mode=\"pm0\")\n",
    "lk_specs_pm0g = decay_long_kaon(egams, mk0, mode=\"pm0g\")\n",
    "lk_specs_pmunu = decay_long_kaon(egams, mk0, mode=\"pmunu\")\n",
    "lk_specs_pmunug = decay_long_kaon(egams, mk0, mode=\"pmunug\")\n",
    "\n",
    "lk_specs = {\"total\" : lk_specs_total,\n",
    "            \"000\" : lk_specs_000,\n",
    "            \"penu\" : lk_specs_penu, \n",
    "            \"penug\" : lk_specs_penug, \n",
    "            \"pm0\" : lk_specs_pm0, \n",
    "            \"pm0g\" : lk_specs_pm0g, \n",
    "            \"pmunu\" : lk_specs_pmunu, \n",
    "            \"pmunug\" : lk_specs_pmunug}"
   ]
  },
  {
   "cell_type": "code",
   "execution_count": null,
   "metadata": {
    "collapsed": true
   },
   "outputs": [],
   "source": [
    "def lk_key_to_label(key):\n",
    "    if key ==\"total\":\n",
    "        return \"Total\"\n",
    "    if key ==\"000\":\n",
    "        return r\"$\\pi^{0}\\pi^{0}\\pi^{0}$\"\n",
    "    if key ==\"penu\": \n",
    "        return r\"$\\pi^{-}e^{+}\\nu$\"\n",
    "    if key ==\"penug\":\n",
    "        return r\"$\\pi^{-}e^{+}\\nu\\gamma$\"\n",
    "    if key ==\"pm0\":\n",
    "        return r\"$\\pi^{+}\\pi^{-}\\pi^{0}$\"\n",
    "    if key ==\"pm0g\":\n",
    "        return r\"$\\pi^{+}\\pi^{-}\\pi^{0}\\gamma$\"\n",
    "    if key ==\"pmunu\":\n",
    "        return r\"$\\pi^{-}\\mu^{+}\\nu$\"\n",
    "    if key ==\"pmunug\":\n",
    "        return r\"$\\pi^{-}\\mu^{+}\\nu\\gamma$\""
   ]
  },
  {
   "cell_type": "code",
   "execution_count": null,
   "metadata": {
    "collapsed": true
   },
   "outputs": [],
   "source": [
    "plt.figure(dpi=200)\n",
    "\n",
    "ax = plt.subplot(111)\n",
    "\n",
    "for key in reversed(sorted(lk_specs.keys())):\n",
    "    plt.loglog(egams, lk_specs[key], label=lk_key_to_label(key), lw=2 if key==\"total\" else 1)\n",
    "\n",
    "\n",
    "plt.xlim([10**0,3*10**2])\n",
    "plt.ylim([1e-7, 3e-2])\n",
    "plt.ylabel(r\"$\\frac{dN}{dE}$ (MeV$^{-1}$)\")\n",
    "plt.xlabel(r\"$E_{\\gamma}$ (MeV)\")\n",
    "plt.title(r\"$K_{L}$ decay spectrum\")\n",
    "\n",
    "# Shrink current axis by 20%\n",
    "box = ax.get_position()\n",
    "ax.set_position([box.x0, box.y0, box.width * 0.8, box.height])\n",
    "\n",
    "# Put a legend to the right of the current axis\n",
    "ax.legend(loc='center left', bbox_to_anchor=(1, 0.5))\n",
    "\n",
    "plt.savefig(\"figures/lkaon_decay_spectrum.pdf\")"
   ]
  },
  {
   "cell_type": "code",
   "execution_count": null,
   "metadata": {
    "collapsed": true
   },
   "outputs": [],
   "source": []
  }
 ],
 "metadata": {
  "kernelspec": {
   "display_name": "Python 2",
   "language": "python",
   "name": "python2"
  },
  "language_info": {
   "codemirror_mode": {
    "name": "ipython",
    "version": 2
   },
   "file_extension": ".py",
   "mimetype": "text/x-python",
   "name": "python",
   "nbconvert_exporter": "python",
   "pygments_lexer": "ipython2",
   "version": "2.7.13"
  },
  "toc": {
   "nav_menu": {},
   "number_sections": true,
   "sideBar": true,
   "skip_h1_title": false,
   "toc_cell": false,
   "toc_position": {},
   "toc_section_display": "block",
   "toc_window_display": true
  }
 },
 "nbformat": 4,
 "nbformat_minor": 2
}
