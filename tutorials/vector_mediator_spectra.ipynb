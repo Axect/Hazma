{
 "cells": [
  {
   "cell_type": "code",
   "execution_count": null,
   "metadata": {},
   "outputs": [],
   "source": [
    "import matplotlib.pyplot as plt\n",
    "import numpy as np\n",
    "\n",
    "colors = 2*[c[\"color\"] for c in plt.rcParams[\"axes.prop_cycle\"]]"
   ]
  },
  {
   "cell_type": "markdown",
   "metadata": {},
   "source": [
    "This function makes nice $\\LaTeX$ labels for different final states"
   ]
  },
  {
   "cell_type": "code",
   "execution_count": null,
   "metadata": {},
   "outputs": [],
   "source": [
    "def get_tex_label(fs):\n",
    "    tex_label = r\"$\"+ fs\n",
    "    tex_label = tex_label.replace(\"pi0\", \"\\pi^0\")\n",
    "    tex_label = tex_label.replace(\"pi pi\", \"\\pi^+ \\pi^-\")\n",
    "    tex_label = tex_label.replace(\"mu mu\", \"\\mu^+ \\mu^-\")\n",
    "    tex_label = tex_label.replace(\"g\", \"\\gamma\")\n",
    "    tex_label = tex_label.replace(\"e e\", \"e^+ e^-\")\n",
    "    return tex_label + r\"$\"\n",
    "\n",
    "def get_color(fs):\n",
    "#     fss = sorted(list(set(ScalarMediator.list_final_states() + VectorMediator.list_final_states())))\n",
    "    fss = [\"pi0 pi0\", \"pi pi\", \"mu mu\", \"e e\", \"pi0 g\", \"g g\", \"pi0 pi pi\", \"s s\", \"v v\"]\n",
    "    return list(plt.rcParams[\"axes.prop_cycle\"])[fss.index(fs)][\"color\"]"
   ]
  },
  {
   "cell_type": "markdown",
   "metadata": {},
   "source": [
    "These imports give access to COMPTEL's energy resolution and a function to convolve a spectrum with a detector's smearing function. We will use these to understand how lines contribute to the spectrum for this model."
   ]
  },
  {
   "cell_type": "code",
   "execution_count": null,
   "metadata": {},
   "outputs": [],
   "source": [
    "from hazma.gamma_ray_limits.gamma_ray_limit_parameters import energy_res_comptel\n",
    "from hazma.gamma_ray_limits.compute_limits import get_detected_spectrum"
   ]
  },
  {
   "cell_type": "markdown",
   "metadata": {},
   "source": [
    "This import loads the vector mediator class from hazma."
   ]
  },
  {
   "cell_type": "code",
   "execution_count": null,
   "metadata": {},
   "outputs": [],
   "source": [
    "from hazma.vector_mediator import VectorMediator\n",
    "from hazma.scalar_mediator import ScalarMediator\n",
    "from hazma.parameters import neutral_pion_mass as mpi0"
   ]
  },
  {
   "cell_type": "markdown",
   "metadata": {},
   "source": [
    "## Spectra's dependence on $m_\\chi$\n",
    "This section examines the dependence of the spectra on the dark matter mass. The dependence on the couplings is less interesting since adjusting them just shifts the normalization of the different final states' contributions."
   ]
  },
  {
   "cell_type": "markdown",
   "metadata": {},
   "source": [
    "Create a `VectorMediator` object. The values of couplings to leptons and the strange quark and well as $m_V$ are irrelevant to our focus. The initial value of $m_\\chi$ does not matter since it will shortly be changed. The velocity dispersion in the Milky Way $v_\\chi \\sim 10^{-3}$ is defined here, as it was above."
   ]
  },
  {
   "cell_type": "code",
   "execution_count": null,
   "metadata": {},
   "outputs": [],
   "source": [
    "vm_args = {\"mx\": 250., \"mv\": 1000., \"gvxx\": 1., \"gvuu\": 1., \"gvdd\": 0.2, \"gvss\": 0., \"gvee\": 0., \"gvmumu\": 0.}\n",
    "vm = VectorMediator(**vm_args)\n",
    "\n",
    "vx_mw = 1.0e-3  # approximate Milky Way velocity dispersion"
   ]
  },
  {
   "cell_type": "markdown",
   "metadata": {},
   "source": [
    "Choose a less dense array of photon energies from 10 - 250 MeV."
   ]
  },
  {
   "cell_type": "code",
   "execution_count": null,
   "metadata": {},
   "outputs": [],
   "source": [
    "e_gam_min, e_gam_max, n_e_gams = 5., 300., 250\n",
    "\n",
    "e_gams = np.logspace(np.log10(e_gam_min), np.log10(e_gam_max), n_e_gams)"
   ]
  },
  {
   "cell_type": "markdown",
   "metadata": {},
   "source": [
    "Create a 2D array of dark matter masses."
   ]
  },
  {
   "cell_type": "code",
   "execution_count": null,
   "metadata": {},
   "outputs": [],
   "source": [
    "n_subplot_rows, n_subplot_cols = 2, 2\n",
    "\n",
    "mxs = np.array([75., 120., 143., 200.]).reshape((n_subplot_rows, n_subplot_cols))"
   ]
  },
  {
   "cell_type": "markdown",
   "metadata": {},
   "source": [
    "Iterate over the array of dark matter masses, computing the spectrum at each $E_\\gamma \\in$ `e_gams`. Most of the code below formats the plot nicely; the `spectra()` function is called in line 12."
   ]
  },
  {
   "cell_type": "code",
   "execution_count": null,
   "metadata": {},
   "outputs": [],
   "source": [
    "plt.figure(figsize=(7.5, 5))\n",
    "\n",
    "# Iterate over the values, row and column indices of mxs\n",
    "it = np.nditer(mxs, flags=['multi_index'])\n",
    "\n",
    "while not it.finished:\n",
    "    vm.mx = it[0]  # current value of mx\n",
    "    idx = it.iterindex  # current index in mxs\n",
    "    row_idx, col_idx = it.multi_index  # current row and column indices\n",
    "    plt.subplot(n_subplot_rows, n_subplot_cols, idx + 1)\n",
    "    \n",
    "    # Center of mass energy, set to slightly above threshold\n",
    "    e_cm = 2.*vm.mx * (1. + 0.5 * vx_mw)\n",
    "    \n",
    "    # Plot total convolved spectrum\n",
    "    dnde_det = get_detected_spectrum(lambda es, e_cm: vm.spectra(es, e_cm)[\"total\"],\n",
    "                                     vm.gamma_ray_lines,\n",
    "                                     e_gam_min, e_gam_max, e_cm,\n",
    "                                     energy_res=energy_res_comptel)\n",
    "    plt.loglog(e_gams, dnde_det(e_gams), \"black\", label=\"Total\")\n",
    "    \n",
    "    # Plot individual channels' spectra\n",
    "    for fs, spec in reversed(sorted(vm.spectra(e_gams, e_cm).iteritems())):\n",
    "        if fs not in [\"e e\", \"mu mu\", \"total\", \"v v\"]:\n",
    "            plt.loglog(e_gams, spec, label=get_tex_label(fs), color=get_color(fs), linewidth=1.5)\n",
    "\n",
    "    # Mark the lines' energies\n",
    "    for ch, line in vm.gamma_ray_lines(e_cm).iteritems():\n",
    "        plt.axvline(line[\"energy\"], linestyle='--', color=\"k\", alpha=0.5, linewidth=1.5)\n",
    "    \n",
    "    ### Formatting\n",
    "    # Set axis limits\n",
    "    plt.xlim(10, 250)\n",
    "    plt.ylim(6e-7, 1e0)\n",
    "    \n",
    "    # Only draw the legend for the first subplot\n",
    "    if idx == 2:\n",
    "        plt.legend(loc=\"lower left\")\n",
    "        \n",
    "    # Only show ticks and axis labels for subplots on the left and bottom\n",
    "    if row_idx != n_subplot_rows - 1:\n",
    "        plt.tick_params(labelbottom=\"off\")\n",
    "    else:\n",
    "        plt.xlabel(r\"$E_\\gamma$ (MeV)\")\n",
    "    if col_idx % n_subplot_cols != 0:\n",
    "        plt.tick_params(labelleft=\"off\")\n",
    "    else:\n",
    "        plt.ylabel(r\"$\\frac{dN}{dE_\\gamma}$ (MeV$^{-1}$)\")\n",
    "        \n",
    "    # Label subplot with dark matter mass\n",
    "    if (row_idx, col_idx) == (0, 0):\n",
    "        plt.text(8e1, 2e-1, r\"$m_\\chi = %0.f$ MeV\" % it[0])\n",
    "    else:\n",
    "        plt.text(1.1e1, 2e-1, r\"$m_\\chi = %0.f$ MeV\" % it[0])\n",
    "    \n",
    "    it.iternext()\n",
    "\n",
    "plt.tight_layout(rect=[0, 0.03, 1, 0.95])  # remove some of the space between plots\n",
    "plt.suptitle(r\"Vector mediator, $g_{Vuu} = %i g_{Vdd}$\" % (vm.gvuu/vm.gvdd))\n",
    "\n",
    "plt.savefig(\"figures/vector_spectra.pdf\")"
   ]
  },
  {
   "cell_type": "markdown",
   "metadata": {},
   "source": [
    "## Dependence on couplings"
   ]
  },
  {
   "cell_type": "code",
   "execution_count": null,
   "metadata": {},
   "outputs": [],
   "source": [
    "import matplotlib.cm as cm\n",
    "from matplotlib.colors import Normalize"
   ]
  },
  {
   "cell_type": "code",
   "execution_count": null,
   "metadata": {},
   "outputs": [],
   "source": [
    "vm_args = {\"mx\": 250., \"mv\": 1000., \"gvxx\": 1., \"gvuu\": 1., \"gvdd\": 0.2, \"gvss\": 0., \"gvee\": 0., \"gvmumu\": 0.}\n",
    "vm = VectorMediator(**vm_args)\n",
    "\n",
    "vx_mw = 1.0e-3  # approximate Milky Way velocity dispersion"
   ]
  },
  {
   "cell_type": "code",
   "execution_count": null,
   "metadata": {},
   "outputs": [],
   "source": [
    "e_gam_min, e_gam_max, n_e_gams = 5., 300., 250\n",
    "e_gams = np.logspace(np.log10(e_gam_min), np.log10(e_gam_max), n_e_gams)"
   ]
  },
  {
   "cell_type": "code",
   "execution_count": null,
   "metadata": {},
   "outputs": [],
   "source": [
    "n_subplot_rows, n_subplot_cols = 2, 2\n",
    "mxs = np.array([75., 120., 143., 200.]).reshape((n_subplot_rows, n_subplot_cols))\n",
    "\n",
    "ratios = np.linspace(-2, 1, 10)"
   ]
  },
  {
   "cell_type": "code",
   "execution_count": null,
   "metadata": {},
   "outputs": [],
   "source": [
    "# Set up the colormap\n",
    "cmap = cm.viridis_r\n",
    "norm = Normalize(vmin=ratios[0], vmax=ratios[-1])\n",
    "m = cm.ScalarMappable(norm=norm, cmap=cmap)\n",
    "m.set_array(ratios)"
   ]
  },
  {
   "cell_type": "code",
   "execution_count": null,
   "metadata": {},
   "outputs": [],
   "source": [
    "# Compute the spectra!\n",
    "spectra_det = {}\n",
    "\n",
    "for mx in mxs.flatten():\n",
    "    vm.mx = mx  # current value of mx\n",
    "    # Center of mass energy, set to slightly above threshold\n",
    "    e_cm = 2.*vm.mx * (1. + 0.5 * vx_mw)\n",
    "    \n",
    "    for ratio in ratios:\n",
    "        vm.gvdd = ratio * vm.gvuu\n",
    "        spec = vm.spectra(e_gams, e_cm)[\"total\"]\n",
    "        \n",
    "        dnde_det = get_detected_spectrum(lambda es, e_cm: vm.spectra(es, e_cm)[\"total\"],\n",
    "                                         vm.gamma_ray_lines,\n",
    "                                         e_gam_min, e_gam_max, e_cm,\n",
    "                                         energy_res=energy_res_comptel)\n",
    "\n",
    "        spectra_det[(mx, ratio)] = dnde_det(e_gams)"
   ]
  },
  {
   "cell_type": "code",
   "execution_count": null,
   "metadata": {},
   "outputs": [],
   "source": [
    "fig, axes = plt.subplots(nrows=n_subplot_rows, ncols=n_subplot_cols, figsize=(7.5, 5), sharex=True, sharey=True)\n",
    "\n",
    "# Iterate over the values, row and column indices of mxs\n",
    "it = np.nditer(mxs, flags=['multi_index'])\n",
    "\n",
    "while not it.finished:\n",
    "    idx = it.iterindex  # current index in mxs\n",
    "    row_idx, col_idx = it.multi_index  # current row and column indices\n",
    "    ax = axes[row_idx, col_idx]\n",
    "    \n",
    "    for ratio in ratios:\n",
    "        ax.loglog(e_gams, spectra_det[(float(it[0]), ratio)], color=m.to_rgba(ratio), linewidth=1)\n",
    "        e_cm = 2.*it[0] * (1. + 0.5 * vx_mw)\n",
    "        ax.axvline((e_cm**2 - mpi0**2) / (2. * e_cm), linestyle='--', color=m.to_rgba(ratio), linewidth=1)\n",
    "    \n",
    "    ### Formatting\n",
    "    # Set axis limits\n",
    "    plt.xlim(10, 250)\n",
    "    plt.ylim(5e-8, 1e0)\n",
    "\n",
    "    # Only show ticks and axis labels for subplots on the left and bottom\n",
    "    if row_idx != n_subplot_rows - 1:\n",
    "        ax.tick_params(labelbottom=\"off\")\n",
    "    else:\n",
    "        ax.set_xlabel(r\"$E_\\gamma$ (MeV)\")\n",
    "    if col_idx % n_subplot_cols != 0:\n",
    "        ax.tick_params(labelleft=\"off\")\n",
    "    else:\n",
    "        ax.set_ylabel(r\"$\\frac{dN}{dE_\\gamma}$ (MeV$^{-1}$)\")\n",
    "\n",
    "    # Label subplot with dark matter mass\n",
    "    if (row_idx, col_idx) == (0, 0):\n",
    "        ax.text(6.5e1, 2e-1, r\"$m_\\chi = %0.f$ MeV\" % it[0])\n",
    "    else:\n",
    "        ax.text(1.1e1, 2e-1, r\"$m_\\chi = %0.f$ MeV\" % it[0])\n",
    "    \n",
    "    it.iternext()\n",
    "\n",
    "plt.tight_layout(rect=[0, 0.03, 1, 0.95])  # remove some of the space between plots\n",
    "# plt.suptitle(r\"Vector mediator\")\n",
    "\n",
    "fig.colorbar(m, ax=axes.ravel().tolist()).set_label(r\"$g_{Vdd} / g_{Vuu}$\")\n",
    "\n",
    "plt.savefig(\"figures/vector_spectra_coupling_dependence.pdf\")"
   ]
  },
  {
   "cell_type": "code",
   "execution_count": null,
   "metadata": {},
   "outputs": [],
   "source": []
  }
 ],
 "metadata": {
  "language_info": {
   "name": "python",
   "pygments_lexer": "ipython3"
  }
 },
 "nbformat": 4,
 "nbformat_minor": 2
}
