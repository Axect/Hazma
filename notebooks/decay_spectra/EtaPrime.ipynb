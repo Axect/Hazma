{
 "cells": [
  {
   "cell_type": "code",
   "execution_count": null,
   "metadata": {},
   "outputs": [],
   "source": [
    "# BR(π⁺, π⁻, η) = (42.5 ± 0.5) %\n",
    "BR_ETAP_TO_PI_PI_ETA = 42.5e-2\n",
    "# BR(ρ⁰, γ) = (29.5 ± 0.4) % (including non-resonant π+ + π− + γ)\n",
    "BR_ETAP_TO_RHO_A = 29.5e-2\n",
    "# BR(π⁰, π⁰, η) = (22.4 ± 0.5) %\n",
    "BR_ETAP_TO_PI0_PI0_ETA = 22.4e-2\n",
    "# BR(ω, γ) = ( 2.52 ± 0.07) %\n",
    "BR_ETAP_TO_OMEGA_A = 2.52e-2\n",
    "# BR(γ, γ) = ( 2.307 ± 0.033) %\n",
    "BR_ETAP_TO_A_A = 2.307e-2\n",
    "\n",
    "# BR(π⁰, π⁰, π⁰) = ( 2.50 ± 0.17 )×10−3\n",
    "BR_ETAP_TO_PI0_PI0_PI0 = 2.50e-3\n",
    "# BR(μ⁺, μ⁻, γ) = (1.13 ± 0.28)×10−4\n",
    "BR_ETAP_TO_MU_MU_A = 1.13e-4\n",
    "# BR(ω, e⁺, e⁻) = ( 2.0 ± 0.4  )×10−4\n",
    "BR_ETAP_TO_OMEGA_E_E = 2e-4\n",
    "# BR(π⁺, π⁻, π⁰) = (3.61 ± 0.17)×10−3\n",
    "# BR(π⁺, π⁻, π⁰) = (3.8 ± 0.5)×10−3 (S-wave)\n",
    "BR_ETAP_TO_PI_PI_PI0 = 3.61e-3\n",
    "# BR(π∓, ρ±) = (7.4 ± 2.3)×10−4\n",
    "BR_ETAP_TO_PI_RHOP = 7.4e-4\n",
    "# BR(π⁺, π⁻, π⁺, π⁻) = (8.4 ± 0.9)×10−5\n",
    "BR_ETAP_TO_PI_PI_PI_PI = 8.4e-5\n",
    "# BR(π⁺, π⁻, π⁰, π⁰) = (1.8 ± 0.4)×10−4\n",
    "BR_ETAP_TO_PI_PI_PI0_PI0 = 1.8e-4\n",
    "# BR(π⁺, π⁻, e⁺, e⁻) = (2.4 +1.3 −1.0)×10−3\n",
    "BR_ETAP_TO_PI_PI_E_E = 2.4e-3\n",
    "# BR(γ, e⁺, e⁻) = (4.91 ± 0.27)×10−4\n",
    "BR_ETAP_TO_E_E_A = 4.91e-4\n",
    "# BR(π⁰, γ, γ) = (3.20 ± 0.24)×10−3\n",
    "# BR(π⁰, γ, γ) = (6.2 ± 0.9)×10−4 (non resonant)\n",
    "BR_ETAP_TO_PI0_A_A = 3.20e-3"
   ]
  }
 ],
 "metadata": {
  "language_info": {
   "name": "python"
  },
  "orig_nbformat": 4
 },
 "nbformat": 4,
 "nbformat_minor": 2
}
