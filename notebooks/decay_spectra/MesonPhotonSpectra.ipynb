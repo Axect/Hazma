{
 "cells": [
  {
   "cell_type": "markdown",
   "metadata": {},
   "source": [
    "# $\\gamma$-Ray Spectra from the Decay of Mesons"
   ]
  },
  {
   "cell_type": "markdown",
   "metadata": {},
   "source": [
    "## Boosting Spectra\n",
    "\n",
    "Often it is easiest to evaluate the energy spectrum of a particle $f$, $dN_{I\\to f + X}/dE_{f}$, produced in the decay of a state $I$ from the process $I \\to f + X$ in \n",
    "the rest frame of the decaying state $I$. It is of interest to have to spectrum when the decaying state $I$ is boosted. To compute the spectrum in this case, we use the\n",
    "following.\n",
    "\n",
    "First, the momentum in the rest frame are:\n",
    "\\begin{align*}\n",
    "    P^{\\mu}_{I,R} &= (M_{I}; 0,0,0)\\\\\n",
    "    P^{\\mu}_{f,R} &= (E_{R}; \\sqrt{1-z_{R}^2}k_{R}, 0, z_{R}k_{R})\\\\\n",
    "\\end{align*}\n",
    "and in the boosted frame:\n",
    "\\begin{align*}\n",
    "    P^{\\mu}_{I,L} &= (E_{I}; 0,0, k_{I})\\\\\n",
    "    P^{\\mu}_{f,L} &= (E_{L}; \\sqrt{1-z_{L}^2}k_{L}, 0, z_{L}k_{L})\\\\\n",
    "\\end{align*}\n",
    "with $E_{I} = \\gamma M_{I}$ and $k_{I} = \\gamma\\beta M_{I}$. The Lorentz transformation connecting the boosted and rest-frame momenta is:\n",
    "$\\Lambda = \\begin{pmatrix} \n",
    "    \\gamma & 0 & 0 & -\\beta\\gamma\\\\\n",
    "    0 & 1 & 0 & 0\\\\\n",
    "    0 & 0 & 1 & 0\\\\\n",
    "    -\\beta\\gamma & 0 & 0 & \\gamma\n",
    "\\end{pmatrix}$\n",
    "That is, $P^{\\mu}_{R} = \\Lambda^{\\mu}_{\\nu}P^{\\nu}_{L}$.\n",
    "\n",
    "\n",
    "\n",
    "given the spectrum $dN/dE$, we write:\n",
    "\\begin{align*}\n",
    "    d^2N = \\frac{d^2N}{dE_{R}dz_{R}}dE_{R}dz_{R}\n",
    "\\end{align*}\n",
    "where we will use $d^2N/dE_{R}dz_{R} = (1/2) dN/dE_{R}$. Here, $E_{R}$ is the energy of $f$ in the rest-frame and $z_{R} = \\cos(\\theta_{R})$ is the cosine of the angle\n",
    "$f$ makes with the $z$-axis. The variables $E_{R}$ and $z_{R}$ can be related to their corresponding values in the boosted values $E_{L}$ and $z_{L}$ from through:\n",
    "\\begin{align*}\n",
    "    E_{R} &= \\gamma (E_{L} - \\beta k_{L} z_{L})\\\\\n",
    "    k_{R}z_{R} &= \\gamma (k_{L}z_{L} - \\beta E_{L})\n",
    "\\end{align*}\n",
    "where $k = \\sqrt{E^2 - m_{f}^2}$ is the momentum of $f$. Note that we can change variables to $E_{L}$ and $z_{L}$ using\n",
    "\\begin{align*}\n",
    "    d^2N = \\frac{d^2N}{dE_{R}dz_{R}}dE_{R} dz_{R} = \\frac{d^2N}{dE_{R}dz_{R}} J dE_{L} dz_{L}\n",
    "\\end{align*}\n",
    "where $J$ is the Jacobian. For the case where $f$ is massless, the Jacobian is given by:\n",
    "\\begin{align*}\n",
    "    J = \\frac{1}{\\gamma(1-z_{L}\\beta)}\n",
    "\\end{align*}\n",
    "Then, the spectrum in the boosted frame is given by:\n",
    "\\begin{align*}\n",
    "    \\frac{dN}{dE_{L}} &= \\int \\frac{dz_{L}}{\\gamma(1-z_{L}\\beta)} \\frac{1}{2}\\frac{dN}{dE_{R}}(\\gamma E_{L}(1-\\beta z_{L}))\n",
    "\\end{align*}\n",
    "If we change variables from $z_{L}$ to $w = 1 - \\beta z_{L}$, then this becomes\n",
    "\\begin{align*}\n",
    "    \\frac{dN}{dE_{L}} &= \\frac{1}{2\\gamma\\beta}\\int_{1-\\beta}^{1+\\beta} \\frac{dw}{w} \\frac{dN}{dE_{R}}(\\gamma w E_{L})\n",
    "\\end{align*}"
   ]
  },
  {
   "cell_type": "markdown",
   "metadata": {},
   "source": [
    "A special case occurs when $dN/dE = A \\delta(E - E_{0})$. In this case, we can evaluate the spectrum exactly. The result is:\n",
    "\\begin{align*}\n",
    "    \\frac{dN}{dE_{L}} &= \\frac{A}{2\\gamma\\beta}\\int_{1-\\beta}^{1+\\beta} \\frac{dw}{w} \\delta(\\gamma w E_{L} - E_{0})\n",
    "    = \\frac{A}{2\\gamma\\beta E_{0}} \\left(\\theta\\left(E_{L} - \\frac{E_{0}}{\\gamma(1+\\beta)}\\right) - \\theta\\left(E_{L} - \\frac{E_{0}}{\\gamma(1-\\beta)}\\right)\\right)\n",
    "\\end{align*}"
   ]
  },
  {
   "cell_type": "markdown",
   "metadata": {},
   "source": [
    "## Utilities"
   ]
  },
  {
   "cell_type": "code",
   "execution_count": 5,
   "metadata": {},
   "outputs": [],
   "source": [
    "from typing import Optional, List, Union\n",
    "from abc import ABCMeta, abstractmethod\n",
    "\n",
    "from scipy.interpolate import UnivariateSpline\n",
    "from scipy import integrate\n",
    "from scipy import special\n",
    "import numpy as np\n",
    "import numpy.typing as npt\n",
    "\n",
    "import matplotlib.pyplot as plt\n",
    "\n",
    "from hazma.parameters import eta_mass as meta\n",
    "from hazma.parameters import neutral_pion_mass as mpi0\n",
    "from hazma.parameters import charged_pion_mass as mpi\n",
    "from hazma.parameters import neutral_kaon_mass as mk0\n",
    "from hazma.parameters import charged_kaon_mass as mk\n",
    "from hazma.parameters import muon_mass as mmu\n",
    "from hazma.parameters import electron_mass as me\n",
    "from hazma.rambo import generate_phase_space\n",
    "\n",
    "from hazma.decay import neutral_pion as dnde_photon_pi0\n",
    "from hazma.decay import charged_pion as dnde_photon_pi\n",
    "from hazma.decay import muon as dnde_photon_muon"
   ]
  },
  {
   "cell_type": "code",
   "execution_count": 2,
   "metadata": {},
   "outputs": [],
   "source": [
    "RealArray = npt.NDArray[np.float64]"
   ]
  },
  {
   "cell_type": "code",
   "execution_count": 21,
   "metadata": {},
   "outputs": [],
   "source": [
    "class SpectrumBase(metaclass=ABCMeta):\n",
    "\n",
    "    @abstractmethod\n",
    "    def boost(self, xs: RealArray, beta: float):\n",
    "        pass\n",
    "\n",
    "\n",
    "class SpectrumLine(SpectrumBase):\n",
    "    \"\"\"\n",
    "    Class for working with δ-function spectra.\n",
    "\n",
    "    Attributes\n",
    "    ----------\n",
    "    e0: float\n",
    "        Energy of the line.\n",
    "    norm: float\n",
    "        Normaliztion of the δ-function spectrum.\n",
    "\n",
    "    Methods\n",
    "    -------\n",
    "    boost(es, beta)\n",
    "        Boost the spectrum by boost factor\n",
    "    \"\"\"\n",
    "\n",
    "    def __init__(self, eloc: float, norm: float) -> None:\n",
    "        self.eloc: float = eloc\n",
    "        self.norm: float = norm\n",
    "\n",
    "    def boost(self, es: RealArray, beta: float):\n",
    "        dndes = np.zeros_like(es)\n",
    "        g = 1 / np.sqrt(1 - beta**2)\n",
    "        ep = self.eloc / (g * (1 - beta))\n",
    "        em = self.eloc / (g * (1 - beta))\n",
    "        if beta >= 0.0 or beta <= 1.0:\n",
    "            dndes = np.where(\n",
    "                np.logical_and(em < es, es < ep),\n",
    "                self.norm / (2 * beta * g * self.eloc),\n",
    "                0.0,\n",
    "            )\n",
    "        return Spectrum(es, dndes)\n",
    "\n",
    "\n",
    "class Spectrum:\n",
    "    def __init__(\n",
    "        self, es: RealArray, dndes: RealArray, lines: Optional[Union[SpectrumLine, List[SpectrumLine]]] = None\n",
    "    ):\n",
    "        self._es: RealArray = es\n",
    "        self._dndes: RealArray = dndes\n",
    "        self._spline = self.__make_spline()\n",
    "\n",
    "        self._lines: List[SpectrumLine]\n",
    "        if lines is not None:\n",
    "            if isinstance(lines, list):\n",
    "                self._lines = lines\n",
    "            else:\n",
    "                self._lines = [lines]\n",
    "        else:\n",
    "            self._lines = []\n",
    "\n",
    "    def __make_spline(self):\n",
    "        spline = UnivariateSpline(self._es, self._dndes, s=0, k=1, ext=1)\n",
    "        return spline\n",
    "\n",
    "    def __call__(self, x):\n",
    "        return self._spline(x)\n",
    "\n",
    "    @property\n",
    "    def es(self):\n",
    "        return self._es\n",
    "\n",
    "    @property\n",
    "    def dndes(self):\n",
    "        return self._dndes\n",
    "\n",
    "    def boost(self, beta: float):\n",
    "        if beta == 0.0:\n",
    "            return Spectrum(self._es, self._dndes)\n",
    "\n",
    "        g = 1 / np.sqrt(1 - beta ** 2)\n",
    "        # w = 1 - beta * z\n",
    "        wl = 1 - beta\n",
    "        wu = 1 + beta\n",
    "        ws = np.linspace(wl, wu, 100)\n",
    "\n",
    "        def integrate(e):\n",
    "            integrands = self._spline(g * e * ws)\n",
    "            return integrate.simpson(integrands, ws) / (2 * beta * g)\n",
    "\n",
    "        # emin < er = g * enew * w\n",
    "        # emin / (g * wmax) < enew \n",
    "        # emax > er = g * enew * w\n",
    "        # emax / (g * wmin) > enew\n",
    "        emin = np.min(self._es)\n",
    "        emax = np.max(self._es)\n",
    "        new_es = np.geomspace(emin, emax, len(self._es))\n",
    "        new_dndes = np.array([integrate(e) for e in new_es])\n",
    "\n",
    "        for line in self._lines:\n",
    "            line_spec = line.boost(new_es, beta)\n",
    "            new_dndes = new_dndes + line_spec.dndes\n",
    "\n",
    "        return Spectrum(new_es, new_dndes)\n",
    "\n",
    "class SpectrumX:\n",
    "    def __init__(\n",
    "        self, xs: RealArray, dndxs: RealArray, mu: float\n",
    "    ):\n",
    "        self._xs: RealArray = xs\n",
    "        self._dndxs: RealArray = dndxs\n",
    "        self._mu = mu\n",
    "        self._spline = self.__make_spline()\n",
    "\n",
    "    def __make_spline(self):\n",
    "        spline = UnivariateSpline(self._xs, self._dndxs, s=0, k=1, ext=1)\n",
    "        return spline\n",
    "\n",
    "    def __call__(self, x):\n",
    "        return self._spline(x)\n",
    "\n",
    "    @property\n",
    "    def xs(self):\n",
    "        return self._xs\n",
    "\n",
    "    @property\n",
    "    def dndxs(self):\n",
    "        return self._dndxs\n",
    "\n",
    "    def boost(self, beta: float):\n",
    "        if beta == 0.0:\n",
    "            return Spectrum(self._xs, self._dndxs)\n",
    "\n",
    "        g = 1 / np.sqrt(1 - beta ** 2)\n",
    "        # w = 1 - beta * z\n",
    "        wl = 1 - beta\n",
    "        wu = 1 + beta\n",
    "\n",
    "        mu = self._mu\n",
    "        xmin = np.min(self._xs)\n",
    "        xmax = np.max(self._xs)\n",
    "\n",
    "        def x_lb(x):\n",
    "            return max(xmin, g**2 * (x - beta * np.sqrt(x**2 - mu**2)))\n",
    "\n",
    "        def x_ub(x):\n",
    "            return min(xmax, g**2 * (x + beta * np.sqrt(x**2 - mu**2)))\n",
    "\n",
    "        def integrate(x):\n",
    "            xs_int = np.linspace(x_lb(x), x_ub(x), 100)\n",
    "            integrands = self._spline(xs_int) / np.sqrt(xs_int**2 - self._mu**2)\n",
    "            return integrate.simpson(integrands, xs_int) / (2 * beta)\n",
    "\n",
    "        # xbounds:\n",
    "        #   x_lb = max(xmin, g^2 * (x2 - b * sqrt(x2^2 - mu^2)))\n",
    "        #   x_ub = min(xmax, g^2 * (x2 + b * sqrt(x2^2 - mu^2)))\n",
    "        xmin_new = xmin + beta * np.sqrt(xmin**2 - g**2 * self._mu**2)\n",
    "        xs_new = np.geomspace(xmin_new, xmax, len(self._xs))\n",
    "\n",
    "        dndxs_new = np.array([integrate(x) for x in xs_new])\n",
    "\n",
    "        return SpectrumX(xs_new, dndxs_new, self._mu)"
   ]
  },
  {
   "cell_type": "code",
   "execution_count": 39,
   "metadata": {},
   "outputs": [],
   "source": [
    "from hazma.parameters import alpha_em\n",
    "\n",
    "def dnde_photon_muon_boosted2(e2: float, emu: float):\n",
    "    gamma = emu / mmu\n",
    "    beta = np.sqrt(gamma**2 - 1) / gamma\n",
    "\n",
    "    emin = gamma * e2 * (1 - beta)\n",
    "    emax = gamma * e2 * (1 + beta)\n",
    "    \n",
    "    def integrand(e):\n",
    "        return dnde_photon_muon(e, mmu) / e\n",
    "\n",
    "    return integrate.quad(integrand, emin, emax)[0] / (2 * beta * gamma)\n",
    "\n",
    "\n",
    "def dndx_photon_muon(xs, emu):\n",
    "    gamma = emu / mmu\n",
    "    beta = np.sqrt(1.0 - 1.0/gamma**2)\n",
    "    es = emu * xs / 2.0\n",
    "    return emu / 2.0 * dnde_photon_muon(es, emu)\n",
    "\n",
    "\n",
    "def dndx_photon_muon2(xs, emu):\n",
    "    # x = 2E/emu\n",
    "    gamma = emu / mmu\n",
    "    beta = np.sqrt(1.0 - 1.0 / gamma**2)\n",
    "    r = (me / mmu)**2\n",
    "    a = [-17.0/2.0, 37.0/3.0, -49.0/4.0, 13.0, -55.0/12.0]\n",
    "\n",
    "    xp_ = gamma**2 * xs * (1 + beta)\n",
    "    xp = np.where(xp_ > 1.0 - r, 1.0 - r, xp_)\n",
    "    xm = gamma**2 * xs * (1 - beta)\n",
    "\n",
    "    def t2s(x):\n",
    "\n",
    "        return (\n",
    "            -3*np.log(x) + 16/3.0 *np.log(1-x) - 1.0/18.0* x* (66 - 21 * x + 4 * x**2) - 5 * special.spence(x)\n",
    "            + np.log((1-x)/r) * (-6.0 - 3 / x + 6 * x - 3 * x**2 + (2 / 3.0) * x**3 - 5 * np.log(x))\n",
    "        )\n",
    "\n",
    "    t1 = (\n",
    "        a[0] * (xp - xm) / (xp * xm)\n",
    "        + a[1] * np.log(xp / xm) \n",
    "        + a[2] * (xp - xm)\n",
    "        + a[3] * (xp**2 - xm**2)\n",
    "        + a[4] * (xp**3 - xm**3)\n",
    "    )\n",
    "    t2 = t2s(xp) - t2s(xm)\n",
    "\n",
    "    return np.where(xm < xp,\n",
    "        alpha_em / (3 * np.pi) * (t1 + t2) / (2 * beta),\n",
    "        0.0\n",
    "    )\n",
    "\n",
    "\n"
   ]
  },
  {
   "cell_type": "code",
   "execution_count": 40,
   "metadata": {},
   "outputs": [
    {
     "data": {
      "text/plain": [
       "array([0.99970811, 0.99970811, 0.99970811, 0.99970811, 0.99970811,\n",
       "       0.99970811, 0.99970811, 0.99970811, 0.99970811, 0.99970811,\n",
       "       0.99970811, 0.99970811, 0.99970811, 0.99970811, 0.99970811,\n",
       "       0.99970811, 0.99970811, 0.99970811, 0.99970811, 0.99970811,\n",
       "       0.99970811, 0.99970811, 0.99970811, 0.99970811, 0.99970811,\n",
       "       0.99970811, 0.99970811, 0.99970811, 0.99970811, 0.99970811,\n",
       "       0.99970811, 0.99970811, 0.99970811, 0.99970811, 0.99970811,\n",
       "       0.99970811, 0.99970811, 0.99970811, 0.99970811, 0.99970811,\n",
       "       0.99970811, 0.99970811, 0.99970811, 0.99970811, 0.99970811,\n",
       "       0.99970811, 0.99970811, 0.99970812, 0.99970812, 0.99970812,\n",
       "       0.99970812, 0.99970813, 0.99970814, 0.99970815, 0.99970817,\n",
       "       0.9997082 , 0.99970825, 0.99970832, 0.99970842, 0.99970858,\n",
       "       0.99970883, 0.9997092 , 0.99970976, 0.99971062, 0.99971192,\n",
       "       0.9997139 , 0.9997169 , 0.99972144, 0.99972834, 0.9997388 ,\n",
       "       0.99975464, 0.99977862, 0.9998149 , 0.99986972, 0.99995244,\n",
       "       1.00007705, 1.00026434, 1.00054503, 1.00096417, 1.00158701,\n",
       "       1.00250673, 1.00385329, 1.00580199, 1.00857591, 1.01242884,\n",
       "       1.01652077, 1.01992869, 1.02413868, 1.02937277, 1.03592513,\n",
       "       1.04418967, 1.05470033, 1.06819163, 1.08569235, 1.10867676,\n",
       "       1.13932069, 1.18096271, 1.2389979 , 1.32277712, 1.45014978])"
      ]
     },
     "execution_count": 40,
     "metadata": {},
     "output_type": "execute_result"
    }
   ],
   "source": [
    "xs = np.geomspace(1e-6, 1.0, 100)\n",
    "dndx_photon_muon2(xs, 2.0 * mmu) / dndx_photon_muon(xs, 2.0 * mmu)"
   ]
  },
  {
   "cell_type": "code",
   "execution_count": 39,
   "metadata": {},
   "outputs": [],
   "source": [
    "gamma = 10.0\n",
    "xs = np.geomspace(1e-6, 1.0, 100)\n",
    "\n",
    "gammas = [2.0, 4.0, 8.0, 10.0]\n",
    "dnde1s = []\n",
    "dnde2s = []\n",
    "\n",
    "for gamma in gammas:\n",
    "    emu = gamma * mmu\n",
    "    es = emu * xs / 2.0\n",
    "    dnde1s.append(np.array([dnde_photon_muon_boosted2(e, emu) for e in es]))\n",
    "    dnde2s.append(dnde_photon_muon(es, emu))"
   ]
  },
  {
   "cell_type": "code",
   "execution_count": 41,
   "metadata": {},
   "outputs": [
    {
     "data": {
      "text/plain": [
       "(0.001, 1000.0)"
      ]
     },
     "execution_count": 41,
     "metadata": {},
     "output_type": "execute_result"
    },
    {
     "data": {
      "image/png": "[encoded data removed]",
      "text/plain": [
       "<Figure size 900x600 with 1 Axes>"
      ]
     },
     "metadata": {
      "needs_background": "light"
     },
     "output_type": "display_data"
    }
   ],
   "source": [
    "plt.figure(dpi=150)\n",
    "for gamma, dnde1, dnde2 in zip(gammas, dnde1s, dnde2s):\n",
    "    emu = gamma * mmu\n",
    "    es = emu * xs / 2.0\n",
    "    plt.plot(es, dnde1)\n",
    "    plt.plot(es, dnde2, ls=\"--\")\n",
    "plt.yscale(\"log\")\n",
    "plt.xscale(\"log\")\n",
    "plt.xlim(1e-3, 1e3)"
   ]
  },
  {
   "cell_type": "code",
   "execution_count": 16,
   "metadata": {},
   "outputs": [
    {
     "data": {
      "text/plain": [
       "316.9751235"
      ]
     },
     "execution_count": 16,
     "metadata": {},
     "output_type": "execute_result"
    }
   ],
   "source": [
    "3 * mmu"
   ]
  },
  {
   "cell_type": "code",
   "execution_count": 37,
   "metadata": {},
   "outputs": [
    {
     "data": {
      "text/plain": [
       "(1e-06, 1)"
      ]
     },
     "execution_count": 37,
     "metadata": {},
     "output_type": "execute_result"
    },
    {
     "data": {
      "image/png": "[encoded data removed]",
      "text/plain": [
       "<Figure size 900x600 with 1 Axes>"
      ]
     },
     "metadata": {
      "needs_background": "light"
     },
     "output_type": "display_data"
    }
   ],
   "source": [
    "xs = np.geomspace(1e-6, 1.0, 100)\n",
    "\n",
    "plt.figure(dpi=150)\n",
    "for gamma in [2.0, 4.0]:\n",
    "    emu = gamma * mmu\n",
    "    plt.plot(xs, dndx_photon_muon(xs, emu))\n",
    "    plt.plot(xs, dndx_photon_muon2(xs, emu), ls=\"--\")\n",
    "plt.yscale(\"log\")\n",
    "plt.xscale(\"log\")\n",
    "plt.xlim(1e-6, 1)"
   ]
  },
  {
   "cell_type": "markdown",
   "metadata": {},
   "source": [
    "## $\\eta$"
   ]
  },
  {
   "cell_type": "markdown",
   "metadata": {},
   "source": [
    "Branching Fractions:\n",
    "\n",
    "\\begin{align*}\n",
    "& \\mathrm{BR}(\\eta \\to \\gamma + \\gamma) = 39.41 \\pm 0.20 \\% \\\\\n",
    "& \\mathrm{BR}(\\eta \\to \\pi^0 + \\pi^0 + \\pi^0) = 32.68 \\pm 0.23 \\% \\\\\n",
    "& \\mathrm{BR}(\\eta \\to \\pi^{+} + \\pi^{-} + \\pi^{0}) = (22.92 \\pm 0.28) \\% \\\\\n",
    "& \\mathrm{BR}(\\eta \\to \\pi^{+} + \\pi^{-} + \\gamma) = ( 4.22 \\pm 0.08) \\% \\\\\n",
    "& \\mathrm{BR}(\\eta \\to e^{-} + e^{+} + \\gamma) = ( 6.9 \\pm 0.4 )\\times 10^{-3} \\\\\n",
    "& \\mathrm{BR}(\\eta \\to \\mu^{-} + \\mu^{+} + \\gamma) = ( 3.1 \\pm 0.4 )\\times 10^{-4} \\\\\n",
    "& \\mathrm{BR}(\\eta \\to \\pi^{+} + \\pi^{-} + e^{-} + e^{+})  = ( 2.68 \\pm 0.11)\\times 10^{-4} \\\\\n",
    "& \\mathrm{BR}(\\eta \\to \\pi^0 + \\gamma + \\gamma) = (2.56 \\pm 0.22) \\times 10^{-4} \\\\\n",
    "& \\mathrm{BR}(\\eta \\to e^{-} + e^{+} + e^{-} + e^{+}) = ( 2.40 \\pm 0.22)\\times 10^{-5}\\\\\n",
    "& \\mathrm{BR}(\\eta \\to \\mu^{-} + \\mu^{+}) = ( 5.8 \\pm 0.8 )\\times 10^{-6} \n",
    "\\end{align*}"
   ]
  },
  {
   "cell_type": "code",
   "execution_count": 40,
   "metadata": {},
   "outputs": [],
   "source": [
    "BR_ETA_TO_A_A =39.41e-2 \n",
    "BR_ETA_TO_PI0_PI0_PI0 =32.68e-2 \n",
    "BR_ETA_TO_PI_PI_PI0 =22.92e-2 \n",
    "BR_ETA_TO_PI_PI_A =4.22e-2 \n",
    "\n",
    "def make_energy_hist_pi0_pi0_pi0(cme, nbins, logspace=False, nevents=10000):\n",
    "    ms = np.array([mpi0, mpi0, mpi0])\n",
    "    space = generate_phase_space(ms, meta, num_ps_pts=nevents)\n",
    "\n",
    "    e1s = space[:, 0]\n",
    "    e2s = space[:, 4]\n",
    "    e3s = space[:, 8]\n",
    "    ws = space[:, -1]\n",
    "\n",
    "    emin = mpi0\n",
    "    emax = (cme**2 - 3*mpi0**2) / (2*cme)\n",
    "\n",
    "    if logspace:\n",
    "        bins = np.geomspace(emin, emax, nbins)\n",
    "    else:\n",
    "        bins = np.linspace(emin, emax, nbins)\n",
    "\n",
    "    ehist1 = np.histogram(e1s, bins=bins, weights=ws, density=True)\n",
    "    ehist2 = np.histogram(e1s, bins=bins, weights=ws, density=True)\n",
    "    ehist3 = np.histogram(e1s, bins=bins, weights=ws, density=True)\n",
    "\n",
    "    return (ehist1, ehist2, ehist3)\n",
    "\n",
    "def make_spectrum_pi0_pi0_pi0(egams, cme, nbins):\n",
    "    hists = make_energy_hist_pi0_pi0_pi0(cme, nbins)\n",
    "\n",
    "    dnde = np.zeros_like(egams)\n",
    "    for hist in hists:\n",
    "        for p, e in zip(*hist):\n",
    "            dnde = dnde + p * dnde_photon_pi0(egams, e)\n",
    "    return dnde\n",
    "\n",
    "\n",
    "def make_energy_hist_pi_pi_pi0(cme, nbins, logspace=False):\n",
    "    ms = np.array([mpi, mpi, mpi0])\n",
    "    space = generate_phase_space(ms, meta)\n",
    "\n",
    "    e1s = space[:, 0]\n",
    "    e2s = space[:, 4]\n",
    "    e3s = space[:, 8]\n",
    "    ws = space[:, -1]\n",
    "\n",
    "    emins = [mpi, mpi, mpi0]\n",
    "    emaxs = [(m**2 - m2**2 - 2*m2*m3-m3**2 + cme**2) / (2*cme) \n",
    "            for (m, m2, m3) in zip([mpi, mpi, mpi0], [mpi, mpi, mpi], [mpi0, mpi0, mpi])]\n",
    "\n",
    "    if logspace:\n",
    "        bins = [np.geomspace(emin, emax, nbins) for emin, emax in zip(emins, emaxs)]\n",
    "    else:\n",
    "        bins = [np.linspace(emin, emax, nbins) for emin, emax in zip(emins, emaxs)]\n",
    "\n",
    "    ehist1 = np.histogram(e1s, bins=bins[0], weights=ws, density=True)\n",
    "    ehist2 = np.histogram(e1s, bins=bins[1], weights=ws, density=True)\n",
    "    ehist3 = np.histogram(e1s, bins=bins[2], weights=ws, density=True)\n",
    "\n",
    "    return (ehist1, ehist2, ehist3)\n",
    "\n",
    "def make_spectrum_pi_pi_pi0(egams, cme, nbins):\n",
    "    hists = make_energy_hist_pi_pi_pi0(cme, nbins)\n",
    "\n",
    "    dnde = np.zeros_like(egams)\n",
    "    for f, hist in zip([dnde_photon_pi,dnde_photon_pi,dnde_photon_pi0], hists):\n",
    "        for p, e in zip(*hist):\n",
    "            dnde = dnde + p * f(egams, e)\n",
    "    return dnde\n",
    "\n",
    "\n",
    "def make_spectrum_eta(egams):\n",
    "    pi_pi_pi0 = BR_ETA_TO_PI_PI_PI0 * make_spectrum_pi_pi_pi0(egams, meta, 50)\n",
    "    pi0_pi0_pi0 = BR_ETA_TO_PI0_PI0_PI0 * make_spectrum_pi0_pi0_pi0(egams, meta, 50)\n",
    "    line = SpectrumLine(meta / 2.0, BR_ETA_TO_A_A)\n",
    "\n",
    "    return Spectrum(egams, pi0_pi0_pi0 + pi_pi_pi0, lines = line)"
   ]
  },
  {
   "cell_type": "code",
   "execution_count": 41,
   "metadata": {},
   "outputs": [
    {
     "name": "stderr",
     "output_type": "stream",
     "text": [
      "/home/logan/github/Hazma/hazma/decay.py:207: IntegrationWarning: The integral is probably divergent, or slowly convergent.\n",
      "  return decay_charged_pion.charged_pion_decay_spectrum(\n"
     ]
    }
   ],
   "source": [
    "emax = (meta**2 - 3*mpi0**2) / (2*meta)\n",
    "egams = np.geomspace(1e-6, emax, 250)\n",
    "\n",
    "dnde_photon_eta = make_spectrum_eta(egams)"
   ]
  },
  {
   "cell_type": "code",
   "execution_count": 42,
   "metadata": {},
   "outputs": [],
   "source": []
  },
  {
   "cell_type": "code",
   "execution_count": 46,
   "metadata": {},
   "outputs": [
    {
     "data": {
      "text/plain": [
       "(0.001, 500.0)"
      ]
     },
     "execution_count": 46,
     "metadata": {},
     "output_type": "execute_result"
    },
    {
     "data": {
      "image/png": "[encoded data removed]",
      "text/plain": [
       "<Figure size 900x600 with 1 Axes>"
      ]
     },
     "metadata": {
      "needs_background": "light"
     },
     "output_type": "display_data"
    }
   ],
   "source": [
    "plt.figure(dpi=150)\n",
    "\n",
    "for beta in [0.1, 0.5, 0.8]:\n",
    "    boosted = dnde_photon_eta.boost(beta)\n",
    "    plt.plot(boosted.es, boosted.dndes)\n",
    "#plt.plot(egams, dnde_eta_to_pi_pi_pi0)\n",
    "plt.yscale(\"log\")\n",
    "plt.xscale(\"log\")\n",
    "plt.xlim(1e-3, 500.0)"
   ]
  },
  {
   "cell_type": "code",
   "execution_count": 47,
   "metadata": {},
   "outputs": [],
   "source": [
    "from hazma.vector_mediator.form_factors.pi_k_kstar import FormFactorPi0K0K0"
   ]
  },
  {
   "cell_type": "markdown",
   "metadata": {},
   "source": [
    "## $\\omega$"
   ]
  },
  {
   "cell_type": "markdown",
   "metadata": {},
   "source": [
    "## $\\phi$"
   ]
  },
  {
   "cell_type": "markdown",
   "metadata": {},
   "source": []
  }
 ],
 "metadata": {
  "interpreter": {
   "hash": "767d51c1340bd893661ea55ea3124f6de3c7a262a8b4abca0554b478b1e2ff90"
  },
  "kernelspec": {
   "display_name": "Python 3.10.2 64-bit",
   "language": "python",
   "name": "python3"
  },
  "language_info": {
   "codemirror_mode": {
    "name": "ipython",
    "version": 3
   },
   "file_extension": ".py",
   "mimetype": "text/x-python",
   "name": "python",
   "nbconvert_exporter": "python",
   "pygments_lexer": "ipython3",
   "version": "3.10.2"
  },
  "orig_nbformat": 4
 },
 "nbformat": 4,
 "nbformat_minor": 2
}
