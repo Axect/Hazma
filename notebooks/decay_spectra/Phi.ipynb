{
 "cells": [
  {
   "cell_type": "code",
   "execution_count": null,
   "metadata": {},
   "outputs": [],
   "source": [
    "# BR(K⁺, K⁻) = (49.2 ± 0.5) %\n",
    "BR_PHI_TO_K_K = 49.2e-2\n",
    "# BR(KL, KS) = (34.0 ± 0.4) %\n",
    "BR_PHI_TO_KL_KS = 34.0e-2\n",
    "# PDG: BR(ρ, π⁰) + BR(ρ⁺, π⁻) + BR(ρ⁻, π⁺) +  BR(π⁺, π⁻, π⁰) = (15.24 ± 0.33) %\n",
    "# The below is taken from Pythia8306\n",
    "BR_PHI_TO_RHOP_PI = 0.0420984\n",
    "BR_PHI_TO_RHO_PI0 = 0.0420984\n",
    "BR_PHI_TO_PI_PI_PI0 = 0.0270000\n",
    "# BR(η, γ) = (1.303 ± 0.025) %\n",
    "BR_PHI_TO_ETA_A = 1.303e-2\n",
    "# BR(π⁰, γ) = (1.32 ± 0.06)×10−3\n",
    "BR_PHI_TO_PI0_A = 1.32e-3\n",
    "# BR(e⁺, e⁻) = (2.974 ± 0.034)×10−4\n",
    "BR_PHI_TO_E_E = 2.974e-4\n",
    "# BR(μ⁺, μ⁻) = (2.86 ± 0.19)×10−4\n",
    "BR_PHI_TO_MU_MU = 2.86e-4\n",
    "# BR(η, e⁺, e⁻) = (1.08 ± 0.04)×10−4\n",
    "BR_PHI_TO_ETA_E_E = 1.08e-4\n",
    "# BR(π⁺, π⁻) = (7.3 ± 1.3)×10−5\n",
    "BR_PHI_TO_PI_PI = 7.3e-5\n",
    "# BR(ω, π⁰) = (4.7 ± 0.5)×10−5\n",
    "BR_PHI_TO_OMEGA_PI0 = 4.7e-5\n",
    "# BR(π⁺, π⁻, γ) = (4.1 ± 1.3)×10−5\n",
    "BR_PHI_TO_PI_PI_A = 4.1e-5\n",
    "# BR(f₀(980), γ) = (3.22 ± 0.19)×10−4\n",
    "BR_PHI_TO_F0980_A = 3.22e-4\n",
    "# BR(π⁰, π⁰, γ) = (1.12 ± 0.06)×10−4\n",
    "BR_PHI_TO_PI0_PI0_A = 1.12e-4\n",
    "# BR(π⁺, π⁻, π⁺, π⁻) = (3.9 +2.8 −2.2)×10−6\n",
    "BR_PHI_TO_PI_PI_PI_PI = 3.9e-6\n",
    "# BR(π⁰, e⁺, e⁻) = (1.33 +0.07 −0.10)×10−5\n",
    "BR_PHI_TO_PI0_E_E = 1.33e-5\n",
    "# BR(π⁰, η, γ) = (7.27 ± 0.30)×10−5\n",
    "BR_PHI_TO_PI0_ETA_A = 7.27e-5\n",
    "# BR(a₀(980), γ) = (7.6 ± 0.6)×10−5\n",
    "BR_PHI_TO_A0980_A = 7.6e-5\n",
    "# BR(η'(958), γ) = (6.22 ± 0.21)×10−5\n",
    "BR_PHI_TO_ETAP_A = 6.22e-5\n",
    "# BR(μ⁺, μ⁻, γ) = (1.4 ± 0.5)×10−5\n",
    "BR_PHI_TO_MU_MU_A = 1.4e-5"
   ]
  }
 ],
 "metadata": {
  "language_info": {
   "name": "python"
  },
  "orig_nbformat": 4
 },
 "nbformat": 4,
 "nbformat_minor": 2
}
