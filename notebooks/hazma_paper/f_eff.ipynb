{
 "cells": [
  {
   "cell_type": "code",
   "execution_count": null,
   "metadata": {},
   "outputs": [],
   "source": [
    "import matplotlib.pyplot as plt\n",
    "import numpy as np\n",
    "\n",
    "from utilities import get_tex_label, get_color, latex_text_width_1col\n",
    "from hazma.gamma_ray_parameters import energy_res_comptel\n",
    "from hazma.scalar_mediator import ScalarMediator, HiggsPortal, HeavyQuark\n",
    "from hazma.vector_mediator import VectorMediator, KineticMixing, QuarksOnly"
   ]
  },
  {
   "cell_type": "code",
   "execution_count": null,
   "metadata": {},
   "outputs": [],
   "source": [
    "mxs = np.geomspace(0.1, 250, 300)  # DM masses\n",
    "m_meds = np.array([50, 175, 500])  # mediator masses\n",
    "x_kd = 1e-6  # 1e-4 gives weaker CMB limits for the scalar models\n",
    "\n",
    "# Models\n",
    "models = np.array(\n",
    "    [\n",
    "        [\n",
    "            KineticMixing(1.0, 1e3, gvxx=1.0, eps=0.1),\n",
    "            QuarksOnly(1.0, 1e3, gvxx=1.0, gvuu=1.0, gvdd=-1.0, gvss=0.0),\n",
    "            QuarksOnly(1.0, 1e3, gvxx=1.0, gvuu=1.0, gvdd=1.0, gvss=0.0),\n",
    "        ],\n",
    "        [\n",
    "            HiggsPortal(1.0, 1e3, gsxx=1.0, stheta=1e-1),\n",
    "            HeavyQuark(1.0, 1e3, gsxx=1.0, gsQ=1e-1, mQ=1e3, QQ=1.0),\n",
    "            None,\n",
    "        ],\n",
    "    ]\n",
    ")\n",
    "\n",
    "# Subplot titles indicating model parameters\n",
    "titles = np.array(\n",
    "    [\n",
    "        [\n",
    "            r\"$\\epsilon = 0.1$\",\n",
    "            r\"$(g_{Vuu}, g_{Vdd}) = (1, -1)$\",\n",
    "            r\"$(g_{Vuu}, g_{Vdd}) = (1, 1)$\",\n",
    "        ],\n",
    "        [\n",
    "            r\"$\\sin\\theta = 0.1$\",\n",
    "            r\"$(g_{S\\Psi}, Q_\\Psi) = (0.1, 1)$\" + \"\\n\" + r\"$m_\\Psi = 1$ GeV\",\n",
    "            \"\",\n",
    "        ],\n",
    "    ]\n",
    ")\n",
    "\n",
    "n_subplot_rows, n_subplot_cols = models.shape"
   ]
  },
  {
   "cell_type": "code",
   "execution_count": null,
   "metadata": {
    "code_folding": [
     0
    ]
   },
   "outputs": [],
   "source": [
    "fig, axes = plt.subplots(\n",
    "    n_subplot_rows,\n",
    "    n_subplot_cols,\n",
    "    sharex=True,\n",
    "    sharey=True,\n",
    "    figsize=(latex_text_width_1col, 0.55 * latex_text_width_1col),\n",
    ")\n",
    "\n",
    "# Delete last subplot: it will be replaced by the legend\n",
    "fig.delaxes(axes[-1, -1])\n",
    "\n",
    "for row in range(n_subplot_rows):  # loop over type of model\n",
    "    for col in range(n_subplot_cols):  # loop over DM masses\n",
    "        ax = axes[row, col]\n",
    "        ax.set_title(titles[row, col])\n",
    "\n",
    "        # Get the model\n",
    "        model = models[row, col]\n",
    "        if model is not None:\n",
    "            # Iterate over mediator masses\n",
    "            for m_med in m_meds:\n",
    "                if isinstance(model, ScalarMediator):\n",
    "                    model.ms = m_med\n",
    "                    label = r\"$m_S = %i$ MeV\" % model.ms\n",
    "                elif isinstance(model, VectorMediator):\n",
    "                    model.mv = m_med\n",
    "                    label = r\"$m_V = %i$ MeV\" % model.mv\n",
    "\n",
    "                # Compute f_eff\n",
    "                f_effs = np.zeros_like(mxs)\n",
    "                for i, mx in enumerate(mxs):\n",
    "                    model.mx = mx\n",
    "                    f_effs[i] = model.f_eff(x_kd)\n",
    "\n",
    "                # Plot f_eff\n",
    "                ax.plot(mxs, f_effs, label=label)\n",
    "\n",
    "# Formatting\n",
    "axes[1, 0].set_xlabel(r\"$m_\\chi$ (MeV)\")\n",
    "axes[1, 1].set_xlabel(r\"$m_\\chi$ (MeV)\")\n",
    "axes[0, 2].set_xlabel(r\"$m_\\chi$ (MeV)\")\n",
    "axes[0, 0].set_ylabel(r\"$f_{\\mathrm{eff}}$\")\n",
    "axes[1, 0].set_ylabel(r\"$f_{\\mathrm{eff}}$\")\n",
    "axes[0, 0].set_xlim(mxs[[0, -1]])\n",
    "axes[0, 0].set_ylim(0, 1)\n",
    "axes[0, 2].xaxis.set_tick_params(labelbottom=True)\n",
    "\n",
    "fig.tight_layout()\n",
    "# Placing the legend before tight_layout call doesn't work\n",
    "axes[1, 1].legend(loc=\"center right\", bbox_to_anchor=(2.05, 0.5))\n",
    "fig.savefig(\"figures/f_eff.pdf\", bbox_inches=\"tight\")\n",
    "plt.show()"
   ]
  },
  {
   "cell_type": "code",
   "execution_count": null,
   "metadata": {},
   "outputs": [],
   "source": []
  }
 ],
 "metadata": {
  "jupytext": {
   "formats": "ipynb,py:hydrogen"
  },
  "kernelspec": {
   "display_name": "Python 3",
   "language": "python",
   "name": "python3"
  },
  "language_info": {
   "codemirror_mode": {
    "name": "ipython",
    "version": 3
   },
   "file_extension": ".py",
   "mimetype": "text/x-python",
   "name": "python",
   "nbconvert_exporter": "python",
   "pygments_lexer": "ipython3",
   "version": "3.7.3"
  },
  "toc": {
   "nav_menu": {},
   "number_sections": true,
   "sideBar": true,
   "skip_h1_title": false,
   "title_cell": "Table of Contents",
   "title_sidebar": "Contents",
   "toc_cell": false,
   "toc_position": {
    "height": "922px",
    "left": "0px",
    "right": "1798px",
    "top": "95.1px",
    "width": "26px"
   },
   "toc_section_display": "block",
   "toc_window_display": true
  }
 },
 "nbformat": 4,
 "nbformat_minor": 2
}
