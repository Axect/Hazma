{
 "cells": [
  {
   "cell_type": "markdown",
   "metadata": {},
   "source": [
    "**This notebook collects all the code snippets from the paper introducing Hazma.** Commented lines indicate the expected output."
   ]
  },
  {
   "cell_type": "code",
   "execution_count": null,
   "metadata": {},
   "outputs": [],
   "source": [
    "import numpy as np"
   ]
  },
  {
   "cell_type": "markdown",
   "metadata": {
    "heading_collapsed": true
   },
   "source": [
    "## Section 3: Particle Physics Framework"
   ]
  },
  {
   "cell_type": "code",
   "execution_count": null,
   "metadata": {
    "hidden": true
   },
   "outputs": [],
   "source": [
    "from hazma.scalar_mediator import ScalarMediator\n",
    "sm = ScalarMediator(mx=150., ms=1e3, gsxx=1., gsff=0.1,\n",
    "                    gsGG=0.1, gsFF=0.1, lam=2e5)\n",
    "print(sm.gsff)\n",
    "# 0.1\n",
    "sm.gsff = 0.5\n",
    "print(sm.gsff)\n",
    "# 0.5"
   ]
  },
  {
   "cell_type": "code",
   "execution_count": null,
   "metadata": {
    "hidden": true
   },
   "outputs": [],
   "source": [
    "from hazma.scalar_mediator import HiggsPortal, HeavyQuark\n",
    "hp = HiggsPortal(mx=150., ms=1e3, gsxx=1., stheta=1e-3)\n",
    "hq = HeavyQuark(mx=150., ms=1e3, gsxx=1., gsQ=1.0, mQ=1e6, QQ=1.)"
   ]
  },
  {
   "cell_type": "code",
   "execution_count": null,
   "metadata": {
    "hidden": true
   },
   "outputs": [],
   "source": [
    "from hazma.vector_mediator import VectorMediator\n",
    "vm = VectorMediator(mx=150., mv=1e3, gvxx=1., gvuu=0.1,\n",
    "                    gvdd=0.2, gvss=0.3, gvee=0.4,\n",
    "                    gvmumu=0.5)"
   ]
  },
  {
   "cell_type": "code",
   "execution_count": null,
   "metadata": {
    "hidden": true
   },
   "outputs": [],
   "source": [
    "from hazma.vector_mediator import KineticMixing\n",
    "km = KineticMixing(mx=150., mv=1e3, gvxx=1., eps=0.1)\n",
    "print(km.gvuu)\n",
    "# -0.020187846690459792\n",
    "km.gvuu = 0.1\n",
    "# AttributeError: Cannot set gvuu"
   ]
  },
  {
   "cell_type": "code",
   "execution_count": null,
   "metadata": {
    "hidden": true
   },
   "outputs": [],
   "source": [
    "print(ScalarMediator.list_annihilation_final_states())\n",
    "# ['mu mu', 'e e', 'g g', 'pi0 pi0', 'pi pi', 's s']\n",
    "print(VectorMediator.list_annihilation_final_states())\n",
    "# ['mu mu', 'e e', 'pi pi', 'pi0 g', 'pi0 v', 'v v']"
   ]
  },
  {
   "cell_type": "code",
   "execution_count": null,
   "metadata": {
    "hidden": true
   },
   "outputs": [],
   "source": [
    "from hazma.scalar_mediator import ScalarMediator\n",
    "sm = ScalarMediator(mx=180., ms=190., gsxx=1., gsff=0.1,\n",
    "                    gsGG=0.1, gsFF=0.1, lam=2e5)\n",
    "e_cm = 400.\n",
    "sm.annihilation_cross_sections(e_cm)  # MeV^-2\n",
    "# {'mu mu': 1.0186780542223538e-16,\n",
    "#  'e e': 3.892649866478948e-21,\n",
    "#  'g g': 4.8762938612605775e-21,\n",
    "#  'pi0 pi0': 1.5950084474945102e-16,\n",
    "#  'pi pi': 3.0338694778562897e-16,\n",
    "#  's s': 3.578493120517737e-07,\n",
    "#  'total': 3.5784931261653806e-07}"
   ]
  },
  {
   "cell_type": "code",
   "execution_count": null,
   "metadata": {
    "hidden": true
   },
   "outputs": [],
   "source": [
    "from hazma.scalar_mediator import ScalarMediator\n",
    "sm = ScalarMediator(mx=120., ms=280., gsxx=1., gsff=0.1,\n",
    "                    gsGG=0.1, gsFF=0.1, lam=2e5)\n",
    "sm.partial_widths()  # MeV\n",
    "# {'g g': 7.363085017295395e-14,\n",
    "#  'pi0 pi0': 6.523373994152967e-09,\n",
    "#  'pi pi': 1.8664869506864194e-09,\n",
    "#  'x x': 0.380609030857039,\n",
    "#  'e e': 1.1995401279596814e-13,\n",
    "#  'mu mu': 1.4482244706501055e-09,\n",
    "#  'total': 0.38060904069531803}"
   ]
  },
  {
   "cell_type": "markdown",
   "metadata": {
    "heading_collapsed": true
   },
   "source": [
    "## Section 4: Building Blocks of MeV Gamma-Ray Spectra"
   ]
  },
  {
   "cell_type": "code",
   "execution_count": null,
   "metadata": {
    "hidden": true
   },
   "outputs": [],
   "source": [
    "from hazma.scalar_mediator import HeavyQuark\n",
    "sm = HeavyQuark(mx=140., ms=1e3, gsxx=1., gsQ=0.1, mQ=1e3, QQ=0.1)\n",
    "print(sm.gamma_ray_lines(e_cm=300.))\n",
    "# {'g g': {'energy': 150.0, 'bf': 1.285653242415087e-08}}\n",
    "from hazma.vector_mediator import QuarksOnly\n",
    "vm = QuarksOnly(mx=140., mv=1e3, gvxx=1., gvuu=0.1, gvdd=0.1, gvss=0.)\n",
    "print(vm.gamma_ray_lines(e_cm=300.))\n",
    "# {'pi0 g': {'energy': 119.63552908740002, 'bf': 1.0}}"
   ]
  },
  {
   "cell_type": "code",
   "execution_count": null,
   "metadata": {
    "hidden": true
   },
   "outputs": [],
   "source": [
    "from hazma.decay import neutral_pion as dnde_pi0\n",
    "e_gams = np.array([100., 125., 150])  # photon energies\n",
    "e_pi0 = 180.                          # pion energy\n",
    "dnde_pi0(e_gams, e_pi0)\n",
    "# array([0.0165965, 0.0165965, 0.       ])"
   ]
  },
  {
   "cell_type": "code",
   "execution_count": null,
   "metadata": {
    "hidden": true
   },
   "outputs": [],
   "source": [
    "from hazma.decay import muon as dnde_mu\n",
    "e_gams = np.array([1., 10., 100.])  # photon energies\n",
    "e_mu = 130.                         # muon energy\n",
    "dnde_mu(e_gams, e_mu)\n",
    "# array([1.76076858e-02, 1.34063877e-03, 4.64775301e-08])"
   ]
  },
  {
   "cell_type": "code",
   "execution_count": null,
   "metadata": {
    "hidden": true
   },
   "outputs": [],
   "source": [
    "from hazma.decay import charged_pion as dnde_pi\n",
    "e_gams = np.array([1., 10., 100.])  # photon energies\n",
    "e_pi = 150.                         # pion energy\n",
    "dnde_pi(e_gams, e_pi)\n",
    "# array([2.54329145e-02, 1.70431824e-03, 2.71309637e-08])"
   ]
  },
  {
   "cell_type": "code",
   "execution_count": null,
   "metadata": {
    "hidden": true
   },
   "outputs": [],
   "source": [
    "from hazma.scalar_mediator import HiggsPortal\n",
    "e_cm = 305.                         # DM center of mass energy\n",
    "e_gams = np.array([1., 10., 100.])  # photon energies\n",
    "hp = HiggsPortal(mx=150., ms=1e3, gsxx=0.7, stheta=0.1)\n",
    "hp.total_spectrum(e_gams, e_cm)"
   ]
  },
  {
   "cell_type": "code",
   "execution_count": null,
   "metadata": {
    "hidden": true
   },
   "outputs": [],
   "source": [
    "hp.spectra(e_gams, e_cm)"
   ]
  },
  {
   "cell_type": "code",
   "execution_count": null,
   "metadata": {
    "hidden": true
   },
   "outputs": [],
   "source": [
    "print(hp.dnde_ee(e_gams, e_cm, spectrum_type=\"fsr\"))\n",
    "# array([0.05435176, 0.00509829, 0.00028842])\n",
    "print(hp.dnde_ee(e_gams, e_cm, spectrum_type=\"decay\"))\n",
    "# array([0., 0., 0.])  # electrons don't decay\n",
    "print(hp.dnde_pipi(e_gams, e_cm, spectrum_type=\"fsr\"))\n",
    "# array([1.01492577e-03, 5.00245201e-05, 0.00000000e+00])\n",
    "print(hp.dnde_pipi(e_gams, e_cm, spectrum_type=\"decay\"))\n",
    "# array([5.08808459e-02, 3.42094713e-03, 2.02687537e-07])\n",
    "print(hp.dnde_pipi(e_gams, e_cm))\n",
    "# array([5.18957717e-02, 3.47097165e-03, 2.02687537e-07])"
   ]
  },
  {
   "cell_type": "markdown",
   "metadata": {
    "heading_collapsed": true
   },
   "source": [
    "## Section 5: Gamma Ray Spectra from DM Annihilation"
   ]
  },
  {
   "cell_type": "code",
   "execution_count": null,
   "metadata": {
    "hidden": true
   },
   "outputs": [],
   "source": [
    "from hazma.scalar_mediator import HiggsPortal\n",
    "e_cm = 305.                  # DM center of mass energy\n",
    "e_min, e_max = 1., 100.      # define energy range\n",
    "energy_res = lambda e: 0.05  # 5% energy resolution function\n",
    "hp = HiggsPortal(mx=150., ms=1e3, gsxx=0.7, stheta=0.1)\n",
    "dnde_conv = hp.total_conv_spectrum_fn(\n",
    "    e_min, e_max, e_cm, energy_res, n_pts=1000)"
   ]
  },
  {
   "cell_type": "code",
   "execution_count": null,
   "metadata": {
    "hidden": true
   },
   "outputs": [],
   "source": [
    "dnde_conv(25.)\n",
    "# array(0.00048767)"
   ]
  },
  {
   "cell_type": "code",
   "execution_count": null,
   "metadata": {
    "hidden": true
   },
   "outputs": [],
   "source": [
    "dnde_conv.integral(25., 85.)\n",
    "# 0.8691133833417997"
   ]
  },
  {
   "cell_type": "markdown",
   "metadata": {
    "heading_collapsed": true
   },
   "source": [
    "## Section 6: Electron and Positron Spectra from DM annihilation"
   ]
  },
  {
   "cell_type": "code",
   "execution_count": null,
   "metadata": {
    "hidden": true
   },
   "outputs": [],
   "source": [
    "from hazma.positron_spectra import muon as dnde_p_mu\n",
    "e_mu = 150.                      # muon energy\n",
    "e_p = np.array([1., 10., 100.])  # positron energies\n",
    "dnde_p_mu(e_p, e_mu)\n",
    "# array([4.86031362e-05, 4.56232320e-03, 4.45753994e-03])"
   ]
  },
  {
   "cell_type": "code",
   "execution_count": null,
   "metadata": {
    "hidden": true
   },
   "outputs": [],
   "source": [
    "from hazma.positron_spectra import charged_pion as dnde_p_pi\n",
    "e_pi = 150.                      # charged pion energy\n",
    "e_p = np.array([1., 10., 100.])  # positron energies\n",
    "dnde_p_pi(e_p, e_pi)\n",
    "# array([3.84163631e-05, 3.85242442e-03, 2.55578895e-05])"
   ]
  },
  {
   "cell_type": "code",
   "execution_count": null,
   "metadata": {
    "hidden": true
   },
   "outputs": [],
   "source": [
    "from hazma.scalar_mediator import HiggsPortal\n",
    "e_cm = 305.                       # DM center of mass energy\n",
    "e_ps = np.array([1., 10., 100.])  # positron energies\n",
    "hp = HiggsPortal(mx=150., ms=1e3, gsxx=0.7, stheta=0.1)\n",
    "print(hp.total_positron_spectrum(e_ps, e_cm))\n",
    "# [2.60677406e-05 2.58192085e-03 4.09383294e-04]\n",
    "print(hp.positron_spectra(e_ps, e_cm))\n",
    "# {'mu mu': array([3.25408271e-06, 3.03854662e-04, 3.08297785e-04]),\n",
    "#  'pi pi': array([2.28136579e-05, 2.27806619e-03, 1.01085509e-04]),\n",
    "#  's s': array([0., 0., 0.]),\n",
    "#  'total': array([2.60677406e-05, 2.58192085e-03, 4.09383294e-04])}\n",
    "print(hp.positron_lines(e_cm))\n",
    "# {'e e': {'energy': 152.5, 'bf': 4.109750194098895e-06}}"
   ]
  },
  {
   "cell_type": "code",
   "execution_count": null,
   "metadata": {
    "hidden": true
   },
   "outputs": [],
   "source": [
    "e_cm = 305.                  # DM center of mass energy\n",
    "e_p_min, e_p_max = 1., 100.  # define energy range\n",
    "energy_res = lambda e: 0.05\n",
    "dnde_p_conv = hp.total_conv_positron_spectrum_fn(\n",
    "    e_p_min, e_p_max, e_cm, energy_res)\n",
    "print(dnde_p_conv(20.))\n",
    "# 0.008336136582135356\n",
    "print(dnde_p_conv.integral(10, 100))  # integrate spectrum\n",
    "# 0.6369485109837103"
   ]
  },
  {
   "cell_type": "markdown",
   "metadata": {
    "heading_collapsed": true
   },
   "source": [
    "## Section 7: Gamma Ray Limits"
   ]
  },
  {
   "cell_type": "code",
   "execution_count": null,
   "metadata": {
    "hidden": true
   },
   "outputs": [],
   "source": [
    "from hazma.scalar_mediator import ScalarMediator\n",
    "from hazma.gamma_ray_parameters import egret_diffuse, TargetParams\n",
    "egret_diffuse.target  # target region information\n",
    "TargetParams(J=3.79e+27, dOmega=6.584844306798711)\n",
    "sm = ScalarMediator(mx=150., ms=1e4, gsxx=1., gsff=0.1, gsGG=0.5,\n",
    "                    gsFF=0, lam=1e5)\n",
    "sm.binned_limit(egret_diffuse)\n",
    "# 7.841784676562726e-27  # cm^3 / s"
   ]
  },
  {
   "cell_type": "code",
   "execution_count": null,
   "metadata": {
    "hidden": true
   },
   "outputs": [],
   "source": [
    "from hazma.gamma_ray_parameters import A_eff_e_astrogam\n",
    "from hazma.gamma_ray_parameters import energy_res_e_astrogam\n",
    "from hazma.gamma_ray_parameters import T_obs_e_astrogam\n",
    "from hazma.gamma_ray_parameters import gc_target, gc_bg_model\n",
    "print(gc_target.J)\n",
    "# 1.795e+29\n",
    "print(gc_target.dOmega)      # target region information\n",
    "# 0.12122929761504078\n",
    "sm.unbinned_limit(A_eff_e_astrogam,       # effective area\n",
    "                  energy_res_e_astrogam,  # energy resolution\n",
    "                  T_obs_e_astrogam,       # observing time\n",
    "                  gc_target,              # target region\n",
    "                  gc_bg_model)            # background model\n",
    "# 5.63534935653953e-30  # cm^3 / s"
   ]
  },
  {
   "cell_type": "markdown",
   "metadata": {
    "heading_collapsed": true
   },
   "source": [
    "## Section 8: Cosmic Microwave Background limits"
   ]
  },
  {
   "cell_type": "code",
   "execution_count": null,
   "metadata": {
    "hidden": true
   },
   "outputs": [],
   "source": [
    "from hazma.scalar_mediator import ScalarMediator\n",
    "sm = ScalarMediator(mx=150., ms=1e4, gsxx=1., gsff=0.1, gsGG=0.5,\n",
    "                    gsFF=0, lam=1e5)\n",
    "x_kd = 1e-4\n",
    "sm.f_eff(x_kd), sm.f_eff_ep(x_kd), sm.f_eff_g(x_kd)\n",
    "# (0.4373205896743133, 0.1657568724934657, 0.2715637171808476)"
   ]
  },
  {
   "cell_type": "code",
   "execution_count": null,
   "metadata": {
    "hidden": true
   },
   "outputs": [],
   "source": [
    "from hazma.cmb import p_ann_planck_temp_pol as p_ann\n",
    "p_ann\n",
    "# 3.5e-31  # cm^3 / MeV / s\n",
    "x_kd = 1e-4\n",
    "sm = HiggsPortal(mx=150., ms=1e4, gsxx=1., stheta=0.01)\n",
    "sm.cmb_limit(x_kd, p_ann)\n",
    "# 1.2209926980668773e-28  # cm^3 / s"
   ]
  },
  {
   "cell_type": "markdown",
   "metadata": {
    "heading_collapsed": true
   },
   "source": [
    "## Appendix B: Basic Usage"
   ]
  },
  {
   "cell_type": "code",
   "execution_count": null,
   "metadata": {
    "hidden": true
   },
   "outputs": [],
   "source": [
    "from hazma.vector_mediator import KineticMixing\n",
    "params = {'mx':250.0, 'mv':1e6, 'gvxx':1.0, 'eps':1e-3}\n",
    "km = KineticMixing(**params)"
   ]
  },
  {
   "cell_type": "code",
   "execution_count": null,
   "metadata": {
    "hidden": true
   },
   "outputs": [],
   "source": [
    "km.list_annihilation_final_states()\n",
    "# ['mu mu', 'e e', 'pi pi', 'pi0 g', 'pi0 v', 'v v']"
   ]
  },
  {
   "cell_type": "code",
   "execution_count": null,
   "metadata": {
    "hidden": true
   },
   "outputs": [],
   "source": [
    "cme = 2.0 * km.mx * (1.0 + 0.5 * 1e-6)\n",
    "print(km.annihilation_cross_sections(cme))\n",
    "# {'mu mu': 8.94839775021393e-25,\n",
    "#  'e e': 9.064036692829845e-25,\n",
    "#  'pi pi': 1.2940469635262499e-25,\n",
    "#  'pi0 g': 5.206158864833925e-29,\n",
    "#  'pi0 v': 0.0,\n",
    "#  'v v': 0.0,\n",
    "#  'total': 1.9307002022456507e-24}\n",
    "print(km.annihilation_branching_fractions(cme))\n",
    "# {'mu mu': 0.46347940191883763,\n",
    "#  'e e': 0.4694688839980031,\n",
    "#  'pi pi': 0.06702474894968717,\n",
    "#  'pi0 g': 2.6965133472190545e-05,\n",
    "#  'pi0 v': 0.0,\n",
    "#  'v v': 0.0}"
   ]
  },
  {
   "cell_type": "code",
   "execution_count": null,
   "metadata": {
    "hidden": true
   },
   "outputs": [],
   "source": [
    "km.partial_widths()"
   ]
  },
  {
   "cell_type": "code",
   "execution_count": null,
   "metadata": {
    "hidden": true
   },
   "outputs": [],
   "source": [
    "photon_energies = np.array([cme/4])\n",
    "km.spectra(photon_energies, cme)"
   ]
  },
  {
   "cell_type": "code",
   "execution_count": null,
   "metadata": {
    "hidden": true
   },
   "outputs": [],
   "source": [
    "spec_funs = km.spectrum_funcs()\n",
    "print(spec_funs['mu mu'](photon_energies, cme))\n",
    "# [6.35970849e-05]\n",
    "mumu_bf = km.annihilation_branching_fractions(cme)['mu mu']\n",
    "print(mumu_bf * spec_funs['mu mu'](photon_energies, cme))\n",
    "# [2.94759389e-05]"
   ]
  },
  {
   "cell_type": "code",
   "execution_count": null,
   "metadata": {
    "hidden": true
   },
   "outputs": [],
   "source": [
    "km.total_spectrum(photon_energies, cme)"
   ]
  },
  {
   "cell_type": "code",
   "execution_count": null,
   "metadata": {
    "hidden": true
   },
   "outputs": [],
   "source": [
    "km.gamma_ray_lines(cme)"
   ]
  },
  {
   "cell_type": "code",
   "execution_count": null,
   "metadata": {
    "hidden": true
   },
   "outputs": [],
   "source": [
    "min_photon_energy = 1e-3\n",
    "max_photon_energy = cme\n",
    "energy_resolution = lambda photon_energy : 1.0\n",
    "number_points = 1000\n",
    "\n",
    "spec = km.total_conv_spectrum_fn(min_photon_energy, max_photon_energy, \n",
    "                                 cme, energy_resolution, number_points)\n",
    "spec(cme / 4)"
   ]
  },
  {
   "cell_type": "code",
   "execution_count": null,
   "metadata": {
    "hidden": true
   },
   "outputs": [],
   "source": [
    "from hazma.parameters import electron_mass as me\n",
    "positron_energies = np.logspace(np.log10(me), np.log10(cme), num=100)\n",
    "km.positron_spectra(positron_energies, cme)\n",
    "km.positron_lines(cme)\n",
    "km.total_positron_spectrum(positron_energies, cme)\n",
    "dnde_pos = km.total_conv_positron_spectrum_fn(min(positron_energies),\n",
    "                                              max(positron_energies),\n",
    "                                              cme, \n",
    "                                              energy_resolution,\n",
    "                                              number_points)"
   ]
  },
  {
   "cell_type": "code",
   "execution_count": null,
   "metadata": {
    "hidden": true
   },
   "outputs": [],
   "source": [
    "from hazma.gamma_ray_parameters import egret_diffuse\n",
    "mxs = np.linspace(me/2., 250., num=100)\n",
    "limits = np.zeros(len(mxs), dtype=float)\n",
    "for i, mx in enumerate(mxs):\n",
    "    km.mx = mx\n",
    "    limits[i] = km.binned_limit(egret_diffuse)"
   ]
  },
  {
   "cell_type": "code",
   "execution_count": null,
   "metadata": {
    "hidden": true
   },
   "outputs": [],
   "source": [
    "from hazma.gamma_ray_parameters import gc_target, gc_bg_model\n",
    "from hazma.gamma_ray_parameters import A_eff_e_astrogam, energy_res_e_astrogam\n",
    "from hazma.gamma_ray_parameters import T_obs_e_astrogam\n",
    "mxs = np.linspace(me/2., 250., num=100)\n",
    "limits = np.zeros(len(mxs), dtype=float)\n",
    "for i, mx in enumerate(mxs):\n",
    "    km.mx = mx\n",
    "    limits[i] = km.unbinned_limit(A_eff_e_astrogam,\n",
    "                                  energy_res_e_astrogam,\n",
    "                                  T_obs_e_astrogam,\n",
    "                                  gc_target,\n",
    "                                  gc_bg_model)"
   ]
  },
  {
   "cell_type": "markdown",
   "metadata": {
    "heading_collapsed": true
   },
   "source": [
    "## Appendix C: Advanced Usage"
   ]
  },
  {
   "cell_type": "code",
   "execution_count": null,
   "metadata": {
    "hidden": true
   },
   "outputs": [],
   "source": [
    "from hazma.gamma_ray_parameters import TargetParams\n",
    "tp = TargetParams(J=1e29, dOmega=0.1)"
   ]
  },
  {
   "cell_type": "code",
   "execution_count": null,
   "metadata": {
    "hidden": true
   },
   "outputs": [],
   "source": [
    "from hazma.background_model import BackgroundModel\n",
    "bg = BackgroundModel(e_range=[0.5, 1e4],\n",
    "                     dPhi_dEdOmega=lambda e: 2.7e-3 / e**2)"
   ]
  },
  {
   "cell_type": "markdown",
   "metadata": {
    "hidden": true
   },
   "source": [
    "See the notebook ``hazma_example.ipynb`` for the custom model implementation."
   ]
  },
  {
   "cell_type": "code",
   "execution_count": null,
   "metadata": {
    "hidden": true
   },
   "outputs": [],
   "source": []
  }
 ],
 "metadata": {
  "@webio": {
   "lastCommId": null,
   "lastKernelId": null
  },
  "jupytext": {
   "formats": "ipynb,py:hydrogen"
  },
  "kernelspec": {
   "display_name": "Python 3",
   "language": "python",
   "name": "python3"
  },
  "language_info": {
   "codemirror_mode": {
    "name": "ipython",
    "version": 3
   },
   "file_extension": ".py",
   "mimetype": "text/x-python",
   "name": "python",
   "nbconvert_exporter": "python",
   "pygments_lexer": "ipython3",
   "version": "3.7.3"
  }
 },
 "nbformat": 4,
 "nbformat_minor": 2
}
