{
 "cells": [
  {
   "cell_type": "markdown",
   "metadata": {},
   "source": [
    "# Hazma Example Model"
   ]
  },
  {
   "cell_type": "markdown",
   "metadata": {},
   "source": [
    "## Overview"
   ]
  },
  {
   "cell_type": "markdown",
   "metadata": {},
   "source": [
    "In this notebook, we demonstrate how to construct a user-defined model in ``hazma``. The model we will consider is an effective field theory with a Dirac fermion DM particle which talks to neutral and charged pions through gauge-invariant dimension-5 operators. The Lagrangian for this model is:\n",
    "\n",
    "\\begin{align}\n",
    "    \\mathcal{L} &\\supset \\dfrac{c_1}{\\Lambda}\\overline{\\chi}\\chi\\pi^{+}\\pi^{-} + \\dfrac{c_2}{\\Lambda}\\overline{\\chi}\\chi\\pi^{0}\\pi^{0}\n",
    "\\end{align}\n",
    "\n",
    "where $c_{1}, c_{2}$ are dimensionless Wilson coefficients and $\\Lambda$ is the cut-off scale of the theory. In order to implement this model in ``hazma``, we need to compute the annihilation cross sections and the FSR spectra. The annihilation channels for this model are simply $\\bar{\\chi}\\chi\\to\\pi^{0}\\pi^{0}$ and $\\bar{\\chi}\\chi\\to\\pi^{+}\\pi^{-}$. The computations for the cross sections are straight forward and yield:\n",
    "\n",
    "\\begin{align}\n",
    "    \\sigma(\\bar{\\chi}\\chi\\to\\pi^{+}\\pi^{-}) &= \\frac{c_1^2 \\sqrt{1-4 \\mu _{\\pi }^2} \\sqrt{1-4 \\mu _{\\chi }^2}}{32 \\pi \\Lambda^2}\\\\\n",
    "    \\sigma(\\bar{\\chi}\\chi\\to\\pi^{0}\\pi^{0}) &= \\frac{c_2^2 \\sqrt{1-4 \\mu_{\\pi^{0}}^2} \\sqrt{1-4 \\mu_{\\chi}^2}}{8 \\pi \\Lambda^2}\n",
    "\\end{align}\n",
    "\n",
    "where \\(Q\\) is the center of mass energy, \\(\\mu_{\\chi} = m_{\\chi}/Q\\), \\(\\mu_{\\pi} = m_{\\pi^{\\pm}}/Q\\) and \\(\\mu_{\\pi^{0}} = m_{\\pi^{0}}/Q\\). In addition to the cross sections, we need the FSR spectrum for \\(\\overline{\\chi}\\chi\\to\\pi^{+}\\pi^{-}\\gamma\\). This is:\n",
    "\n",
    "\\begin{align}\n",
    "    \\dfrac{dN(\\bar{\\chi}\\chi\\to\\pi^{+}\\pi^{-}\\gamma)}{dE_{\\gamma}} &= \\frac{\\alpha  \\left(2 f(x)-2\\left(1-x-2 \\mu_{\\pi} ^2\\right)\n",
    "   \\log \\left(\\frac{1-x-f(x)}{1-x+f(x)}\\right)\\right)}{\\pi  \\sqrt{1-4 \\mu_{\\pi} ^2} x}\n",
    "\\end{align}\n",
    "\n",
    "where \n",
    "\n",
    "\\begin{align}\n",
    "    f(x) &= \\sqrt{1-x} \\sqrt{1-x-4 \\mu_{\\pi} ^2}\n",
    "\\end{align}\n",
    "\n",
    "Below we will demonstrate how we think a user should implement a model."
   ]
  },
  {
   "cell_type": "markdown",
   "metadata": {},
   "source": [
    "## Imports"
   ]
  },
  {
   "cell_type": "markdown",
   "metadata": {},
   "source": [
    "There are various packages that we will be using throughout the notebook:"
   ]
  },
  {
   "cell_type": "code",
   "execution_count": 1,
   "metadata": {},
   "outputs": [],
   "source": [
    "import numpy as np\n",
    "import matplotlib.pyplot as plt\n",
    "\n",
    "from hazma.parameters import neutral_pion_mass as mpi0\n",
    "from hazma.parameters import charged_pion_mass as mpi\n",
    "from hazma.parameters import electron_mass as me\n",
    "from hazma.parameters import qe\n",
    "\n",
    "from hazma.positron_spectra import charged_pion as pspec_charged_pion\n",
    "from hazma.decay import neutral_pion, charged_pion\n",
    "\n",
    "from hazma.theory import Theory\n",
    "from hazma.gamma_ray_parameters import (energy_res_fermi, energy_res_e_astrogam,\n",
    "                                        A_eff_e_astrogam, A_eff_comptel,\n",
    "                                        egret_diffuse, fermi_diffuse,\n",
    "                                        comptel_diffuse, gc_target,\n",
    "                                        gc_bg_model, solid_angle)\n",
    "\n",
    "# We will ignore warnings since they aren't important for this example\n",
    "import warnings\n",
    "warnings.filterwarnings('ignore')"
   ]
  },
  {
   "cell_type": "markdown",
   "metadata": {},
   "source": [
    "## Defining the model"
   ]
  },
  {
   "cell_type": "markdown",
   "metadata": {},
   "source": [
    "As described in the paper, we will be be defined the model using mixin classes. For ``hazma`` to work properly, we will need to define the following functions in our model:\n",
    "\n",
    "1. ``annihilation_cross_sections(cme)``: A function returning a dictionary of the annihilation cross sections for a given center of mass energy.\n",
    "2. ``annihilation_branching_fractions(cme)``: A function returning a dictionary of the annihilation branching fractions for a given center of mass energy.\n",
    "3. ``gamma_ray_lines(cme)``: A function returning a dictionary of the gamma-ray lines for a given center of mass energy.\n",
    "4. ``spectra(e_gams, cme)``: A function returning a dictionary of the continuum gamma-ray spectra for a given photon and center of mass energy.\n",
    "5. ``positron_spectra(e_ps, e_cm)``: A function returning a dictionary of the continuum electron/positron spectra for a given positron and center of mass energy.\n",
    "6. ``positron_lines(e_cm)``: A function returning a dictionary of the electron/positron lines for a center of mass energy.\n",
    "\n",
    "We will assume that the master class contains the following attributes:\n",
    "\n",
    "1. $m_{\\chi}$: the DM mass,\n",
    "2. $c_{1}$: the Wilson coefficient of first effective operator,\n",
    "3. $c_{2}$: the Wilson coefficient of second effective operator,\n",
    "5. $\\Lambda$: the cut-off scale of the effective theory.\n",
    "\n",
    "First, we implement cross section class. "
   ]
  },
  {
   "cell_type": "code",
   "execution_count": 2,
   "metadata": {
    "code_folding": [
     2,
     15,
     28,
     38
    ]
   },
   "outputs": [],
   "source": [
    "class HazmaExampleCrossSection:\n",
    "    \n",
    "    def sigma_xx_to_pipi(self, Q):\n",
    "        mupi = mpi / Q\n",
    "        mux = self.mx / Q\n",
    "\n",
    "        if Q > 2 * self.mx and Q > 2 * mpi:\n",
    "            sigma = (self.c1**2 * np.sqrt(1 - 4 * mupi**2) * \n",
    "                     np.sqrt(1 - 4 * mux**2)**2 / \n",
    "                     (32.0 * self.lam**2 * np.pi))\n",
    "        else:\n",
    "            sigma = 0.0\n",
    "\n",
    "        return sigma\n",
    "\n",
    "    def sigma_xx_to_pi0pi0(self, Q):\n",
    "        mupi0 = mpi0 / Q\n",
    "        mux = self.mx / Q\n",
    "\n",
    "        if Q > 2 * self.mx and Q > 2 * mpi0:\n",
    "            sigma = (self.c2**2 * np.sqrt(1 - 4 * mux**2) *\n",
    "                     np.sqrt(1 - 4 * mupi0**2) /\n",
    "                     (8.0 * self.lam**2 * np.pi))\n",
    "        else:\n",
    "            sigma = 0.0\n",
    "\n",
    "        return sigma\n",
    "    \n",
    "    def annihilation_cross_sections(self, Q):\n",
    "        pipi = self.sigma_xx_to_pipi(Q)\n",
    "        pi0pi0 = self.sigma_xx_to_pi0pi0(Q)\n",
    "        \n",
    "        total = pipi + pi0pi0\n",
    "        \n",
    "        return {'pi0 pi0': pi0pi0,\n",
    "                'pi pi': pipi,\n",
    "                'total': total}\n",
    "        \n",
    "    def annihilation_branching_fractions(self, Q):\n",
    "        css = self.annihilation_cross_sections(Q)\n",
    "        brs = {key: 0.0 for key in css.keys()}\n",
    "        \n",
    "        if css['total'] > 0.0:\n",
    "            for key in brs.keys():\n",
    "                brs[key] = css[key] / css['total']\n",
    "        \n",
    "        del brs['total']\n",
    "\n",
    "        return brs"
   ]
  },
  {
   "cell_type": "markdown",
   "metadata": {},
   "source": [
    "Next, we implement the FSR spectrum for $\\bar{\\chi}\\chi\\to\\pi^{+}\\pi^{-}$:"
   ]
  },
  {
   "cell_type": "code",
   "execution_count": 3,
   "metadata": {
    "code_folding": [
     2
    ]
   },
   "outputs": [],
   "source": [
    "class HazmaExampleFSR:\n",
    "    \n",
    "    def __dnde_xx_to_pipig(self, eng_gam, Q):\n",
    "        mupi = mpi / Q\n",
    "        mux = self.mx / Q\n",
    "        x = 2.0 * eng_gam / Q\n",
    "        if 0.0 < x and x < 1. - 4. * mupi**2:\n",
    "            dnde = ((qe**2 * (2 * np.sqrt(1 - x) * np.sqrt(1 - 4*mupi**2 - x) + \n",
    "                          (-1 + 2 * mupi**2 + x) * \n",
    "                          np.log((-1 + np.sqrt(1 - x) * np.sqrt(1 - 4*mupi**2 - x) + x)**2/\n",
    "                                 (1 + np.sqrt(1 - x)*np.sqrt(1 - 4*mupi**2 - x) - x)**2)))/\n",
    "                (Q * 2.0 * np.sqrt(1 - 4 * mupi**2) * np.pi**2 * x))\n",
    "        else:\n",
    "            dnde = 0\n",
    "        \n",
    "        return dnde\n",
    "    \n",
    "    def dnde_xx_to_pipig(self, eng_gams, Q):\n",
    "        if hasattr(eng_gams, '__len__'):\n",
    "            return np.array([self.__dnde_xx_to_pipig(eng_gam, Q)\n",
    "                             for eng_gam in eng_gams])\n",
    "        else:\n",
    "            return self.__dnde_xx_to_pipig(eng_gams, Q)     "
   ]
  },
  {
   "cell_type": "markdown",
   "metadata": {},
   "source": [
    "Now we define the positron/electron spectra from $\\bar{\\chi}\\chi\\to\\pi^{+}\\pi^{-}$ (note that $\\bar{\\chi}\\chi\\to\\pi^{0}\\pi^{0}$ does not contribute to the positron spectrum.)"
   ]
  },
  {
   "cell_type": "code",
   "execution_count": 4,
   "metadata": {
    "code_folding": [
     0,
     2,
     5
    ]
   },
   "outputs": [],
   "source": [
    "class HazmaExamplePositronSpectra:\n",
    "    \n",
    "    def dnde_pos_pipi(self, eng_ps, cme):\n",
    "        return pspec_charged_pion(eng_ps, cme / 2.)\n",
    "    \n",
    "    def positron_spectra(self, eng_ps, cme):\n",
    "        \n",
    "        bfs = self.annihilation_branching_fractions(cme)\n",
    "\n",
    "        # Only compute the spectrum if the channel's branching fraction is\n",
    "        # nonzero\n",
    "        def spec_helper(bf, specfn):\n",
    "            if bf != 0:\n",
    "                return bf * specfn(eng_ps, cme)\n",
    "            else:\n",
    "                return np.zeros(eng_ps.shape)\n",
    "\n",
    "        pipi_spec = spec_helper(bfs['pi pi'], self.dnde_pos_pipi)\n",
    "\n",
    "        return {\"total\": pipi_spec, \"pi pi\": pipi_spec}\n",
    "\n",
    "    def positron_lines(self, cme):\n",
    "        return {}"
   ]
  },
  {
   "cell_type": "markdown",
   "metadata": {},
   "source": [
    "The last mixin we will define in the total spectrum class. This class will implement the total gamma-ray spectrum from both $\\bar{\\chi}\\chi\\to\\pi^{+}\\pi^{-}$ and $\\bar{\\chi}\\chi\\to\\pi^{0}\\pi^{0}$, including FSR and decays:"
   ]
  },
  {
   "cell_type": "code",
   "execution_count": 5,
   "metadata": {
    "code_folding": [
     2,
     5,
     9,
     32,
     38
    ]
   },
   "outputs": [],
   "source": [
    "class HazmaExampleSpectra:\n",
    "    \n",
    "    def dnde_pi0pi0(self, e_gams, e_cm, spectrum_type='all'):\n",
    "        return 2.0 * neutral_pion(e_gams, e_cm / 2.0)\n",
    "\n",
    "    def dnde_pipi(self, e_gams, e_cm, spectrum_type='all'):\n",
    "        return (self.dnde_xx_to_pipig(e_gams, e_cm) +\n",
    "                2. * charged_pion(e_gams, e_cm / 2.0))\n",
    "    \n",
    "    def spectra(self, e_gams, e_cm):\n",
    "        bfs = self.annihilation_branching_fractions(e_cm)\n",
    "        \n",
    "        def spec_helper(bf, specfn):\n",
    "            if bf != 0:\n",
    "                return bf * specfn(e_gams, e_cm)\n",
    "            else:\n",
    "                return np.zeros(e_gams.shape)\n",
    "\n",
    "        # Pions\n",
    "        npions = spec_helper(bfs['pi0 pi0'], self.dnde_pi0pi0)\n",
    "        cpions = spec_helper(bfs['pi pi'], self.dnde_pipi)\n",
    "\n",
    "        # Compute total spectrum\n",
    "        total = npions + cpions\n",
    "\n",
    "        # Define dictionary for spectra\n",
    "        specs = {'total': total,\n",
    "                 'pi0 pi0': npions,\n",
    "                 'pi pi': cpions}\n",
    "\n",
    "        return specs\n",
    "    \n",
    "    def spectrum_functions(self):\n",
    "        return {'pi0 pi0': lambda e_gams, e_cm:\n",
    "                    self.dnde_pi0pi0(e_gams, e_cm),\n",
    "                'pi pi': lambda e_gams, e_cm:\n",
    "                    self.dnde_pipi(e_gams, e_cm)}\n",
    "\n",
    "    def gamma_ray_lines(self, e_cm):\n",
    "        return {}"
   ]
  },
  {
   "cell_type": "markdown",
   "metadata": {},
   "source": [
    "Lastly, we combine all the mixins into a master class. In the master class, we set the attributes of the model via and ``__init__``."
   ]
  },
  {
   "cell_type": "code",
   "execution_count": 6,
   "metadata": {
    "code_folding": [
     5
    ]
   },
   "outputs": [],
   "source": [
    "class HazmaExample(HazmaExampleCrossSection,\n",
    "                   HazmaExampleFSR,\n",
    "                   HazmaExamplePositronSpectra,\n",
    "                   HazmaExampleSpectra,\n",
    "                   Theory):\n",
    "    def __init__(self, mx, c1, c2, lam):\n",
    "        self.mx = mx\n",
    "        self.c1 = c1\n",
    "        self.c2 = c2\n",
    "        self.lam = lam\n",
    "    \n",
    "    @classmethod\n",
    "    def list_annihilation_final_states(cls):\n",
    "        return ['pi pi', 'pi0 pi0']"
   ]
  },
  {
   "cell_type": "markdown",
   "metadata": {},
   "source": [
    "## Computing Particle Physics Quantities"
   ]
  },
  {
   "cell_type": "markdown",
   "metadata": {},
   "source": [
    "Now that we've defined our new model, we will demonstrate how to use it to compute various quantities. Let's define out model with the following parameters:\n",
    "\n",
    "1. $m_{\\chi} = 250 \\ \\mathrm{MeV}$\n",
    "2. $c_{1} = 1.0$ \n",
    "3. $c_{2} = 1.0$ \n",
    "4. $\\Lambda = 100 \\ \\mathrm{GeV}$ "
   ]
  },
  {
   "cell_type": "code",
   "execution_count": 7,
   "metadata": {},
   "outputs": [],
   "source": [
    "model = HazmaExample(mpi, 1.0, 1.0, 100e3)"
   ]
  },
  {
   "cell_type": "markdown",
   "metadata": {},
   "source": [
    "### Gamma-ray Spectra"
   ]
  },
  {
   "cell_type": "markdown",
   "metadata": {},
   "source": [
    "Below, we demonstrate how to compute the total gamma ray spectrum (as well as the sub components):"
   ]
  },
  {
   "cell_type": "code",
   "execution_count": 8,
   "metadata": {},
   "outputs": [
    {
     "data": {
      "text/plain": [
       "<matplotlib.legend.Legend at 0x120791860>"
      ]
     },
     "execution_count": 8,
     "metadata": {},
     "output_type": "execute_result"
    },
    {
     "data": {
      "image/png": "[encoded data removed]",
      "text/plain": [
       "<Figure size 600x400 with 1 Axes>"
      ]
     },
     "metadata": {},
     "output_type": "display_data"
    }
   ],
   "source": [
    "model.mx = 250.0\n",
    "\n",
    "cme = 2.0 * model.mx * (1 + 0.5 * 1e-6)\n",
    "photon_energies = np.logspace(-3.0, 3.0, num=150)\n",
    "spectra = model.spectra(photon_energies, cme)\n",
    "\n",
    "plt.figure(dpi=100)\n",
    "plt.plot(photon_energies, spectra['pi pi'], label=r'$\\pi^{+}\\pi^{-}$', lw=1)\n",
    "plt.plot(photon_energies, spectra['pi0 pi0'], label=r'$\\pi^{0}\\pi^{0}$',lw=1)\n",
    "plt.plot(photon_energies, spectra['total'], label='Total', c='k')\n",
    "\n",
    "plt.xlabel(r'$E_{\\gamma} (\\mathrm{MeV})$', fontsize=16)\n",
    "plt.ylabel(r'$\\frac{dN}{dE_{\\gamma}} (\\mathrm{MeV}^{-1})$', fontsize=16)\n",
    "plt.xscale('log')\n",
    "plt.yscale('log')\n",
    "plt.xlim([np.min(photon_energies), np.max(photon_energies)])\n",
    "plt.legend()"
   ]
  },
  {
   "cell_type": "markdown",
   "metadata": {},
   "source": [
    "### Positron Spectrum"
   ]
  },
  {
   "cell_type": "code",
   "execution_count": 9,
   "metadata": {},
   "outputs": [
    {
     "data": {
      "text/plain": [
       "(0.510998928, 1000.0)"
      ]
     },
     "execution_count": 9,
     "metadata": {},
     "output_type": "execute_result"
    },
    {
     "data": {
      "image/png": "[encoded data removed]",
      "text/plain": [
       "<Figure size 600x400 with 1 Axes>"
      ]
     },
     "metadata": {},
     "output_type": "display_data"
    }
   ],
   "source": [
    "model.mx = 250.0\n",
    "cme = 2.0 * model.mx * (1 + 0.5 * 1e-6)\n",
    "\n",
    "positron_energies = np.logspace(np.log10(me), 3.0, num=150)\n",
    "spectra = model.positron_spectra(positron_energies, cme)\n",
    "\n",
    "plt.figure(dpi=100)\n",
    "plt.plot(positron_energies, spectra['total'], c='k')\n",
    "\n",
    "plt.xlabel(r'$E_{e^{\\pm}} (\\mathrm{MeV})$', fontsize=16)\n",
    "plt.ylabel(r'$\\frac{dN}{dE_{e^{\\pm}}} (\\mathrm{MeV}^{-1})$', fontsize=16)\n",
    "plt.xscale('log')\n",
    "plt.yscale('log')\n",
    "plt.xlim([np.min(positron_energies), np.max(positron_energies)])"
   ]
  },
  {
   "cell_type": "markdown",
   "metadata": {},
   "source": [
    "### Annihilation Cross Sections and Branching Fractions"
   ]
  },
  {
   "cell_type": "code",
   "execution_count": 10,
   "metadata": {},
   "outputs": [],
   "source": [
    "mxs = np.linspace(mpi0, 250., num=100)\n",
    "bfs = {'pi pi': np.zeros_like(mxs), 'pi0 pi0': np.zeros_like(mxs)}\n",
    "css = {'pi pi': np.zeros_like(mxs), 'pi0 pi0': np.zeros_like(mxs), 'total': np.zeros_like(mxs)}\n",
    "\n",
    "for i, mx in enumerate(mxs):\n",
    "    model.mx = mx\n",
    "    cme = 2.0 * mx + mx * 1e-6\n",
    "    \n",
    "    _bfs = model.annihilation_branching_fractions(cme)\n",
    "    bfs['pi pi'][i] = _bfs['pi pi']\n",
    "    bfs['pi0 pi0'][i] = _bfs['pi0 pi0']\n",
    "    \n",
    "    _css = model.annihilation_cross_sections(cme)\n",
    "    css['pi pi'][i] = _css['pi pi']\n",
    "    css['pi0 pi0'][i] = _css['pi0 pi0']\n",
    "    css['total'][i] = _css['total']"
   ]
  },
  {
   "cell_type": "code",
   "execution_count": 11,
   "metadata": {},
   "outputs": [
    {
     "data": {
      "text/plain": [
       "<matplotlib.legend.Legend at 0x122d8f668>"
      ]
     },
     "execution_count": 11,
     "metadata": {},
     "output_type": "execute_result"
    },
    {
     "data": {
      "image/png": "[encoded data removed]",
      "text/plain": [
       "<Figure size 600x400 with 1 Axes>"
      ]
     },
     "metadata": {},
     "output_type": "display_data"
    }
   ],
   "source": [
    "plt.figure(dpi=100)\n",
    "plt.plot(mxs, bfs['pi pi'], label=r'$\\pi^{+}\\pi^{-}$')\n",
    "plt.plot(mxs, bfs['pi0 pi0'], label=r'$\\pi^{0}\\pi^{0}$')\n",
    "plt.yscale('log')\n",
    "plt.ylabel(r'Branching Fractions',fontsize=16)\n",
    "plt.xlabel(r'$m_{\\chi} \\ (\\mathrm{MeV})$',fontsize=16)\n",
    "plt.xlim([np.min(mxs),np.max(mxs)])\n",
    "plt.legend()"
   ]
  },
  {
   "cell_type": "code",
   "execution_count": 12,
   "metadata": {},
   "outputs": [
    {
     "data": {
      "text/plain": [
       "<matplotlib.legend.Legend at 0x122f81748>"
      ]
     },
     "execution_count": 12,
     "metadata": {},
     "output_type": "execute_result"
    },
    {
     "data": {
      "image/png": "[encoded data removed]",
      "text/plain": [
       "<Figure size 600x400 with 1 Axes>"
      ]
     },
     "metadata": {},
     "output_type": "display_data"
    }
   ],
   "source": [
    "plt.figure(dpi=100)\n",
    "plt.plot(mxs, css['total'], label=r'Total')\n",
    "plt.plot(mxs, css['pi pi'], '--', label=r'$\\pi^{+}\\pi^{-}$')\n",
    "plt.plot(mxs, css['pi0 pi0'], '--', label=r'$\\pi^{0}\\pi^{0}$')\n",
    "plt.yscale('log')\n",
    "plt.ylabel(r'Cross Sections $(\\mathrm{MeV}^{-2})$',fontsize=16)\n",
    "plt.xlabel(r'$m_{\\chi} \\ (\\mathrm{MeV})$',fontsize=16)\n",
    "plt.xlim([np.min(mxs),np.max(mxs)])\n",
    "plt.legend()"
   ]
  },
  {
   "cell_type": "markdown",
   "metadata": {},
   "source": [
    "### Limits on $\\langle\\sigma v\\rangle$"
   ]
  },
  {
   "cell_type": "markdown",
   "metadata": {},
   "source": [
    "Below we compute the limits on $\\langle\\sigma v\\rangle$ from MeV gamma-ray telescopes. First, we use E-Astrogam"
   ]
  },
  {
   "cell_type": "code",
   "execution_count": 13,
   "metadata": {},
   "outputs": [],
   "source": [
    "mxs = np.linspace(mpi0, 250., num=100)\n",
    "limits = {'E-Astrogam': np.zeros_like(mxs), 'EGRET': np.zeros_like(mxs)}\n",
    "\n",
    "for i, mx in enumerate(mxs):\n",
    "    model.mx = mx\n",
    "    limits['E-Astrogam'][i] = model.unbinned_limit(target_params=gc_target, bg_model=gc_bg_model)\n",
    "    limits['EGRET'][i] = model.binned_limit(egret_diffuse)"
   ]
  },
  {
   "cell_type": "code",
   "execution_count": 14,
   "metadata": {},
   "outputs": [
    {
     "data": {
      "text/plain": [
       "<matplotlib.legend.Legend at 0x1231a47f0>"
      ]
     },
     "execution_count": 14,
     "metadata": {},
     "output_type": "execute_result"
    },
    {
     "data": {
      "image/png": "[encoded data removed]",
      "text/plain": [
       "<Figure size 600x400 with 1 Axes>"
      ]
     },
     "metadata": {},
     "output_type": "display_data"
    }
   ],
   "source": [
    "plt.figure(dpi=100)\n",
    "plt.plot(mxs, limits['E-Astrogam'], label='E-Astrogam')\n",
    "plt.plot(mxs, limits['EGRET'], label='EGRET')\n",
    "plt.yscale('log')\n",
    "plt.ylabel(r'$\\langle\\sigma v\\rangle \\ (\\mathrm{cm}^3/\\mathrm{s})$',fontsize=16)\n",
    "plt.xlabel(r'$m_{\\chi} \\ (\\mathrm{MeV})$',fontsize=16)\n",
    "plt.xlim([np.min(mxs),np.max(mxs)])\n",
    "plt.legend()"
   ]
  }
 ],
 "metadata": {
  "@webio": {
   "lastCommId": null,
   "lastKernelId": null
  },
  "kernelspec": {
   "display_name": "Python 3",
   "language": "python",
   "name": "python3"
  },
  "language_info": {
   "codemirror_mode": {
    "name": "ipython",
    "version": 3
   },
   "file_extension": ".py",
   "mimetype": "text/x-python",
   "name": "python",
   "nbconvert_exporter": "python",
   "pygments_lexer": "ipython3",
   "version": "3.6.2"
  },
  "latex_envs": {
   "LaTeX_envs_menu_present": true,
   "autoclose": false,
   "autocomplete": true,
   "bibliofile": "biblio.bib",
   "cite_by": "apalike",
   "current_citInitial": 1,
   "eqLabelWithNumbers": true,
   "eqNumInitial": 1,
   "hotkeys": {
    "equation": "Ctrl-E",
    "itemize": "Ctrl-I"
   },
   "labels_anchors": false,
   "latex_user_defs": false,
   "report_style_numbering": false,
   "user_envs_cfg": false
  },
  "toc": {
   "nav_menu": {},
   "number_sections": true,
   "sideBar": true,
   "skip_h1_title": false,
   "title_cell": "Table of Contents",
   "title_sidebar": "Contents",
   "toc_cell": false,
   "toc_position": {},
   "toc_section_display": true,
   "toc_window_display": false
  }
 },
 "nbformat": 4,
 "nbformat_minor": 2
}
