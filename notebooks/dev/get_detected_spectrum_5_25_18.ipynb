{
 "cells": [
  {
   "cell_type": "code",
   "execution_count": 1,
   "metadata": {
    "collapsed": true
   },
   "outputs": [],
   "source": [
    "import matplotlib.pyplot as plt\n",
    "import numpy as np\n",
    "from scipy.interpolate import interp1d\n",
    "from scipy.integrate import cumtrapz\n",
    "\n",
    "from hazma.scalar_mediator import ScalarMediator\n",
    "from hazma.vector_mediator import VectorMediator\n",
    "from hazma.parameters import neutral_pion_mass as mpi0\n",
    "from hazma.gamma_ray_limits.compute_limits import get_detected_spectrum\n",
    "from hazma.gamma_ray_limits.gamma_ray_limit_parameters import energy_res_comptel, energy_res_fermi\n",
    "\n",
    "import time"
   ]
  },
  {
   "cell_type": "code",
   "execution_count": 21,
   "metadata": {
    "collapsed": true
   },
   "outputs": [],
   "source": [
    "# vm = VectorMediator(mx=75., mv=1000., gvxx=1., gvuu=1., gvdd=0.2, gvss=0., gvee=0., gvmumu=0.)\n",
    "\n",
    "s_theta = 0.5\n",
    "# sm_hp = ScalarMediator(mx=133.8561909090909, ms=1000., gsxx=1.0, gsff=s_theta, gsGG=s_theta, gsFF=-s_theta)\n",
    "sm_hp = ScalarMediator(mx=135.69974343434345, ms=1000., gsxx=1.0, gsff=s_theta, gsGG=s_theta, gsFF=-s_theta)\n",
    "\n",
    "e_min, e_max = 0.3, 3000.0\n",
    "e_cm = 2.*sm_hp.mx*(1.+0.5*1e-6)\n",
    "\n",
    "spec_fn = lambda e_gams, e_cm: sm_hp.spectra(e_gams, e_cm)[\"total\"]"
   ]
  },
  {
   "cell_type": "code",
   "execution_count": 22,
   "metadata": {},
   "outputs": [
    {
     "name": "stdout",
     "output_type": "stream",
     "text": [
      "0.161224 seconds\n"
     ]
    }
   ],
   "source": [
    "start = time.time()\n",
    "\n",
    "dnde_det = get_detected_spectrum(spec_fn, sm_hp.gamma_ray_lines, e_min, e_max, e_cm, energy_res_fermi)\n",
    "\n",
    "end = time.time()\n",
    "print(\"%f seconds\" % (end - start))"
   ]
  },
  {
   "cell_type": "code",
   "execution_count": 28,
   "metadata": {},
   "outputs": [
    {
     "data": {
      "text/plain": [
       "<matplotlib.legend.Legend at 0x10b9d8e90>"
      ]
     },
     "execution_count": 28,
     "metadata": {},
     "output_type": "execute_result"
    },
    {
     "data": {
      "image/png": "[encoded data removed]",
      "text/plain": [
       "<matplotlib.figure.Figure at 0x10b735590>"
      ]
     },
     "metadata": {},
     "output_type": "display_data"
    }
   ],
   "source": [
    "e_gams = np.logspace(np.log10(e_min), np.log10(e_max), 250)\n",
    "\n",
    "plt.plot(e_gams, spec_fn(e_gams, e_cm), label=\"Source\")\n",
    "plt.plot(e_gams, dnde_det(e_gams), label=\"Det.\")\n",
    "\n",
    "# plt.xlabel(r\"$E_\\gamma$ (MeV)\")\n",
    "# plt.ylabel(r\"$dN/dE_\\gamma$ (MeV$^{-1}$)\")\n",
    "plt.xlim(e_min, e_max)\n",
    "# plt.ylim(1e-7, 1e0)\n",
    "plt.legend()"
   ]
  },
  {
   "cell_type": "code",
   "execution_count": 36,
   "metadata": {
    "collapsed": true
   },
   "outputs": [],
   "source": [
    "from scipy.optimize import minimize_scalar"
   ]
  },
  {
   "cell_type": "code",
   "execution_count": 49,
   "metadata": {},
   "outputs": [
    {
     "data": {
      "text/plain": [
       "     fun: -527.5697707519251\n",
       " message: 'Solution found.'\n",
       "    nfev: 14\n",
       "  status: 0\n",
       " success: True\n",
       "       x: 68.96256481037355"
      ]
     },
     "execution_count": 49,
     "metadata": {},
     "output_type": "execute_result"
    }
   ],
   "source": [
    "minimize_scalar(lambda e: -e**2 * dnde_det(e), bounds=dnde_det.get_knots()[[0, -1]], method=\"bounded\")"
   ]
  },
  {
   "cell_type": "code",
   "execution_count": 45,
   "metadata": {},
   "outputs": [
    {
     "data": {
      "text/plain": [
       "array(0.11279775)"
      ]
     },
     "execution_count": 45,
     "metadata": {},
     "output_type": "execute_result"
    }
   ],
   "source": [
    "dnde_det(67)"
   ]
  },
  {
   "cell_type": "code",
   "execution_count": 1,
   "metadata": {
    "collapsed": true
   },
   "outputs": [],
   "source": [
    "from hazma.gamma_ray_limits.gamma_ray_limit_parameters import energy_res_comptel, energy_res_e_astrogam\n",
    "from hazma.gamma_ray_limits.gamma_ray_limit_parameters import A_eff_comptel, A_eff_e_astrogam\n",
    "import numpy as np"
   ]
  },
  {
   "cell_type": "code",
   "execution_count": 2,
   "metadata": {
    "collapsed": true
   },
   "outputs": [],
   "source": [
    "e_gams = np.logspace(-1, 3)"
   ]
  },
  {
   "cell_type": "code",
   "execution_count": 3,
   "metadata": {},
   "outputs": [
    {
     "data": {
      "text/plain": [
       "[<matplotlib.lines.Line2D at 0x11099a810>]"
      ]
     },
     "execution_count": 3,
     "metadata": {},
     "output_type": "execute_result"
    },
    {
     "data": {
      "image/png": "[encoded data removed]",
      "text/plain": [
       "<matplotlib.figure.Figure at 0x11099a7d0>"
      ]
     },
     "metadata": {},
     "output_type": "display_data"
    }
   ],
   "source": [
    "plt.loglog(e_gams, A_eff_comptel(e_gams))\n",
    "plt.loglog(e_gams, A_eff_e_astrogam(e_gams))"
   ]
  },
  {
   "cell_type": "code",
   "execution_count": 4,
   "metadata": {},
   "outputs": [
    {
     "data": {
      "text/plain": [
       "[<matplotlib.lines.Line2D at 0x110bed6d0>]"
      ]
     },
     "execution_count": 4,
     "metadata": {},
     "output_type": "execute_result"
    },
    {
     "data": {
      "image/png": "[encoded data removed]",
      "text/plain": [
       "<matplotlib.figure.Figure at 0x110bed850>"
      ]
     },
     "metadata": {},
     "output_type": "display_data"
    }
   ],
   "source": [
    "plt.loglog(e_gams, energy_res_comptel(e_gams))\n",
    "plt.loglog(e_gams, energy_res_e_astrogam(e_gams))"
   ]
  },
  {
   "cell_type": "code",
   "execution_count": 5,
   "metadata": {},
   "outputs": [
    {
     "data": {
      "text/plain": [
       "array([ 5.00390257e-03,  5.21402150e-03,  5.46732414e-03,  5.77238786e-03,\n",
       "        6.13922806e-03,  6.57931000e-03,  7.10533239e-03,  7.73055451e-03,\n",
       "        8.46725098e-03,  9.32354447e-03,  1.02972743e-02,  1.13645093e-02,\n",
       "        1.24584585e-02,  1.34451243e-02,  1.42214362e-02,  1.47897344e-02,\n",
       "        1.53528986e-02,  1.63832743e-02,  1.81914262e-02,  2.10509271e-02,\n",
       "        2.52335547e-02,  3.08990993e-02,  3.78492544e-02,  4.50181224e-02,\n",
       "        4.94640081e-02,  4.44324228e-02,  1.57103944e-02, -6.51336514e-02,\n",
       "       -2.53146113e-01, -6.52526854e-01, -1.45733863e+00, -3.02465534e+00,\n",
       "       -6.00545547e+00, -1.15780728e+01, -2.18634499e+01, -4.06621829e+01,\n",
       "       -7.47604230e+01, -1.36240368e+02, -2.46563350e+02, -4.43778496e+02,\n",
       "       -7.95239508e+02, -1.42002371e+03, -2.52843453e+03, -4.49157421e+03,\n",
       "       -7.96383249e+03, -1.40984729e+04, -2.49269818e+04, -4.40264381e+04,\n",
       "       -7.76933854e+04, -1.37008325e+05])"
      ]
     },
     "execution_count": 5,
     "metadata": {},
     "output_type": "execute_result"
    }
   ],
   "source": [
    "energy_res_e_astrogam(e_gams)"
   ]
  },
  {
   "cell_type": "code",
   "execution_count": null,
   "metadata": {
    "collapsed": true
   },
   "outputs": [],
   "source": []
  }
 ],
 "metadata": {
  "kernelspec": {
   "display_name": "Python 2",
   "language": "python",
   "name": "python2"
  },
  "language_info": {
   "codemirror_mode": {
    "name": "ipython",
    "version": 2
   },
   "file_extension": ".py",
   "mimetype": "text/x-python",
   "name": "python",
   "nbconvert_exporter": "python",
   "pygments_lexer": "ipython2",
   "version": "2.7.13"
  },
  "toc": {
   "nav_menu": {},
   "number_sections": true,
   "sideBar": true,
   "skip_h1_title": false,
   "toc_cell": false,
   "toc_position": {
    "height": "880px",
    "left": "0px",
    "right": "886px",
    "top": "95.1px",
    "width": "26px"
   },
   "toc_section_display": "block",
   "toc_window_display": true
  }
 },
 "nbformat": 4,
 "nbformat_minor": 2
}
