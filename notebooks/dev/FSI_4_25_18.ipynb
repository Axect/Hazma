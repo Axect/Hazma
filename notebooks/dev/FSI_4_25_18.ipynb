{
 "cells": [
  {
   "cell_type": "code",
   "execution_count": 1,
   "metadata": {
    "collapsed": true
   },
   "outputs": [],
   "source": [
    "import numpy as np\n",
    "\n",
    "from cmath import sqrt, log, pi\n",
    "\n",
    "from hazma.parameters import alpha_em\n",
    "from hazma.parameters import pion_mass_chiral_limit as mPI\n",
    "from hazma.parameters import kaon_mass_chiral_limit as mK\n",
    "from hazma.parameters import rho_mass as mrho\n",
    "from hazma.parameters import rho_width\n",
    "from hazma.parameters import fpi, fv, gv, qe, vh\n",
    "\n",
    "from hazma.unitarization.bethe_salpeter import amp_kk_to_kk_bse\n",
    "from hazma.unitarization.bethe_salpeter import amp_pipi_to_kk_bse\n",
    "from hazma.unitarization.bethe_salpeter import amp_pipi_to_pipi_bse\n",
    "from hazma.unitarization.loops import bubble_loop"
   ]
  },
  {
   "cell_type": "code",
   "execution_count": 2,
   "metadata": {
    "code_folding": [
     0,
     28
    ],
    "collapsed": true
   },
   "outputs": [],
   "source": [
    "def __xx_s_pipig_E_no_fsi(Q, s, t, params):\n",
    "    gsxx = params.gsxx\n",
    "    gsGG = params.gsGG\n",
    "    gsff = params.gsff\n",
    "    mx = params.mx\n",
    "    ms = params.ms\n",
    "    vs = params.vs\n",
    "    mrhoT = params.mrhoT\n",
    "\n",
    "    return -(sqrt(2.)*gsxx*sqrt(-4.*mx**2 + Q**2)*qe *\n",
    "             (fv*gsGG*gv*(mPI**2 - t)*(mPI**2 + Q**2 - s - t) *\n",
    "              (3.*vh + 3.*gsff*vs + 2.*gsGG*vs)*(9.*vh + 4.*gsGG*vs) *\n",
    "              (complex(0., 2.)*mrho**2*sqrt(mrho*(mrho - complex(0., 1.)*rho_width)) *\n",
    "               (9.*vh + 2.*gsGG*vs) +\n",
    "               2.*mrho*sqrt(mrho*(mrho - complex(0., 1.)*rho_width))*rho_width *\n",
    "               (9.*vh + 2.*gsGG*vs) -\n",
    "               complex(0., 1.)*s*(-9.*mrhoT*vh +\n",
    "                                  sqrt(mrho*(mrho - complex(0., 1.)*rho_width)) *\n",
    "                                  (9.*vh + 2.*gsGG*vs))) +\n",
    "              complex(0., 3.)*fpi**2*mrhoT**2*sqrt(mrho*(mrho - complex(0., 1.)*rho_width)) *\n",
    "              (mrho**2 - complex(0., 1.)*mrho*rho_width - s)*vh *\n",
    "              (9.*gsff*(18.*gsGG*Q**2*vh*vs + mPI**2*(9.*vh + 8.*gsGG*vs)**2) +\n",
    "               2.*gsGG*(27.*Q**2*vh*(3.*vh + 2.*gsGG*vs) +\n",
    "                        mPI**2*(81.*vh**2 - 144.*gsGG*vh*vs - 64.*gsGG**2*vs**2))))) / \\\n",
    "            (81.*fpi**2*mrhoT**2*(ms**2 - Q**2)*sqrt(mrho*(mrho - complex(0., 1.)*rho_width)) *\n",
    "             (mrho**2 - complex(0., 1.)*mrho*rho_width - s)*(mPI**2 - t)*vh**2 *\n",
    "             (3.*vh + 3.*gsff*vs + 2.*gsGG*vs)*(9.*vh + 4.*gsGG*vs))\n",
    "\n",
    "def msqrd_xx_s_pipig_no_fsi(Q, s, t, params):\n",
    "    \"\"\"Compute matrix element squared for xbar x -> s^* -> pi+ pi- g.\n",
    "\n",
    "    Notes\n",
    "    -----\n",
    "    The matrix element for this process, M, is related to the form factor by\n",
    "        |M|^2. = s Re[E(s,t,u) E^*(s,u,t)] - m_PI^2. |E(s,t,u) + E(s,u,t)|^2.\n",
    "    \"\"\"\n",
    "    u = Q**2 + 2. * mPI**2 - s - t\n",
    "\n",
    "    E_t = __xx_s_pipig_E_no_fsi(Q, s, t, params)\n",
    "    E_u = __xx_s_pipig_E_no_fsi(Q, s, u, params)\n",
    "\n",
    "    return s * (E_t * E_u.conjugate()).real - mPI**2 * abs(E_t + E_u)**2"
   ]
  },
  {
   "cell_type": "code",
   "execution_count": 15,
   "metadata": {
    "code_folding": [
     0
    ],
    "collapsed": true
   },
   "outputs": [],
   "source": []
  },
  {
   "cell_type": "code",
   "execution_count": 30,
   "metadata": {
    "collapsed": true
   },
   "outputs": [],
   "source": [
    "e_gams, dN_dEs = gamma_ray_rambo([mk0], [mpi, mmu, 0., 0.], mk0,\n",
    "                                 mat_elt_sqrd_k0_to_pi_l_nu,\n",
    "                                 mat_elem_sqrd_rad=mat_elt_sqrd_k0_to_pi_l_nu_g,\n",
    "                                 num_ps_pts=10000)"
   ]
  },
  {
   "cell_type": "code",
   "execution_count": 33,
   "metadata": {},
   "outputs": [
    {
     "data": {
      "text/plain": [
       "<matplotlib.text.Text at 0x10bcfaf50>"
      ]
     },
     "execution_count": 33,
     "metadata": {},
     "output_type": "execute_result"
    },
    {
     "data": {
      "image/png": "[encoded data removed]",
      "text/plain": [
       "<matplotlib.figure.Figure at 0x10bbe2b10>"
      ]
     },
     "metadata": {},
     "output_type": "display_data"
    }
   ],
   "source": [
    "plt.loglog(e_gams, e_gams**2 * dN_dEs)\n",
    "plt.title(r\"Spectrum for $K^0 \\to \\pi^- \\bar{\\mu} \\nu \\gamma$\")\n",
    "plt.xlabel(r\"$E_\\gamma$ (MeV)\")\n",
    "plt.ylabel(r\"$E_\\gamma^2 \\frac{dN}{dE_\\gamma}$ (MeV)\")"
   ]
  },
  {
   "cell_type": "code",
   "execution_count": 32,
   "metadata": {},
   "outputs": [
    {
     "name": "stdout",
     "output_type": "stream",
     "text": [
      "Average photon energy: 31.008551 MeV\n"
     ]
    }
   ],
   "source": [
    "print(\"Average photon energy: %f MeV\" % np.sum(dN_dEs[1:] * (e_gams[1:] - e_gams[:-1])))"
   ]
  },
  {
   "cell_type": "code",
   "execution_count": null,
   "metadata": {
    "collapsed": true
   },
   "outputs": [],
   "source": []
  }
 ],
 "metadata": {
  "kernelspec": {
   "display_name": "Python 2",
   "language": "python",
   "name": "python2"
  },
  "language_info": {
   "codemirror_mode": {
    "name": "ipython",
    "version": 2
   },
   "file_extension": ".py",
   "mimetype": "text/x-python",
   "name": "python",
   "nbconvert_exporter": "python",
   "pygments_lexer": "ipython2",
   "version": "2.7.13"
  },
  "toc": {
   "nav_menu": {},
   "number_sections": true,
   "sideBar": true,
   "skip_h1_title": false,
   "toc_cell": false,
   "toc_position": {
    "height": "922px",
    "left": "0px",
    "right": "1798px",
    "top": "95.1px",
    "width": "26px"
   },
   "toc_section_display": "block",
   "toc_window_display": true
  }
 },
 "nbformat": 4,
 "nbformat_minor": 2
}
