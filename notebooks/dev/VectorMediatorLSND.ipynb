{
 "cells": [
  {
   "cell_type": "markdown",
   "metadata": {},
   "source": [
    "# LSND Constraints on Vector Mediator"
   ]
  },
  {
   "cell_type": "markdown",
   "metadata": {},
   "source": [
    "In this notebook, we will investigate the constraints on the Hazma vector-mediator model from the Liquid Scintillator Neutrino Detector (LSND) which ran from 1993 to 1998. This experiment impinged a high luminosity proton beam on a fixed target, resulting in a large number of pions ($\\sim10^{21}$ throughout the duration of the experiment.) A large tank of mineral oil (50,000 gallons) with about 14kg of b-PDB (2-(4-tert-butylphenyl)-5-(4-biphenyl)-1,3,4-oxadiazole) was placed roughly 30 meters away from the fixed target. This tank housed 1220 photomultiplier tubes in order to detect Cherenkov light emitted by neutrino interactions with the mineral oil.\n",
    "\n",
    "However, if there exists a dark $\\mathrm{U}(1)_{\\mathrm{dark}}$ vector boson, $V$, which kinetically mixes with the SM photon, the we expect the neutral pions to have a non-zero branching ratio through $\\pi^{0}\\to V\\gamma$. If $V$ has a macroscopic decay length, it would then have been possible for LSND to detect vector decays into leptons: $V\\to e^{+}e^{-}$. Alternatively, if $V$ interacts with DM and $\\mathrm{Br}(V\\to2m_{\\chi})\\neq0$, then it would be possible for the DM to up-scatter an electron in the tank, resulting in a high-energy electron, detectable via Cherenkov radiation.\n",
    "\n",
    "Following arXiv:0906.5614v2, we first reproduce their results. We then apply the same formalism to place constraints on the Hazma vector mediator model."
   ]
  },
  {
   "cell_type": "markdown",
   "metadata": {},
   "source": [
    "## Setup"
   ]
  },
  {
   "cell_type": "markdown",
   "metadata": {
    "heading_collapsed": true
   },
   "source": [
    "### Imports"
   ]
  },
  {
   "cell_type": "code",
   "execution_count": 15,
   "metadata": {
    "hidden": true
   },
   "outputs": [],
   "source": [
    "from hazma.parameters import electron_mass as me\n",
    "from hazma.parameters import muon_mass as mmu\n",
    "from hazma.parameters import neutral_pion_mass as mpi0\n",
    "from hazma.parameters import alpha_em\n",
    "from hazma.vector_mediator import KineticMixing\n",
    "from hazma.relic_density import relic_density\n",
    "\n",
    "from hazma.gamma_ray_parameters import egret_diffuse\n",
    "from hazma.gamma_ray_parameters import comptel_diffuse\n",
    "from hazma.gamma_ray_parameters import fermi_diffuse\n",
    "\n",
    "from hazma.gamma_ray_parameters import gc_target, gc_bg_model\n",
    "from hazma.gamma_ray_parameters import A_eff_e_astrogam\n",
    "from hazma.gamma_ray_parameters import energy_res_e_astrogam\n",
    "from hazma.gamma_ray_parameters import T_obs_e_astrogam\n",
    "\n",
    "import numpy as np\n",
    "import matplotlib.pyplot as plt\n",
    "from scipy.integrate import quad\n",
    "from matplotlib.colors import LogNorm"
   ]
  },
  {
   "cell_type": "markdown",
   "metadata": {
    "heading_collapsed": true
   },
   "source": [
    "### LSND Parameters"
   ]
  },
  {
   "cell_type": "code",
   "execution_count": 30,
   "metadata": {
    "hidden": true
   },
   "outputs": [],
   "source": [
    "# 1 cm = 5.06773e10 MeV^-1\n",
    "cm_to_inv_mev = 5.06773e10\n",
    "# conversion factor from m -> 1/MeV\n",
    "meter_to_inv_mev = cm_to_inv_mev * 1e2\n",
    "# conversion factor from cm^2 -> 1/MeV^2\n",
    "cm2_to_inv_mev = 2.56819e21\n",
    "\n",
    "\n",
    "lsnd_parameters = {\n",
    "    \"neutrino_flux\": 1.3e14, # nu / cm^2\n",
    "    \"detector_area\": 2.5e5, # cm^2\n",
    "    \"detector_dist\": 30.0e2, # cm\n",
    "    \"detector_len\": 8.75e2, # cm\n",
    "    \"detector_vol\": 2.5e5 * 8.75e2, # (area) * (length), cm^3\n",
    "    \"detector_ang_size\": 4e-2, # dΩ/4π\n",
    "    \"proton_beam_eng\": 800.0, # MeV\n",
    "    \"number_pions\": 1.3e14 * 2.5e5 / 4e-2 # (Φν)x(Adet)/(dΩ/4π)\n",
    "}\n",
    "\n",
    "br_delta_neutron_photon = 0.005\n",
    "mass_delta = 1232.0 # MeV\n",
    "mass_neutron = 939.56 # MeV"
   ]
  },
  {
   "cell_type": "code",
   "execution_count": 31,
   "metadata": {
    "hidden": true
   },
   "outputs": [
    {
     "data": {
      "text/plain": [
       "8.125e+20"
      ]
     },
     "execution_count": 31,
     "metadata": {},
     "output_type": "execute_result"
    }
   ],
   "source": [
    "lsnd_parameters['number_pions']"
   ]
  },
  {
   "cell_type": "markdown",
   "metadata": {
    "heading_collapsed": true
   },
   "source": [
    "### DM Velocity Distribution"
   ]
  },
  {
   "cell_type": "code",
   "execution_count": 17,
   "metadata": {
    "code_folding": [],
    "hidden": true
   },
   "outputs": [],
   "source": [
    "class VelocityDistribution(object):\n",
    "    def __init__(self):\n",
    "        self.v0 = 220. / 299792.458\n",
    "        self.vesc = 544. / 299792.458\n",
    "        \n",
    "    def __call__(self, v):\n",
    "        if v > self.vesc:\n",
    "            return 0.0\n",
    "    \n",
    "        term1 = (self.v0*np.sqrt(np.pi))**3 * np.math.erf(self.vesc/self.v0)\n",
    "        term2 = -2.0 * self.v0**3 * np.pi * (self.vesc/self.v0) * np.exp(-self.vesc**2/self.v0**2)\n",
    "    \n",
    "        return np.exp(-v**2 / self.v0**2) / (term1 + term2)    \n",
    "\n",
    "    \n",
    "velocity_dist = VelocityDistribution()"
   ]
  },
  {
   "cell_type": "code",
   "execution_count": 18,
   "metadata": {
    "hidden": true
   },
   "outputs": [
    {
     "data": {
      "text/plain": [
       "1.0"
      ]
     },
     "execution_count": 18,
     "metadata": {},
     "output_type": "execute_result"
    }
   ],
   "source": [
    "4*np.pi * quad(lambda v: v**2 * velocity_dist(v), 0.0, velocity_dist.vesc)[0]"
   ]
  },
  {
   "cell_type": "markdown",
   "metadata": {},
   "source": [
    "### Computing $\\langle\\sigma v\\rangle$"
   ]
  },
  {
   "cell_type": "code",
   "execution_count": 19,
   "metadata": {
    "code_folding": [
     0
    ]
   },
   "outputs": [],
   "source": [
    "def computeSigmaV(model):\n",
    "    def integrand(v):\n",
    "        ecm = 2.0 * model.mx * (1.0 + 0.5 * v**2)\n",
    "        return model.annihilation_cross_sections(ecm)['total'] * v**2 * velocity_dist(v)\n",
    "    \n",
    "    return 4 * np.pi * quad(integrand, 0.0, velocity_dist.vesc)[0]"
   ]
  },
  {
   "cell_type": "markdown",
   "metadata": {
    "deletable": false,
    "editable": false,
    "run_control": {
     "frozen": true
    }
   },
   "source": [
    "## Reproducing arXiv:0906.5614v2"
   ]
  },
  {
   "cell_type": "markdown",
   "metadata": {
    "deletable": false,
    "editable": false,
    "heading_collapsed": true,
    "run_control": {
     "frozen": true
    }
   },
   "source": [
    "### $m_{V} < 2 m_{\\chi}$ (or $g_{V\\chi} = 0$)"
   ]
  },
  {
   "cell_type": "code",
   "execution_count": 20,
   "metadata": {
    "code_folding": [
     24,
     52,
     66,
     90,
     104
    ],
    "hidden": true
   },
   "outputs": [],
   "source": [
    "class MockModel(object):\n",
    "    def __init__(self):\n",
    "        pass\n",
    "            \n",
    "    def _vector_width(self, mv, eps):\n",
    "        \"\"\"\n",
    "        Returns width of the vector-mediator in MeV.\n",
    "        \n",
    "        Parameters\n",
    "        ----------\n",
    "        mv: float\n",
    "            Mass of vector mediator in MeV\n",
    "        ϵ: float\n",
    "            Kinetic mixing parameter\n",
    "        \"\"\"\n",
    "        width = 0.0\n",
    "        pf = alpha_em / 3.0 * eps**2 * mv\n",
    "        # sum over electron and muon contributions\n",
    "        for mu in [me/mv, mmu/mv]:\n",
    "            if mu < 0.5:\n",
    "                width += pf * np.sqrt(1.0-4.0*mu**2) * (1.0 + 2.0*mu**2)\n",
    "        return width\n",
    "    \n",
    "    \n",
    "    def _prob_decay(self, mv, eps):\n",
    "        \"\"\"\n",
    "        Returns probability of the vector decaying \n",
    "        within the LSND detector.\n",
    "        \n",
    "        Parameters\n",
    "        ----------\n",
    "        mv: float\n",
    "            Mass of vector mediator in MeV\n",
    "        eps: float\n",
    "            Kinetic mixing parameter\n",
    "        \"\"\"\n",
    "        width = self._vector_width(mv, eps)\n",
    "        # assume vector takes 1/2 of energy from π->Vγ\n",
    "        eng_v = lsnd_parameters['proton_beam_eng'] / 2.0\n",
    "        \n",
    "        if mv < eng_v and width > 0.0:\n",
    "            gamma = eng_v / mv\n",
    "            momentum = np.sqrt(eng_v**2 - mv**2)\n",
    "            velocity = momentum / eng_v\n",
    "            lifetime = 1.0 / width\n",
    "            decay_length = gamma * velocity * lifetime / cm_to_inv_mev\n",
    "            L = lsnd_parameters['detector_dist']\n",
    "            dL = lsnd_parameters['detector_len'] / 2.0\n",
    "            return (np.exp(-(L-dL)/decay_length) - np.exp(-(L+dL)/decay_length))\n",
    "        else:\n",
    "            return 0.0\n",
    "        \n",
    "    def _prob_detect(self, mv, eps):\n",
    "        \"\"\"\n",
    "        Computes the probability of detecting a vector mediator\n",
    "        decaying inside the LSND detector.\n",
    "        \n",
    "        Parameters\n",
    "        ----------\n",
    "        mv: float\n",
    "            Mass of vector mediator in MeV\n",
    "        eps: float\n",
    "            Kinetic mixing parameter\n",
    "        \"\"\"\n",
    "        return lsnd_parameters['detector_ang_size'] / (4.0 * np.pi) * self._prob_decay(mv,eps)\n",
    "    \n",
    "    def _number_vectors(self, mv, eps):\n",
    "        \"\"\"\n",
    "        Computes the number of vectors produced during LSND \n",
    "        experiment.\n",
    "        \n",
    "        Parameters\n",
    "        ----------\n",
    "        mv: float\n",
    "            Mass of vector mediator in MeV\n",
    "        eps: float\n",
    "            Kinetic mixing parameter\n",
    "        \"\"\"\n",
    "        num_vec = 0\n",
    "        # π -> V + γ\n",
    "        if mv < mpi0:\n",
    "            mu = mv / mpi0\n",
    "            num_vec += lsnd_parameters['number_pions'] * 2.0 * eps**2 * (1.0 - mu**2)**3\n",
    "        # Δ -> N + V\n",
    "        if mv < mass_delta - mass_neutron:\n",
    "            mu = mv / (mass_delta - mass_neutron)\n",
    "            num_vec += (lsnd_parameters['number_pions'] * br_delta_neutron_photon * \n",
    "                        eps**2 * (1.0 - mu**2)**1.5)\n",
    "        return num_vec\n",
    "    \n",
    "    def _number_events(self, mv, eps):\n",
    "        \"\"\"\n",
    "        Computes the number of events expected to be\n",
    "        seen at LSND.\n",
    "        \n",
    "        Parameters\n",
    "        ----------\n",
    "        mv: float\n",
    "            Mass of vector mediator in MeV\n",
    "        k: float\n",
    "            Kinetic mixing parameter\n",
    "        \"\"\"\n",
    "        return self._number_vectors(mv,eps) * self._prob_detect(mv,eps)\n",
    "    \n",
    "    def number_events(self, mv, eps):\n",
    "        if hasattr(mv, '__len__') or hasattr(eps, '__len__'):\n",
    "            return np.vectorize(self._number_events)(mv,eps)\n",
    "        return self._number_events(mv, eps)"
   ]
  },
  {
   "cell_type": "code",
   "execution_count": 21,
   "metadata": {
    "hidden": true
   },
   "outputs": [],
   "source": [
    "model = MockModel()\n",
    "\n",
    "mvs = np.logspace(0,3,100)\n",
    "ks = np.logspace(-9,-3,100)\n",
    "MVS,KS = np.meshgrid(mvs, ks)\n",
    "\n",
    "NS = model.number_events(MVS,KS)"
   ]
  },
  {
   "cell_type": "code",
   "execution_count": 23,
   "metadata": {
    "hidden": true
   },
   "outputs": [
    {
     "name": "stderr",
     "output_type": "stream",
     "text": [
      "/Users/loganmorrison/.pyenv/versions/3.6.2/lib/python3.6/site-packages/ipykernel_launcher.py:2: UserWarning: Log scale: values of z <= 0 have been masked\n",
      "  \n"
     ]
    },
    {
     "data": {
      "text/plain": [
       "Text(0.5, 1.0, 'Number of detections from $V\\\\to e^{+}e^{-}$')"
      ]
     },
     "execution_count": 23,
     "metadata": {},
     "output_type": "execute_result"
    },
    {
     "data": {
      "image/png": "[encoded data removed]",
      "text/plain": [
       "<Figure size 600x400 with 1 Axes>"
      ]
     },
     "metadata": {},
     "output_type": "display_data"
    }
   ],
   "source": [
    "plt.figure(dpi=100)\n",
    "CS = plt.contour(MVS,KS,NS,levels=[1e1, 1e3,1e6], norm=LogNorm())\n",
    "plt.yscale('log')\n",
    "plt.xscale('log')\n",
    "plt.ylabel(r'$\\epsilon$', fontsize=16)\n",
    "plt.xlabel(r'$m_V \\ (\\mathrm{MeV})$', fontsize=16);\n",
    "\n",
    "plt.clabel(CS, CS.levels, inline=True, fmt=r'%.0e',fontsize=10)\n",
    "plt.title(r\"Number of detections from $V\\to e^{+}e^{-}$\", fontsize=16)"
   ]
  },
  {
   "cell_type": "markdown",
   "metadata": {
    "deletable": false,
    "editable": false,
    "run_control": {
     "frozen": true
    }
   },
   "source": [
    "### $2m_{\\chi} < m_{V}$ (and $g_{V\\chi} \\neq 0$)"
   ]
  },
  {
   "cell_type": "code",
   "execution_count": 27,
   "metadata": {
    "code_folding": [
     1,
     4,
     29,
     53,
     82,
     106
    ]
   },
   "outputs": [],
   "source": [
    "class MockModel2(object):\n",
    "    def __init__(self):\n",
    "        pass\n",
    "\n",
    "    def _vector_width(self, mx, mv, gvxx, eps):\n",
    "        \"\"\"\n",
    "        Returns unvectorized width of the vector-mediator in MeV.\n",
    "\n",
    "        Parameters\n",
    "        ----------\n",
    "        mx: float\n",
    "            Dark matter mass in MeV\n",
    "        mv: float\n",
    "            Mass of vector mediator in MeV\n",
    "        gvxx: float\n",
    "            Coupling of DM to vector mediator\n",
    "        eps: float\n",
    "            Kinetic mixing parameter\n",
    "        \"\"\"\n",
    "        width = 0.0\n",
    "        pfl = alpha_em / 3.0 * eps**2 * mv\n",
    "        pfd = (gvxx**2 / (4.0 * np.pi)) / 3.0 * mv\n",
    "        # sum over electron, muon and DM contributions\n",
    "        for pf, mu in [(pfl, me/mv), (pfl, mmu/mv), (pfd, mx/mv)]:\n",
    "            if mu < 0.5:\n",
    "                width += pf * np.sqrt(1.0-4.0*mu**2) * (1.0 + 2.0*mu**2)\n",
    "        return width\n",
    "\n",
    "    \n",
    "    def _br_v_xx(self, mx, mv, gvxx, eps):\n",
    "        \"\"\"\n",
    "        Returns unvectorized width of the vector-mediator in MeV.\n",
    "\n",
    "        Parameters\n",
    "        ----------\n",
    "        mx: float\n",
    "            Dark matter mass in MeV\n",
    "        mv: float\n",
    "            Mass of vector mediator in MeV\n",
    "        gvxx: float\n",
    "            Coupling of DM to vector mediator\n",
    "        eps: float\n",
    "            Kinetic mixing parameter\n",
    "        \"\"\"\n",
    "        width=0.0\n",
    "        mu = mx / mv\n",
    "        if mu < 0.5:\n",
    "            width = self._vector_width(mx, mv, gvxx, eps)\n",
    "            alphad = gvxx**2 / (4.0 * np.pi)\n",
    "            return alphad / 3.0 * mv * np.sqrt(1.0-4.0*mu**2) * (1.0 + 2.0*mu**2) / width\n",
    "        return 0.0\n",
    "\n",
    "    \n",
    "    def _number_vectors(self, mx, mv, gvxx, eps):\n",
    "        \"\"\"\n",
    "        Computes the number of vectors produced during LSND \n",
    "        experiment.\n",
    "\n",
    "        Parameters\n",
    "        ----------\n",
    "        mx: float\n",
    "            Dark matter mass in MeV\n",
    "        mv: float\n",
    "            Mass of vector mediator in MeV\n",
    "        gvxx: float\n",
    "            Coupling of DM to vector mediator\n",
    "        eps: float\n",
    "            Kinetic mixing parameter\n",
    "        \"\"\"\n",
    "        num_vec = 0\n",
    "        # π -> V + γ\n",
    "        if mv < mpi0:\n",
    "            mu = mv / mpi0\n",
    "            num_vec += lsnd_parameters['number_pions'] * 2.0 * eps**2 * (1.0 - mu**2)**3\n",
    "        # Δ -> N + V\n",
    "        if mv < mass_delta - mass_neutron:\n",
    "            mu = mv / (mass_delta - mass_neutron)\n",
    "            num_vec += (lsnd_parameters['number_pions'] * br_delta_neutron_photon *\n",
    "                        eps**2 * (1.0 - mu**2)**1.5)\n",
    "        return num_vec\n",
    "\n",
    "    \n",
    "    def _sigma_ex_ex(self, mx, mv, gvxx, eps):\n",
    "        Ex = lsnd_parameters['proton_beam_eng'] / 4.0\n",
    "        Efmin = 20.0\n",
    "        alphad = gvxx**2 / (4.0 * np.pi)\n",
    "        return ((2*np.pi*alphad*alpha_em*eps**2*(\n",
    "            (2*Ex*me + mv**2)/(2*Efmin*me + mv**2) -\n",
    "            ((2*Ex*me + mv**2)*(2*Ex*me + me**2 + mx**2)) /\n",
    "            (4*Ex**2*me**2 + 2*me**4 + 2*Ex*me*(2*me**2 + mv**2) +\n",
    "             mv**2*mx**2 + me**2*(mv**2 - 2*mx**2)) +\n",
    "            np.log(2*Efmin*me + mv**2) -\n",
    "            np.log(mv**2 + (2*me**2*(2*Ex**2 + 2*Ex*me + me**2 - mx**2)) /\n",
    "                   (2*Ex*me + me**2 + mx**2))))/(Ex*me))\n",
    "\n",
    "    \n",
    "    def _number_dm_scatters(self, mx, mv, gvxx, eps):\n",
    "        if mv > 2.0 * mx:\n",
    "            sig = self._sigma_ex_ex( mx, mv, gvxx, eps) * 3.89379e-22\n",
    "            dm_flux = 2.0 * self._number_vectors(mx, mv, gvxx, eps) * self._br_v_xx( mx, mv, gvxx, eps)\n",
    "            dm_flux *= lsnd_parameters['detector_ang_size'] / lsnd_parameters['detector_area']\n",
    "            return 2.66386e23 * lsnd_parameters['detector_vol'] * sig * dm_flux\n",
    "        else:\n",
    "            return 0.0\n",
    "\n",
    "        \n",
    "    def number_dm_scatters(self, mx, mv, gvxx, eps):\n",
    "        if hasattr(mv, '__len__') or hasattr(k, '__len__'):\n",
    "            return np.vectorize(self._number_dm_scatters)(mx, mv, gvxx, eps)\n",
    "        return self._number_dm_scatters(mx, mv, gvxx, eps)"
   ]
  },
  {
   "cell_type": "code",
   "execution_count": 28,
   "metadata": {},
   "outputs": [],
   "source": [
    "model = MockModel2()\n",
    "\n",
    "mx = 1.0\n",
    "\n",
    "mvs = np.logspace(0,3,200)\n",
    "epss = np.logspace(-6,-2,200)\n",
    "MVS,EPSS = np.meshgrid(mvs, epss)\n",
    "ALPHADS = 1e-6*alpha_em/EPSS**2*(MVS/10)**4 * (1.0/mx)**2\n",
    "GVXXS = np.sqrt(4.0 * np.pi * ALPHADS)\n",
    "\n",
    "NS = model.number_dm_scatters(mx, MVS, GVXXS, EPSS)"
   ]
  },
  {
   "cell_type": "code",
   "execution_count": 29,
   "metadata": {},
   "outputs": [
    {
     "name": "stderr",
     "output_type": "stream",
     "text": [
      "/Users/loganmorrison/.pyenv/versions/3.6.2/lib/python3.6/site-packages/ipykernel_launcher.py:2: UserWarning: Log scale: values of z <= 0 have been masked\n",
      "  \n"
     ]
    },
    {
     "data": {
      "text/plain": [
       "<a list of 4 text.Text objects>"
      ]
     },
     "execution_count": 29,
     "metadata": {},
     "output_type": "execute_result"
    },
    {
     "data": {
      "image/png": "[encoded data removed]",
      "text/plain": [
       "<Figure size 500x600 with 1 Axes>"
      ]
     },
     "metadata": {},
     "output_type": "display_data"
    }
   ],
   "source": [
    "plt.figure(dpi=100,figsize=(5,6))\n",
    "CS = plt.contour(MVS,EPSS,NS,levels=[1e1,1e3,1e6], norm=LogNorm())\n",
    "plt.contour(MVS,EPSS,ALPHADS,levels=[4.0*np.pi])\n",
    "plt.yscale('log')\n",
    "plt.xscale('log')\n",
    "plt.ylabel(r'$\\kappa$', fontsize=16)\n",
    "plt.xlabel(r'$m_V \\ (\\mathrm{MeV})$', fontsize=16);\n",
    "\n",
    "plt.clabel(CS, CS.levels, inline=True, fmt=r'%.0e',fontsize=10,)"
   ]
  },
  {
   "cell_type": "markdown",
   "metadata": {
    "deletable": false,
    "editable": false,
    "run_control": {
     "frozen": true
    }
   },
   "source": [
    "## Hazma"
   ]
  },
  {
   "cell_type": "markdown",
   "metadata": {
    "deletable": false,
    "editable": false,
    "heading_collapsed": true,
    "run_control": {
     "frozen": true
    }
   },
   "source": [
    "### $m_{V} < 2m_{\\chi}$ (or $g_{V\\chi} = 0$)"
   ]
  },
  {
   "cell_type": "code",
   "execution_count": 45,
   "metadata": {
    "code_folding": [
     1,
     30
    ],
    "hidden": true,
    "jupyter": {
     "source_hidden": true
    }
   },
   "outputs": [],
   "source": [
    "class VectorMediatorContraint(KineticMixing):\n",
    "    def __init__(self, mx,mv,gvxx,eps):\n",
    "        super(VectorMediatorContraint, self).__init__(mx,mv,gvxx,eps)         \n",
    "            \n",
    "    def _prob_decay(self):\n",
    "        \"\"\"\n",
    "        Returns unvectorized probability of the vector decaying \n",
    "        within the LSND detector.\n",
    "        \"\"\"\n",
    "        ev = lsnd_parameters['proton_beam_eng'] / 2.0\n",
    "        width = self.width_v\n",
    "        if self.mv < ev and width > 0.0:\n",
    "            gamma = ev / self.mv\n",
    "            momentum = np.sqrt(ev**2 - self.mv**2)\n",
    "            velocity = momentum / ev\n",
    "            lifetime = 1.0 / width\n",
    "            decay_length = gamma * velocity * lifetime / cm_to_inv_mev\n",
    "            L = lsnd_parameters['detector_dist']\n",
    "            dL = lsnd_parameters['detector_len'] / 2.0\n",
    "            return (np.exp(-(L-dL)/decay_length) - np.exp(-(L+dL)/decay_length))\n",
    "        else:\n",
    "            return 0.0\n",
    "        \n",
    "    def _prob_detect(self):\n",
    "        \"\"\"\n",
    "        Computes the probability of detecting a vector mediator\n",
    "        decaying inside the LSND detector.\n",
    "        \"\"\"\n",
    "        return lsnd_parameters['detector_ang_size'] / (4.0 * np.pi) * self._prob_decay()\n",
    "    \n",
    "    def _number_vectors(self):\n",
    "        \"\"\"\n",
    "        Computes the number of vectors produced during LSND \n",
    "        experiment.\n",
    "        \"\"\"\n",
    "        num_vec = 0\n",
    "        # π -> V + γ\n",
    "        if self.mv < mpi0:\n",
    "            mu = self.mv / mpi0\n",
    "            # br(π->Vγ)\n",
    "            br = (2*self.eps**2*(-1 + mu**2)**3)/(-1 + 2*self.eps**2*(-1 + mu**2)**3)\n",
    "            num_vec += lsnd_parameters['number_pions'] * br\n",
    "        # Δ -> N + V\n",
    "        if self.mv < mass_delta - mass_neutron:\n",
    "            mu = self.mv / (mass_delta - mass_neutron)\n",
    "            num_vec += (lsnd_parameters['number_pions'] * br_delta_neutron_photon * \n",
    "                        self.eps**2 * (1.0 - mu**2)**1.5)\n",
    "        return num_vec\n",
    "    \n",
    "    def _number_events(self, mx, mv, gvxx, eps):\n",
    "        \"\"\"\n",
    "        Computes the number of events expected to be\n",
    "        seen at LSND.\n",
    "        \n",
    "        Parameters\n",
    "        ----------\n",
    "        self.mv: float\n",
    "            Mass of vector mediator in MeV\n",
    "        self.eps: float\n",
    "            Kinetic mixing parameter\n",
    "        \"\"\"\n",
    "        self.mx = mx\n",
    "        self.mv = mv\n",
    "        self.gvxx = gvxx\n",
    "        self.eps = eps\n",
    "        return self._number_vectors() * self._prob_detect()\n",
    "    \n",
    "    def number_events(self, mx, mv, gvxx, eps):\n",
    "        if (hasattr(self.mx, '__len__') or \n",
    "            hasattr(self.mv, '__len__') or \n",
    "            hasattr(gvxx, '__len__') or \n",
    "            hasattr(eps, '__len__')):\n",
    "            return np.vectorize(self._number_events)(mx, mv, gvxx, eps)\n",
    "        return self._number_events(mx, mv, gvxx, eps)"
   ]
  },
  {
   "cell_type": "code",
   "execution_count": 53,
   "metadata": {
    "hidden": true,
    "jupyter": {
     "source_hidden": true
    }
   },
   "outputs": [],
   "source": [
    "model = VectorMediatorContraint(200.0, 50.0, 0.0, 1e-3)\n",
    "\n",
    "mvs = np.logspace(0,3,100)\n",
    "epss = np.logspace(-9,-3,100)\n",
    "MVS,EPSS = np.meshgrid(mvs, epss)\n",
    "\n",
    "NS = model.number_events(model.mx, MVS, model.gvxx, EPSS)"
   ]
  },
  {
   "cell_type": "code",
   "execution_count": 54,
   "metadata": {
    "hidden": true
   },
   "outputs": [
    {
     "name": "stderr",
     "output_type": "stream",
     "text": [
      "/Users/loganmorrison/.pyenv/versions/3.6.2/lib/python3.6/site-packages/ipykernel_launcher.py:2: UserWarning: Log scale: values of z <= 0 have been masked\n",
      "  \n"
     ]
    },
    {
     "data": {
      "text/plain": [
       "<a list of 3 text.Text objects>"
      ]
     },
     "execution_count": 54,
     "metadata": {},
     "output_type": "execute_result"
    },
    {
     "data": {
      "image/png": "[encoded data removed]",
      "text/plain": [
       "<Figure size 900x600 with 1 Axes>"
      ]
     },
     "metadata": {},
     "output_type": "display_data"
    }
   ],
   "source": [
    "plt.figure(dpi=150)\n",
    "CS = plt.contour(MVS,EPSS,NS,levels=[1e1, 1e3,1e6], norm=LogNorm())\n",
    "plt.yscale('log')\n",
    "plt.xscale('log')\n",
    "plt.ylabel(r'$\\epsilon$', fontsize=16)\n",
    "plt.xlabel(r'$m_V \\ (\\mathrm{MeV})$', fontsize=16);\n",
    "\n",
    "plt.clabel(CS, CS.levels, inline=True, fmt=r'%.0e',fontsize=10)"
   ]
  },
  {
   "cell_type": "markdown",
   "metadata": {
    "deletable": false,
    "editable": false,
    "heading_collapsed": true,
    "run_control": {
     "frozen": true
    }
   },
   "source": [
    "### $m_{V} > 2m_{\\chi}$ (and $g_{V\\chi} \\neq 0$)"
   ]
  },
  {
   "cell_type": "code",
   "execution_count": 59,
   "metadata": {
    "code_folding": [
     0,
     6,
     15,
     33,
     45,
     61
    ],
    "hidden": true
   },
   "outputs": [],
   "source": [
    "class VectorMediatorContraint2(KineticMixing):\n",
    "    def __init__(self, mx,mv,gvxx,eps):\n",
    "        super(VectorMediatorContraint2, self).__init__(mx,mv,gvxx,eps)\n",
    "        self._alphad = gvxx**2 / (4.0 * np.pi)\n",
    "    \n",
    "    @property\n",
    "    def alphad(self):\n",
    "        return self._alphad\n",
    "    \n",
    "    @alphad.setter\n",
    "    def alphad(self, val):\n",
    "        self._alphad = val\n",
    "        self.gvxx = np.sqrt(4.0 * np.pi * val)\n",
    "\n",
    "\n",
    "    def _number_vectors(self):\n",
    "        \"\"\"\n",
    "        Computes the number of vectors produced during LSND \n",
    "        experiment.\n",
    "        \"\"\"\n",
    "        num_vec = 0\n",
    "        # π -> V + γ\n",
    "        if self.mv < mpi0:\n",
    "            mu = self.mv / mpi0\n",
    "            br = (2*self.eps**2*(-1 + mu**2)**3)/(-1 + 2*self.eps**2*(-1 + mu**2)**3)\n",
    "            num_vec += lsnd_parameters['number_pions'] * br\n",
    "        # Δ -> N + V\n",
    "        if self.mv < mass_delta - mass_neutron:\n",
    "            mu = self.mv / (mass_delta - mass_neutron)\n",
    "            num_vec += (lsnd_parameters['number_pions'] * br_delta_neutron_photon * \n",
    "                        self.eps**2 * (1.0 - mu**2)**1.5)\n",
    "        return num_vec\n",
    "\n",
    "    def _sigma_ex_ex(self):\n",
    "        Ex = lsnd_parameters['proton_beam_eng'] / 4.0\n",
    "        Efmin = 20.0\n",
    "        return ((2*np.pi*self.alphad*alpha_em*self.eps**2*(\n",
    "            (2*Ex*me + self.mv**2)/(2*Efmin*me + self.mv**2) -\n",
    "            ((2*Ex*me + self.mv**2)*(2*Ex*me + me**2 + self.mx**2)) /\n",
    "            (4*Ex**2*me**2 + 2*me**4 + 2*Ex*me*(2*me**2 + self.mv**2) +\n",
    "             self.mv**2*self.mx**2 + me**2*(self.mv**2 - 2*self.mx**2)) +\n",
    "            np.log(2*Efmin*me + self.mv**2) -\n",
    "            np.log(self.mv**2 + (2*me**2*(2*Ex**2 + 2*Ex*me + me**2 - self.mx**2)) /\n",
    "                   (2*Ex*me + me**2 + self.mx**2))))/(Ex*me))\n",
    "\n",
    "    def _number_dm_scatters(self, mx, mv, alphad, eps):\n",
    "        self.mx = self.mx if mx == None else mx\n",
    "        self.mv = self.mv if mv == None else mv\n",
    "        self.alphad = self.alphad if alphad == None else alphad\n",
    "        self.eps = self.eps if eps == None else eps\n",
    "        \n",
    "        br_v_xx = self.partial_widths()['x x']\n",
    "        \n",
    "        if br_v_xx > 0.0:\n",
    "            sig = self._sigma_ex_ex() * 3.89379e-22\n",
    "            dm_flux = 2.0 * self._number_vectors() * br_v_xx\n",
    "            dm_flux *= 4e-2 / lsnd_parameters['detector_area']\n",
    "            return 2.66386e23 * lsnd_parameters['detector_vol'] * sig * dm_flux\n",
    "        else:\n",
    "            return 0.0\n",
    "\n",
    "    def number_dm_scatters(self, mx=None, mv=None, alphad=None, eps=None):\n",
    "        if (hasattr(self.mx, '__len__') or \n",
    "            hasattr(self.mv, '__len__') or \n",
    "            hasattr(alphad, '__len__') or \n",
    "            hasattr(eps, '__len__')):\n",
    "            return np.vectorize(self._number_dm_scatters)(mx, mv, alphad, eps)\n",
    "        return self._number_dm_scatters(mx, mv, alphad, eps)"
   ]
  },
  {
   "cell_type": "code",
   "execution_count": 167,
   "metadata": {
    "hidden": true
   },
   "outputs": [],
   "source": [
    "mx = 100.0\n",
    "mvs = np.logspace(0,3,100)\n",
    "epss = np.logspace(-6,-2,100)\n",
    "\n",
    "models = np.array([[\n",
    "    VectorMediatorContraint2(mx, mv, 0.1, eps) for mv in mvs] for eps in epss])"
   ]
  },
  {
   "cell_type": "code",
   "execution_count": 88,
   "metadata": {
    "hidden": true
   },
   "outputs": [],
   "source": [
    "numDMScatters = np.array([[model.number_dm_scatters() for model in models[i]] \n",
    "                          for i in range(len(models))])"
   ]
  },
  {
   "cell_type": "markdown",
   "metadata": {},
   "source": [
    "### All constraints"
   ]
  },
  {
   "cell_type": "code",
   "execution_count": null,
   "metadata": {
    "code_folding": [
     14,
     36,
     44,
     63,
     76,
     95,
     112,
     121
    ]
   },
   "outputs": [],
   "source": [
    "class VectorMediatorContraintTot(KineticMixing):\n",
    "    def __init__(self, mx,mv,gvxx,eps):\n",
    "        super(VectorMediatorContraint2, self).__init__(mx,mv,gvxx,eps)\n",
    "        self._alphad = gvxx**2 / (4.0 * np.pi)\n",
    "    \n",
    "    @property\n",
    "    def alphad(self):\n",
    "        return self._alphad\n",
    "    \n",
    "    @alphad.setter\n",
    "    def alphad(self, val):\n",
    "        self._alphad = val\n",
    "        self.gvxx = np.sqrt(4.0 * np.pi * val)\n",
    "        \n",
    "    def _prob_decay(self):\n",
    "        \"\"\"\n",
    "        Returns unvectorized probability of the vector decaying \n",
    "        within the LSND detector.\n",
    "        \"\"\"\n",
    "        ev = lsnd_parameters['proton_beam_eng'] / 2.0\n",
    "        widths = self.partial_widths()\n",
    "        # visible width\n",
    "        width = widths['e e'] + widths['mu mu'] + widths['pi0 g'] + widths['pi pi']\n",
    "        if self.mv < ev and width > 0.0:\n",
    "            gamma = ev / self.mv\n",
    "            momentum = np.sqrt(ev**2 - self.mv**2)\n",
    "            velocity = momentum / ev\n",
    "            lifetime = 1.0 / width\n",
    "            decay_length = gamma * velocity * lifetime / cm_to_inv_mev\n",
    "            L = lsnd_parameters['detector_dist']\n",
    "            dL = lsnd_parameters['detector_len'] / 2.0\n",
    "            return (np.exp(-(L-dL)/decay_length) - np.exp(-(L+dL)/decay_length))\n",
    "        else:\n",
    "            return 0.0\n",
    "       \n",
    "    \n",
    "    def _prob_detect(self):\n",
    "        \"\"\"\n",
    "        Computes the probability of detecting a vector mediator\n",
    "        decaying inside the LSND detector.\n",
    "        \"\"\"\n",
    "        return lsnd_parameters['detector_ang_size'] / (4.0 * np.pi) * self._prob_decay()\n",
    "\n",
    "\n",
    "    def _number_vectors(self):\n",
    "        \"\"\"\n",
    "        Computes the number of vectors produced during LSND \n",
    "        experiment.\n",
    "        \"\"\"\n",
    "        num_vec = 0\n",
    "        # π -> V + γ\n",
    "        if self.mv < mpi0:\n",
    "            mu = self.mv / mpi0\n",
    "            br = (2*self.eps**2*(-1 + mu**2)**3)/(-1 + 2*self.eps**2*(-1 + mu**2)**3)\n",
    "            num_vec += lsnd_parameters['number_pions'] * br\n",
    "        # Δ -> N + V\n",
    "        if self.mv < mass_delta - mass_neutron:\n",
    "            mu = self.mv / (mass_delta - mass_neutron)\n",
    "            num_vec += (lsnd_parameters['number_pions'] * br_delta_neutron_photon * \n",
    "                        self.eps**2 * (1.0 - mu**2)**1.5)\n",
    "        return num_vec\n",
    "\n",
    "    \n",
    "    def _sigma_ex_ex(self):\n",
    "        Ex = lsnd_parameters['proton_beam_eng'] / 4.0\n",
    "        Efmin = 20.0\n",
    "        return ((2*np.pi*self.alphad*alpha_em*self.eps**2*(\n",
    "            (2*Ex*me + self.mv**2)/(2*Efmin*me + self.mv**2) -\n",
    "            ((2*Ex*me + self.mv**2)*(2*Ex*me + me**2 + self.mx**2)) /\n",
    "            (4*Ex**2*me**2 + 2*me**4 + 2*Ex*me*(2*me**2 + self.mv**2) +\n",
    "             self.mv**2*self.mx**2 + me**2*(self.mv**2 - 2*self.mx**2)) +\n",
    "            np.log(2*Efmin*me + self.mv**2) -\n",
    "            np.log(self.mv**2 + (2*me**2*(2*Ex**2 + 2*Ex*me + me**2 - self.mx**2)) /\n",
    "                   (2*Ex*me + me**2 + self.mx**2))))/(Ex*me))\n",
    "    \n",
    "    \n",
    "    def _number_decays(self, mx, mv, gvxx, eps):\n",
    "        \"\"\"\n",
    "        Computes the number of events expected to be\n",
    "        seen at LSND.\n",
    "        \n",
    "        Parameters\n",
    "        ----------\n",
    "        self.mv: float\n",
    "            Mass of vector mediator in MeV\n",
    "        self.eps: float\n",
    "            Kinetic mixing parameter\n",
    "        \"\"\"\n",
    "        self.mx = mx\n",
    "        self.mv = mv\n",
    "        self.gvxx = gvxx\n",
    "        self.eps = eps\n",
    "        return self._number_vectors() * self._prob_detect()\n",
    "\n",
    "    \n",
    "    def _number_dm_scatters(self, mx, mv, alphad, eps):\n",
    "        self.mx = self.mx if mx == None else mx\n",
    "        self.mv = self.mv if mv == None else mv\n",
    "        self.alphad = self.alphad if alphad == None else alphad\n",
    "        self.eps = self.eps if eps == None else eps\n",
    "        \n",
    "        br_v_xx = self.partial_widths()['x x']\n",
    "        \n",
    "        if br_v_xx > 0.0:\n",
    "            sig = self._sigma_ex_ex() * 3.89379e-22\n",
    "            dm_flux = 2.0 * self._number_vectors() * br_v_xx\n",
    "            dm_flux *= 4e-2 / lsnd_parameters['detector_area']\n",
    "            return 2.66386e23 * lsnd_parameters['detector_vol'] * sig * dm_flux\n",
    "        else:\n",
    "            return 0.0\n",
    "        \n",
    "    \n",
    "    def number_decays(self, mx, mv, gvxx, eps):\n",
    "        if (hasattr(self.mx, '__len__') or \n",
    "            hasattr(self.mv, '__len__') or \n",
    "            hasattr(gvxx, '__len__') or \n",
    "            hasattr(eps, '__len__')):\n",
    "            return np.vectorize(self._number_decays)(mx, mv, gvxx, eps)\n",
    "        return self._number_decays(mx, mv, gvxx, eps)\n",
    "\n",
    "        \n",
    "    def number_dm_scatters(self, mx=None, mv=None, alphad=None, eps=None):\n",
    "        if (hasattr(self.mx, '__len__') or \n",
    "            hasattr(self.mv, '__len__') or \n",
    "            hasattr(alphad, '__len__') or \n",
    "            hasattr(eps, '__len__')):\n",
    "            return np.vectorize(self._number_dm_scatters)(mx, mv, alphad, eps)\n",
    "        return self._number_dm_scatters(mx, mv, alphad, eps)"
   ]
  },
  {
   "cell_type": "code",
   "execution_count": null,
   "metadata": {},
   "outputs": [],
   "source": [
    "mx = 100.0\n",
    "mvs = np.logspace(0,3,100)\n",
    "epss = np.logspace(-6,-2,100)\n",
    "\n",
    "models = np.array([[\n",
    "    VectorMediatorContraintTot(mx, mv, 0.1, eps) for mv in mvs] for eps in epss])"
   ]
  },
  {
   "cell_type": "code",
   "execution_count": 168,
   "metadata": {},
   "outputs": [],
   "source": [
    "rds = np.array([[relic_density(model) for model in models[i]] \n",
    "                          for i in range(len(models))])"
   ]
  },
  {
   "cell_type": "code",
   "execution_count": null,
   "metadata": {},
   "outputs": [],
   "source": [
    "comptel_lims = np.array([[model.binned_limit(comptel_diffuse) for model in models[i]] \n",
    "                          for i in range(len(models))])\n",
    "fermi_lims = np.array([[model.binned_limit(fermi_diffuse) for model in models[i]] \n",
    "                          for i in range(len(models))])\n",
    "eastro_lims = np.array([[model.unbinned_limit(A_eff_e_astrogam,energy_res_e_astrogam,\n",
    "                                              T_obs_e_astrogam, gc_target, gc_bg_model) \n",
    "                         for model in models[i]]for i in range(len(models))])"
   ]
  },
  {
   "cell_type": "code",
   "execution_count": null,
   "metadata": {},
   "outputs": [],
   "source": [
    "sigma_vs = np.array([[computeSigmaV(model) for model in models[i]] \n",
    "                          for i in range(len(models))])"
   ]
  },
  {
   "cell_type": "code",
   "execution_count": 166,
   "metadata": {},
   "outputs": [
    {
     "name": "stderr",
     "output_type": "stream",
     "text": [
      "/Users/loganmorrison/.pyenv/versions/3.6.2/lib/python3.6/site-packages/ipykernel_launcher.py:2: UserWarning: Log scale: values of z <= 0 have been masked\n",
      "  \n"
     ]
    },
    {
     "data": {
      "image/png": "[encoded data removed]",
      "text/plain": [
       "<Figure size 500x600 with 1 Axes>"
      ]
     },
     "metadata": {},
     "output_type": "display_data"
    }
   ],
   "source": [
    "plt.figure(dpi=100,figsize=(5,6))\n",
    "CS = plt.contourf(mvs,epss,numDMScatters,levels=[1e1,1e10], norm=LogNorm(),alpha=0.7,colors=\"steelblue\")\n",
    "plt.contour(mvs,epss,rds,levels=[0.12], colors=\"black\")\n",
    "plt.contourf(mvs, epss,sigma_vs-eastro_lims * 8.56656e16, levels=[0.0,np.inf],alpha=0.7,colors=\"goldenrod\")\n",
    "plt.contourf(mvs, epss,sigma_vs-comptel_lims * 8.56656e16, levels=[0.0,np.inf],alpha=0.7,colors=\"firebrick\")\n",
    "#plt.contourf(mvs, epss,sigma_vs-fermi_lims * 8.56656e16, levels=[0.0,np.inf],alpha=0.7)\n",
    "\n",
    "\n",
    "plt.text(17, 5e-4, \"LSND\", fontsize=16)\n",
    "plt.text(1.1, 5e-3, \"Comptel\", fontsize=12)\n",
    "plt.text(2.5, 1.3e-3, \"e-Astrogam\", fontsize=16)\n",
    "#plt.contour(MVS,KS,ADS,levels=[4.0*np.pi])\n",
    "plt.yscale('log')\n",
    "plt.xscale('log')\n",
    "plt.ylabel(r'$\\epsilon$', fontsize=16)\n",
    "plt.xlabel(r'$m_V \\ (\\mathrm{MeV})$', fontsize=16);\n",
    "plt.annotate(r\"$\\Omega h^2=0.12$\",(3.0,1e-5),fontsize=16);\n",
    "plt.title(r'$m_{\\chi}=1\\ \\mathrm{MeV}, g_{V\\chi}=0.1$',fontsize=16)\n",
    "plt.savefig('figures/lsnd_gamma_ray_constraints.pdf')\n",
    "\n",
    "#plt.clabel(CS, CS.levels, inline=True, fmt=r'%.0e',fontsize=10,)"
   ]
  },
  {
   "cell_type": "code",
   "execution_count": null,
   "metadata": {},
   "outputs": [],
   "source": []
  }
 ],
 "metadata": {
  "kernelspec": {
   "display_name": "Python 3",
   "language": "python",
   "name": "python3"
  },
  "language_info": {
   "codemirror_mode": {
    "name": "ipython",
    "version": 3
   },
   "file_extension": ".py",
   "mimetype": "text/x-python",
   "name": "python",
   "nbconvert_exporter": "python",
   "pygments_lexer": "ipython3",
   "version": "3.8.0"
  }
 },
 "nbformat": 4,
 "nbformat_minor": 4
}
