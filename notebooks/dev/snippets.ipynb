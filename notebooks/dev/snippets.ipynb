{
 "cells": [
  {
   "cell_type": "code",
   "execution_count": 1,
   "metadata": {},
   "outputs": [],
   "source": [
    "import matplotlib.pyplot as plt\n",
    "import numpy as np\n",
    "import matplotlib.cm as cm"
   ]
  },
  {
   "cell_type": "code",
   "execution_count": 2,
   "metadata": {},
   "outputs": [],
   "source": [
    "from hazma.scalar_mediator import ScalarMediator, HiggsPortal, HeavyQuark\n",
    "from hazma.vector_mediator import VectorMediator, KineticMixing, QuarksOnly\n",
    "\n",
    "# from hazma.parameters import neutral_pion_mass as mpi0\n",
    "# from hazma.gamma_ray_parameters import (energy_res_fermi, energy_res_e_astrogam,\n",
    "#                                         A_eff_e_astrogam, A_eff_comptel,\n",
    "#                                         egret_diffuse, fermi_diffuse,\n",
    "#                                         comptel_diffuse, gc_target,\n",
    "#                                         gc_bg_model, solid_angle)\n",
    "# from hazma.cmb import vx_cmb\n",
    "# from utilities import latex_text_width_1col\n",
    "\n",
    "colors = [c[\"color\"] for c in list(plt.rcParams[\"axes.prop_cycle\"])]\n",
    "constraint_names = [\"COMPTEL\", \"EGRET\", \"Fermi\", \"e-ASTROGAM\", \"CMB\"]"
   ]
  },
  {
   "cell_type": "code",
   "execution_count": 7,
   "metadata": {},
   "outputs": [
    {
     "data": {
      "text/plain": [
       "0"
      ]
     },
     "execution_count": 7,
     "metadata": {},
     "output_type": "execute_result"
    }
   ],
   "source": [
    "sm.vs"
   ]
  },
  {
   "cell_type": "code",
   "execution_count": 70,
   "metadata": {},
   "outputs": [],
   "source": [
    "from hazma.scalar_mediator import ScalarMediator\n",
    "from hazma.parameters import charged_pion_mass as mpi\n",
    "from hazma.parameters import pion_mass_chiral_limit as mPI\n",
    "from hazma.parameters import neutral_pion_mass as mpi0\n",
    "from hazma.parameters import vh\n",
    "\n",
    "sm = ScalarMediator(mx=180., ms=500., gsxx=1., gsff=0.1, gsGG=0.1, gsFF=0.0, lam=vh)\n",
    "e_cm = 2 * sm.mx * (1 + 0.5 * 9e-1**2)\n",
    "    \n",
    "gsGGs = np.linspace(-0.4 * sm.gsff, -0.2 * sm.gsff, 500)\n",
    "bfs_pipi = []\n",
    "bfs_mumu = []\n",
    "\n",
    "for gsGG in gsGGs:\n",
    "    sm.gsGG = gsGG\n",
    "    bfs = sm.annihilation_branching_fractions(e_cm)\n",
    "    bfs_pipi.append(bfs[\"pi0 pi0\"])\n",
    "    bfs_mumu.append(bfs[\"mu mu\"])"
   ]
  },
  {
   "cell_type": "code",
   "execution_count": 71,
   "metadata": {},
   "outputs": [
    {
     "data": {
      "text/plain": [
       "<matplotlib.lines.Line2D at 0x1c25449cf8>"
      ]
     },
     "execution_count": 71,
     "metadata": {},
     "output_type": "execute_result"
    },
    {
     "data": {
      "image/png": "[encoded data removed]",
      "text/plain": [
       "<Figure size 432x288 with 1 Axes>"
      ]
     },
     "metadata": {
      "image/png": {
       "height": 249,
       "width": 378
      },
      "needs_background": "light"
     },
     "output_type": "display_data"
    }
   ],
   "source": [
    "plt.plot(gsGGs, bfs_pipi, label=\"pi0 pi0\")\n",
    "plt.plot(gsGGs, bfs_mumu, label=\"mu mu\")\n",
    "plt.yscale(\"log\")\n",
    "plt.legend()\n",
    "\n",
    "plt.axvline(-9 * sm.gsff * mPI**2 / (2 * (3*mPI**2 - 2 * mpi0**2 + e_cm**2)))"
   ]
  },
  {
   "cell_type": "code",
   "execution_count": 2,
   "metadata": {},
   "outputs": [
    {
     "name": "stdout",
     "output_type": "stream",
     "text": [
      "TargetParams(J=1.795e+29, dOmega=0.12122929761504078)\n"
     ]
    },
    {
     "data": {
      "text/plain": [
       "1.5595509943440295e-29"
      ]
     },
     "execution_count": 2,
     "metadata": {},
     "output_type": "execute_result"
    }
   ],
   "source": [
    "from hazma.scalar_mediator import ScalarMediator\n",
    "\n",
    "sm = ScalarMediator(mx=150., ms=1e4, gsxx=1., gsff=0.1, gsGG=0, gsFF=0, lam=1e5)\n",
    "\n",
    "\n",
    "from hazma.gamma_ray_parameters import A_eff_e_astrogam\n",
    "from hazma.gamma_ray_parameters import energy_res_e_astrogam\n",
    "from hazma.gamma_ray_parameters import T_obs_e_astrogam\n",
    "from hazma.gamma_ray_parameters import gc_target, gc_bg_model\n",
    "print(gc_target)\n",
    "sm.unbinned_limit(A_eff_e_astrogam,       # effective area\n",
    "                  energy_res_e_astrogam,  # energy resolution\n",
    "                  T_obs_e_astrogam,       # observing time\n",
    "                  gc_target,              # target region\n",
    "                  gc_bg_model)            # background model\n",
    "# 1.5595509943440295e-29"
   ]
  },
  {
   "cell_type": "code",
   "execution_count": 3,
   "metadata": {},
   "outputs": [
    {
     "data": {
      "text/plain": [
       "7.841784676562726e-27"
      ]
     },
     "execution_count": 3,
     "metadata": {},
     "output_type": "execute_result"
    }
   ],
   "source": [
    "from hazma.scalar_mediator import ScalarMediator\n",
    "from hazma.gamma_ray_parameters import egret_diffuse\n",
    "sm = ScalarMediator(mx=150., ms=1e4, gsxx=1., gsff=0.1, gsGG=0.5, gsFF=0, lam=1e5)\n",
    "sm.binned_limit(egret_diffuse)\n",
    "# 7.84178468e-27"
   ]
  },
  {
   "cell_type": "code",
   "execution_count": 2,
   "metadata": {},
   "outputs": [
    {
     "data": {
      "text/plain": [
       "{'g g': {'energy': 150.0, 'bf': 1.285653242415087e-08}}"
      ]
     },
     "execution_count": 2,
     "metadata": {},
     "output_type": "execute_result"
    }
   ],
   "source": [
    "from hazma.scalar_mediator import HeavyQuark\n",
    "sm = HeavyQuark(mx=140., ms=1e3, gsxx=1., gsQ=0.1, mQ=1e3, QQ=0.1)\n",
    "sm.gamma_ray_lines(e_cm=300.)"
   ]
  },
  {
   "cell_type": "code",
   "execution_count": 3,
   "metadata": {},
   "outputs": [
    {
     "data": {
      "text/plain": [
       "{'pi0 g': {'energy': 119.63552908740002, 'bf': 1.0}}"
      ]
     },
     "execution_count": 3,
     "metadata": {},
     "output_type": "execute_result"
    }
   ],
   "source": [
    "from hazma.vector_mediator import QuarksOnly\n",
    "vm = QuarksOnly(mx=140., mv=1e3, gvxx=1., gvuu=0.1, gvdd=0.1, gvss=0.)\n",
    "vm.gamma_ray_lines(e_cm=300.)\n",
    "# {'pi0 g': {'energy': 119.6, 'bf': 1.0}}"
   ]
  },
  {
   "cell_type": "code",
   "execution_count": 5,
   "metadata": {},
   "outputs": [
    {
     "name": "stderr",
     "output_type": "stream",
     "text": [
      "/Users/acoogan/Dropbox/Physics/Sub-GeV_DM/Hazma/hazma/positron_spectra.py:57: IntegrationWarning: The occurrence of roundoff error is detected, which prevents \n",
      "  the requested tolerance from being achieved.  The error may be \n",
      "  underestimated.\n",
      "  return positron_charged_pion.Spectrum(eng_p, eng_pi)\n"
     ]
    },
    {
     "data": {
      "text/plain": [
       "1.220976099170212e-28"
      ]
     },
     "execution_count": 5,
     "metadata": {},
     "output_type": "execute_result"
    }
   ],
   "source": [
    "from hazma.cmb import p_ann_planck_temp_pol as p_ann\n",
    "x_kd = 1e-4\n",
    "sm = HiggsPortal(mx=150., ms=1e4, gsxx=1., stheta=0.01)\n",
    "sm.cmb_limit(x_kd, p_ann)\n",
    "# 1.220976099164218e-28"
   ]
  },
  {
   "cell_type": "code",
   "execution_count": 6,
   "metadata": {},
   "outputs": [
    {
     "data": {
      "text/plain": [
       "(0.42998384682287843, 0.17643491366430347, 0.25354893315857496)"
      ]
     },
     "execution_count": 6,
     "metadata": {},
     "output_type": "execute_result"
    }
   ],
   "source": [
    "sm.f_eff(x_kd), sm.f_eff_ep(x_kd), sm.f_eff_g(x_kd)\n",
    "# (0.42998384682287843, 0.17643491366430347, 0.25354893315857496)"
   ]
  },
  {
   "cell_type": "code",
   "execution_count": 19,
   "metadata": {},
   "outputs": [
    {
     "data": {
      "text/plain": [
       "TargetParams(J=1.795e+29, dOmega=0.12122929761504078)"
      ]
     },
     "execution_count": 19,
     "metadata": {},
     "output_type": "execute_result"
    }
   ],
   "source": [
    "gc_target"
   ]
  },
  {
   "cell_type": "code",
   "execution_count": 50,
   "metadata": {},
   "outputs": [
    {
     "name": "stdout",
     "output_type": "stream",
     "text": [
      "TargetParams(J=1e+29, dOmega=0.1)\n"
     ]
    }
   ],
   "source": [
    "from hazma.gamma_ray_parameters import TargetParams\n",
    "tp = TargetParams(J=1e29, dOmega=0.1)\n",
    "print(tp)"
   ]
  },
  {
   "cell_type": "code",
   "execution_count": null,
   "metadata": {},
   "outputs": [],
   "source": [
    "TargetParams(J=1e29, dOmega=0.1)"
   ]
  },
  {
   "cell_type": "code",
   "execution_count": 51,
   "metadata": {},
   "outputs": [],
   "source": [
    "from hazma.background_model import BackgroundModel\n",
    "bg = BackgroundModel([0.5, 1e4], lambda e: 2.7e-3 / e**2)"
   ]
  },
  {
   "cell_type": "code",
   "execution_count": 53,
   "metadata": {},
   "outputs": [],
   "source": [
    "bg = BackgroundModel.from_file(\"bg_data.csv\")"
   ]
  },
  {
   "cell_type": "code",
   "execution_count": 54,
   "metadata": {},
   "outputs": [
    {
     "data": {
      "text/plain": [
       "array(0.28404084)"
      ]
     },
     "execution_count": 54,
     "metadata": {},
     "output_type": "execute_result"
    }
   ],
   "source": [
    "bg.dPhi_dEdOmega(100)"
   ]
  },
  {
   "cell_type": "code",
   "execution_count": null,
   "metadata": {},
   "outputs": [],
   "source": [
    "array([1.31717165e-28, 1.55955099e-29, 5.06324800e-29])"
   ]
  },
  {
   "cell_type": "code",
   "execution_count": 32,
   "metadata": {},
   "outputs": [
    {
     "data": {
      "text/plain": [
       "5.658244468191e-36"
      ]
     },
     "execution_count": 32,
     "metadata": {},
     "output_type": "execute_result"
    }
   ],
   "source": [
    "mx, vx = 200., 1e-3\n",
    "e_cm = 2 * mx * (1 + 0.5 * vx**2)\n",
    "sm.annihilation_cross_sections(e_cm)[\"total\"]"
   ]
  },
  {
   "cell_type": "code",
   "execution_count": 19,
   "metadata": {},
   "outputs": [],
   "source": [
    "from hazma.gamma_ray_parameters import egret_diffuse\n",
    "\n",
    "sthetas = np.array([0.01, 0.1, 0.5])\n",
    "lims = []\n",
    "\n",
    "for stheta in sthetas:\n",
    "    hp = HiggsPortal(mx=1., ms=1e4, gsxx=1., stheta=stheta)\n",
    "    mxs = np.array([100., 150., 200.])\n",
    "    lims.append(hp.binned_limits(mxs, egret_diffuse))\n",
    "\n",
    "lims = np.array(lims)"
   ]
  },
  {
   "cell_type": "code",
   "execution_count": 20,
   "metadata": {},
   "outputs": [
    {
     "data": {
      "image/png": "[encoded data removed]",
      "text/plain": [
       "<Figure size 432x288 with 1 Axes>"
      ]
     },
     "metadata": {
      "image/png": {
       "height": 257,
       "width": 370
      },
      "needs_background": "light"
     },
     "output_type": "display_data"
    }
   ],
   "source": [
    "for ls, stheta in zip(lims, sthetas):\n",
    "    plt.plot(mxs, ls, label=\"stheta={}\".format(stheta))"
   ]
  },
  {
   "cell_type": "code",
   "execution_count": 22,
   "metadata": {},
   "outputs": [
    {
     "data": {
      "text/plain": [
       "array([[9.28973415e-27, 8.40342641e-27, 1.63461160e-26],\n",
       "       [9.28973415e-27, 8.40342641e-27, 1.63461160e-26],\n",
       "       [9.28973415e-27, 8.40342641e-27, 1.63461160e-26]])"
      ]
     },
     "execution_count": 22,
     "metadata": {},
     "output_type": "execute_result"
    }
   ],
   "source": [
    "lims"
   ]
  },
  {
   "cell_type": "code",
   "execution_count": null,
   "metadata": {},
   "outputs": [],
   "source": []
  },
  {
   "cell_type": "code",
   "execution_count": null,
   "metadata": {},
   "outputs": [],
   "source": []
  },
  {
   "cell_type": "code",
   "execution_count": 12,
   "metadata": {},
   "outputs": [
    {
     "data": {
      "text/plain": [
       "array([5.10574626e-05, 4.56382870e-03, 4.45777255e-03])"
      ]
     },
     "execution_count": 12,
     "metadata": {},
     "output_type": "execute_result"
    }
   ],
   "source": [
    "from hazma.positron_spectra import muon as dnde_p_mu\n",
    "e_mu = 150.                       # muon energy\n",
    "e_ps = np.array([1., 10., 100.])  # positron energies\n",
    "dnde_p_mu(e_ps, e_mu)"
   ]
  },
  {
   "cell_type": "code",
   "execution_count": 13,
   "metadata": {},
   "outputs": [
    {
     "data": {
      "text/plain": [
       "array([3.91369707e-05, 3.85286042e-03, 2.54571969e-05])"
      ]
     },
     "execution_count": 13,
     "metadata": {},
     "output_type": "execute_result"
    }
   ],
   "source": [
    "from hazma.positron_spectra import charged_pion as dnde_p_pi\n",
    "e_pi = 150.                       # charged pion energy\n",
    "e_ps = np.array([1., 10., 100.])  # positron energies\n",
    "dnde_p_pi(e_ps, e_pi)"
   ]
  },
  {
   "cell_type": "code",
   "execution_count": 15,
   "metadata": {},
   "outputs": [
    {
     "data": {
      "text/plain": [
       "array([3.98665983e-05, 3.89921630e-03, 1.72946085e-04])"
      ]
     },
     "execution_count": 15,
     "metadata": {},
     "output_type": "execute_result"
    }
   ],
   "source": [
    "from hazma.scalar_mediator import HiggsPortal\n",
    "e_cm = 305.                       # DM center of mass energy\n",
    "e_ps = np.array([1., 10., 100.])  # positron energies\n",
    "hp = HiggsPortal(mx=150., ms=1e3, gsxx=0.7, stheta=0.1)\n",
    "hp.dnde_pos_pipi(e_ps, e_cm)"
   ]
  },
  {
   "cell_type": "code",
   "execution_count": 16,
   "metadata": {},
   "outputs": [
    {
     "data": {
      "text/plain": [
       "array([5.20149620e-05, 4.61376485e-03, 4.68018858e-03])"
      ]
     },
     "execution_count": 16,
     "metadata": {},
     "output_type": "execute_result"
    }
   ],
   "source": [
    "hp.dnde_pos_mumu(e_ps, e_cm)"
   ]
  },
  {
   "cell_type": "code",
   "execution_count": 17,
   "metadata": {},
   "outputs": [
    {
     "data": {
      "text/plain": [
       "{'e e': {'energy': 152.5, 'bf': 4.109750194098895e-06}}"
      ]
     },
     "execution_count": 17,
     "metadata": {},
     "output_type": "execute_result"
    }
   ],
   "source": [
    "hp.positron_lines(e_cm)"
   ]
  },
  {
   "cell_type": "code",
   "execution_count": 18,
   "metadata": {},
   "outputs": [
    {
     "data": {
      "text/plain": [
       "{'total': array([2.67213393e-05, 2.58231940e-03, 4.09388783e-04]),\n",
       " 'mu mu': array([3.42678327e-06, 3.03958161e-04, 3.08334204e-04]),\n",
       " 'pi pi': array([2.32945560e-05, 2.27836124e-03, 1.01054578e-04])}"
      ]
     },
     "execution_count": 18,
     "metadata": {},
     "output_type": "execute_result"
    }
   ],
   "source": [
    "hp.positron_spectra(e_ps, e_cm)"
   ]
  },
  {
   "cell_type": "code",
   "execution_count": 24,
   "metadata": {},
   "outputs": [
    {
     "data": {
      "text/plain": [
       "array(0.00833621)"
      ]
     },
     "execution_count": 24,
     "metadata": {},
     "output_type": "execute_result"
    }
   ],
   "source": [
    "e_cm = 305.                  # DM center of mass energy\n",
    "e_p_min, e_p_max = 1., 100.  # define energy range\n",
    "energy_res = lambda e: 0.05  # 5% energy resolution function\n",
    "dnde_p_conv = hp.total_conv_positron_spectrum_fn(\n",
    "    e_p_min, e_p_max, e_cm, energy_res)\n",
    "dnde_p_conv(20.)"
   ]
  },
  {
   "cell_type": "code",
   "execution_count": 23,
   "metadata": {},
   "outputs": [
    {
     "data": {
      "text/plain": [
       "0.6369696795046674"
      ]
     },
     "execution_count": 23,
     "metadata": {},
     "output_type": "execute_result"
    }
   ],
   "source": [
    "dnde_p_conv.integral(10, 100)"
   ]
  },
  {
   "cell_type": "code",
   "execution_count": 29,
   "metadata": {},
   "outputs": [],
   "source": [
    "from hazma.scalar_mediator import HiggsPortal\n",
    "e_cm = 305.                  # DM center of mass energy\n",
    "e_min, e_max = 1., 100.      # define energy range\n",
    "energy_res = lambda e: 0.05  # 5% energy resolution function\n",
    "hp = HiggsPortal(mx=150., ms=1e3, gsxx=0.7, stheta=0.1)\n",
    "dnde_conv = hp.total_conv_spectrum_fn(\n",
    "    e_min, e_max, e_cm, energy_res, n_pts=1000)"
   ]
  },
  {
   "cell_type": "code",
   "execution_count": 31,
   "metadata": {},
   "outputs": [
    {
     "data": {
      "text/plain": [
       "array(0.00048767)"
      ]
     },
     "execution_count": 31,
     "metadata": {},
     "output_type": "execute_result"
    }
   ],
   "source": [
    "dnde_conv(25.)"
   ]
  },
  {
   "cell_type": "code",
   "execution_count": 32,
   "metadata": {},
   "outputs": [
    {
     "data": {
      "text/plain": [
       "0.8691133833417997"
      ]
     },
     "execution_count": 32,
     "metadata": {},
     "output_type": "execute_result"
    }
   ],
   "source": [
    "dnde_conv.integral(25., 85.)"
   ]
  },
  {
   "cell_type": "code",
   "execution_count": null,
   "metadata": {},
   "outputs": [],
   "source": []
  }
 ],
 "metadata": {
  "kernelspec": {
   "display_name": "Python 3",
   "language": "python",
   "name": "python3"
  },
  "language_info": {
   "codemirror_mode": {
    "name": "ipython",
    "version": 3
   },
   "file_extension": ".py",
   "mimetype": "text/x-python",
   "name": "python",
   "nbconvert_exporter": "python",
   "pygments_lexer": "ipython3",
   "version": "3.7.1"
  },
  "toc": {
   "nav_menu": {},
   "number_sections": true,
   "sideBar": true,
   "skip_h1_title": false,
   "toc_cell": false,
   "toc_position": {},
   "toc_section_display": "block",
   "toc_window_display": true
  }
 },
 "nbformat": 4,
 "nbformat_minor": 2
}
