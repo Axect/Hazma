{
 "cells": [
  {
   "cell_type": "markdown",
   "metadata": {},
   "source": [
    "# Vector Mediator Constraints"
   ]
  },
  {
   "cell_type": "markdown",
   "metadata": {},
   "source": []
  },
  {
   "cell_type": "code",
   "execution_count": 1,
   "metadata": {},
   "outputs": [],
   "source": [
    "from hazma.vector_mediator import KineticMixing\n",
    "from hazma.parameters import electron_mass as me\n",
    "import numpy as np\n",
    "import matplotlib.pyplot as plt\n",
    "\n",
    "mp = 938.28 # proton mass MeV"
   ]
  },
  {
   "cell_type": "markdown",
   "metadata": {},
   "source": [
    "## LSND"
   ]
  },
  {
   "cell_type": "code",
   "execution_count": 2,
   "metadata": {},
   "outputs": [],
   "source": [
    "model = KineticMixing(250.0, 1000.0, 1.0, 1e-3)"
   ]
  },
  {
   "cell_type": "code",
   "execution_count": 3,
   "metadata": {},
   "outputs": [
    {
     "data": {
      "text/plain": [
       "{'pi pi': 5.38424450162404e-07,\n",
       " 'pi0 g': 2.2120472127152514e-10,\n",
       " 'x x': 25.8435419728965,\n",
       " 'e e': 2.4323798404348874e-06,\n",
       " 'mu mu': 2.4305332100254337e-06,\n",
       " 'total': 25.843547374455206}"
      ]
     },
     "execution_count": 3,
     "metadata": {},
     "output_type": "execute_result"
    }
   ],
   "source": [
    "model.partial_widths()"
   ]
  },
  {
   "cell_type": "code",
   "execution_count": 4,
   "metadata": {},
   "outputs": [],
   "source": [
    "class VectorMediatorConstraintsLSND(KineticMixing):\n",
    "    \"\"\"\n",
    "    Class for computing the LSND constriants on\n",
    "    the kinetic mixing model.\n",
    "    \"\"\"\n",
    "    lsh = 25.85 * 5.06773e12 # base-line in MeV^-1\n",
    "    ldec = 8.3  * 5.06773e12 # detector length MeV^-1\n",
    "    Nin = 9.2e22\n",
    "    Nobs = 25.0\n",
    "    N95 = 50.0\n",
    "    Ep = 800.0 + mp # MeV\n",
    "    \n",
    "    def __init__(self, mx, mv, gvxx, eps):\n",
    "        super(VectorMediatorConstraintsLSND,self).__init__(mx,mv,gvxx,eps)\n",
    "    \n",
    "    def _sigmapp(self,sp):\n",
    "        \"\"\"\n",
    "        Inelastic scattering cross section for proton proton scattering.\n",
    "        \n",
    "        Parameters\n",
    "        ----------\n",
    "        sp: float\n",
    "            Center of mass energy\n",
    "        \"\"\"\n",
    "        Z = 35.45 # mb\n",
    "        B = 0.308 # mb\n",
    "        Y1 = 42.53 # mb\n",
    "        Y2 = 33.34 # mb\n",
    "        s0 = 5.38**2 # GeV^2\n",
    "        s1 = 1.0**2 # GeV^2\n",
    "        eta1 = 0.458\n",
    "        eta2 = 0.545\n",
    "        res = Z + B * np.log(sp / s0) + Y1 * (s1 / sp)**eta1 - Y2 * (s1/sp)**eta2\n",
    "        # Convert to MeV^-2\n",
    "        return res * 2.56819 * 1e6\n",
    "    \n",
    "    def _wba(self,pT2, Ev):\n",
    "        z = np.sqrt(Ev**2 - pT2) / self.Ep\n",
    "        h = pT2 + (1.0 - z) * self.mv**2 + z**2 * mp**2\n",
    "        \n",
    "        term1 = (1.0 + (1.0 - z)**2) / z \n",
    "        term2 = -2.0 * z * (1.0 - z) * ((2.0 * mp**2 + self.mv**2) / h - z**2 * 2.0 * mp**4 / h**2)\n",
    "        term3 = 2.0 * z * (1.0 - z) * (1.0 + (1.0 - z)**2) * mp**2 * self.mv**2 / h**2\n",
    "        term4 = 2.0 * z * (1.0 - z)**2 * self.mv**4 / h**2\n",
    "        \n",
    "        return (term1 + term2 + term3 + term4) / h * self.gvxx**2 / (8.0 * np.pi**2)\n",
    "\n",
    "    def dnde(self, Ev):\n",
    "        width = self.partial_widths()['total']\n",
    "        \n",
    "        pT2max = Ev**2\n",
    "        pT2s = np.linspace(0.0, pT2max, num=100)\n",
    "        wint = np.trapz(self._wba(pT2s, Ev), pT2s, axis=0)\n",
    "\n",
    "        s = 2.0 * mp * self.Ep\n",
    "        sp = 2.0 * mp * (self.Ep - Ev)\n",
    "        beta = np.sqrt(1.0 - self.mv**2 / Ev**2)\n",
    "        lv = beta * Ev / self.mv / width\n",
    "        return (\n",
    "            self._sigmapp(sp) / self._sigmapp(s) / self.Ep * wint * \n",
    "            np.exp(-self.lsh/lv) * (1.0 - np.exp(-self.ldec/lv)) * \n",
    "            self.partial_widths()['e e'] / width\n",
    "        )\n",
    "    \n",
    "    def num_events(self):\n",
    "        Evs = np.linspace(self.mv , self.Ep - mp, num=100)\n",
    "        return self.Nin * np.trapz(self.dnde(Evs), Evs)\n",
    "        "
   ]
  },
  {
   "cell_type": "code",
   "execution_count": 5,
   "metadata": {},
   "outputs": [],
   "source": [
    "lsnd_const = VectorMediatorConstraintsLSND(1000.0, 30.0, 1.0, 1e-8)"
   ]
  },
  {
   "cell_type": "code",
   "execution_count": 6,
   "metadata": {},
   "outputs": [],
   "source": [
    "mvs = np.logspace(np.log10(2.0 * me), 3.0, 50)\n",
    "epss = np.logspace(-9, -3, 50)"
   ]
  },
  {
   "cell_type": "code",
   "execution_count": 7,
   "metadata": {},
   "outputs": [
    {
     "name": "stderr",
     "output_type": "stream",
     "text": [
      "<ipython-input-4-43bddc04bbbc>:41: RuntimeWarning: divide by zero encountered in true_divide\n",
      "  term1 = (1.0 + (1.0 - z)**2) / z\n",
      "<ipython-input-4-43bddc04bbbc>:58: RuntimeWarning: divide by zero encountered in true_divide\n",
      "  lv = beta * Ev / self.mv / width\n",
      "<ipython-input-4-43bddc04bbbc>:58: RuntimeWarning: invalid value encountered in true_divide\n",
      "  lv = beta * Ev / self.mv / width\n",
      "<ipython-input-4-43bddc04bbbc>:60: RuntimeWarning: invalid value encountered in multiply\n",
      "  self._sigmapp(sp) / self._sigmapp(s) / self.Ep * wint *\n",
      "<ipython-input-4-43bddc04bbbc>:61: RuntimeWarning: divide by zero encountered in true_divide\n",
      "  np.exp(-self.lsh/lv) * (1.0 - np.exp(-self.ldec/lv)) *\n",
      "<ipython-input-4-43bddc04bbbc>:57: RuntimeWarning: invalid value encountered in sqrt\n",
      "  beta = np.sqrt(1.0 - self.mv**2 / Ev**2)\n"
     ]
    }
   ],
   "source": [
    "lsnd_consts = np.asarray([[VectorMediatorConstraintsLSND(250.0, mv, 1.0, eps).num_events()\n",
    "                for eps in epss]for mv in mvs])"
   ]
  },
  {
   "cell_type": "code",
   "execution_count": 8,
   "metadata": {},
   "outputs": [
    {
     "data": {
      "text/plain": [
       "array([[nan, nan, nan, ..., nan, nan, nan],\n",
       "       [nan, nan, nan, ..., nan, nan, nan],\n",
       "       [nan, nan, nan, ..., nan, nan, nan],\n",
       "       ...,\n",
       "       [nan, nan, nan, ..., nan, nan, nan],\n",
       "       [nan, nan, nan, ..., nan, nan, nan],\n",
       "       [nan, nan, nan, ..., nan, nan, nan]])"
      ]
     },
     "execution_count": 8,
     "metadata": {},
     "output_type": "execute_result"
    }
   ],
   "source": [
    "lsnd_consts"
   ]
  },
  {
   "cell_type": "code",
   "execution_count": 9,
   "metadata": {},
   "outputs": [
    {
     "name": "stderr",
     "output_type": "stream",
     "text": [
      "/home/logan/.local/lib/python3.8/site-packages/matplotlib/colors.py:1062: RuntimeWarning: invalid value encountered in true_divide\n",
      "  resdat /= (vmax - vmin)\n"
     ]
    },
    {
     "data": {
      "text/plain": [
       "Text(0.5, 0, '$m_{V} \\\\ (\\\\mathrm{MeV})$')"
      ]
     },
     "execution_count": 9,
     "metadata": {},
     "output_type": "execute_result"
    },
    {
     "data": {
      "image/png": "[encoded data removed]",
      "text/plain": [
       "<Figure size 600x400 with 1 Axes>"
      ]
     },
     "metadata": {
      "needs_background": "light"
     },
     "output_type": "display_data"
    }
   ],
   "source": [
    "plt.figure(dpi=100)\n",
    "plt.contourf(mvs,epss,np.nan_to_num(lsnd_consts).T,levels=[lsnd_const.N95,np.inf])\n",
    "plt.yscale('log')\n",
    "plt.xscale('log')\n",
    "plt.ylabel(r'$\\epsilon$', fontsize=16)\n",
    "plt.xlabel(r'$m_{V} \\ (\\mathrm{MeV})$', fontsize=16)"
   ]
  },
  {
   "cell_type": "code",
   "execution_count": 2,
   "metadata": {},
   "outputs": [],
   "source": [
    "class VectorMediatorConstraints(KineticMixing):\n",
    "    \"\"\"\n",
    "    Master class of all the constraints on the \n",
    "    vector mediator model.\n",
    "    \"\"\"\n",
    "    def __init__(self, mx, mv, gvxx, eps):\n",
    "        super(VectorMediatorConstraints,self).__init__(mx,mv,gvxx,eps)"
   ]
  },
  {
   "cell_type": "code",
   "execution_count": null,
   "metadata": {},
   "outputs": [],
   "source": []
  }
 ],
 "metadata": {
  "kernelspec": {
   "display_name": "Python 3",
   "language": "python",
   "name": "python3"
  },
  "language_info": {
   "codemirror_mode": {
    "name": "ipython",
    "version": 3
   },
   "file_extension": ".py",
   "mimetype": "text/x-python",
   "name": "python",
   "nbconvert_exporter": "python",
   "pygments_lexer": "ipython3",
   "version": "3.8.5"
  }
 },
 "nbformat": 4,
 "nbformat_minor": 4
}
