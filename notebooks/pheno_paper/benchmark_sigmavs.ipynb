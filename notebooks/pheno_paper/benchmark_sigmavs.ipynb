{
 "cells": [
  {
   "cell_type": "code",
   "execution_count": 10,
   "metadata": {},
   "outputs": [],
   "source": [
    "import numpy as np\n",
    "\n",
    "from hazma.scalar_mediator import ScalarMediator\n",
    "from hazma.pseudo_scalar_mediator import PseudoScalarMFV\n",
    "from hazma.vector_mediator import VectorMediator\n",
    "\n",
    "from hazma.constraint_parameters import sv_inv_MeV_to_cm3_per_s\n",
    "from hazma.parameters import vh"
   ]
  },
  {
   "cell_type": "code",
   "execution_count": 2,
   "metadata": {},
   "outputs": [],
   "source": [
    "mx = 250.\n",
    "mM = 750.\n",
    "\n",
    "vx = 1.0e-3\n",
    "e_cm = 2.*mx*(1.+0.5*vx**2)"
   ]
  },
  {
   "cell_type": "markdown",
   "metadata": {},
   "source": [
    "## Scalar\n",
    "The cross section is super tiny for the scalar theory. This is because the cross section is $p$-wave suppressed."
   ]
  },
  {
   "cell_type": "code",
   "execution_count": 11,
   "metadata": {},
   "outputs": [
    {
     "name": "stdout",
     "output_type": "stream",
     "text": [
      "3.8209893025e-31 cm^3 / s\n"
     ]
    }
   ],
   "source": [
    "sm = ScalarMediator(mx=mx, ms=mM, gsxx=1., gsff=1., gsGG=1., gsFF=1., lam=vh)\n",
    "\n",
    "print sm.annihilation_cross_sections(e_cm)[\"total\"] * vx * sv_inv_MeV_to_cm3_per_s, \"cm^3 / s\""
   ]
  },
  {
   "cell_type": "markdown",
   "metadata": {},
   "source": [
    "## Pseudoscalar\n",
    "The cross section is very small for the pseudoscalar as well, but the couplings don't have to violate perturbative unitarity to produce a detectable signal. This is because annihilation is $s$-wave, but all the cross sections into hadrons are suppressed since they occur via the anomaly."
   ]
  },
  {
   "cell_type": "code",
   "execution_count": 16,
   "metadata": {},
   "outputs": [
    {
     "name": "stdout",
     "output_type": "stream",
     "text": [
      "2.7807976950858845e-29 cm^3 / s\n"
     ]
    }
   ],
   "source": [
    "# Lepton-specific/type III 2HDM couplings\n",
    "gpuu = 1.\n",
    "gpdd = -1.\n",
    "gpll = 0.\n",
    "\n",
    "# General relations for MFV couplings\n",
    "gpGG = 2*gpuu + gpdd\n",
    "gpFF = gpll + (8.*gpuu + gpdd) / 9.\n",
    "\n",
    "psm = PseudoScalarMFV(mx=mx, mp=mM, gpxx=1., gpup=gpuu, gpdown=gpdd, gpll=gpll)\n",
    "\n",
    "print psm.annihilation_cross_sections(e_cm)[\"total\"] * vx * sv_inv_MeV_to_cm3_per_s, \"cm^3 / s\""
   ]
  },
  {
   "cell_type": "markdown",
   "metadata": {},
   "source": [
    "## Vector\n",
    "The cross section is quite large in the vector theory! It's $s$-wave and annihilation into $\\pi^+\\pi^-$ in not suppressed by the anomaly."
   ]
  },
  {
   "cell_type": "code",
   "execution_count": 17,
   "metadata": {},
   "outputs": [
    {
     "ename": "AttributeError",
     "evalue": "'VectorMediator' object has no attribute 'cross_sections'",
     "output_type": "error",
     "traceback": [
      "\u001b[0;31m---------------------------------------------------------------------------\u001b[0m",
      "\u001b[0;31mAttributeError\u001b[0m                            Traceback (most recent call last)",
      "\u001b[0;32m<ipython-input-17-8fcdf24f380c>\u001b[0m in \u001b[0;36m<module>\u001b[0;34m()\u001b[0m\n\u001b[1;32m      4\u001b[0m                     gvss=0., gvee=0., gvmumu=0.)\n\u001b[1;32m      5\u001b[0m \u001b[0;34m\u001b[0m\u001b[0m\n\u001b[0;32m----> 6\u001b[0;31m \u001b[0;32mprint\u001b[0m \u001b[0mvm\u001b[0m\u001b[0;34m.\u001b[0m\u001b[0mcross_sections\u001b[0m\u001b[0;34m(\u001b[0m\u001b[0me_cm\u001b[0m\u001b[0;34m)\u001b[0m\u001b[0;34m[\u001b[0m\u001b[0;34m\"total\"\u001b[0m\u001b[0;34m]\u001b[0m \u001b[0;34m*\u001b[0m \u001b[0mvx\u001b[0m \u001b[0;34m*\u001b[0m \u001b[0msv_inv_MeV_to_cm3_per_s\u001b[0m\u001b[0;34m,\u001b[0m \u001b[0;34m\"cm^3 / s\"\u001b[0m\u001b[0;34m\u001b[0m\u001b[0m\n\u001b[0m",
      "\u001b[0;31mAttributeError\u001b[0m: 'VectorMediator' object has no attribute 'cross_sections'"
     ]
    }
   ],
   "source": [
    "vm = VectorMediator(mx=mx, mv=mM, gvxx=1.,\n",
    "                    gvuu=2./3.*np.sqrt(4*np.pi/137.),\n",
    "                    gvdd=-1./3.*np.sqrt(4*np.pi/137.),\n",
    "                    gvss=0., gvee=0., gvmumu=0.)\n",
    "\n",
    "print vm.cross_sections(e_cm)[\"total\"] * vx * sv_inv_MeV_to_cm3_per_s, \"cm^3 / s\""
   ]
  },
  {
   "cell_type": "code",
   "execution_count": null,
   "metadata": {
    "collapsed": true
   },
   "outputs": [],
   "source": []
  }
 ],
 "metadata": {
  "kernelspec": {
   "display_name": "Python 3",
   "language": "python",
   "name": "python3"
  },
  "language_info": {
   "codemirror_mode": {
    "name": "ipython",
    "version": 3
   },
   "file_extension": ".py",
   "mimetype": "text/x-python",
   "name": "python",
   "nbconvert_exporter": "python",
   "pygments_lexer": "ipython3",
   "version": "3.7.1"
  },
  "latex_envs": {
   "LaTeX_envs_menu_present": true,
   "autoclose": false,
   "autocomplete": true,
   "bibliofile": "biblio.bib",
   "cite_by": "apalike",
   "current_citInitial": 1,
   "eqLabelWithNumbers": true,
   "eqNumInitial": 1,
   "hotkeys": {
    "equation": "Ctrl-E",
    "itemize": "Ctrl-I"
   },
   "labels_anchors": false,
   "latex_user_defs": false,
   "report_style_numbering": false,
   "user_envs_cfg": false
  },
  "toc": {
   "nav_menu": {},
   "number_sections": true,
   "sideBar": true,
   "skip_h1_title": false,
   "title_cell": "Table of Contents",
   "title_sidebar": "Contents",
   "toc_cell": false,
   "toc_position": {},
   "toc_section_display": true,
   "toc_window_display": false
  }
 },
 "nbformat": 4,
 "nbformat_minor": 2
}
